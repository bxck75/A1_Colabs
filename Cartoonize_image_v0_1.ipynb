{
  "nbformat": 4,
  "nbformat_minor": 0,
  "metadata": {
    "colab": {
      "name": "Cartoonize_image.ipynb",
      "version": "0.3.2",
      "provenance": [],
      "collapsed_sections": [
        "CPrp0NRLFmn6",
        "ZuRxfaR0FuNb",
        "bKBhsRomE0bi",
        "pZpV0k2YF4A0",
        "av9uSS0I-IZ4"
      ],
      "toc_visible": true,
      "include_colab_link": true
    },
    "kernelspec": {
      "name": "python3",
      "display_name": "Python 3"
    },
    "accelerator": "GPU"
  },
  "cells": [
    {
      "cell_type": "markdown",
      "metadata": {
        "id": "view-in-github",
        "colab_type": "text"
      },
      "source": [
        "<a href=\"https://colab.research.google.com/github/bxck75/colab_projects/blob/master/Cartoonize_image_v0_1.ipynb\" target=\"_parent\"><img src=\"https://colab.research.google.com/assets/colab-badge.svg\" alt=\"Open In Colab\"/></a>"
      ]
    },
    {
      "cell_type": "code",
      "metadata": {
        "id": "ZXESLEFVB4vW",
        "colab_type": "code",
        "cellView": "form",
        "colab": {}
      },
      "source": [
        "# Pick a filesystem\n",
        "filesystem = \"colab\" #@param [\"colab\", \"drive\"]"
      ],
      "execution_count": 0,
      "outputs": []
    },
    {
      "cell_type": "code",
      "metadata": {
        "id": "ewIPFFnWB0v8",
        "colab_type": "code",
        "cellView": "both",
        "colab": {}
      },
      "source": [
        "# Pick a style\n",
        "all_styles=[\"shinkai\", \"hayao\", \"hosoda\", \"paprika\"]\n",
        "styles = \"all\" #@param [\"shinkai\", \"hayao\", \"hosoda\", \"paprika\",\"all\"]"
      ],
      "execution_count": 0,
      "outputs": []
    },
    {
      "cell_type": "code",
      "metadata": {
        "id": "306cCef-Ekn9",
        "colab_type": "code",
        "cellView": "form",
        "colab": {}
      },
      "source": [
        "# pick source \n",
        "source = 'upload' #@param [\"upload\",\"url\"]"
      ],
      "execution_count": 0,
      "outputs": []
    },
    {
      "cell_type": "markdown",
      "metadata": {
        "id": "rvXcT95OFhiI",
        "colab_type": "text"
      },
      "source": [
        "# Prepair"
      ]
    },
    {
      "cell_type": "markdown",
      "metadata": {
        "id": "CPrp0NRLFmn6",
        "colab_type": "text"
      },
      "source": [
        "## set filesystem"
      ]
    },
    {
      "cell_type": "code",
      "metadata": {
        "id": "Abt23hdPvszx",
        "colab_type": "code",
        "outputId": "7b1e7ffc-b67c-4786-ff62-fca680b531b0",
        "colab": {
          "base_uri": "https://localhost:8080/",
          "height": 54
        }
      },
      "source": [
        "if filesystem == 'drive':\n",
        "  # sync google drive\n",
        "  from google.colab import drive\n",
        "  import os\n",
        "  # if drive is needed uncomment\n",
        "  print('Google drive ',end='')\n",
        "  drive.mount('/content/drive',force_remount=True)\n",
        "  print('Root folder set to ',end='')\n",
        "  root = '/content/drive/My drive/Cartoonizer'\n",
        "  print(root)\n",
        "else:\n",
        "  print('Root folder set to ',end='')\n",
        "  root = '/content/Cartoonizer'\n",
        "  print(root)"
      ],
      "execution_count": 4,
      "outputs": [
        {
          "output_type": "stream",
          "text": [
            "Root folder set to /content/Cartoonizer\n"
          ],
          "name": "stdout"
        }
      ]
    },
    {
      "cell_type": "markdown",
      "metadata": {
        "id": "ZuRxfaR0FuNb",
        "colab_type": "text"
      },
      "source": [
        "## import needed stuff"
      ]
    },
    {
      "cell_type": "code",
      "metadata": {
        "id": "L0Gh5ze80SiK",
        "colab_type": "code",
        "colab": {}
      },
      "source": [
        "\n",
        "# imports\n",
        "import time,os,glob,cv2, itertools\n",
        "os.chdir('/content')\n",
        "import numpy as np\n",
        "from matplotlib import pyplot as plt\n",
        "from IPython.display import clear_output, display, Image\n",
        "from google.colab.patches import cv2_imshow\n",
        "import ipywidgets as widgets\n",
        "!apt install tree\n",
        "\n",
        "# #pytorch implement pretrained files\n",
        "# !git clone https://github.com/Yijunmaverick/CartoonGAN-Test-Pytorch-Torch.git\n",
        "# os.chdir('CartoonGAN-Test-Pytorch-Torch')\n",
        "# os.mkdir('uploaded_images')\n",
        "# !bash pretrained_model/download_pth.sh\n",
        "# os.chdir('/content')\n",
        "\n",
        "#tensorflow implement\n",
        "repo = \"CartoonGan-tensorflow\"\n",
        "!git clone https://github.com/mnicnc404/{repo}.git\n",
        "os.chdir(os.path.join(repo))\n",
        "!pip install tensorflow-gpu==2.0.0-alpha0\n",
        "!pip install imageio\n",
        "!git clone https://www.github.com/keras-team/keras-contrib.git \\\n",
        "    && cd keras-contrib \\\n",
        "    && python convert_to_tf_keras.py \\\n",
        "    && USE_TF_KERAS=1 python setup.py install\n",
        "  \n",
        "# from subprocess import call\n",
        "import tensorflow as tf\n",
        "tf.__version__\n",
        "\n",
        "# clear the long output\n",
        "clear_output()"
      ],
      "execution_count": 0,
      "outputs": []
    },
    {
      "cell_type": "markdown",
      "metadata": {
        "id": "bKBhsRomE0bi",
        "colab_type": "text"
      },
      "source": [
        "## Functions"
      ]
    },
    {
      "cell_type": "code",
      "metadata": {
        "id": "PUa7407sEymN",
        "colab_type": "code",
        "colab": {}
      },
      "source": [
        "#function defines\n",
        "def resize(image,window_height = 1000):\n",
        "    aspect_ratio = float(image.shape[1])/float(image.shape[0])\n",
        "    window_width = window_height/aspect_ratio\n",
        "    image = cv2.resize(image, (int(window_height),int(window_width)))\n",
        "    return image\n",
        "\n",
        "def download_image(url,input_file_name):\n",
        "  !curl -o {input_file_name} {url}\n",
        "  img = cv2.imread(input_file_name, cv2.IMREAD_UNCHANGED)\n",
        "  return img"
      ],
      "execution_count": 0,
      "outputs": []
    },
    {
      "cell_type": "markdown",
      "metadata": {
        "id": "pZpV0k2YF4A0",
        "colab_type": "text"
      },
      "source": [
        "## Set I/O"
      ]
    },
    {
      "cell_type": "code",
      "metadata": {
        "id": "El4l7r3moAU1",
        "colab_type": "code",
        "colab": {}
      },
      "source": [
        "# set i/o\n",
        "input_folder = 'input'\n",
        "output_folder = 'output'\n",
        "# check if paths are in place\n",
        "if not os.path.exists(root):\n",
        "  os.mkdir(root)\n",
        "  os.mkdir(root+'/'+output_folder)  \n",
        "  os.mkdir(root+'/'+input_folder)\n",
        "  "
      ],
      "execution_count": 0,
      "outputs": []
    },
    {
      "cell_type": "markdown",
      "metadata": {
        "id": "l8WcqQeF-JSW",
        "colab_type": "text"
      },
      "source": [
        "## Pauze to upload images to input folder"
      ]
    },
    {
      "cell_type": "code",
      "metadata": {
        "id": "ertJiCc_-FZN",
        "colab_type": "code",
        "colab": {
          "base_uri": "https://localhost:8080/",
          "height": 51
        },
        "outputId": "f72c9b55-1014-4746-d41a-cf583bbb1963"
      },
      "source": [
        "input( \"upload the image to \" + root+'/'+input_folder )"
      ],
      "execution_count": 8,
      "outputs": [
        {
          "output_type": "stream",
          "text": [
            "upload the image to /content/Cartoonizer/input\n"
          ],
          "name": "stdout"
        },
        {
          "output_type": "execute_result",
          "data": {
            "text/plain": [
              "''"
            ]
          },
          "metadata": {
            "tags": []
          },
          "execution_count": 8
        }
      ]
    },
    {
      "cell_type": "markdown",
      "metadata": {
        "id": "av9uSS0I-IZ4",
        "colab_type": "text"
      },
      "source": [
        "## Resize"
      ]
    },
    {
      "cell_type": "code",
      "metadata": {
        "id": "Yr2YMkmaAhH2",
        "colab_type": "code",
        "colab": {}
      },
      "source": [
        "if source == 'url':\n",
        "  # Set the img url\n",
        "  img_url = input('Enter the image url : ')\n",
        "  # extract the name and add the style\n",
        "  img_name = img_url.split('.')\n",
        "  img_ext = img_name[len(img_name)-1]\n",
        "  img_name = img_name[len(img_name)-2]\n",
        "  img_name = img_name.split('/')[2]\n",
        "  img_name = img_name + '_' + styles +'.'+ img_ext\n",
        "  print(img_in_folder+img_name)\n",
        "  img_array = download_image(img_url,img_in_folder+img_name)"
      ],
      "execution_count": 0,
      "outputs": []
    },
    {
      "cell_type": "code",
      "metadata": {
        "id": "wzx9vfrvCktD",
        "colab_type": "code",
        "colab": {}
      },
      "source": [
        "# Set i/o folders\n",
        "img_in_folder =  root+'/'+input_folder\n",
        "img_out_folder = root+'/'+output_folder"
      ],
      "execution_count": 0,
      "outputs": []
    },
    {
      "cell_type": "code",
      "metadata": {
        "id": "nOE-Es5JwnWt",
        "colab_type": "code",
        "colab": {}
      },
      "source": [
        "# resize if needed\n",
        "max_size=1000\n",
        "searchedfiles = glob.glob(img_in_folder+'/*.jpg')\n",
        "files = sorted( searchedfiles, key = lambda file: os.path.getctime(file))\n",
        "# for file in files check height\n",
        "for f in files:\n",
        "  img = cv2.imread(f)\n",
        "  h,w,c = img.shape\n",
        "  # Resize if needed\n",
        "  if h > max_size:\n",
        "    img_resized = resize(img,window_height = max_size)\n",
        "    rh,rw,rc = img_resized.shape\n",
        "    cv2.imwrite(f,img_resized)"
      ],
      "execution_count": 0,
      "outputs": []
    },
    {
      "cell_type": "markdown",
      "metadata": {
        "id": "cAtHYGJEGNEa",
        "colab_type": "text"
      },
      "source": [
        "## Cartoon time"
      ]
    },
    {
      "cell_type": "code",
      "metadata": {
        "id": "XKHU5riPSx4_",
        "colab_type": "code",
        "colab": {
          "base_uri": "https://localhost:8080/",
          "height": 374
        },
        "outputId": "71f97792-f704-4fce-c49d-4a01182bb72e"
      },
      "source": [
        "def Run():\n",
        "  \n",
        "  !python cartoonize.py \\\n",
        "    --comparison_view grid \\\n",
        "    --keep_original_size \\\n",
        "    --batch_size 1 \\\n",
        "    --styles '{styles}' \\\n",
        "    --input_dir '{img_in_folder}' \\\n",
        "    --output_dir '{img_out_folder}'\n",
        "  !mv '{img_out_folder}/comparison' '{img_out_folder}/{styles}/comparison'\n",
        "  \n",
        "if styles == 'all':\n",
        "  print('Looping over all styles')\n",
        "  for styles in [\"shinkai\", \"hayao\", \"hosoda\", \"paprika\"]:\n",
        "    Run()    \n",
        "else:\n",
        "  print('Running with '+styles+\" style\")\n",
        "  !python cartoonize.py \\\n",
        "    --comparison_view horizontal \\\n",
        "    --keep_original_size \\\n",
        "    --batch_size 1 \\\n",
        "    --styles '{styles}' \\\n",
        "    --input_dir '{img_in_folder}' \\\n",
        "    --output_dir '{img_out_folder}'  \n",
        "  !mv '{img_out_folder}/comparison' '{img_out_folder}/{styles}/comparison' \n",
        "  \n",
        "  image = cv2.imread('example.jpg')\n",
        "  image = cv2.cvtColor(image, cv2.COLOR_BGR2RGB)\n",
        "  image = cv2.resize(image, (512, 512))\n",
        "\n",
        "  display(HTML('<h3>Original image</h3>'))\n",
        "  show_img(image)"
      ],
      "execution_count": 12,
      "outputs": [
        {
          "output_type": "stream",
          "text": [
            "Looping over all styles\n",
            "[2019-08-29 06:55:08] [Cartoonizer] [INFO] Transformed images will be saved to `/content/Cartoonizer/output` folder.\n",
            "[2019-08-29 06:55:09] [Cartoonizer] [INFO] Cartoonizing images using shinkai style...\n",
            "[2019-08-29 06:55:09] [Cartoonizer] [INFO] Preparing to transform 1 images from `/content/Cartoonizer/input` directory...\n",
            "Transforming: 100% 1/1 [00:07<00:00,  7.88s/it, File=alesund.jpg]\n",
            "[2019-08-29 06:55:17] [Cartoonizer] [INFO] Total processing time: 0:00:09.419216\n",
            "[2019-08-29 06:55:22] [Cartoonizer] [INFO] Transformed images will be saved to `/content/Cartoonizer/output` folder.\n",
            "[2019-08-29 06:55:24] [Cartoonizer] [INFO] Cartoonizing images using hayao style...\n",
            "[2019-08-29 06:55:24] [Cartoonizer] [INFO] Preparing to transform 1 images from `/content/Cartoonizer/input` directory...\n",
            "Transforming: 100% 1/1 [00:08<00:00,  8.01s/it, File=alesund.jpg]\n",
            "[2019-08-29 06:55:32] [Cartoonizer] [INFO] Total processing time: 0:00:09.552459\n",
            "[2019-08-29 06:55:37] [Cartoonizer] [INFO] Transformed images will be saved to `/content/Cartoonizer/output` folder.\n",
            "[2019-08-29 06:55:39] [Cartoonizer] [INFO] Cartoonizing images using hosoda style...\n",
            "[2019-08-29 06:55:39] [Cartoonizer] [INFO] Preparing to transform 1 images from `/content/Cartoonizer/input` directory...\n",
            "Transforming: 100% 1/1 [00:07<00:00,  7.94s/it, File=alesund.jpg]\n",
            "[2019-08-29 06:55:47] [Cartoonizer] [INFO] Total processing time: 0:00:09.479719\n",
            "[2019-08-29 06:55:53] [Cartoonizer] [INFO] Transformed images will be saved to `/content/Cartoonizer/output` folder.\n",
            "[2019-08-29 06:55:55] [Cartoonizer] [INFO] Cartoonizing images using paprika style...\n",
            "[2019-08-29 06:55:55] [Cartoonizer] [INFO] Preparing to transform 1 images from `/content/Cartoonizer/input` directory...\n",
            "Transforming: 100% 1/1 [00:07<00:00,  7.99s/it, File=alesund.jpg]\n",
            "[2019-08-29 06:56:03] [Cartoonizer] [INFO] Total processing time: 0:00:09.543796\n"
          ],
          "name": "stdout"
        }
      ]
    },
    {
      "cell_type": "code",
      "metadata": {
        "id": "p2ZyUqHcjlJn",
        "colab_type": "code",
        "colab": {}
      },
      "source": [
        "# os.chdir('/content/CartoonGAN-Test-Pytorch-Torch')\n",
        "# if styles == 'all':\n",
        "#   for Styles in  [\"shinkai\", \"hayao\", \"hosoda\", \"paprika\"]:   \n",
        "#     !python test.py --input_dir '/content/Cartoonizer/input' --style {styles} --gpu 0\n",
        "# else:\n",
        "#   Styles = styles\n",
        "#   !python test.py --input_dir '/content/Cartoonizer/input' --style {styles} --gpu 0  \n"
      ],
      "execution_count": 0,
      "outputs": []
    },
    {
      "cell_type": "markdown",
      "metadata": {
        "id": "f_dCMAPOWqwb",
        "colab_type": "text"
      },
      "source": [
        "## Make grid"
      ]
    },
    {
      "cell_type": "code",
      "metadata": {
        "id": "GHBmhyl5MmBE",
        "colab_type": "code",
        "colab": {}
      },
      "source": [
        "import math\n",
        "import os\n",
        "import matplotlib.pyplot as plt\n",
        "images_list= []\n",
        "# Config:\n",
        "images_dir = '/content/Cartoonizer/output'\n",
        "result_grid_filename = '/content/Cartoonizer/output/grid.jpg'\n",
        "result_figsize_resolution = 50 # 1 = 100px\n",
        "\n",
        "for roots, dirs, files in os.walk(images_dir):\n",
        "    for file in files:\n",
        "        if file.endswith('.jpg'):\n",
        "          images_list.append(roots+'/'+file)\n",
        "\n",
        "# images_list = os.listdir(images_dir)\n",
        "images_count = len(images_list)\n",
        "# print('Images: ', images_list)\n",
        "print('Images count: ', images_count)\n",
        "\n",
        "# Calculate the grid size:\n",
        "grid_size = math.ceil(math.sqrt(images_count))\n",
        "\n",
        "# Create plt plot:\n",
        "fig, axes = plt.subplots(grid_size, grid_size, figsize=(result_figsize_resolution, result_figsize_resolution))\n",
        "\n",
        "current_file_number = 0\n",
        "for image_filename in images_list:\n",
        "  if image_filename != 'grid.jpg':\n",
        "    x_position = current_file_number % grid_size\n",
        "    y_position = current_file_number // grid_size\n",
        "\n",
        "    plt_image = plt.imread(images_list[current_file_number])\n",
        "    axes[x_position, y_position].imshow(plt_image)\n",
        "    print((current_file_number + 1), '/', images_count, ': ', image_filename)\n",
        "\n",
        "    current_file_number += 1\n",
        "\n",
        "plt.subplots_adjust(left=0.0, right=1.0, bottom=0.0, top=1.0)\n",
        "plt.savefig(result_grid_filename)"
      ],
      "execution_count": 0,
      "outputs": []
    },
    {
      "cell_type": "code",
      "metadata": {
        "id": "2QbsqJcXMTse",
        "colab_type": "code",
        "colab": {}
      },
      "source": [
        "from moviepy.editor import VideoFileClip, concatenate_videoclips\n",
        "\n",
        "clip1 = VideoFileClip( root + video_name \" + \".mp4\")\n",
        "clip2 = VideoFileClip( root + video_name \" + \".mp4\").subclip(50,60)\n",
        "clip3 = VideoFileClip( root + video_name \" + \".mp4\")\n",
        "# final_clip = concatenate_videoclips([clip1,clip2,clip3])\n",
        "final_clip = clips_array([[clip1, clip2],\n",
        "                          [clip3, clip4]])\n",
        "final_clip.write_videofile(video_name+\"_concatenation.mp4\")"
      ],
      "execution_count": 0,
      "outputs": []
    },
    {
      "cell_type": "markdown",
      "metadata": {
        "id": "YMcI5IlzWwl_",
        "colab_type": "text"
      },
      "source": [
        "## Zip"
      ]
    },
    {
      "cell_type": "code",
      "metadata": {
        "id": "m41Zzrtuzo1O",
        "colab_type": "code",
        "colab": {
          "base_uri": "https://localhost:8080/",
          "height": 442
        },
        "outputId": "07490f0f-413b-4f5e-f695-0330c43fcad2"
      },
      "source": [
        "!zip -r /content/file.zip {img_out_folder}"
      ],
      "execution_count": 14,
      "outputs": [
        {
          "output_type": "stream",
          "text": [
            "updating: content/Cartoonizer/output/ (stored 0%)\n",
            "updating: content/Cartoonizer/output/.tmp/ (stored 0%)\n",
            "updating: content/Cartoonizer/output/hosoda/ (stored 0%)\n",
            "updating: content/Cartoonizer/output/hosoda/jongensstandbeeld.jpg (deflated 1%)\n",
            "updating: content/Cartoonizer/output/hosoda/comparison/ (stored 0%)\n",
            "updating: content/Cartoonizer/output/hosoda/comparison/jongensstandbeeld.jpg (deflated 1%)\n",
            "updating: content/Cartoonizer/output/grid.jpg (deflated 6%)\n",
            "  adding: content/Cartoonizer/output/shinkai/ (stored 0%)\n",
            "  adding: content/Cartoonizer/output/shinkai/comparison/ (stored 0%)\n",
            "  adding: content/Cartoonizer/output/shinkai/comparison/alesund.jpg (deflated 0%)\n",
            "  adding: content/Cartoonizer/output/shinkai/alesund.jpg (deflated 0%)\n",
            "  adding: content/Cartoonizer/output/paprika/ (stored 0%)\n",
            "  adding: content/Cartoonizer/output/paprika/comparison/ (stored 0%)\n",
            "  adding: content/Cartoonizer/output/paprika/comparison/alesund.jpg (deflated 0%)\n",
            "  adding: content/Cartoonizer/output/paprika/alesund.jpg (deflated 0%)\n",
            "  adding: content/Cartoonizer/output/hosoda/comparison/comparison/ (stored 0%)\n",
            "  adding: content/Cartoonizer/output/hosoda/comparison/comparison/alesund.jpg (deflated 0%)\n",
            "  adding: content/Cartoonizer/output/hosoda/alesund.jpg (deflated 0%)\n",
            "  adding: content/Cartoonizer/output/hayao/ (stored 0%)\n",
            "  adding: content/Cartoonizer/output/hayao/jongensstandbeeld.jpg (deflated 2%)\n",
            "  adding: content/Cartoonizer/output/hayao/comparison/ (stored 0%)\n",
            "  adding: content/Cartoonizer/output/hayao/comparison/jongensstandbeeld.jpg (deflated 2%)\n",
            "  adding: content/Cartoonizer/output/hayao/comparison/comparison/ (stored 0%)\n",
            "  adding: content/Cartoonizer/output/hayao/comparison/comparison/alesund.jpg (deflated 0%)\n",
            "  adding: content/Cartoonizer/output/hayao/alesund.jpg (deflated 0%)\n"
          ],
          "name": "stdout"
        }
      ]
    }
  ]
}