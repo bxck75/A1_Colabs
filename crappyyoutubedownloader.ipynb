{
  "nbformat": 4,
  "nbformat_minor": 0,
  "metadata": {
    "colab": {
      "name": "crappyyoutubedownloader.ipynb",
      "version": "0.3.2",
      "provenance": [],
      "private_outputs": true,
      "include_colab_link": true
    },
    "kernelspec": {
      "name": "python3",
      "display_name": "Python 3"
    }
  },
  "cells": [
    {
      "cell_type": "markdown",
      "metadata": {
        "id": "view-in-github",
        "colab_type": "text"
      },
      "source": [
        "<a href=\"https://colab.research.google.com/github/bxck75/colab_projects/blob/master/crappyyoutubedownloader.ipynb\" target=\"_parent\"><img src=\"https://colab.research.google.com/assets/colab-badge.svg\" alt=\"Open In Colab\"/></a>"
      ]
    },
    {
      "cell_type": "code",
      "metadata": {
        "id": "CxAAdzUtRmNp",
        "colab_type": "code",
        "colab": {}
      },
      "source": [
        "import subprocess, os, sys, IPython\n",
        "from IPython.display import clear_output as co\n",
        "from moviepy.editor import *\n"
      ],
      "execution_count": 0,
      "outputs": []
    },
    {
      "cell_type": "code",
      "metadata": {
        "id": "nrb7BgNIOjvT",
        "colab_type": "code",
        "colab": {}
      },
      "source": [
        "# functions\n",
        "def system_call(command,shell=True):\n",
        "  p = subprocess.Popen([command], stdout=subprocess.PIPE, stderr=subprocess.PIPE, shell=shell)\n",
        "#   p = subprocess.Popen([command], stdout=subprocess.PIPE, stderr=subprocess.PIPE, shell=True)\n",
        "  out,err = p.communicate()\n",
        "  if out:\n",
        "    print(\"standard output of subprocess:\")\n",
        "    return str(out.decode(\"utf-8\").strip())\n",
        "  if err:\n",
        "    print(\"standard error of subprocess:\")\n",
        "    return str(err.decode(\"utf-8\").strip())\n",
        "\n",
        "def get_seconds(timestr='01:01:01'):\n",
        "  # rneeds input \"01:01:01\"\n",
        "  hms = [3600,60,1]\n",
        "  return str(sum([a*b for a,b in zip(hms, map(int,timestr.split(':')))]))\n"
      ],
      "execution_count": 0,
      "outputs": []
    },
    {
      "cell_type": "code",
      "metadata": {
        "id": "aQrcUxOFO9J7",
        "colab_type": "code",
        "colab": {}
      },
      "source": [
        "result ='Importing shell shit\\n'\n",
        "result+=system_call('pip install ffmpeg moviepy imageio')\n",
        "result+=system_call('rm -r /content/sample_data')\n",
        "result+=system_call('wget https://www.ffmpeg.org/ffmpeg.html')\n",
        "# IPython.display.HTML(filename='/content/ffmpeg.html')\n",
        "result+=system_call('git clone https://github.com/Zulko/moviepy.git')\n",
        "result+=system_call('/content/moviepy/docs/makehtml.sh')\n",
        "print(result)"
      ],
      "execution_count": 0,
      "outputs": []
    },
    {
      "cell_type": "code",
      "metadata": {
        "id": "r7ih5loZUGio",
        "colab_type": "code",
        "colab": {}
      },
      "source": [
        "ffmpeg_result='ffmpeg results'\n",
        "system_call('pip install youtube-dl')\n",
        "os.makedirs('/content/help', exist_ok=True)\n",
        "system_call('youtube-dl --help > /content/help/youtubecheatsheet.txt')\n",
        "root_path = system_call('pwd')[0].replace(\"\\n\",'')+'/'\n",
        "IPython.display.HTML(filename='/content/help/youtubecheatsheet.txt')\n",
        "print(dir(IPython.display))\n",
        "\n",
        "urls_to_download=['https://www.youtube.com/watch?v=prsZcOdgCu8',\n",
        "                 'https://www.youtube.com/watch?v=0o0O4Trjq3M',\n",
        "                 'https://www.youtube.com/watch?v=vPKDjqDflBc',\n",
        "                 'https://www.youtube.com/watch?v=ZFo8-JqzSCM',\n",
        "                 'https://www.youtube.com/watch?v=MDD21ZJF3mI',\n",
        "                 'https://www.youtube.com/watch?v=fZWsGf0KgQw',\n",
        "                 'https://www.youtube.com/watch?v=lW8ZpPUyumw',\n",
        "                 'https://www.youtube.com/watch?v=lW8ZpPUyumw',\n",
        "                 'https://www.youtube.com/watch?v=B0I6uhgihQU',\n",
        "                 'https://www.youtube.com/watch?v=LnErSWMxKXE']\n",
        "\n",
        "\n",
        "def Get_Vids(url_list):\n",
        "  succes,failed=[],[]\n",
        "  for url in url_list:\n",
        "    \n",
        "    movie_url = url\n",
        "    title_result,err = system_call('youtube-dl -e ' + movie_url)\n",
        "    video_title = title_result.replace(' - ','_').replace(' ','_')\n",
        "    video_path=root_path+'ripped/'+video_title \n",
        "    video_file=video_path + '/' + video_title \n",
        "    os.makedirs(video_path, exist_ok=True)\n",
        "    youtube_result,err=system_call('youtube-dl --silent --write-description ' + movie_url + ' > ' + video_file + '.txt')\n",
        "    video_file=video_path + '/' + video_title \n",
        "    youtube_result,err=system_call('youtube-dl -f mp4 -s -o '+ video_file + '.mp4 ' + movie_url)\n",
        "#     print(youtube_result,err)\n",
        "    if youtube_result == '':\n",
        "      print(url+ ' Fucked')\n",
        "      failed.append(err)\n",
        "    else:\n",
        "      print(url+ ' Succes')\n",
        "      succes.append(video_file)\n",
        "    for fucked in failed:\n",
        "      print(fucked)\n",
        "#       system_call('rm -r '+ fucked)\n",
        "  return succes,failed\n",
        "\n",
        "downloaded_files,failed_files=Get_Vids(urls_to_download)\n",
        "\n"
      ],
      "execution_count": 0,
      "outputs": []
    },
    {
      "cell_type": "markdown",
      "metadata": {
        "id": "UvmX8L178Rx7",
        "colab_type": "text"
      },
      "source": [
        "#IPython.display\n",
        "['Audio', 'DisplayHandle', 'DisplayObject', 'FileLink', 'FileLinks', 'HTML', 'IFrame', 'Image', 'JSON', 'Javascript', 'Latex', 'Markdown', 'Math', 'Pretty', 'ProgressBar', 'SVG', 'ScribdDocument', 'TextDisplayObject', 'VimeoVideo', 'YouTubeVideo', '__builtins__', '__cached__', '__doc__', '__file__', '__loader__', '__name__', '__package__', '__spec__', 'clear_output', 'display', 'display_html', 'display_javascript', 'display_jpeg', 'display_json', 'display_latex', 'display_markdown', 'display_pdf', 'display_png', 'display_pretty', 'display_svg', 'publish_display_data', 'set_matplotlib_close', 'set_matplotlib_formats', 'update_display']\n"
      ]
    },
    {
      "cell_type": "code",
      "metadata": {
        "id": "WJ7HA1XLiq72",
        "colab_type": "code",
        "colab": {}
      },
      "source": [
        "\n",
        "print(downloaded_files)\n",
        "for song in downloaded_files:\n",
        "  audioclip = AudioFileClip(song + '.mp4')\n",
        "  audioclip.write_audiofile(song + '.mp3')\n",
        "  IPython.display.Audio(song + '.mp3')\n",
        "\n",
        "# videoclip = VideoFileClip(video_file + '.mp4')\n",
        "# videoclip.write_videofile(video_file+'_new.mp4', audio=video_file + '.mp3')"
      ],
      "execution_count": 0,
      "outputs": []
    },
    {
      "cell_type": "code",
      "metadata": {
        "id": "VcQKzJXf_5yB",
        "colab_type": "code",
        "colab": {}
      },
      "source": [
        "# ffmpeg_result+=system_call('youtube-dl -f 18 https://www.youtube.com/watch?v=prsZcOdgCu8 -o /content/movie_rips/')\n",
        "# ffmpeg_result+=system_call('rm -r /content/donot')\n",
        "# ffmpeg_result+=system_call('mkdir /content/donot')\n",
        "# ffmpeg_result+=system_call('ffmpeg -i /content/final_processed_donotfollow_vid.mp4 -r 10 -ss 26 -s 100x100 -f image2 /content/donot/foo-%03d.jpeg')"
      ],
      "execution_count": 0,
      "outputs": []
    }
  ]
}