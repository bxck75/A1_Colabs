{
  "nbformat": 4,
  "nbformat_minor": 0,
  "metadata": {
    "colab": {
      "name": "Untitled32.ipynb",
      "version": "0.3.2",
      "provenance": [],
      "private_outputs": true,
      "include_colab_link": true
    },
    "kernelspec": {
      "name": "python3",
      "display_name": "Python 3"
    }
  },
  "cells": [
    {
      "cell_type": "markdown",
      "metadata": {
        "id": "view-in-github",
        "colab_type": "text"
      },
      "source": [
        "<a href=\"https://colab.research.google.com/github/bxck75/A1_Colabs/blob/master/snippets.ipynb\" target=\"_parent\"><img src=\"https://colab.research.google.com/assets/colab-badge.svg\" alt=\"Open In Colab\"/></a>"
      ]
    },
    {
      "cell_type": "code",
      "metadata": {
        "id": "si7CqAOXTcf6",
        "colab_type": "code",
        "colab": {}
      },
      "source": [
        "# Gitgo class\n",
        "class GitGo():\n",
        "  def __init__(self,rep,chdir=True,path='/content/'):\n",
        "    self.rep = rep\n",
        "    self.chdir = chdir\n",
        "    self.path = path\n",
        "    if self.rep == 'help':\n",
        "      self.help()\n",
        "    self.go() \n",
        "      \n",
        "  def help(self):\n",
        "    print(\"* pulls git rep and shows files \\\n",
        "            * returns root path for the repository \\\n",
        "            * Function needs repository <user>/<repository name> combination\\\n",
        "            * Switch chdir and define the rootpath for the repository\\\n",
        "            * Use : GitGo('<rep owner>/<rep name>', <True/False>, <root path>)\\\n",
        "          \")\n",
        "    sys.exit()\n",
        "    \n",
        "  def go(self):\n",
        "    self.rep=self.rep.split('/')\n",
        "    # change folder check\n",
        "    if self.chdir ==True:\n",
        "      #Switch to path\n",
        "      os.chdir(self.path)\n",
        "    # pull get the git rep\n",
        "    os.system('git clone https://github.com/'+self.rep[0]+'/'+self.rep[1]+'.git')\n",
        "    # Set the return value for rep rootpath\n",
        "    self.PATH=self.path+self.rep[1]\n",
        "    # show imported files\n",
        "    os.system('ls ' + self.PATH)\n",
        "    \n",
        "  def __repr__(self):\n",
        "    return self.PATH\n",
        "\n",
        "def get_this_file_defined_functions(name_filter = \"__\"):\n",
        "    import inspect, sys \n",
        "    f = inspect.getmembers(sys.modules[__name__], inspect.isfunction) \n",
        "    return [x for x in f if not x[0].startswith(name_filter)]\n",
        "\n",
        "def get_this_module_sub_modules(name_filter = \"__\"):\n",
        "    import os.path, pkgutil\n",
        "    pkgpath = os.path.dirname(__file__)\n",
        "    m = [name for _, name, _ in pkgutil.iter_modules([pkgpath])] \n",
        "    return [x for x in m if not x[0].startswith(name_filter)]\n",
        "\n",
        "def get_mods(mod,mode='submods'):\n",
        "\n",
        "    if mode is 'functions':\n",
        "        return get_this_file_defined_functions()\n",
        "    else:\n",
        "        return get_this_module_sub_modules()\n",
        "    \n",
        "import IPython.display\n",
        "__file__= IPython.display.__file__\n",
        "\n",
        "print(get_mods(IPython.display,'functions'[0]))"
      ],
      "execution_count": 0,
      "outputs": []
    }
  ]
}