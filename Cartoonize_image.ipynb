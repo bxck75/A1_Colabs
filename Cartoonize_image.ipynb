{
  "nbformat": 4,
  "nbformat_minor": 0,
  "metadata": {
    "colab": {
      "name": "Cartoonize_image.ipynb",
      "version": "0.3.2",
      "provenance": [],
      "collapsed_sections": [],
      "include_colab_link": true
    },
    "kernelspec": {
      "name": "python3",
      "display_name": "Python 3"
    },
    "accelerator": "GPU"
  },
  "cells": [
    {
      "cell_type": "markdown",
      "metadata": {
        "id": "view-in-github",
        "colab_type": "text"
      },
      "source": [
        "<a href=\"https://colab.research.google.com/github/bxck75/colab_projects/blob/master/Cartoonize_image.ipynb\" target=\"_parent\"><img src=\"https://colab.research.google.com/assets/colab-badge.svg\" alt=\"Open In Colab\"/></a>"
      ]
    },
    {
      "cell_type": "code",
      "metadata": {
        "id": "ZXESLEFVB4vW",
        "colab_type": "code",
        "colab": {},
        "cellView": "form"
      },
      "source": [
        "# Pick a filesystem\n",
        "filesystem = \"colab\" #@param [\"colab\", \"drive\"]"
      ],
      "execution_count": 0,
      "outputs": []
    },
    {
      "cell_type": "code",
      "metadata": {
        "id": "ewIPFFnWB0v8",
        "colab_type": "code",
        "colab": {},
        "cellView": "both"
      },
      "source": [
        "# Pick a style\n",
        "styles = \"all\" #@param [\"shinkai\", \"hayao\", \"hosoda\", \"paprika\",\"all\"]"
      ],
      "execution_count": 0,
      "outputs": []
    },
    {
      "cell_type": "code",
      "metadata": {
        "id": "306cCef-Ekn9",
        "colab_type": "code",
        "colab": {},
        "cellView": "form"
      },
      "source": [
        "# pick source \n",
        "source = 'upload' #@param [\"upload\",\"url\"]"
      ],
      "execution_count": 0,
      "outputs": []
    },
    {
      "cell_type": "markdown",
      "metadata": {
        "id": "rvXcT95OFhiI",
        "colab_type": "text"
      },
      "source": [
        "# Prepair"
      ]
    },
    {
      "cell_type": "markdown",
      "metadata": {
        "id": "CPrp0NRLFmn6",
        "colab_type": "text"
      },
      "source": [
        "## set filesystem"
      ]
    },
    {
      "cell_type": "code",
      "metadata": {
        "id": "Abt23hdPvszx",
        "colab_type": "code",
        "colab": {
          "base_uri": "https://localhost:8080/",
          "height": 34
        },
        "outputId": "3e38d600-862f-4470-e1f1-9e8b508335fe"
      },
      "source": [
        "if filesystem == 'drive':\n",
        "  # sync google drive\n",
        "  from google.colab import drive\n",
        "  import os\n",
        "  # if drive is needed uncomment\n",
        "  print('Google drive ',end='')\n",
        "  drive.mount('/content/drive',force_remount=True)\n",
        "  print('Root folder set to ',end='')\n",
        "  root = '/content/drive/My drive/Cartoonizer'\n",
        "  print(root)\n",
        "else:\n",
        "  print('Root folder set to ',end='')\n",
        "  root = '/content/Cartoonizer'\n",
        "  print(root)"
      ],
      "execution_count": 4,
      "outputs": [
        {
          "output_type": "stream",
          "text": [
            "Root folder set to /content/Cartoonizer\n"
          ],
          "name": "stdout"
        }
      ]
    },
    {
      "cell_type": "markdown",
      "metadata": {
        "id": "ZuRxfaR0FuNb",
        "colab_type": "text"
      },
      "source": [
        "## import needed stuff"
      ]
    },
    {
      "cell_type": "code",
      "metadata": {
        "id": "L0Gh5ze80SiK",
        "colab_type": "code",
        "colab": {}
      },
      "source": [
        "# imports\n",
        "import time,os,glob,cv2, itertools\n",
        "import numpy as np\n",
        "from matplotlib import pyplot as plt\n",
        "from IPython.display import clear_output, display, Image\n",
        "from google.colab.patches import cv2_imshow\n",
        "import ipywidgets as widgets\n",
        "!apt install tree\n",
        "\n",
        "\n",
        "repo = \"CartoonGan-tensorflow\"\n",
        "!git clone https://github.com/mnicnc404/{repo}.git\n",
        "os.chdir(os.path.join(repo))\n",
        "!pip install tensorflow-gpu==2.0.0-alpha0\n",
        "!pip install imageio\n",
        "!git clone https://www.github.com/keras-team/keras-contrib.git \\\n",
        "    && cd keras-contrib \\\n",
        "    && python convert_to_tf_keras.py \\\n",
        "    && USE_TF_KERAS=1 python setup.py install\n",
        "  \n",
        "# from subprocess import call\n",
        "import tensorflow as tf\n",
        "tf.__version__\n",
        "\n",
        "#function defines\n",
        "def resize(image,window_height = 1000):\n",
        "    aspect_ratio = float(image.shape[1])/float(image.shape[0])\n",
        "    window_width = window_height/aspect_ratio\n",
        "    image = cv2.resize(image, (int(window_height),int(window_width)))\n",
        "    return image\n",
        "\n",
        "def download_image(url,input_file_name):\n",
        "  !curl -o {input_file_name} {url}\n",
        "  img = cv2.imread(input_file_name, cv2.IMREAD_UNCHANGED)\n",
        "  return img\n",
        "\n",
        "# clear the long output\n",
        "clear_output()"
      ],
      "execution_count": 0,
      "outputs": []
    },
    {
      "cell_type": "markdown",
      "metadata": {
        "id": "pZpV0k2YF4A0",
        "colab_type": "text"
      },
      "source": [
        "## Set I/O"
      ]
    },
    {
      "cell_type": "code",
      "metadata": {
        "id": "El4l7r3moAU1",
        "colab_type": "code",
        "colab": {}
      },
      "source": [
        "# set i/o\n",
        "input_folder = 'input'\n",
        "output_folder = 'output'\n",
        "# check if paths are in place\n",
        "if not os.path.exists(root):\n",
        "  os.mkdir(root)\n",
        "  os.mkdir(root+'/'+output_folder)  \n",
        "  os.mkdir(root+'/'+input_folder)\n",
        "  "
      ],
      "execution_count": 0,
      "outputs": []
    },
    {
      "cell_type": "markdown",
      "metadata": {
        "id": "l8WcqQeF-JSW",
        "colab_type": "text"
      },
      "source": [
        "## Pauze to upload images to input folder"
      ]
    },
    {
      "cell_type": "code",
      "metadata": {
        "id": "ertJiCc_-FZN",
        "colab_type": "code",
        "colab": {}
      },
      "source": [
        "input( \"upload the image to \" + root+'/'+input_folder )"
      ],
      "execution_count": 0,
      "outputs": []
    },
    {
      "cell_type": "markdown",
      "metadata": {
        "id": "av9uSS0I-IZ4",
        "colab_type": "text"
      },
      "source": [
        "## Resize"
      ]
    },
    {
      "cell_type": "code",
      "metadata": {
        "id": "Yr2YMkmaAhH2",
        "colab_type": "code",
        "colab": {}
      },
      "source": [
        "if source == 'url':\n",
        "  # Set the img url\n",
        "  img_url = input('Enter the image url : ')\n",
        "  # extract the name and add the style\n",
        "  img_name = img_url.split('.')\n",
        "  img_ext = img_name[len(img_name)-1]\n",
        "  img_name = img_name[len(img_name)-2]\n",
        "  img_name = img_name.split('/')[2]\n",
        "  img_name = img_name + '_' + styles +'.'+ img_ext\n",
        "  print(img_in_folder+img_name)\n",
        "  img_array = download_image(img_url,img_in_folder+img_name)"
      ],
      "execution_count": 0,
      "outputs": []
    },
    {
      "cell_type": "code",
      "metadata": {
        "id": "wzx9vfrvCktD",
        "colab_type": "code",
        "colab": {}
      },
      "source": [
        "# Set i/o folders\n",
        "img_in_folder =  root+'/'+input_folder\n",
        "img_out_folder = root+'/'+output_folder"
      ],
      "execution_count": 0,
      "outputs": []
    },
    {
      "cell_type": "code",
      "metadata": {
        "id": "nOE-Es5JwnWt",
        "colab_type": "code",
        "colab": {}
      },
      "source": [
        "# resize if needed\n",
        "max_size=1000\n",
        "searchedfiles = glob.glob(img_in_folder+'/*.jpg')\n",
        "files = sorted( searchedfiles, key = lambda file: os.path.getctime(file))\n",
        "# for file in files check height\n",
        "for f in files:\n",
        "  img = cv2.imread(f)\n",
        "  h,w,c = img.shape\n",
        "  # Resize if needed\n",
        "  if h > max_size:\n",
        "    img_resized = resize(img,window_height = max_size)\n",
        "    rh,rw,rc = img_resized.shape\n",
        "    cv2.imwrite(f,img_resized)"
      ],
      "execution_count": 0,
      "outputs": []
    },
    {
      "cell_type": "markdown",
      "metadata": {
        "id": "cAtHYGJEGNEa",
        "colab_type": "text"
      },
      "source": [
        "# Cartoon time"
      ]
    },
    {
      "cell_type": "code",
      "metadata": {
        "id": "XKHU5riPSx4_",
        "colab_type": "code",
        "colab": {}
      },
      "source": [
        "def Run():\n",
        "  \n",
        "  !python cartoonize.py \\\n",
        "    --comparison_view grid \\\n",
        "    --keep_original_size \\\n",
        "    --batch_size 4 \\\n",
        "    --styles '{styles}' \\\n",
        "    --input_dir '{img_in_folder}' \\\n",
        "    --output_dir '{img_out_folder}'\n",
        "  !mv '{img_out_folder}/comparison' '{img_out_folder}/{styles}/comparison'\n",
        "  \n",
        "if styles == 'all':\n",
        "  print('Looping over all styles')\n",
        "  for styles in [\"shinkai\", \"hayao\", \"hosoda\", \"paprika\"]:\n",
        "    Run()    \n",
        "else:\n",
        "  print('Running with '+styles+\" style\")\n",
        "  !python cartoonize.py \\\n",
        "    --comparison_view horizontal \\\n",
        "    --keep_original_size \\\n",
        "    --batch_size 4 \\\n",
        "    --styles '{styles}' \\\n",
        "    --input_dir '{img_in_folder}' \\\n",
        "    --output_dir '{img_out_folder}'  \n",
        "  !mv '{img_out_folder}/comparison' '{img_out_folder}/{styles}/comparison' "
      ],
      "execution_count": 0,
      "outputs": []
    },
    {
      "cell_type": "markdown",
      "metadata": {
        "id": "f_dCMAPOWqwb",
        "colab_type": "text"
      },
      "source": [
        "## Make grid"
      ]
    },
    {
      "cell_type": "code",
      "metadata": {
        "id": "GHBmhyl5MmBE",
        "colab_type": "code",
        "colab": {}
      },
      "source": [
        "import math\n",
        "import os\n",
        "import matplotlib.pyplot as plt\n",
        "images_list= []\n",
        "# Config:\n",
        "images_dir = '/content/Cartoonizer/output'\n",
        "result_grid_filename = '/content/Cartoonizer/output/grid.jpg'\n",
        "result_figsize_resolution = 50 # 1 = 100px\n",
        "\n",
        "for roots, dirs, files in os.walk(images_dir):\n",
        "    for file in files:\n",
        "        if file.endswith('.jpg'):\n",
        "          images_list.append(roots+'/'+file)\n",
        "\n",
        "# images_list = os.listdir(images_dir)\n",
        "images_count = len(images_list)\n",
        "# print('Images: ', images_list)\n",
        "print('Images count: ', images_count)\n",
        "\n",
        "# Calculate the grid size:\n",
        "grid_size = math.ceil(math.sqrt(images_count))\n",
        "\n",
        "# Create plt plot:\n",
        "fig, axes = plt.subplots(grid_size, grid_size, figsize=(result_figsize_resolution, result_figsize_resolution))\n",
        "\n",
        "current_file_number = 0\n",
        "for image_filename in images_list:\n",
        "  if image_filename != 'grid.jpg':\n",
        "    x_position = current_file_number % grid_size\n",
        "    y_position = current_file_number // grid_size\n",
        "\n",
        "    plt_image = plt.imread(images_list[current_file_number])\n",
        "    axes[x_position, y_position].imshow(plt_image)\n",
        "    print((current_file_number + 1), '/', images_count, ': ', image_filename)\n",
        "\n",
        "    current_file_number += 1\n",
        "\n",
        "plt.subplots_adjust(left=0.0, right=1.0, bottom=0.0, top=1.0)\n",
        "plt.savefig(result_grid_filename)"
      ],
      "execution_count": 0,
      "outputs": []
    },
    {
      "cell_type": "markdown",
      "metadata": {
        "id": "YMcI5IlzWwl_",
        "colab_type": "text"
      },
      "source": [
        "## Zip"
      ]
    },
    {
      "cell_type": "code",
      "metadata": {
        "id": "m41Zzrtuzo1O",
        "colab_type": "code",
        "colab": {}
      },
      "source": [
        "!zip -r /content/file.zip {img_out_folder}"
      ],
      "execution_count": 0,
      "outputs": []
    }
  ]
}