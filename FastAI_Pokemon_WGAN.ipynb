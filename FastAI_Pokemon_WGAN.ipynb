{
  "nbformat": 4,
  "nbformat_minor": 0,
  "metadata": {
    "kernelspec": {
      "name": "python3",
      "display_name": "Python 3"
    },
    "language_info": {
      "name": "python",
      "version": "3.6.4",
      "mimetype": "text/x-python",
      "codemirror_mode": {
        "name": "ipython",
        "version": 3
      },
      "pygments_lexer": "ipython3",
      "nbconvert_exporter": "python",
      "file_extension": ".py"
    },
    "colab": {
      "name": "FastAI Pokemon WGAN.ipynb",
      "provenance": [],
      "include_colab_link": true
    },
    "accelerator": "GPU"
  },
  "cells": [
    {
      "cell_type": "markdown",
      "metadata": {
        "id": "view-in-github",
        "colab_type": "text"
      },
      "source": [
        "<a href=\"https://colab.research.google.com/github/bxck75/A1_Colabs/blob/master/FastAI_Pokemon_WGAN.ipynb\" target=\"_parent\"><img src=\"https://colab.research.google.com/assets/colab-badge.svg\" alt=\"Open In Colab\"/></a>"
      ]
    },
    {
      "cell_type": "code",
      "metadata": {
        "_uuid": "8f2839f25d086af736a60e9eeb907d3b93b6e0e5",
        "_cell_guid": "b1076dfc-b9ad-4769-8c92-a6c4dae69d19",
        "trusted": true,
        "id": "PC2Xp_kNyAVG",
        "colab_type": "code",
        "colab": {}
      },
      "source": [
        "# %reload_ext autoreload\n",
        "# %autoreload 2\n",
        "%matplotlib inline"
      ],
      "execution_count": 0,
      "outputs": []
    },
    {
      "cell_type": "code",
      "metadata": {
        "id": "QMzHraw8Gktp",
        "colab_type": "code",
        "colab": {}
      },
      "source": [
        "# Helpers Loading\n",
        "from pathlib import Path\n",
        "lib_file=Path('/content/lib/Helpers.py')\n",
        "if not lib_file.is_file():\n",
        "    import os\n",
        "    os.system('mkdir -p /content/lib')\n",
        "    os.chdir('/content/lib')\n",
        "    os.system('wget https://raw.githubusercontent.com/bxck75/A1_Colabs/master/Helpers.py')\n",
        "    os.system('wget https://raw.githubusercontent.com/bxck75/A1_Colabs/master/myrepcol.py')\n",
        "    os.chdir('/content/')\n",
        "\n",
        "from lib.Helpers import Helpers\n",
        "from lib.myrepcol import reps\n",
        "# regular imports\n",
        "from fastai.vision import *\n",
        "from fastai.vision.gan import *\n",
        "import seaborn as sns\n",
        "import numpy as np\n",
        "import pandas as pd\n",
        "\n",
        "# Init helpers\n",
        "H=Helpers()\n",
        "#  remove sample_data\n",
        "H.Me(['cml','rm -r /content/sample_data'])\n",
        "\n",
        "def get_gdrive_dataset(pack):\n",
        "    import google\n",
        "    from google.colab import drive\n",
        "    drive.mount('/content/drive', force_remount=True)\n",
        "    os.chdir('/content/drive/My Drive')\n",
        "    H.Me(['mkd',['dataset','models/pokemon'],'/content/'])\n",
        "    H.Me(['cml','cp -r '+pack+' /content/dataset/'])\n",
        "    os.chdir('/content/dataset')\n",
        "    H.Me(['cml','unzip -q '+pack])\n",
        "    H.Me(['cml','rm -r '+pack])\n",
        "    os.chdir('/content')\n",
        "\n",
        "\n",
        "def MethHelp(libs):\n",
        "    os_help=H.Me(['vdir',libs])\n",
        "    #make a list containing libs values of os_help\n",
        "    listOfLibs = [x[0] for x in os_help]\n",
        "    #make a list containing libs method values of os_help\n",
        "    listOfMethods= [x[1] for x in os_help]\n",
        "    # Create a zipped list of tuples from above lists\n",
        "    zippedList =  list(zip(listOfLibs, listOfMethods[0:5]))\n",
        "    zippedList\n",
        "    # request help on method from list\n",
        "    return zippedList\n",
        "\n",
        "\n",
        "import fastai\n",
        "\n",
        "meth=fastai.basics.progress_bar.update_every\n",
        "method_args=H.Me(['get_args',meth])\n",
        "print(method_args)\n",
        "\n",
        "MethHelp([\n",
        "        Helpers,\n",
        "          fastai,\n",
        "          fastai.basics\n",
        "         ])\n"
      ],
      "execution_count": 0,
      "outputs": []
    },
    {
      "cell_type": "code",
      "metadata": {
        "id": "hwGT81_G2HOg",
        "colab_type": "code",
        "colab": {}
      },
      "source": [
        "H.dataset_name1='garbagepailkids'\n",
        "H.dataset_name2='kaggle-one-shot-pokemon'\n",
        "\n",
        "get_gdrive_dataset(H.dataset_name1+'.zip')"
      ],
      "execution_count": 0,
      "outputs": []
    },
    {
      "cell_type": "code",
      "metadata": {
        "trusted": true,
        "id": "smXMofWVyAVR",
        "colab_type": "code",
        "colab": {}
      },
      "source": [
        "# path = Path(\"/content/pokemon_dataset/kaggle-one-shot-pokemon/pokemon-a\")\n",
        "# path = Path(\"/content/pokemon_dataset/kaggle-one-shot-pokemon/pokemon-tcg-images\")\n",
        "# path = Path(\"/content/pokemon_dataset/kaggle-one-shot-pokemon/pokemon-b\")\n",
        "path=Path(\"/content/dataset/\" + H.dataset_name)"
      ],
      "execution_count": 0,
      "outputs": []
    },
    {
      "cell_type": "code",
      "metadata": {
        "trusted": true,
        "id": "MyugppwNyAVV",
        "colab_type": "code",
        "colab": {}
      },
      "source": [
        "# tfms = get_transforms(flip_vert = False)"
      ],
      "execution_count": 0,
      "outputs": []
    },
    {
      "cell_type": "code",
      "metadata": {
        "trusted": true,
        "id": "J5wHgp7NyAVZ",
        "colab_type": "code",
        "colab": {}
      },
      "source": [
        "def get_data(bs, size):\n",
        "    return (GANItemList.from_folder(path, noise_sz=100)\n",
        "               .split_none()\n",
        "               .label_from_func(noop)\n",
        "               .transform(tfms=None, size=size, tfm_y=True)\n",
        "#                .transform(tfms=[[crop_pad(size=size, row_pct=(0,1), col_pct=(0,1))], []], size=size, tfm_y=True)\n",
        "               .databunch(bs=bs)\n",
        "               .normalize(stats = [torch.tensor([0.5,0.5,0.5]), torch.tensor([0.5,0.5,0.5])], do_x=False, do_y=True))"
      ],
      "execution_count": 0,
      "outputs": []
    },
    {
      "cell_type": "code",
      "metadata": {
        "trusted": true,
        "id": "nad6FE8vyAVd",
        "colab_type": "code",
        "colab": {}
      },
      "source": [
        "data = get_data(1000, 512)\n",
        "data.show_batch(rows=2)"
      ],
      "execution_count": 0,
      "outputs": []
    },
    {
      "cell_type": "code",
      "metadata": {
        "trusted": true,
        "id": "aCHaiWhnyAVl",
        "colab_type": "code",
        "colab": {}
      },
      "source": [
        "generator      = basic_generator(in_size=512, n_channels=3, n_extra_layers=1)\n",
        "discriminator  = basic_critic   (in_size=512, n_channels=3, n_extra_layers=1)"
      ],
      "execution_count": 0,
      "outputs": []
    },
    {
      "cell_type": "code",
      "metadata": {
        "trusted": true,
        "id": "bpxIdDCEyAVu",
        "colab_type": "code",
        "colab": {}
      },
      "source": [
        "learn = GANLearner.wgan(data, generator, discriminator, switch_eval=False,\n",
        "                        opt_func = partial(optim.Adam, betas = (0.,0.99)), wd=0., model_dir='/tmp/models')"
      ],
      "execution_count": 0,
      "outputs": []
    },
    {
      "cell_type": "code",
      "metadata": {
        "trusted": true,
        "id": "CmbT8r1pyAVz",
        "colab_type": "code",
        "colab": {}
      },
      "source": [
        "# Note: After epoch 1000 started training with LR of 2e-2\n",
        "H.Me(['mkd',[H.dataset_name)],'/content/models'])\n",
        "os.chdir('/content/models/'+path=Path(\"/content/dataset/\" + H.dataset_name))\n",
        "\n",
        "\n",
        "# H.Me(['cml','wget https://www.dropbox.com/s/xcdzb7e41620qu1/64pokemon_1200epoch.pth'])\n",
        "# H.pokemon_pretrained_model='/content/models/pokemon/64pokemon_1200epoch'\n",
        "# learn.load(H.pokemon_pretrained_model)\n"
      ],
      "execution_count": 0,
      "outputs": []
    },
    {
      "cell_type": "code",
      "metadata": {
        "trusted": true,
        "id": "dlFQFJLhyAV3",
        "colab_type": "code",
        "colab": {}
      },
      "source": [
        "# learn.lr_find(stop_div=False, num_it=200)\n",
        "# learn.recorder.plot(suggestion=True)\n",
        "\n",
        "# LR finder produced a result of \n",
        "# Min numerical gradient: 9.12E-04\n",
        "# Min loss divided by 10: 4.37E-04\n",
        "\n",
        "# https://i.imgur.com/rBRCqjW.png\n",
        "# https://i.imgur.com/8rs6xem.png"
      ],
      "execution_count": 0,
      "outputs": []
    },
    {
      "cell_type": "code",
      "metadata": {
        "id": "P5xMQ1KbAIT6",
        "colab_type": "code",
        "colab": {}
      },
      "source": [
        "#Library discovering\n",
        "MethHelp([\n",
        "#             fastai,\n",
        "#             fastai.basics,\n",
        "#             fastai.basics.progress_bar,\n",
        "            GANLearner,\n",
        "         ])"
      ],
      "execution_count": 0,
      "outputs": []
    },
    {
      "cell_type": "code",
      "metadata": {
        "id": "njtXp7sHDnWz",
        "colab_type": "code",
        "colab": {}
      },
      "source": [
        "# method discovering\n",
        "# meth=fastai.basics.progress_bar.update_every\n",
        "meth=learn.fit\n",
        "method_args=H.Me(['get_args',meth])\n",
        "print(method_args)"
      ],
      "execution_count": 0,
      "outputs": []
    },
    {
      "cell_type": "code",
      "metadata": {
        "trusted": true,
        "id": "lG9nrdsUyAV7",
        "colab_type": "code",
        "colab": {}
      },
      "source": [
        "epochs=100\n",
        "learn_rate=9.12E-04\n",
        "# learn_rate=2e-03\n",
        "print(learn_rate)\n",
        "\n",
        "# learn.fit(epochs,learn_rate)\n"
      ],
      "execution_count": 0,
      "outputs": []
    },
    {
      "cell_type": "code",
      "metadata": {
        "trusted": true,
        "id": "kznXAC74yAV_",
        "colab_type": "code",
        "colab": {}
      },
      "source": [
        "# learn.gan_trainer.switch(gen_mode=True)\n",
        "# learn.show_results(ds_type=DatasetType.Train, rows=2, columns=8, figsize=(20,8))"
      ],
      "execution_count": 0,
      "outputs": []
    },
    {
      "cell_type": "code",
      "metadata": {
        "trusted": true,
        "id": "umemBtC5yAWD",
        "colab_type": "code",
        "colab": {}
      },
      "source": [
        "# learn.save('/content/pokemon_dataset/64garbagepailkids_100_epoch')"
      ],
      "execution_count": 0,
      "outputs": []
    }
  ]
}