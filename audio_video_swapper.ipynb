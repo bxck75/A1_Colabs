{
  "nbformat": 4,
  "nbformat_minor": 0,
  "metadata": {
    "colab": {
      "name": "audio-video-swapper.ipynb",
      "version": "0.3.2",
      "provenance": [],
      "private_outputs": true,
      "include_colab_link": true
    },
    "kernelspec": {
      "name": "python3",
      "display_name": "Python 3"
    }
  },
  "cells": [
    {
      "cell_type": "markdown",
      "metadata": {
        "id": "view-in-github",
        "colab_type": "text"
      },
      "source": [
        "<a href=\"https://colab.research.google.com/github/bxck75/colab_projects/blob/master/audio_video_swapper.ipynb\" target=\"_parent\"><img src=\"https://colab.research.google.com/assets/colab-badge.svg\" alt=\"Open In Colab\"/></a>"
      ]
    },
    {
      "cell_type": "markdown",
      "metadata": {
        "id": "XGi1SDreZMAZ",
        "colab_type": "text"
      },
      "source": [
        "#Swapper"
      ]
    },
    {
      "cell_type": "code",
      "metadata": {
        "id": "AQidTNwPOelh",
        "colab_type": "code",
        "colab": {},
        "cellView": "both"
      },
      "source": [
        "#@title Setup the swap\n",
        "#@markdown video to get the dancer video from\n",
        "DanceVideo='https://www.youtube.com/watch?v=vdJcJAO8lrE' #@param {type:\"string\"}\n",
        "#@markdown video to get the audio from\n",
        "AudioVideo='https://www.youtube.com/watch?v=PKkqD4HPimI' #@param {type:\"string\"}\n",
        "DanceSpeed='0.5' #@param [1.0, 0.25, 0.50, 0.75, 0.1] {allow-input: true}\n",
        "AudioSpeed='1.20' #@param [1.0, 1.25, 1.50, 1.75, 2.0] {allow-input: true}\n",
        "Trim_Start_Dance= 36 #@param {type: \"slider\", min: 0, max: 200}\n",
        "Trim_Start_Audio= 0 #@param {type: \"slider\", min: 0, max: 200}\n",
        "Final_output_name = 'swapped_video' #@param {type: \"string\"}"
      ],
      "execution_count": 0,
      "outputs": []
    },
    {
      "cell_type": "markdown",
      "metadata": {
        "id": "TfTj1Q2EZCRM",
        "colab_type": "text"
      },
      "source": [
        "#widgets\n",
        "\n",
        "All input widgets!\n",
        "sys.exit()\n",
        "#@title Example form fields\n",
        "#@markdown Forms support many types of fields.\n",
        "\n",
        "no_type_checking = 'name'  #@param\n",
        "string_type = 'example'  #@param {type: \"string\"}\n",
        "slider_value = 179  #@param {type: \"slider\", min: 100, max: 200}\n",
        "number = 102  #@param {type: \"number\"}\n",
        "date = '2010-11-05'  #@param {type: \"date\"}\n",
        "pick_me = \"monday\"  #@param ['monday', 'tuesday', 'wednesday', 'thursday']\n",
        "select_or_input = \"apples\" #@param [\"apples\", \"bananas\", \"oranges\"] {allow-input: true}\n",
        "#@markdown ---*italicized text* \n"
      ]
    },
    {
      "cell_type": "markdown",
      "metadata": {
        "id": "1IS51ZWfVE-F",
        "colab_type": "text"
      },
      "source": [
        "#Run"
      ]
    },
    {
      "cell_type": "code",
      "metadata": {
        "id": "aV6DKyctI6QY",
        "colab_type": "code",
        "colab": {}
      },
      "source": [
        "#setup imports\n",
        "!pip install youtube-dl\n",
        "!pip install ffmpeg moviepy imageio\n",
        "import moviepy,os\n",
        "import moviepy.editor as mp\n",
        "import imageio \n",
        "from moviepy.editor import VideoFileClip, AudioFileClip,concatenate_audioclips,concatenate_videoclips,clips_array, vfx\n",
        "from moviepy.video.fx import crop\n",
        "from moviepy.video.io.ffmpeg_tools import ffmpeg_extract_subclip\n",
        "\n",
        "def Trim_video(t,tr,start=0,stop=100):  \n",
        "  # cut clip if neeed\n",
        "  ffmpeg_extract_subclip(t, start, stop, targetname=tr) \n",
        "# make folder for extraction\n",
        "if not os.path.exists('/content/audioswapper'):\n",
        "  os.mkdir('/content/audioswapper',777)\n",
        "if not os.path.exists('/content/final_result'):\n",
        "  os.mkdir('/content/final_result',777)\n",
        "#rip the videos  \n",
        "!youtube-dl --format mp4 {DanceVideo} --output '/content/audioswapper/konijn.mp4'\n",
        "!youtube-dl --format mp4 {AudioVideo} --output '/content/audioswapper/sjeik.mp4'\n",
        "# trim the audio  \n",
        "Trim_video('/content/audioswapper/sjeik.mp4','/content/audioswapper/sjeik_trimmed.mp4',Trim_Start_Audio,630)\n",
        "# trim the video\n",
        "Trim_video('/content/audioswapper/konijn.mp4','/content/audioswapper/konijn_trimmed.mp4',Trim_Start_Dance,630)\n",
        "\n",
        "# speed up dance vid\n",
        "print('workig on speeding')\n",
        "!ffmpeg -y -i \"/content/audioswapper/konijn_trimmed.mp4\" \\\n",
        "  -filter_complex \"[0:v]setpts={DanceSpeed}*PTS[v];[0:a]atempo=1.0[a]\" -map \"[v]\" \\\n",
        "  -map \"[a]\" \"/content/audioswapper/konijn_up_speed.mp4\"\n",
        "!ffmpeg -y -i \"/content/audioswapper/sjeik_trimmed.mp4\" \\\n",
        "  -filter_complex \"[0:v]setpts=0.5*PTS[v];[0:a]atempo={AudioSpeed}[a]\" -map \"[v]\" \\\n",
        "  -map \"[a]\" \"/content/audioswapper/sjeik_up_speed.mp4\"\n",
        "\n",
        "# split the audio from de trimmed video\n",
        "videoclip = VideoFileClip('/content/audioswapper/sjeik_up_speed.mp4')\n",
        "audioclip = videoclip.audio\n",
        "audioclip.write_audiofile('/content/audioswapper/sjeik.mp3')\n",
        "\n",
        "# combine the two\n",
        "video = VideoFileClip(\"/content/audioswapper/konijn_up_speed.mp4\")\n",
        "video_with_new_audio = video.set_audio(AudioFileClip(\"/content/audioswapper/sjeik.mp3\")) \n",
        "# video_with_new_audio.write_videofile(\"/content/final_result/sjeik_konijn.mp4\", fps=60, codec=\"mpeg4\")\n",
        "video_with_new_audio.write_videofile(\"/content/final_result/\"+Final_output_name+\".mp4\")\n",
        "!rm -r '/content/audioswapper'"
      ],
      "execution_count": 0,
      "outputs": []
    }
  ]
}