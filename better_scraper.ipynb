{
  "nbformat": 4,
  "nbformat_minor": 0,
  "metadata": {
    "colab": {
      "name": "better_scraper.ipynb",
      "provenance": [],
      "private_outputs": true,
      "include_colab_link": true
    },
    "kernelspec": {
      "name": "python3",
      "display_name": "Python 3"
    },
    "accelerator": "GPU"
  },
  "cells": [
    {
      "cell_type": "markdown",
      "metadata": {
        "id": "view-in-github",
        "colab_type": "text"
      },
      "source": [
        "<a href=\"https://colab.research.google.com/github/bxck75/A1_Colabs/blob/master/better_scraper.ipynb\" target=\"_parent\"><img src=\"https://colab.research.google.com/assets/colab-badge.svg\" alt=\"Open In Colab\"/></a>"
      ]
    },
    {
      "cell_type": "markdown",
      "metadata": {
        "id": "Rgp2W-STchpe",
        "colab_type": "text"
      },
      "source": [
        "[Starter cell](https://gist.githubusercontent.com/bxck75/7a9df85dee5cfefa10696814d7ee17ae/raw/16e79f0744b00703416c88f0dba44d1a3edef2ff/ColabStarter.py)\n"
      ]
    },
    {
      "cell_type": "code",
      "metadata": {
        "id": "HinnaLr4cN04",
        "colab_type": "code",
        "colab": {}
      },
      "source": [
        ""
      ],
      "execution_count": 0,
      "outputs": []
    },
    {
      "cell_type": "code",
      "metadata": {
        "id": "mcGsrSyVEVLc",
        "colab_type": "code",
        "cellView": "both",
        "colab": {}
      },
      "source": [
        "#@title  Helpers Loader { vertical-output: true, output-height: 10 }\n",
        "# remove defaults\n",
        "import os\n",
        "os.system('rm -r sample_data')\n",
        "# Clone the repo\n",
        "os.system('git clone https://github.com/bxck75/Python_Helpers.git')\n",
        "\n",
        "# Change dir\n",
        "os.chdir('/content/Python_Helpers')\n",
        "# install\n",
        "os.system('python setup.py install')\n",
        "\n",
        "from IPython.display import clear_output as cle\n",
        "from pprint import pprint as print\n",
        "from PIL import Image\n",
        "import main\n",
        "import os\n",
        "import sys\n",
        "import json\n",
        "import IPython\n",
        "import Helpers\n",
        "\n",
        "\n",
        "Helpers_Core=Helpers.Core()\n",
        "hlp=Helpers_Core.H\n",
        "os.chdir('/content/')\n",
        "hlp.repolist= hlp.repo_collection\n",
        "repos_sorted = hlp.repo_collection.repos_sorted\n",
        "A1=[\n",
        "    'bxck75/piss-ant-pix2pix',\n",
        "    'bxck75/scrape-linkedin-selenium',\n",
        "    # 'bxck75/opencv',\n",
        "    'bxck75/google-drive-list-shared',\n",
        "    'bxck75/PyDrive',\n",
        "    ]\n",
        "hlp.Me(['inst_reps',A1,'/content/installed_repos',False,True])\n",
        "\n",
        "\n",
        "''' zipper'''\n",
        "Zipper = Helpers_Core.load_zipper()\n",
        "Gdrive_download = Helpers_Core.Gdownload.GdriveD\n",
        "\n",
        "''' image crawler '''\n",
        "ImgCrawler = Helpers.core.GoImgScrape.GoogleImageCrawler()\n",
        "cle()"
      ],
      "execution_count": 0,
      "outputs": []
    },
    {
      "cell_type": "code",
      "metadata": {
        "id": "owAvM2lxZWmJ",
        "colab_type": "code",
        "colab": {}
      },
      "source": [
        "# write files client_id.json and storage.json\n",
        "client_json = {\"installed\":{\"client_id\":\"33701282165-71nndqu1vafrevj8krtmoosc05qc6c0s.apps.googleusercontent.com\",\"project_id\":\"k00bscolabs\",\"auth_uri\":\"https://accounts.google.com/o/oauth2/auth\",\"token_uri\":\"https://oauth2.googleapis.com/token\",\"auth_provider_x509_cert_url\":\"https://www.googleapis.com/oauth2/v1/certs\",\"client_secret\":\"1o6vLE5c_g4JEtoTXKXS2iZx\",\"redirect_uris\":[\"urn:ietf:wg:oauth:2.0:oob\",\"http://localhost\"]}}\n",
        "# storage_json = {\"access_token\": \"ya29.Il-bB7QGH-5GayI7St_0HKud7QW7l1D6pn6s3DOG5YGK4sfIB3Xu5t_iQwQa50lzRQwb3L2NLdeVvxrtb4kaPp1vaxddzj5lzjgDtbcVV140aG_0AIY75-aAQIFuvf4tfQ\", \"client_id\": \"33701282165-71nndqu1vafrevj8krtmoosc05qc6c0s.apps.googleusercontent.com\", \"client_secret\": \"1o6vLE5c_g4JEtoTXKXS2iZx\", \"refresh_token\": \"1/l77bvcsSry9XARpg5lpNStkge-KzUx3eLvfuzbFmQA7JyD70KhPJLUiXU3Bq107Q\", \"token_expiry\": \"2019-10-07T23:27:15Z\",\"token_uri\": \"https://oauth2.googleapis.com/token\", \"user_agent\": null, \"revoke_uri\": \"https://oauth2.googleapis.com/revoke\", \"id_token\": null, \"id_token_jwt\": null, \"token_response\": {\"access_token\": \"ya29.Il-bB7QGH-5GayI7St_0HKud7QW7l1D6pn6s3DOG5YGK4sfIB3Xu5t_iQwQa50lzRQwb3L2NLdeVvxrtb4kaPp1vaxddzj5lzjgDtbcVV140aG_0AIY75-aAQIFuvf4tfQ\", \"expires_in\": 3600, \"refresh_token\": \"1/l77bvcsSry9XARpg5lpNStkge-KzUx3eLvfuzbFmQA7JyD70KhPJLUiXU3Bq107Q\", \"scope\": \"https://www.googleapis.com/auth/drive.metadata.readonly\", \"token_type\": \"Bearer\"}, \"scopes\": [\"https://www.googleapis.com/auth/drive.readonly.metadata\"], \"token_info_uri\": \"https://oauth2.googleapis.com/tokeninfo\", \"invalid\": false, \"_class\": \"OAuth2Credentials\", \"_module\": \"oauth2client.client\"}\n",
        "\n",
        "with open('/content/installed_repos/google-drive-list-shared/client_id.json', 'w') as outfile:\n",
        "    json.dump(client_json, outfile)\n",
        "# with open('/content/installed_repos/google-drive-list-shared/storage.json', 'w') as outfile:\n",
        "#     json.dump(storage_json, outfile)\n"
      ],
      "execution_count": 0,
      "outputs": []
    },
    {
      "cell_type": "markdown",
      "metadata": {
        "id": "FeQoZbcFTu1f",
        "colab_type": "text"
      },
      "source": [
        "Oauth"
      ]
    },
    {
      "cell_type": "code",
      "metadata": {
        "id": "_oQqQzXOTv_s",
        "colab_type": "code",
        "colab": {}
      },
      "source": [
        "# # 1o6vLE5c_g4JEtoTXKXS2iZx\n",
        "# # 33701282165-71nndqu1vafrevj8krtmoosc05qc6c0s.apps.googleusercontent.com\n",
        "# %%writefile /content/installed_repos/google-drive-list-shared/client_id.json\n",
        "# {\"installed\":{\"client_id\":\"33701282165-71nndqu1vafrevj8krtmoosc05qc6c0s.apps.googleusercontent.com\",\"project_id\":\"k00bscolabs\",\"auth_uri\":\"https://accounts.google.com/o/oauth2/auth\",\"token_uri\":\"https://oauth2.googleapis.com/token\",\"auth_provider_x509_cert_url\":\"https://www.googleapis.com/oauth2/v1/certs\",\"client_secret\":\"1o6vLE5c_g4JEtoTXKXS2iZx\",\"redirect_uris\":[\"urn:ietf:wg:oauth:2.0:oob\",\"http://localhost\"]}}"
      ],
      "execution_count": 0,
      "outputs": []
    },
    {
      "cell_type": "code",
      "metadata": {
        "id": "qF97gRc5VhPm",
        "colab_type": "code",
        "colab": {}
      },
      "source": [
        "# %%writefile /content/installed_repos/google-drive-list-shared/storage.json\n",
        "# {\"access_token\": \"ya29.Il-bB7QGH-5GayI7St_0HKud7QW7l1D6pn6s3DOG5YGK4sfIB3Xu5t_iQwQa50lzRQwb3L2NLdeVvxrtb4kaPp1vaxddzj5lzjgDtbcVV140aG_0AIY75-aAQIFuvf4tfQ\", \"client_id\": \"33701282165-71nndqu1vafrevj8krtmoosc05qc6c0s.apps.googleusercontent.com\", \"client_secret\": \"1o6vLE5c_g4JEtoTXKXS2iZx\", \"refresh_token\": \"1/l77bvcsSry9XARpg5lpNStkge-KzUx3eLvfuzbFmQA7JyD70KhPJLUiXU3Bq107Q\", \"token_expiry\": \"2019-10-07T23:27:15Z\", \"token_uri\": \"https://oauth2.googleapis.com/token\", \"user_agent\": null, \"revoke_uri\": \"https://oauth2.googleapis.com/revoke\", \"id_token\": null, \"id_token_jwt\": null, \"token_response\": {\"access_token\": \"ya29.Il-bB7QGH-5GayI7St_0HKud7QW7l1D6pn6s3DOG5YGK4sfIB3Xu5t_iQwQa50lzRQwb3L2NLdeVvxrtb4kaPp1vaxddzj5lzjgDtbcVV140aG_0AIY75-aAQIFuvf4tfQ\", \"expires_in\": 3600, \"refresh_token\": \"1/l77bvcsSry9XARpg5lpNStkge-KzUx3eLvfuzbFmQA7JyD70KhPJLUiXU3Bq107Q\", \"scope\": \"https://www.googleapis.com/auth/drive.metadata.readonly\", \"token_type\": \"Bearer\"}, \"scopes\": [\"https://www.googleapis.com/auth/drive.readonly.metadata\"], \"token_info_uri\": \"https://oauth2.googleapis.com/tokeninfo\", \"invalid\": false, \"_class\": \"OAuth2Credentials\", \"_module\": \"oauth2client.client\"}"
      ],
      "execution_count": 0,
      "outputs": []
    },
    {
      "cell_type": "code",
      "metadata": {
        "id": "UDnc5pGnNrOj",
        "colab_type": "code",
        "colab": {}
      },
      "source": [
        "# dir(Helpers.Core())\n",
        "p_res = hlp.Me(['cml','pip -r /content/installed_repos/google-drive-list-shared/requirements.txt'])\n",
        "%cd /content/installed_repos/google-drive-list-shared\n",
        "# !python google-drive-list-shared.py # --noauth_local_webserver"
      ],
      "execution_count": 0,
      "outputs": []
    },
    {
      "cell_type": "code",
      "metadata": {
        "id": "busWie_Jas3E",
        "colab_type": "code",
        "colab": {}
      },
      "source": [
        "#!/usr/bin/env python\n",
        "\n",
        "from __future__ import print_function\n",
        "import time\n",
        "import ast\n",
        "\n",
        "from apiclient import discovery\n",
        "from httplib2 import Http\n",
        "from oauth2client import file, client, tools\n",
        "\n",
        "SCOPES = 'https://www.googleapis.com/auth/drive.readonly.metadata'\n",
        "store = file.Storage('storage.json')\n",
        "creds = store.get()\n",
        "if not creds or creds.invalid:\n",
        "    flow = client.flow_from_clientsecrets('client_id.json', SCOPES)\n",
        "    creds = tools.run_flow(flow, store)\n",
        "\n",
        "service = discovery.build('drive', 'v3', http=creds.authorize(Http()))\n",
        "results = service.files().list(\n",
        "        pageSize=1000,\n",
        "        fields=\"nextPageToken, files(name, shared)\").execute()\n",
        "token = results.get('nextPageToken', None)\n",
        "items = results.get('files', [])\n",
        "\n",
        "while token is not None:\n",
        "    results = service.files().list(\n",
        "            pageSize=1000,\n",
        "            pageToken=token,\n",
        "            fields=\"nextPageToken, files(name, shared)\").execute()\n",
        "    # Store the new nextPageToken on each loop iteration\n",
        "    token = results.get('nextPageToken', None)\n",
        "    # Append the next set of results to the items variable\n",
        "    items.extend(results.get('files', []))\n",
        "\n",
        "# The Google Drive does not return valid JSON because the property\n",
        "# names are not enclosed in double quotes, they are enclosed in\n",
        "# single quotes. So, use Python AST to convert the string to an\n",
        "# iterable list.\n",
        "items_dict = ast.literal_eval(str(items))\n",
        "\n",
        "print(\"You have\", len(items_dict), \"files in Google Drive\\n\")\n",
        "print(\"The following files are shared:\\n\")\n",
        "\n",
        "# Iterate through the items list and only show files that have\n",
        "# shared set to True.\n",
        "for i in range(len(items_dict)):\n",
        "    if items_dict[i]['shared']:\n",
        "        print(items_dict[i]['name'])\n",
        "\n"
      ],
      "execution_count": 0,
      "outputs": []
    },
    {
      "cell_type": "markdown",
      "metadata": {
        "id": "RAoI5pPdasio",
        "colab_type": "text"
      },
      "source": [
        ""
      ]
    },
    {
      "cell_type": "code",
      "metadata": {
        "id": "ji27g99raPS8",
        "colab_type": "code",
        "colab": {}
      },
      "source": [
        "import pydrive\n",
        "from pydrive.drive import GoogleDrive\n",
        "\n",
        "# drive = GoogleDrive(gauth) # Create GoogleDrive instance with authenticated GoogleAuth instance\n",
        "\n",
        "# Auto-iterate through all files in the root folder.\n",
        "file_list = drive.ListFile({'q': \"'root' in parents and trashed=false\"}).GetList()\n",
        "for file1 in file_list:\n",
        "  print('title: %s, id: %s' % (file1['title'], file1['id']))"
      ],
      "execution_count": 0,
      "outputs": []
    },
    {
      "cell_type": "code",
      "metadata": {
        "id": "wyzvORIBHroh",
        "colab_type": "code",
        "colab": {}
      },
      "source": [
        "dir(Helpers.Core)\n",
        "H = Helpers.Core()\n",
        "# help('cv2.CascadeClassifier')\n",
        "# help(os.makedirs)\n",
        "os.makedirs('/content/cv2_examples', exist_ok=True)\n",
        "!cp -r /content/installed_repos/opencv/samples/python /content/cv2_examples\n",
        "# H.docu('cv2','CascadeClassifier')"
      ],
      "execution_count": 0,
      "outputs": []
    },
    {
      "cell_type": "code",
      "metadata": {
        "id": "qbessEuPLdmi",
        "colab_type": "code",
        "colab": {}
      },
      "source": [
        "\n",
        "! python /content/installed_repos/google-drive-list-shared/google-drive-list-shared.py"
      ],
      "execution_count": 0,
      "outputs": []
    },
    {
      "cell_type": "code",
      "metadata": {
        "id": "0Xw7NgiQJOQ5",
        "colab_type": "code",
        "colab": {}
      },
      "source": [
        "def detectFace(image):\n",
        "    import cv2\n",
        "    cascadePath = \"/usr/local/opt/opencv/share/OpenCV/haarcascades/haarcascade_frontalface_alt.xml\"\n",
        "    FACE_SHAPE = 0.45\n",
        "    result = image.copy()\n",
        "    imageGray = cv2.cvtColor(image, cv2.COLOR_BGR2GRAY)\n",
        "    cascade = cv2.CascadeClassifier(cascadePath)\n",
        "    faceRect = cascade.detectMultiScale(imageGray, scaleFactor=1.1, minNeighbors=1, minSize=(1,1))\n",
        "    \n",
        "    if len(faceRect) <= 0:\n",
        "        return False\n",
        "    else:\n",
        "        # confirm face\n",
        "        imageSize = image.shape[0] * image.shape[1]\n",
        "        #print(\"d1\")\n",
        "        filteredFaceRects = []\n",
        "        for faceR in faceRect:\n",
        "            faceSize = faceR[2]*faceR[3]\n",
        "            if FACE_SHAPE > min(faceR[2], faceR[3])/max(faceR[2], faceR[3]):\n",
        "                break\n",
        "            filteredFaceRects.append(faceR)\n",
        "        \n",
        "        if len(filteredFaceRects) > 0:\n",
        "            return True\n",
        "        else:\n",
        "            return False "
      ],
      "execution_count": 0,
      "outputs": []
    }
  ]
}