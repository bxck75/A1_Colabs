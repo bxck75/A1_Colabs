{
  "nbformat": 4,
  "nbformat_minor": 0,
  "metadata": {
    "colab": {
      "name": "Latest_stable.ipynb",
      "version": "0.3.2",
      "provenance": [],
      "collapsed_sections": [],
      "toc_visible": true,
      "include_colab_link": true
    },
    "kernelspec": {
      "name": "python3",
      "display_name": "Python 3"
    },
    "accelerator": "GPU"
  },
  "cells": [
    {
      "cell_type": "markdown",
      "metadata": {
        "id": "view-in-github",
        "colab_type": "text"
      },
      "source": [
        "<a href=\"https://colab.research.google.com/github/bxck75/colab_projects/blob/master/Latest_stablev1.ipynb\" target=\"_parent\"><img src=\"https://colab.research.google.com/assets/colab-badge.svg\" alt=\"Open In Colab\"/></a>"
      ]
    },
    {
      "cell_type": "markdown",
      "metadata": {
        "id": "W4ZyoOWClEkH",
        "colab_type": "text"
      },
      "source": [
        "# Cartoon style on image folder\n",
        "\n"
      ]
    },
    {
      "cell_type": "markdown",
      "metadata": {
        "id": "aVDha3ZylXvC",
        "colab_type": "text"
      },
      "source": [
        "## Setup"
      ]
    },
    {
      "cell_type": "code",
      "metadata": {
        "id": "CbrFDsBLhgDZ",
        "colab_type": "code",
        "colab": {}
      },
      "source": [
        "# set video details\n",
        "\n",
        "# video_name='orbital_the_box' \n",
        "# vid='https://www.youtube.com/watch?v=IcQXy4YdFcM' # orbital - the box\n",
        "# video_name='oizo' \n",
        "# vid=\"https://www.youtube.com/watch?v=qmsbP13xu6k\" # oizo \n",
        "# video_name='techno_dark_'\n",
        "# vid='https://www.youtube.com/watch?v=lQnzf5vrK5U'\n",
        "# video_name='techno_dark_2'\n",
        "# vid='https://www.youtube.com/watch?v=aAMduklK3iU'\n",
        "# video_name/='right_here' \n",
        "# vid=\"https://www.youtube.com/watch?v=ub747pprmJ8\" # righthere\n",
        "# video_name='this_land' \n",
        "# vid=\"https://www.youtube.com/watch?v=FZN-yJv82Rs\"\n",
        "# video_name=\"our_love\" \n",
        "# vid=\"https://www.youtube.com/watch?v=eyGWBTCZ3mk\" # our love \n",
        "# video_name='owe_u' \n",
        "# vid=\"https://www.youtube.com/watch?v=OFIWstcaoLc\"\n",
        "# video_name='rhcp'\n",
        "# vid=\"https://www.youtube.com/watch?v=GLvohMXgcBo\"\n",
        "# video_name='beatbox1'\n",
        "# vid=\"https://www.youtube.com/watch?v=oBjGRZgHgIA\"\n",
        "video_name='beatbox'\n",
        "vid=\"https://www.youtube.com/watch?v=oBjGRZgHgIA\"\n",
        "\n",
        "# set Bash vars\n",
        "# !vidb={vid}\n",
        "# !video_name={video_name}\n",
        "# sync google drive\n",
        "from google.colab import drive\n",
        "import os\n",
        "# root = '/content/drive/My Drive/' # google drive root\n",
        "root = '/content/Cartoonizer/'\n",
        "\n",
        "if not os.path.exists(root):\n",
        "   os.mkdir(root,777)\n",
        "\n",
        "if not os.path.exists(root+video_name+'_frames'):\n",
        "  os.mkdir(root+video_name+'_frames',777)\n",
        "  \n",
        "# if drive is needed uncomment\n",
        "# drive.mount('/content/drive',force_remount=True)\n",
        "os.chdir(root)"
      ],
      "execution_count": 0,
      "outputs": []
    },
    {
      "cell_type": "markdown",
      "metadata": {
        "id": "HUnwEwrQ4wx8",
        "colab_type": "text"
      },
      "source": [
        "## Imports!"
      ]
    },
    {
      "cell_type": "code",
      "metadata": {
        "id": "WuqHc7TKdOBU",
        "colab_type": "code",
        "colab": {}
      },
      "source": [
        "# imports\n",
        "import time,os,glob,cv2\n",
        "import numpy as np\n",
        "from matplotlib import pyplot as plt\n",
        "from IPython.display import clear_output, display, Image\n",
        "\n",
        "from moviepy.editor import VideoFileClip\n",
        "#apt sheit\n",
        "!apt update\n",
        "!apt install tree\n",
        "\n",
        "# clear_output()\n",
        "repo = \"CartoonGan-tensorflow\"\n",
        "!git clone https://github.com/mnicnc404/{repo}.git\n",
        "os.chdir(os.path.join(repo))\n",
        "!pip install youtube-dl imageio\n",
        "!pip install tensorflow-gpu==2.0.0-alpha0\n",
        "!pip install ffmpeg Imageio\n",
        "!git clone https://www.github.com/keras-team/keras-contrib.git \\\n",
        "    && cd keras-contrib \\\n",
        "    && python convert_to_tf_keras.py \\\n",
        "    && USE_TF_KERAS=1 python setup.py install\n",
        "  \n",
        "# from subprocess import call\n",
        "import tensorflow as tf\n",
        "tf.__version__\n",
        "\n",
        "# clear_output()\n",
        "#function defines\n",
        "def resize(image,window_height = 800):\n",
        "    aspect_ratio = float(image.shape[1])/float(image.shape[0])\n",
        "    window_width = window_height/aspect_ratio\n",
        "    image = cv2.resize(image, (int(window_height),int(window_width)))\n",
        "    return image\n",
        "\n"
      ],
      "execution_count": 0,
      "outputs": []
    },
    {
      "cell_type": "code",
      "metadata": {
        "id": "Oa5H2zn1JOfA",
        "colab_type": "code",
        "colab": {}
      },
      "source": [
        "!pip freeze > /content/list_modules.lst"
      ],
      "execution_count": 0,
      "outputs": []
    },
    {
      "cell_type": "markdown",
      "metadata": {
        "id": "QJddYD7Rhj7G",
        "colab_type": "text"
      },
      "source": [
        "## Rip the video and audio"
      ]
    },
    {
      "cell_type": "code",
      "metadata": {
        "id": "oUSMAwetkOxt",
        "colab_type": "code",
        "colab": {}
      },
      "source": [
        "# frame rate\n",
        "framerate = 0.15\n",
        "# set max img height\n",
        "max_size= 500\n",
        "print('FRAMERATE = '+str(round(1/framerate,2)))\n",
        "\n",
        "# Set i/o folders\n",
        "img_in_folder =  root+video_name +\"_frames\"\n",
        "img_out_folder = root+\"processed_\"+video_name +\"_frames\"\n",
        "\n",
        "# set original filenames\n",
        "video_file= root+video_name +'.mp4'\n",
        "audio_file= root+video_name +'.mp3'\n",
        "\n",
        "print(video_file)\n",
        "print(audio_file)\n",
        "# !rm -r '{audio_file}'\n",
        "# !rm -r '{video_file}'\n",
        "# rip video from youtube\n",
        "print(vid)\n",
        "os.system('echo youtube-dl '+vid+' --list-formats')\n",
        "!youtube-dl {vid} --output '{video_file}' --format mp4\n",
        "\n",
        "clip = VideoFileClip(video_file)\n",
        "clip.audio.write_audiofile(root+video_name+\".mp3\")\n",
        "\n",
        "\n",
        "#capture the video frames\n",
        "vidcap = cv2.VideoCapture(video_file)\n",
        "# count total frames\n",
        "import imageio\n",
        "vidc = imageio.get_reader(video_file,  'ffmpeg')\n",
        "num_frames=vidc._meta['nframes']\n",
        "# make the frames folder\n",
        "if not os.path.exists(root+video_name+'_frames'):\n",
        "  os.mkdir(root+video_name+'_frames')\n",
        "  \n",
        "# frame grab function\n",
        "def getFrame(sec):\n",
        "  vidcap.set(cv2.CAP_PROP_POS_MSEC,sec*1000)\n",
        "  hasFrames,image = vidcap.read()\n",
        "  if hasFrames:\n",
        "    cv2.imwrite(root+video_name+\"_frames/image\"+str(count)+\".jpg\", image)     # save frame as JPG file\n",
        "  return hasFrames\n",
        "\n",
        "sec = 0\n",
        "FrameRate = framerate\n",
        "count=1\n",
        "success = getFrame(sec)\n",
        "# As long as there are frames \n",
        "while success:\n",
        "  count = count + 1\n",
        "  frames_left = num_frames -1\n",
        "  print('frames to go ' + str(frames_left))\n",
        "  sec = sec + FrameRate\n",
        "  sec = round(sec, 2)\n",
        "  success = getFrame(sec)"
      ],
      "execution_count": 0,
      "outputs": []
    },
    {
      "cell_type": "markdown",
      "metadata": {
        "colab_type": "text",
        "id": "AyuiNzghlqmL"
      },
      "source": [
        "## Set the style "
      ]
    },
    {
      "cell_type": "code",
      "metadata": {
        "id": "nra-13NBdjTI",
        "colab_type": "code",
        "colab": {}
      },
      "source": [
        "# Pick a style\n",
        "styles = \"hosoda\" #@param [\"shinkai\", \"hayao\", \"hosoda\", \"paprika\"]"
      ],
      "execution_count": 0,
      "outputs": []
    },
    {
      "cell_type": "markdown",
      "metadata": {
        "id": "OlnImHl5lcWo",
        "colab_type": "text"
      },
      "source": [
        "## Set Dimensions"
      ]
    },
    {
      "cell_type": "code",
      "metadata": {
        "id": "QS3XPGESdkQi",
        "colab_type": "code",
        "colab": {}
      },
      "source": [
        "# generate the movie sequence\n",
        "searchedfiles = glob.glob(img_in_folder+'/*.jpg')\n",
        "files = sorted( searchedfiles, key = lambda file: os.path.getctime(file))\n",
        "\n",
        "files_sorted=[]\n",
        "combined_sorted=[]\n",
        "# fill the frame list before the processed image even beeing there\n",
        "for i in files:\n",
        "  # split off the filename\n",
        "  isa = i.split('/')\n",
        "  # append it with the processed folder path and file definition\n",
        "  combined_sorted.append(\"file '\"+root+\"processed_\"+video_name +\"_frames/comparison/\"+isa[len(isa)-1]+\"'\\n\")\n",
        "  files_sorted.append(\"file '\"+root+\"processed_\"+video_name +\"_frames/\"+styles+\"/\"+isa[len(isa)-1]+\"'\\n\")\n",
        "print(combined_sorted)\n",
        "print(files_sorted)\n",
        "\n",
        "# for file in files check height\n",
        "for f in files:\n",
        "  img = cv2.imread(f)\n",
        "  h,w,c = img.shape\n",
        "  # Resize if needed\n",
        "  if h > max_size:\n",
        "    img_resized = resize(img,window_height = max_size)\n",
        "    rh,rw,rc = img_resized.shape\n",
        "    cv2.imwrite(f,img_resized)"
      ],
      "execution_count": 0,
      "outputs": []
    },
    {
      "cell_type": "markdown",
      "metadata": {
        "id": "LTKx-CWO4evO",
        "colab_type": "text"
      },
      "source": [
        "## Run the Cartoonizer"
      ]
    },
    {
      "cell_type": "code",
      "metadata": {
        "id": "f92qp_2idsV2",
        "colab_type": "code",
        "outputId": "200267eb-2559-44ed-a7e2-c1ac134a9c09",
        "colab": {
          "base_uri": "https://localhost:8080/",
          "height": 33
        }
      },
      "source": [
        "# !ls\n",
        "# os.chdir('CartoonGan-tensorflow')\n",
        "# run the Cartoonizerrrrrrrrrrrrrrrrrrrr\n",
        "!python cartoonize.py \\\n",
        "  --comparison_view horizontal \\\n",
        "  --keep_original_size \\\n",
        "  --batch_size 8 \\\n",
        "  --styles '{styles}' \\\n",
        "  --input_dir '{img_in_folder}' \\\n",
        "  --output_dir '{img_out_folder}'\n"
      ],
      "execution_count": 0,
      "outputs": [
        {
          "output_type": "stream",
          "text": [
            "Transforming:   6% 43/720 [07:32<1:54:56, 10.19s/it, File=image616.jpg]"
          ],
          "name": "stdout"
        }
      ]
    },
    {
      "cell_type": "markdown",
      "metadata": {
        "id": "G9EAv6wy_p4p",
        "colab_type": "text"
      },
      "source": [
        ""
      ]
    },
    {
      "cell_type": "markdown",
      "metadata": {
        "id": "X4-48Kll4X6l",
        "colab_type": "text"
      },
      "source": [
        "## Forming the new video "
      ]
    },
    {
      "cell_type": "code",
      "metadata": {
        "id": "XK_X9KDAmJzz",
        "colab_type": "code",
        "colab": {}
      },
      "source": [
        "with open(root+'/paths.txt', 'w') as in_files:\n",
        "  in_files.writelines(fn for fn in files_sorted)\n",
        "with open(root+'/compare_paths.txt', 'w') as in_files:\n",
        "  in_files.writelines(fn for fn in combined_sorted)\n",
        "  \n",
        "!ffmpeg -y -r 1/{framerate} -f concat -safe 0 -i  '{root}'\"paths.txt\" -c:v libx264 -vf \"fps=1/\"{framerate}\",format=yuv420p\" '{root}'\"processed_\"{video_name}\".mp4\"\n",
        "!ffmpeg -i '{root}'\"processed_\"'{video_name}'\".mp4\" -i '{audio_file}' -shortest '{root}'\"final_processed_\"'{video_name}'\"_vid.mp4\"\n",
        "\n",
        "!ffmpeg -y -r 1/{framerate} -f concat -safe 0 -i  '{root}'\"compare_paths.txt\" -c:v libx264 -vf \"fps=1/\"{framerate}\",format=yuv420p\" '{root}'\"processed_compare_\"{video_name}\".mp4\"\n",
        "!ffmpeg -i '{root}'\"processed_compare_\"'{video_name}'\".mp4\" -i '{audio_file}' -shortest '{root}'\"final_processed_compare_\"'{video_name}'\"_vid.mp4\""
      ],
      "execution_count": 0,
      "outputs": []
    },
    {
      "cell_type": "markdown",
      "metadata": {
        "id": "MLQdxqp2mCxQ",
        "colab_type": "text"
      },
      "source": [
        "## View results"
      ]
    },
    {
      "cell_type": "code",
      "metadata": {
        "id": "_11ydVYcgrLJ",
        "colab_type": "code",
        "colab": {}
      },
      "source": [
        "folders = [f for f in glob.glob(img_out_folder + \"**/*\", recursive=True)]\n",
        "for d in folders:\n",
        "  !tree '{d}'\n",
        "  files = [f for f in glob.glob( d + \"**/*.jpg\", recursive=True )]\n",
        "  for f in files:\n",
        "      display(Image(f))\n"
      ],
      "execution_count": 0,
      "outputs": []
    },
    {
      "cell_type": "code",
      "metadata": {
        "id": "qJ93vblUf--F",
        "colab_type": "code",
        "colab": {}
      },
      "source": [
        "\n",
        "import moviepy\n",
        "from moviepy.editor import VideoFileClip, clips_array, vfx\n",
        "print(dir( moviepy.editor))\n",
        "# def invert_green_blue(image):\n",
        "#     return image[:,:,[0,2,1]]\n",
        "# def invert_red_green(image):\n",
        "#     return image[:,[0,2,1],:\n",
        "\n",
        "clip1 = VideoFileClip('/content/Cartoonizer/final_processed_compare_'+ video_name + \"_vid.mp4\").margin(1) # add 10px contour\n",
        "clip1 = clip1.fx( vfx.colorx, 1.3)\n",
        "# clip2 = clip1.fx( vfx.mirror_y)\n",
        "# clip3 = clip1.fx( vfx.mirror_x)\n",
        "# clip4 = clip1.fx( vfx.mirror_y)\n",
        "# clip5 = clip1.fx( vfx.colorx, 1.3) # up 40%\n",
        "# modifiedClip1 = clip1.fl_image( invert_red_green )\n",
        "# modifiedClip2 = clip1.fl_image( invert_green_blue )\n",
        "final_clip = clips_array([[clip1]])\n",
        "final_clip.write_videofile(\"/content/Cartoonizer/fx_stack\"+video_name +\".mp4\")\n",
        "\n",
        "\n"
      ],
      "execution_count": 0,
      "outputs": []
    },
    {
      "cell_type": "code",
      "metadata": {
        "id": "I3C5JwoLUMEd",
        "colab_type": "code",
        "colab": {}
      },
      "source": [
        "\n",
        "from google.colab import drive\n",
        "import os\n",
        "video_name='trainrolsin'\n",
        "drive.mount('/content/drive')\n",
        "if not os.path.exists(\"/content/drive/My Drive/\"+video_name):\n",
        "  os.mkdir(\"/content/drive/My Drive/\"+video_name,777)\n",
        "  os.mkdir(\"/content/drive/My Drive/\"+video_name+\"_frames\",777)\n",
        " \n",
        "!mv '/content/Cartoonizer/processed_{video_name}_frames/*' '/content/drive/My Drive/'{video_name}'_frames/'"
      ],
      "execution_count": 0,
      "outputs": []
    },
    {
      "cell_type": "code",
      "metadata": {
        "id": "Ih70jDblVq5k",
        "colab_type": "code",
        "colab": {}
      },
      "source": [
        ""
      ],
      "execution_count": 0,
      "outputs": []
    },
    {
      "cell_type": "code",
      "metadata": {
        "id": "-1joZEA3gQAe",
        "colab_type": "code",
        "colab": {}
      },
      "source": [
        "# %from moviepy.editor import *\n",
        "# clip = (VideoFileClip( root+ video_name \" + \".mp4\")\n",
        "# #         .fx( vfx.resize, width=460) # resize (keep aspect ratio)\n",
        "# #         .fx( vfx.speedx, 2) # double the speed\n",
        "#         .fx( vfx.colorx, 1.3)) # darken the picture\n",
        "\n",
        "# clip.write_videofile(\"brighness_video_name.mp4\")"
      ],
      "execution_count": 0,
      "outputs": []
    },
    {
      "cell_type": "code",
      "metadata": {
        "id": "mTDh-xFwgor1",
        "colab_type": "code",
        "colab": {}
      },
      "source": [
        "# from moviepy.editor import VideoFileClip, concatenate_videoclips\n",
        "# clip1 = VideoFileClip( root + video_name \" + \".mp4\")\n",
        "# clip2 = VideoFileClip( root + video_name \" + \".mp4\").subclip(50,60)\n",
        "# clip3 = VideoFileClip( root + video_name \" + \".mp4\")\n",
        "# # final_clip = concatenate_videoclips([clip1,clip2,clip3])\n",
        "# final_clip = clips_array([[clip1, clip2],\n",
        "#                           [clip3, clip4]])\n",
        "# final_clip.write_videofile(video_name+\"_concatenation.mp4\")"
      ],
      "execution_count": 0,
      "outputs": []
    }
  ]
}