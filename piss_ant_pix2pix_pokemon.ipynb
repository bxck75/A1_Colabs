{
  "nbformat": 4,
  "nbformat_minor": 0,
  "metadata": {
    "colab": {
      "name": "piss_ant_pix2pix_pokemon.ipynb",
      "version": "0.3.2",
      "provenance": [],
      "private_outputs": true,
      "collapsed_sections": [],
      "toc_visible": true,
      "include_colab_link": true
    },
    "kernelspec": {
      "name": "python3",
      "display_name": "Python 3"
    },
    "accelerator": "GPU"
  },
  "cells": [
    {
      "cell_type": "markdown",
      "metadata": {
        "id": "view-in-github",
        "colab_type": "text"
      },
      "source": [
        "<a href=\"https://colab.research.google.com/github/bxck75/A1_Colabs/blob/master/piss_ant_pix2pix_pokemon.ipynb\" target=\"_parent\"><img src=\"https://colab.research.google.com/assets/colab-badge.svg\" alt=\"Open In Colab\"/></a>"
      ]
    },
    {
      "cell_type": "code",
      "metadata": {
        "id": "rRqbekgSPIVi",
        "colab_type": "code",
        "colab": {}
      },
      "source": [
        "!rm -r /content/sample_data\n",
        "\n",
        "#imports\n",
        "import os,sys\n",
        "import fnmatch\n",
        "from IPython.display import display, clear_output\n",
        "# list of reps to install\n",
        "\n",
        "reps=[\n",
        "#         'EIGENREPS',\n",
        "        'bxck75/piss-ant-pix2pix',\n",
        "#         'mikf/gallery-dl',\n",
        "#         'bxck75/datasets',\n",
        "#         'EIGENREPS',\n",
        "#         'tjwei/Flappy-Turtle.',\n",
        "#         'tjwei/fonttools',\n",
        "#         'tjwei/blender3d_import_psk_psa',\n",
        "#         'lllyasviel/sketchKeras',\n",
        "#         'Mckinsey666/Anime-Face-Dataset',\n",
        "#         'chenyuntc/pytorch-book',\n",
        "#         'lllyasviel/style2paints',\n",
        "#         'llSourcell/GANS-for-style-transfer',\n",
        "#         'opencv/open_model_zoo',\n",
        "#         'hindupuravinash/the-gan-zoo',\n",
        "#         'corenel/GAN-Zoo',\n",
        "#         'eriklindernoren/Keras-GAN',\n",
        "#         'junyanz/CycleGAN',\n",
        "#         'junyanz/pytorch-CycleGAN-and-pix2pix',\n",
        "#         'junyanz/iGAN', #----> !wget http://efrosgans.eecs.berkeley.edu/iGAN/datasets/church_64.zip <----dataset \toutdoor_128.zip \thandbag_128.zip !!!\n",
        "#         'martinarjovsky/WassersteinGAN',\n",
        "#         'shaoanlu/faceswap-GAN',\n",
        "#         'LantaoYu/SeqGAN',\n",
        "#         'tjwei/GANotebooks',\n",
        "#         'adeshpande3/Tensorflow-Programs-and-Tutorials',\n",
        "#         'adeshpande3/Generative-Adversarial-Networks',\n",
        "#         'diegoalejogm/gans',\n",
        "#         'osh/KerasGAN',\n",
        "#         'tensorflow/gan',\n",
        "#         'r9y9/gantts',\n",
        "#         'jayleicn/animeGAN',\n",
        "#         'jayleicn/ImageNet-Training',\n",
        "#         'Zardinality/WGAN-tensorflow',\n",
        "#         'timsainb/Tensorflow-MultiGPU-VAE-GAN',\n",
        "#         'Larox/python-moviepy-meetup',\n",
        "#         'tjwei/keras-yolo3',\n",
        "#         'tensorflow/moonlight'\n",
        "#         'tensorflow/models',\n",
        "#         'tensorflow/datasets',\n",
        "        # 'tensorflow/docs',\n",
        "]\n",
        "print(reps.sort())\n",
        "\n",
        "# Gitgo class\n",
        "class GitGo():\n",
        "    \n",
        "  def __init__(self,rep,chdir=True,path='/content/'):\n",
        "    self.rep = rep\n",
        "    self.chdir = chdir\n",
        "    self.path = path\n",
        "    !mkdir -p {self.path}\n",
        "    if self.rep == 'help':\n",
        "        self.help()\n",
        "    self.go() \n",
        "      \n",
        "  def help(self):\n",
        "    print(\"* pulls git rep and shows files \\\n",
        "            * returns root path for the repository \\\n",
        "            * Function needs repository <user>/<repository name> combination\\\n",
        "            * Switch chdir and define the rootpath for the repository\\\n",
        "            * Use : GitGo('<rep owner>/<rep name>', <True/False>, <root path>)\\\n",
        "          \")\n",
        "    sys.exit()\n",
        "    \n",
        "  def go(self):\n",
        "    self.rep=self.rep.split('/')\n",
        "    # change folder check\n",
        "    if self.chdir ==True:\n",
        "        #Switch to path\n",
        "        os.chdir(self.path)\n",
        "    # pull get the git rep\n",
        "    os.system('git clone https://github.com/'+self.rep[0]+'/'+self.rep[1]+'.git')\n",
        "    # Set the return value for rep rootpath\n",
        "    self.PATH=self.path+self.rep[1]\n",
        "    # show imported files\n",
        "    os.system('ls ' + self.PATH)\n",
        "\n",
        "  def __repr__(self):\n",
        "    return self.PATH\n",
        "\n",
        "\n",
        "def get_other_reps(reps):\n",
        "    GitUsers=[]\n",
        "    for u in reps:    \n",
        "        username=u.split('/')[0]\n",
        "        GitUsers.append(username)\n",
        "        GHUSER=username\n",
        "        !curl 'https://api.github.com/users/{GHUSER}/repos?per_page=100' | grep -o 'git@[^\"]*' \n",
        "\n",
        "    return list(set(GitUsers))\n",
        "\n",
        "def recursive_glob(treeroot, pattern):\n",
        "    results = []\n",
        "    for base, dirs, files in os.walk(treeroot):\n",
        "        goodfiles = fnmatch.filter(files, pattern)\n",
        "        results.extend(os.path.join(base, f) for f in goodfiles)\n",
        "    return results\n",
        "\n",
        "mylist = []\n",
        "# install all reps in the list\n",
        "for rep in reps:\n",
        "    name=rep.split('.')[0]\n",
        "    print(name)\n",
        "    G=GitGo(name,path='/content/installed_resp')\n",
        "    # R=get_other_reps([name])\n",
        "#     print(R)\n",
        "    # mylist.append([R[0],name])\n",
        "    \n",
        "# mylist = get_other_reps(reps)\n",
        "# print(mylist)\n",
        "\n",
        "recursive_glob('/content/','requirements*.txt')\n",
        "# clear_output()"
      ],
      "execution_count": 0,
      "outputs": []
    },
    {
      "cell_type": "markdown",
      "metadata": {
        "id": "TELmRbBrfqFV",
        "colab_type": "text"
      },
      "source": [
        "##Get images and make the dataset"
      ]
    },
    {
      "cell_type": "markdown",
      "metadata": {
        "id": "kacDSXhnpro9",
        "colab_type": "text"
      },
      "source": [
        "write a custom edge.py file"
      ]
    },
    {
      "cell_type": "code",
      "metadata": {
        "id": "0UwIBoFn3ttX",
        "colab_type": "code",
        "colab": {}
      },
      "source": [
        "# custom write the edge tool to fix imshow issue in colab\n",
        "%%writefile /content/installed_resp/piss-ant-pix2pix/tools/edge_custom.py\n",
        "from __future__ import absolute_import\n",
        "from __future__ import division\n",
        "from __future__ import print_function\n",
        "import argparse\n",
        "import cv2,sys,os\n",
        "import numpy as np\n",
        "from matplotlib import pyplot as plt\n",
        "# p edge.py --input_dir  --output_dir\n",
        "parser = argparse.ArgumentParser()\n",
        "parser.add_argument(\"--input_dir\", required=True, help=\"path to folder containing images\")\n",
        "parser.add_argument(\"--output_dir\", required=True, help=\"output path\")\n",
        "a = parser.parse_args()\n",
        "\n",
        "\n",
        "\n",
        "\n",
        "for img_path in os.listdir(a.input_dir):\n",
        "\tprint(a.input_dir+'/'+img_path)\n",
        "\n",
        "\t# img = cv2.imread(a.input_dir+'/'+img_path,0)\n",
        "\t# print(a.input_dir+img_path)\n",
        "\timg = cv2.imread(a.input_dir+'/'+img_path, cv2.IMREAD_GRAYSCALE)\n",
        "\t# img = cv2.GaussianBlur(img, (11, 11), 0)\n",
        "\t# sobelx = cv2.Sobel(img, cv2.CV_64F, 1, 0)\n",
        "\t# sobely = cv2.Sobel(img, cv2.CV_64F, 0, 1)\n",
        "\tlaplacian = cv2.Laplacian(img, cv2.CV_64F, ksize=5)\n",
        "\t# canny = cv2.Canny(img, 100, 150)\n",
        "\t# cv2.imshow(\"Image\", img)\n",
        "\t# cv2.imshow(\"Sobelx\", sobelx)\n",
        "\t# cv2.imshow(\"Sobely\", sobely)\n",
        "# \tcv2.imshow(\"Laplacian\", laplacian)\n",
        "\t# cv2.imshow(\"Canny\", canny)\n",
        "\n",
        "\t# # Converting the image to grayscale.\n",
        "\t# gray = cv2.cvtColor(img, cv2.COLOR_BGR2GRAY)\n",
        "\n",
        "\t# # Using the Canny filter to get contours\n",
        "\t# edges = cv2.Canny(gray, 20, 30)\n",
        "\t# # Using the Canny filter with different parameters\n",
        "\t# # Stacking the images to print them together\n",
        "\t# # For comparison\n",
        "\t# images = np.hstack((gray, edges, edges_high_thresh))\n",
        "\n",
        "\t# # Display the resulting frame\n",
        "\t# cv2.imshow('Frame', canny_images)\n",
        "\n",
        "\n",
        "\n",
        "\tedges_high_thresh = cv2.Canny(img, 60, 120)\n",
        "\tedges = cv2.Canny(img,100,200)\n",
        "\t# cv2.imshow(\"edges\",edges)\n",
        "\t# img_not = cv2.bitwise_not(edges)\n",
        "\timg_not_high = cv2.bitwise_not(edges_high_thresh)\n",
        "\t# cv2.imshow(\"Invert1\",img_not)\n",
        "\t# plt.subplot(121),plt.imshow(img,cmap = 'gray')\n",
        "\t# plt.title('Original Image'), plt.xticks([]), plt.yticks([])\n",
        "\t# plt.imshow(img_not,cmap = 'gray')\n",
        "# \tplt.imshow(img_not_high,cmap = 'gray')\n",
        "\t# plt.title('Edge Image'), plt.xticks([]), plt.yticks([])\n",
        "\t# Negative\n",
        "\t# write\n",
        "\t# cv2.imshow(\"Invert1\",edges_neg)\n",
        "\toutfile=a.output_dir+'/'+img_path\n",
        "\tprint(outfile)\n",
        "\tcv2.imwrite(outfile, img_not_high)\n",
        "\t# plt.show()\n",
        "\n",
        "\n",
        "\n"
      ],
      "execution_count": 0,
      "outputs": []
    },
    {
      "cell_type": "code",
      "metadata": {
        "id": "5IqKiRqsb3fS",
        "colab_type": "code",
        "colab": {}
      },
      "source": [
        "def make_twin(folder,method='edges'):\n",
        "\n",
        "    name=folder.split('/')\n",
        "    new_name=name[len(name)-1]\n",
        "    print(new_name)\n",
        "\n",
        "    if method =='edges':\n",
        "        outfolder='/content/installed_resp/piss-ant-pix2pix/p2p_process_tmp/_edges/'+new_name\n",
        "        !mkdir -p {outfolder}\n",
        "        !python /content/installed_resp/piss-ant-pix2pix/tools/edge_custom.py \\\n",
        "            --input_dir {folder} \\\n",
        "            --output_dir {outfolder}\n",
        "\n",
        "    if method =='blank':\n",
        "        outfolder='/content/installed_resp/piss-ant-pix2pix/p2p_process_tmp/_blank/'+new_name\n",
        "        !python /content/installed_resp/piss-ant-pix2pix/tools/process.py \\\n",
        "            --input_dir {folder} \\\n",
        "            --operation blank \\\n",
        "            --output_dir {outfolder}\n",
        "\n",
        "def combine_2_folders(folder1,folder2):\n",
        "    name1=folder1.split('/')\n",
        "    new_name1=name1[len(name1)-1]\n",
        "    name2=folder2.split('/')\n",
        "    new_name2=name2[len(name2)-1]\n",
        "    print(new_name1)\n",
        "    print(new_name2)\n",
        "    !python /content/installed_resp/piss-ant-pix2pix/tools/process.py \\\n",
        "        --input_dir {folder1} \\\n",
        "        --b_dir {folder2} \\\n",
        "        --operation combine \\\n",
        "        --output_dir /content/installed_resp/piss-ant-pix2pix/p2p_process_tmp/_combined/{new_name1}_{new_name2}\n",
        "\n",
        "def resize(folder,size=600):\n",
        "    name=folder.split('/')\n",
        "    new_name=name[len(name)-1]\n",
        "    print(new_name)\n",
        "    # resize\n",
        "    !python /content/installed_resp/piss-ant-pix2pix/tools/process.py \\\n",
        "        --input_dir {folder} \\\n",
        "        --operation resize \\\n",
        "        --size {size} \\\n",
        "        --output_dir /content/installed_resp/piss-ant-pix2pix/p2p_process_tmp/_resized/{new_name}"
      ],
      "execution_count": 0,
      "outputs": []
    },
    {
      "cell_type": "code",
      "metadata": {
        "id": "5V-nlYwkO0RK",
        "colab_type": "code",
        "colab": {}
      },
      "source": [
        "# get pokemon images\n",
        "\n",
        "from google.colab import drive\n",
        "drive.mount('/content/drive')\n",
        "!cp /content/drive/My\\ Drive/Colab\\ Notebooks/kaggle-one-shot-pokemon.zip /content/installed_resp/piss-ant-pix2pix/\n",
        "!unzip /content/installed_resp/piss-ant-pix2pix/kaggle-one-shot-pokemon.zip\n",
        "clear_output()"
      ],
      "execution_count": 0,
      "outputs": []
    },
    {
      "cell_type": "code",
      "metadata": {
        "colab_type": "code",
        "id": "hQbGXw_uiX3f",
        "colab": {}
      },
      "source": [
        "# make temp folder pix2pix dataset\n",
        "!sudo rm -r /content/installed_resp/piss-ant-pix2pix/p2p_process_tmp\n",
        "!sudo mkdir -p /content/installed_resp/piss-ant-pix2pix/p2p_process_tmp\n",
        "!sudo mkdir -p /content/installed_resp/piss-ant-pix2pix/p2p_process_tmp/_resized\n",
        "!sudo mkdir -p /content/installed_resp/piss-ant-pix2pix/p2p_process_tmp/_blank\n",
        "!sudo mkdir -p /content/installed_resp/piss-ant-pix2pix/p2p_process_tmp/_edges\n",
        "!sudo mkdir -p /content/installed_resp/piss-ant-pix2pix/p2p_process_tmp/_combined"
      ],
      "execution_count": 0,
      "outputs": []
    },
    {
      "cell_type": "code",
      "metadata": {
        "id": "J6bgiOlMy8Vn",
        "colab_type": "code",
        "colab": {}
      },
      "source": [
        "# resize folders\n",
        "resize('/content/installed_resp/kaggle-one-shot-pokemon/pokemon-a')\n",
        "resize('/content/installed_resp/kaggle-one-shot-pokemon/pokemon-b')\n",
        "clear_output()"
      ],
      "execution_count": 0,
      "outputs": []
    },
    {
      "cell_type": "code",
      "metadata": {
        "id": "L0shj236qlsg",
        "colab_type": "code",
        "colab": {}
      },
      "source": [
        "# make blankcentered and edged twins\n",
        "make_twin('/content/installed_resp/piss-ant-pix2pix/p2p_process_tmp/_resized/pokemon-a','edges')\n",
        "make_twin('/content/installed_resp/piss-ant-pix2pix/p2p_process_tmp/_resized/pokemon-b','edges')\n",
        "make_twin('/content/installed_resp/piss-ant-pix2pix/p2p_process_tmp/_resized/pokemon-a','blank')\n",
        "make_twin('/content/installed_resp/piss-ant-pix2pix/p2p_process_tmp/_resized/pokemon-b','blank')\n",
        "clear_output()"
      ],
      "execution_count": 0,
      "outputs": []
    },
    {
      "cell_type": "code",
      "metadata": {
        "id": "MyCfBvQrkc89",
        "colab_type": "code",
        "colab": {}
      },
      "source": [
        "# combine 2 folders\n",
        "# combine_2_folders('/content/installed_resp/piss-ant-pix2pix/p2p_process_tmp/_resized/pokemon-a','/content/installed_resp/piss-ant-pix2pix/p2p_process_tmp/_resized/pokemon-b')\n",
        "# combine_2_folders('/content/installed_resp/piss-ant-pix2pix/p2p_process_tmp/_resized/pokemon-b','/content/installed_resp/piss-ant-pix2pix/p2p_process_tmp/_resized/pokemon-a')\n",
        "\n",
        "combine_2_folders('/content/installed_resp/piss-ant-pix2pix/p2p_process_tmp/_resized/pokemon-a','/content/installed_resp/piss-ant-pix2pix/p2p_process_tmp/_edges/pokemon-a')\n",
        "combine_2_folders('/content/installed_resp/piss-ant-pix2pix/p2p_process_tmp/_resized/pokemon-b','/content/installed_resp/piss-ant-pix2pix/p2p_process_tmp/_edges/pokemon-b')\n",
        "combine_2_folders('/content/installed_resp/piss-ant-pix2pix/p2p_process_tmp/_resized/pokemon-a','/content/installed_resp/piss-ant-pix2pix/p2p_process_tmp/_edges/pokemon-b')\n",
        "combine_2_folders('/content/installed_resp/piss-ant-pix2pix/p2p_process_tmp/_resized/pokemon-b','/content/installed_resp/piss-ant-pix2pix/p2p_process_tmp/_edges/pokemon-a')\n",
        "\n",
        "# combine_2_folders('/content/installed_resp/piss-ant-pix2pix/p2p_process_tmp/_resized/pokemon-a','/content/installed_resp/piss-ant-pix2pix/p2p_process_tmp/_blank/pokemon-a')\n",
        "# combine_2_folders('/content/installed_resp/piss-ant-pix2pix/p2p_process_tmp/_resized/pokemon-b','/content/installed_resp/piss-ant-pix2pix/p2p_process_tmp/_blank/pokemon-b')\n",
        "# combine_2_folders('/content/installed_resp/piss-ant-pix2pix/p2p_process_tmp/_resized/pokemon-a','/content/installed_resp/piss-ant-pix2pix/p2p_process_tmp/_blank/pokemon-b')\n",
        "# combine_2_folders('/content/installed_resp/piss-ant-pix2pix/p2p_process_tmp/_resized/pokemon-b','/content/installed_resp/piss-ant-pix2pix/p2p_process_tmp/_blank/pokemon-a')\n",
        "# clear_output()"
      ],
      "execution_count": 0,
      "outputs": []
    },
    {
      "cell_type": "code",
      "metadata": {
        "id": "1BFCo8_VAci0",
        "colab_type": "code",
        "colab": {}
      },
      "source": [
        "# !rm -r /content/installed_resp/piss-ant-pix2pix/p2p_process_tmp/_combined"
      ],
      "execution_count": 0,
      "outputs": []
    },
    {
      "cell_type": "code",
      "metadata": {
        "id": "M1brNoL1b8Nz",
        "colab_type": "code",
        "colab": {}
      },
      "source": [
        "!cat  /content/installed_resp/piss-ant-pix2pix/tools/split.py\n",
        "def split(folder):\n",
        "\n",
        "    !python /content/installed_resp/piss-ant-pix2pix/tools/split.py --dir {folder}\n",
        "\n",
        "split('/content/installed_resp/piss-ant-pix2pix/p2p_process_tmp/_combined/pokemon-a_pokemon-a')\n",
        "split('/content/installed_resp/piss-ant-pix2pix/p2p_process_tmp/_combined/pokemon-a_pokemon-b')\n",
        "split('/content/installed_resp/piss-ant-pix2pix/p2p_process_tmp/_combined/pokemon-b_pokemon-a')\n",
        "split('/content/installed_resp/piss-ant-pix2pix/p2p_process_tmp/_combined/pokemon-b_pokemon-b')\n",
        "clear_output()"
      ],
      "execution_count": 0,
      "outputs": []
    },
    {
      "cell_type": "code",
      "metadata": {
        "id": "fowZTIhXcJtr",
        "colab_type": "code",
        "colab": {}
      },
      "source": [
        "# !sudo mkdir -p /content/installed_resp/piss-ant-pix2pix/pokemon_pix2pix_dataset_a_b\n"
      ],
      "execution_count": 0,
      "outputs": []
    },
    {
      "cell_type": "code",
      "metadata": {
        "id": "BwdQevOOcLc0",
        "colab_type": "code",
        "colab": {}
      },
      "source": [
        "# \n",
        "!mkdir -p /content/installed_resp/piss-ant-pix2pix/pokemon_pix2pix_dataset_edges\n",
        "!cp -rf /content/installed_resp/piss-ant-pix2pix/p2p_process_tmp/_combined/* /content/installed_resp/piss-ant-pix2pix/pokemon_pix2pix_dataset_edges\n",
        "# clear_output()"
      ],
      "execution_count": 0,
      "outputs": []
    },
    {
      "cell_type": "code",
      "metadata": {
        "id": "lynBcbEhEMFq",
        "colab_type": "code",
        "colab": {}
      },
      "source": [
        "#zip the datasets created\n",
        "!zip -r /content/pokemon_pix2pix_dataset.zip /content/installed_resp/piss-ant-pix2pix/pokemon_pix2pix_dataset_edges/*"
      ],
      "execution_count": 0,
      "outputs": []
    },
    {
      "cell_type": "code",
      "metadata": {
        "id": "pPhGPwokfHgO",
        "colab_type": "code",
        "colab": {}
      },
      "source": [
        "# !rm -r /content/installed_resp/piss-ant-pix2pix/p2p_process_tmp"
      ],
      "execution_count": 0,
      "outputs": []
    },
    {
      "cell_type": "markdown",
      "metadata": {
        "id": "EUGDlqyqkDY7",
        "colab_type": "text"
      },
      "source": [
        ""
      ]
    },
    {
      "cell_type": "code",
      "metadata": {
        "id": "Dfx4bg9vIxzX",
        "colab_type": "code",
        "colab": {}
      },
      "source": [
        "for i in range(1):\n",
        "    input_folder=\"/content/installed_resp/piss-ant-pix2pix/pokemon_pix2pix_dataset_edges/pokemon-a_pokemon-a/train\"\n",
        "    output_folder=\"/content/installed_resp/piss-ant-pix2pix/pokemon_pix2pix_dataset_edges/pokemon-a_pokemon-a/trained_checkpoints\"\n",
        "    training_epochs=1\n",
        "    !python /content/installed_resp/piss-ant-pix2pix/pix2pix.py \\\n",
        "        --mode train \\\n",
        "        --display_freq 100 \\\n",
        "        --save_freq 500 --batch_size 4 --output_dir {output_folder} \\\n",
        "        --max_epochs {training_epochs} --input_dir {input_folder} --which_direction BtoA\n",
        "\n",
        "# for i in range(1):\n",
        "#     input_folder=\"/content/installed_resp/piss-ant-pix2pix/pokemon_pix2pix_dataset_edges/pokemon-a_pokemon-a/train\"\n",
        "#     output_folder=\"/content/installed_resp/piss-ant-pix2pix/pokemon_pix2pix_dataset_edges/pokemon-a_pokemon-a/trained_checkpoints\"\n",
        "#     training_epochs=1\n",
        "#     !python /content/installed_resp/piss-ant-pix2pix/pix2pix.py \\\n",
        "#         --mode train \\\n",
        "#         --checkpoint {output_folder}_train \\\n",
        "#         --display_freq 100 \\\n",
        "#         --save_freq 500 --batch_size 4 --output_dir {output_folder} \\\n",
        "#         --max_epochs {training_epochs} --input_dir {input_folder} --which_direction BtoA\n",
        "\n",
        "\n",
        "!zip -r /content/pokemon_checkpoint.zip /content/installed_resp/piss-ant-pix2pix/pokemon_pix2pix_dataset_edges/pokemon-a_pokemon-a/trained_checkpoints/*\n"
      ],
      "execution_count": 0,
      "outputs": []
    },
    {
      "cell_type": "code",
      "metadata": {
        "id": "QGrIUYBnFGiC",
        "colab_type": "code",
        "colab": {}
      },
      "source": [
        ""
      ],
      "execution_count": 0,
      "outputs": []
    },
    {
      "cell_type": "code",
      "metadata": {
        "id": "edHmUBDcgQsq",
        "colab_type": "code",
        "colab": {}
      },
      "source": [
        "# # TRAIN!!!!!\n",
        "# output_folder='/content/installed_resp/piss-ant-pix2pix/garbagepailkids_resize/training'\n",
        "# input_folder = '/content/installed_resp/piss-ant-pix2pix/garbagepailkids_resize/_combined/train'\n",
        "# training_epochs=4\n",
        "# !python /content/installed_resp/piss-ant-pix2pix/pix2pix.py --mode train --display_freq 100 --save_freq 500 --batch_size 8 --output_dir {output_folder}_train --max_epochs {training_epochs} --input_dir {input_folder} --which_direction BtoA\n",
        "# clear_output()"
      ],
      "execution_count": 0,
      "outputs": []
    },
    {
      "cell_type": "code",
      "metadata": {
        "id": "qFIvyJXLf6uz",
        "colab_type": "code",
        "colab": {}
      },
      "source": [
        "# checkpoints\n",
        "# !ls -l /content/installed_resp/piss-ant-pix2pix/garbagepailkids_resize/training_train"
      ],
      "execution_count": 0,
      "outputs": []
    },
    {
      "cell_type": "code",
      "metadata": {
        "id": "nczfhLOklxn7",
        "colab_type": "code",
        "colab": {}
      },
      "source": [
        "# get an image\n",
        "# !mkdir /content/installed_resp/images_to_test\n",
        "# !mkdir /content/installed_resp/tested_images\n",
        "\n",
        "# %cd /content/installed_resp/images_to_test\n",
        "\n",
        "# # get a few sketches to test\n",
        "# !wget https://free-clipart-pictures.com/images/alien-drawing-fat-3.jpg\n",
        "# !wget https://live.staticflickr.com/2936/33549790582_48a514baed_b.jpg\n",
        "# !wget https://pbs.twimg.com/media/DS7m8a3X0AAKZ7a.jpg\n",
        "    \n",
        "# %cd /content/installed_resp/piss-ant-pix2pix\n",
        "\n",
        "\n",
        "# #     2936/33549790582_48a514baed_b.jpg\n",
        "#     DS7m8a3X0AAKZ7a.jpg"
      ],
      "execution_count": 0,
      "outputs": []
    },
    {
      "cell_type": "code",
      "metadata": {
        "id": "p5DaOKxDkKcK",
        "colab_type": "code",
        "colab": {}
      },
      "source": [
        "# test the image\n",
        "# !python /content/installed_resp/piss-ant-pix2pix/pix2pix.py --scale_size 1024 --mode test --output_dir /content/installed_resp/tested_images --input_dir /content/installed_resp/images_to_test --seed 4 --checkpoint /content/installed_resp/piss-ant-pix2pix/garbagepailkids_resize/training_train\n",
        "# clear_output()"
      ],
      "execution_count": 0,
      "outputs": []
    },
    {
      "cell_type": "code",
      "metadata": {
        "id": "gNvU9s7djrZb",
        "colab_type": "code",
        "colab": {}
      },
      "source": [
        "# save the complete model\n",
        "# !python /content/installed_resp/piss-ant-pix2pix/server/tools/export-checkpoint.py --checkpoint /content/installed_resp/piss-ant-pix2pix/garbagepailkids_resize/_combined/train --output_file /content/installed_resp/piss-ant-pix2pix/garbagepailkids_resize/training_train/garbagepailkids_BtoA_model_save.bin"
      ],
      "execution_count": 0,
      "outputs": []
    },
    {
      "cell_type": "code",
      "metadata": {
        "id": "eEdlJGj8QMcI",
        "colab_type": "code",
        "colab": {}
      },
      "source": [
        "# !zip /content/installed_resp/piss-ant-pix2pix/garbagepailkids_resize/training_train/* /content/installed_resp/piss-ant-pix2pix/garbagepailkids.zip\n",
        "# !cp /content/installed_resp/piss-ant-pix2pix/garbagepailkids.zip ./garbagepailkids.zip"
      ],
      "execution_count": 0,
      "outputs": []
    },
    {
      "cell_type": "code",
      "metadata": {
        "id": "NxYR6zLkqpIU",
        "colab_type": "code",
        "colab": {}
      },
      "source": [
        "# store zip to drive\n",
        "\n",
        "# !zip /content/installed_resp/piss-ant-pix2pix/garbagepailkids/* /content/installed_resp/piss-ant-pix2pix/garbagepailkids_original_images.zip\n",
        "# !zip /content/installed_resp/piss-ant-pix2pix/garbagepailkids_resize/_combined/* /content/installed_resp/piss-ant-pix2pix/garbagepailkids_dataset.zip\n",
        "# !zip /content/installed_resp/piss-ant-pix2pix/garbagepailkids_resize/training_train/garbagepailkids_BtoA_model_save.bin /content/installed_resp/piss-ant-pix2pix/garbagepailkids_model_bin.zip\n",
        "# !zip /content/installed_resp/piss-ant-pix2pix/garbagepailkids_resize/training_train/* /content/installed_resp/piss-ant-pix2pix/garbagepailkids.zip\n",
        "# # copy zips to drive\n",
        "# %cd /content/drive/My\\ Drive/Colab\\ Notebooks/Best_Colabs\n",
        "# !cp /content/installed_resp/piss-ant-pix2pix/garbagepailkids_original_images.zip garbagepailkids_original_images.zip\n",
        "# !cp /content/installed_resp/piss-ant-pix2pix/garbagepailkids_dataset.zip ./garbagepailkids_dataset.zip\n",
        "# !cp /content/installed_resp/piss-ant-pix2pix/garbagepailkids_model_bin.zip ./garbagepailkids_model_bin.zip\n",
        "# !cp /content/installed_resp/piss-ant-pix2pix/garbagepailkids.zip ./garbagepailkids.zip"
      ],
      "execution_count": 0,
      "outputs": []
    },
    {
      "cell_type": "code",
      "metadata": {
        "colab_type": "code",
        "id": "yvQN7K_3Gkb0",
        "colab": {}
      },
      "source": [
        "# # TRAIN!!!!!\n",
        "\n",
        "# output_folder = '/content/installed_resp/piss-ant-pix2pix/pokemon_pix2pix_dataset_edged/pokemon_B_B'\n",
        "# input_folder = '/content/installed_resp/piss-ant-pix2pix/pokemon_pix2pix_dataset_edged/pokemon-b_pokemon-b/train'\n",
        "# # for i in range(10):\n",
        "# training_epochs=1\n",
        "# !python /content/installed_resp/piss-ant-pix2pix/pix2pix.py --mode train --display_freq 100 --save_freq 500 --batch_size 4 --output_dir {output_folder}_train --max_epochs {training_epochs} --input_dir {input_folder} --which_direction BtoA\n",
        "# # clear_output()"
      ],
      "execution_count": 0,
      "outputs": []
    },
    {
      "cell_type": "code",
      "metadata": {
        "id": "Cl-Qhw4cHzS-",
        "colab_type": "code",
        "colab": {}
      },
      "source": [
        "# !zip -r /content/pokemon_B_B_checkpoint.zip /content/installed_resp/piss-ant-pix2pix/pokemon_pix2pix_dataset_edged/pokemon_B_B_train/*"
      ],
      "execution_count": 0,
      "outputs": []
    },
    {
      "cell_type": "markdown",
      "metadata": {
        "id": "nvAeYpopjrvD",
        "colab_type": "text"
      },
      "source": [
        "## retrain\n"
      ]
    },
    {
      "cell_type": "code",
      "metadata": {
        "colab_type": "code",
        "id": "xQbFn2fIJJw-",
        "colab": {}
      },
      "source": [
        "!zip -r /content/combined_sets.zip /content/installed_resp/piss-ant-pix2pix/p2p_process_tmp/_combined/*"
      ],
      "execution_count": 0,
      "outputs": []
    }
  ]
}