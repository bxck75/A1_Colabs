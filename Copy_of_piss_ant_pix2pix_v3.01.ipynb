{
  "nbformat": 4,
  "nbformat_minor": 0,
  "metadata": {
    "colab": {
      "name": "Copy of piss_ant_pix2pix_v3.ipynb",
      "provenance": [],
      "private_outputs": true,
      "collapsed_sections": [],
      "toc_visible": true,
      "include_colab_link": true
    },
    "kernelspec": {
      "name": "python3",
      "display_name": "Python 3"
    },
    "accelerator": "GPU"
  },
  "cells": [
    {
      "cell_type": "markdown",
      "metadata": {
        "id": "view-in-github",
        "colab_type": "text"
      },
      "source": [
        "<a href=\"https://colab.research.google.com/github/bxck75/A1_Colabs/blob/master/Copy_of_piss_ant_pix2pix_v3.01.ipynb\" target=\"_parent\"><img src=\"https://colab.research.google.com/assets/colab-badge.svg\" alt=\"Open In Colab\"/></a>"
      ]
    },
    {
      "cell_type": "code",
      "metadata": {
        "id": "rRqbekgSPIVi",
        "colab_type": "code",
        "colab": {}
      },
      "source": [
        "# Helpers Loading\n",
        "from pathlib import Path\n",
        "lib_file=Path('/content/lib/Helpers.py')\n",
        "if not lib_file.is_file():\n",
        "    import os\n",
        "    os.system('mkdir -p /content/lib')\n",
        "    os.chdir('/content/lib')\n",
        "    os.system('wget https://raw.githubusercontent.com/bxck75/A1_Colabs/master/Helpers.py')\n",
        "    os.system('wget https://raw.githubusercontent.com/bxck75/A1_Colabs/master/myrepcol.py')\n",
        "    os.chdir('/content/')\n",
        "# import inspect\n",
        "from lib.Helpers import Helpers\n",
        "from lib.myrepcol import reps\n",
        "# regular imports\n",
        "from fastai.vision import *\n",
        "from fastai.vision.gan import *\n",
        "import seaborn as sns\n",
        "import numpy as np\n",
        "import pandas as pd\n",
        "import fastai\n",
        "from IPython.display import clear_output\n",
        "# Init helpers\n",
        "H=Helpers()\n",
        "#  remove sample_data\n",
        "H.Me(['cml','rm -r /content/sample_data'])\n",
        "reps_custom=['bxck75/piss-ant-pix2pix','affinelayer/pix2pix-tensorflow']\n",
        "\n",
        "H.Me(['inst_reps',reps_custom,'/content/installed_reps',True,True])\n",
        "H.pix_root='/content/installed_reps/piss-ant-pix2pix/'\n",
        "\n",
        "def get_gdrive_dataset(pack, DS_root='datasets',GD_root='/content/drive/My Drive/datasets'):\n",
        "    import google\n",
        "    from google.colab import drive\n",
        "    drive.mount('/content/drive', force_remount=True)\n",
        "    H.gdrive_dataset_root=GD_root+'/'\n",
        "    H.local_dataset_root=H.pix_root+DS_root+'/'\n",
        "    os.chdir(H.gdrive_dataset_root)\n",
        "    H.Me(['mkd',[DS_root,'models'],H.pix_root])\n",
        "    H.Me(['cml','cp -r '+pack+' '+H.pix_root+DS_root])\n",
        "    os.chdir(H.pix_root+DS_root)\n",
        "    H.Me(['cml','unzip -q '+pack])\n",
        "    H.Me(['cml','rm -r '+pack])\n",
        "    os.chdir(H.pix_root)\n",
        "\n",
        "def MethHelp(libs):\n",
        "    os_help=H.Me(['vdir',libs])\n",
        "    #make a list containing libs values of os_help\n",
        "    listOfLibs = [x[0] for x in os_help]\n",
        "    #make a list containing libs method values of os_help\n",
        "    listOfMethods= [x[1] for x in os_help]\n",
        "    # Create a zipped list of tuples from above lists\n",
        "    zippedList =  list(zip(listOfLibs, listOfMethods[0:5]))\n",
        "    zippedList\n",
        "    # request help on method from list\n",
        "    return zippedList\n",
        "\n"
      ],
      "execution_count": 0,
      "outputs": []
    },
    {
      "cell_type": "code",
      "metadata": {
        "id": "zYXa1K0ECs_b",
        "colab_type": "code",
        "colab": {}
      },
      "source": [
        "H.Me(['vdir'])"
      ],
      "execution_count": 0,
      "outputs": []
    },
    {
      "cell_type": "markdown",
      "metadata": {
        "id": "TELmRbBrfqFV",
        "colab_type": "text"
      },
      "source": [
        "##Get images and make the dataset\n",
        "    --resize\n",
        "    --blank center clone\n",
        "    --edged clone\n",
        "    --combine blank set\n",
        "    --combine edged set\n",
        "    --split both sets\n",
        "    --copy the combined set to there home "
      ]
    },
    {
      "cell_type": "markdown",
      "metadata": {
        "id": "nprwZHKxGAfN",
        "colab_type": "text"
      },
      "source": [
        "## Process a folder of images"
      ]
    },
    {
      "cell_type": "code",
      "metadata": {
        "id": "rly433VrN31O",
        "colab_type": "code",
        "colab": {}
      },
      "source": [
        "# datasets on goldenkooygdrive\n",
        "# /content/drive/My Drive/datasets/birds.zip\n",
        "# /content/drive/My Drive/datasets/img_align_celeba.zip\n",
        "# /content/drive/My Drive/Colab Notebooks/kaggle-one-shot-pokemon.zip\n",
        "# /content/drive/My Drive/Colab Notebooks/apes.zip\n",
        "\n",
        "# Apes dataset\n",
        "\n",
        "H.dataset_name='img_align_celeba'\n",
        "\n",
        "get_gdrive_dataset(H.dataset_name+'.zip','datasets','/content/drive/My Drive/datasets/')\n",
        "print(H.gdrive_dataset_root)\n",
        "print(H.local_dataset_root + H.dataset_name)\n",
        "H.dataset_path=Path(H.local_dataset_root + H.dataset_name)\n",
        "# # Garbgepailkids dataset\n",
        "# H.dataset_name='garbagepailkids'\n",
        "# H.dataset_path=Path(H.pix_root+\"dataset/\" + H.dataset_name)\n",
        "# get_gdrive_dataset(H.dataset_name+'.zip')\n",
        "\n",
        "# Gokemon\n",
        "# H.dataset_name='kaggle-one-shot-pokemon'\n",
        "# pokemon_type='/pokemon-a'\n",
        "# H.dataset_path = Path(\"/content/pokemon_dataset/\" + H.dataset_name + pokemon_type)\n",
        "# get_gdrive_dataset(H.dataset_name+'.zip')\n",
        "\n",
        "print(H.dataset_path)\n",
        "os.chdir(H.pix_root)\n",
        "r=H.Me(['cml','ls ' + H.gdrive_dataset_root])\n",
        "print(r)"
      ],
      "execution_count": 0,
      "outputs": []
    },
    {
      "cell_type": "code",
      "metadata": {
        "id": "dXXgqIjgyXyF",
        "colab_type": "code",
        "colab": {}
      },
      "source": [
        "# H.Me(['cml','rm -r '+H.pix_root+'p2p_process_tmp'])"
      ],
      "execution_count": 0,
      "outputs": []
    },
    {
      "cell_type": "code",
      "metadata": {
        "id": "5V-nlYwkO0RK",
        "colab_type": "code",
        "colab": {}
      },
      "source": [
        "H.Me(['mkd',['_combined',\n",
        "             '_blank',\n",
        "             '_edged',\n",
        "             '_resized',\n",
        "             '_combined_blank',\n",
        "             '_combined_edged'],\n",
        "      H.pix_root+'p2p_process_tmp'])\n",
        "\n",
        "H.Me(['mkd',[H.dataset_name+'_resize_edged_combined',\n",
        "             H.dataset_name+'_resize_blank_combined',\n",
        "             H.dataset_name+'_resized',\n",
        "             H.dataset_name+'_edged',\n",
        "             H.dataset_name+'_blank'],\n",
        "      H.pix_root+'dataset'])\n",
        "\n",
        "clear_output()"
      ],
      "execution_count": 0,
      "outputs": []
    },
    {
      "cell_type": "code",
      "metadata": {
        "id": "5IqKiRqsb3fS",
        "colab_type": "code",
        "colab": {}
      },
      "source": [
        "H.Me(['cml','python tools/process.py --input_dir '+H.pix_root+'dataset/'+H.dataset_name+' --operation resize --size 400 --output_dir '+H.pix_root+'p2p_process_tmp/_resized/'])\n",
        "clear_output()"
      ],
      "execution_count": 0,
      "outputs": []
    },
    {
      "cell_type": "code",
      "metadata": {
        "id": "M1brNoL1b8Nz",
        "colab_type": "code",
        "colab": {}
      },
      "source": [
        "H.Me(['cml','python tools/process.py --input_dir '+H.pix_root+'p2p_process_tmp/_resized --operation blank --output_dir '+H.pix_root+'p2p_process_tmp/_blank'])\n",
        "clear_output()"
      ],
      "execution_count": 0,
      "outputs": []
    },
    {
      "cell_type": "code",
      "metadata": {
        "id": "dKgoVHPzJnge",
        "colab_type": "code",
        "colab": {}
      },
      "source": [
        "H.Me(['cml','python tools/edge.py --input_dir '+H.pix_root+'p2p_process_tmp/_resized --output_dir '+H.pix_root+'p2p_process_tmp/_edged'])\n",
        "clear_output()"
      ],
      "execution_count": 0,
      "outputs": []
    },
    {
      "cell_type": "code",
      "metadata": {
        "colab_type": "code",
        "id": "_RqmUdgXtw8u",
        "colab": {}
      },
      "source": [
        "H.Me(['cml','python tools/process.py --input_dir  '+H.pix_root+'p2p_process_tmp/_resized --b_dir '+H.pix_root+'p2p_process_tmp/_edged --operation combine --output_dir  '+H.pix_root+'p2p_process_tmp/_combined_edged'])\n",
        "clear_output()"
      ],
      "execution_count": 0,
      "outputs": []
    },
    {
      "cell_type": "code",
      "metadata": {
        "id": "hU4ytgp0cDoa",
        "colab_type": "code",
        "colab": {}
      },
      "source": [
        "H.Me(['cml','python tools/process.py --input_dir  '+H.pix_root+'p2p_process_tmp/_resized --b_dir '+H.pix_root+'p2p_process_tmp/_blank --operation combine --output_dir  '+H.pix_root+'p2p_process_tmp/_combined_blank'])\n",
        "clear_output()"
      ],
      "execution_count": 0,
      "outputs": []
    },
    {
      "cell_type": "code",
      "metadata": {
        "id": "ojmZi-mtcFRB",
        "colab_type": "code",
        "colab": {}
      },
      "source": [
        "H.Me(['cml','python tools/split.py --dir '+H.pix_root+'p2p_process_tmp/_combined_edged'])\n",
        "H.Me(['cml','python tools/split.py --dir '+H.pix_root+'p2p_process_tmp/_combined_blank'])\n",
        "H.Me(['cml','python tools/split.py --dir '+H.pix_root+'p2p_process_tmp/_resized'])\n",
        "H.Me(['cml','python tools/split.py --dir '+H.pix_root+'p2p_process_tmp/_blank'])\n",
        "H.Me(['cml','python tools/split.py --dir '+H.pix_root+'p2p_process_tmp/_edged'])\n",
        "clear_output()"
      ],
      "execution_count": 0,
      "outputs": []
    },
    {
      "cell_type": "code",
      "metadata": {
        "id": "BwdQevOOcLc0",
        "colab_type": "code",
        "colab": {}
      },
      "source": [
        "H.Me(['cml','cp -rf '+H.pix_root+'p2p_process_tmp/_resized/* '+H.pix_root+'dataset/'+H.dataset_name+'_resized/'])\n",
        "H.Me(['cml','cp -rf '+H.pix_root+'p2p_process_tmp/_edged/* '+H.pix_root+'dataset/'+H.dataset_name+'_edged/'])\n",
        "H.Me(['cml','cp -rf '+H.pix_root+'p2p_process_tmp/_blank/* '+H.pix_root+'dataset/'+H.dataset_name+'_blank/'])\n",
        "H.Me(['cml','cp -rf '+H.pix_root+'p2p_process_tmp/_combined_edged/* '+H.pix_root+'dataset/'+H.dataset_name+'_resize_edged_combined/'])\n",
        "H.Me(['cml','cp -rf '+H.pix_root+'p2p_process_tmp/_combined_blank/* '+H.pix_root+'dataset/'+H.dataset_name+'_resize_blank_combined/'])\n",
        "clear_output()"
      ],
      "execution_count": 0,
      "outputs": []
    },
    {
      "cell_type": "code",
      "metadata": {
        "id": "yrautzlqyk15",
        "colab_type": "code",
        "colab": {}
      },
      "source": [
        "H.Me(['cml','rm -r /content/installed_reps/piss-ant-pix2pix/p2p_process_tmp'])"
      ],
      "execution_count": 0,
      "outputs": []
    },
    {
      "cell_type": "code",
      "metadata": {
        "id": "pPhGPwokfHgO",
        "colab_type": "code",
        "colab": {}
      },
      "source": [
        "# zip sets to gdrive 1,51GB for pailkids set\n",
        "H.Me(['cml','zip -r /content/drive/My\\ Drive/Colab\\ Notebooks/datasets/'+H.dataset_name+'_datasets.zip /content/installed_reps/piss-ant-pix2pix/dataset/*'])\n",
        "clear_output()"
      ],
      "execution_count": 0,
      "outputs": []
    },
    {
      "cell_type": "markdown",
      "metadata": {
        "id": "B3sR9cE4GISj",
        "colab_type": "text"
      },
      "source": [
        "## Load a pre processed set from drive"
      ]
    },
    {
      "cell_type": "code",
      "metadata": {
        "id": "4gKw8uNwGOIJ",
        "colab_type": "code",
        "colab": {}
      },
      "source": [
        "# def get_gdrive_dataset(pack,DS_root='dataset'):\n",
        "#     import google\n",
        "#     from google.colab import drive\n",
        "#     drive.mount('/content/drive', force_remount=True)\n",
        "#     H.GdriveDatasetsPath='/content/drive/My Drive/Colab Notebooks/datasets'\n",
        "#     os.chdir(H.GdriveDatasetsPath)\n",
        "#     H.DS_root=DS_root+'/'\n",
        "#     H.ActiveSetPath =H.pix_root+H.DS_root+H.dataset_name\n",
        "#     fold=H.Me(['cml','ls '+H.GdriveDatasetsPath])\n",
        "#     H.Me(['mkd',[DS_root,'models'],H.pix_root])\n",
        "#     H.Me(['cml','cp -r '+pack+' '+H.pix_root+DS_root])\n",
        "#     os.chdir(H.pix_root+DS_root)\n",
        "#     H.Me(['cml','unzip -q '+pack])\n",
        "#     H.Me(['cml','rm -r '+pack])\n",
        "#     os.chdir(H.pix_root)\n",
        "#     print(fold)\n",
        "\n",
        "\n",
        "\n",
        "# # dataset\n",
        "# H.dataset_name='pail'\n",
        "# !mkdir -p {H.pix_root}dataset_test\n",
        "# get_gdrive_dataset('/content/drive/My Drive/Colab Notebooks/datasets/'+H.dataset_name+'_datasets.zip','dataset_test')\n",
        "# H.dataset_path=Path(H.ActiveSetPath)\n",
        "# H.Me(['cml','cp -rf '+H.pix_root+'/dataset_test/content/installed_reps/piss-ant-pix2pix/dataset_test/* '+ H.ActiveSetPath+'/'])\n",
        "# # H.Me(['cml','rm -r /content/installed_reps/piss-ant-pix2pix/dataset_test/content '])\n",
        "# Zip the model to gdrive\n",
        "from google.colab import drive\n",
        "drive.mount('/content/drive')\n",
        "H.dataset_name='apes'\n",
        "H.Me(['cml','mkdir -p '+H.pix_root+'models/'+H.dataset_name+'/model'])\n",
        "H.Me(['cml','cp -r \"/content/drive/My Drive/Colab Notebooks/datasets/apes_1_epoch_training.zip\" -d '+H.pix_root+'models/'+H.dataset_name+'/model'])"
      ],
      "execution_count": 0,
      "outputs": []
    },
    {
      "cell_type": "code",
      "metadata": {
        "id": "WC3pCbNd-TTI",
        "colab_type": "code",
        "colab": {}
      },
      "source": [
        "from google.colab import drive\n",
        "drive.mount('/content/drive')"
      ],
      "execution_count": 0,
      "outputs": []
    },
    {
      "cell_type": "code",
      "metadata": {
        "id": "rDZHM6k9axFc",
        "colab_type": "code",
        "colab": {}
      },
      "source": [
        "# print(H.pix_root+H.DS_root)\n",
        "# print(H.ActiveSetPath)\n",
        "H.Me(['vdir'])"
      ],
      "execution_count": 0,
      "outputs": []
    },
    {
      "cell_type": "markdown",
      "metadata": {
        "id": "I80S_6gs0Skh",
        "colab_type": "text"
      },
      "source": [
        "# Training"
      ]
    },
    {
      "cell_type": "code",
      "metadata": {
        "id": "8KLrCjcz4XQ0",
        "colab_type": "code",
        "colab": {}
      },
      "source": [
        "# TRAIN!!!!!\n",
        "output_folder=H.pix_root+'models/'+H.dataset_name+'/model'\n",
        "input_folder = H.pix_root+'dataset/'+H.dataset_name+'_resize_edged_combined/train'"
      ],
      "execution_count": 0,
      "outputs": []
    },
    {
      "cell_type": "code",
      "metadata": {
        "id": "Rdblh3BP3ADZ",
        "colab_type": "code",
        "colab": {}
      },
      "source": [
        "# !kill 1110\n",
        "# Initialization tensorboard\n",
        "import tensorflow as tf\n",
        "# Load the TensorBoard notebook extension\n",
        "try:\n",
        "    %load_ext tensorboard\n",
        "except:\n",
        "    %reload_ext tensorboard\n",
        "# Add to tf.keras callback\n",
        "# tensorboard_callback = tf.keras.callbacks.TensorBoard(output_folder, histogram_freq=1)"
      ],
      "execution_count": 0,
      "outputs": []
    },
    {
      "cell_type": "code",
      "metadata": {
        "id": "PkK_1MBa4Ds-",
        "colab_type": "code",
        "colab": {}
      },
      "source": [
        "#@title Start TensorBoard within the notebook using magics function { output-height: 20000, display-mode: \"form\" }\n",
        "\n",
        "%reload_ext tensorboard\n",
        "%tensorboard --logdir {output_folder}\n",
        "\n",
        "import time\n",
        "# Wait for 5 seconds\n",
        "time.sleep(5)\n",
        "# %tensorboard --logdir {output_folder}"
      ],
      "execution_count": 0,
      "outputs": []
    },
    {
      "cell_type": "markdown",
      "metadata": {
        "id": "XTbz8OKxH7K3",
        "colab_type": "text"
      },
      "source": [
        "### help\n",
        ">['aspect_ratio = 1.0',\n",
        " 'batch_size = 16',\n",
        " 'beta1 = 0.5',\n",
        " 'checkpoint = /content/installed_reps/piss-ant-pix2pix/garbagepailkids_resize/training',\n",
        " 'display_freq = 1',\n",
        " 'flip = True',\n",
        " 'gan_weight = 1.0',\n",
        " 'input_dir = /content/installed_reps/piss-ant-pix2pix/garbagepailkids_resize/_combined/train',\n",
        " 'l1_weight = 0.0',\n",
        " 'lab_colorization = False',\n",
        " 'lr = 5e-05',\n",
        " 'max_epochs = 10',\n",
        " 'max_steps = None',\n",
        " 'mode = train',\n",
        " 'ndf = 64',\n",
        " 'ngf = 64',\n",
        " 'output_dir = /content/installed_reps/piss-ant-pix2pix/garbagepailkids_resize/training',\n",
        " 'patch_gan = 1',\n",
        " 'progress_freq = 1',\n",
        " 'save_freq = 100',\n",
        " 'scale_size = 266',\n",
        " 'seed = 0',\n",
        " 'skip_connection = 1',\n",
        " 'summary_freq = 1',\n",
        " 'trace_freq = 0',\n",
        " 'wgan = 1',\n",
        " 'which_direction = BtoA',\n",
        " '/content/installed_reps/piss-ant-pix2pix/garbagepailkids_resize/_combined/train']"
      ]
    },
    {
      "cell_type": "code",
      "metadata": {
        "id": "edHmUBDcgQsq",
        "colab_type": "code",
        "colab": {}
      },
      "source": [
        "training_epochs=1\n",
        "mode='train'\n",
        "direction='BtoA'\n",
        "lr=5e-05\n",
        "# lr = 9.12E-04\n",
        " \n",
        "H.Me(['cml','python pix2pix.py  --mode '+mode+' --batch_size 4 --summary_freq 1 --progress_freq 10 --save_freq 100 --display_freq 10 --output_dir '+output_folder+' --max_epochs '+str(training_epochs)+' --input_dir '+input_folder+' --which_direction '+direction])\n"
      ],
      "execution_count": 0,
      "outputs": []
    },
    {
      "cell_type": "code",
      "metadata": {
        "id": "Zl3OYkIM3uvF",
        "colab_type": "code",
        "colab": {}
      },
      "source": [
        ""
      ],
      "execution_count": 0,
      "outputs": []
    },
    {
      "cell_type": "code",
      "metadata": {
        "id": "MG7gQ7UXwmWj",
        "colab_type": "code",
        "colab": {}
      },
      "source": [
        "\n",
        "training_epochs=1\n",
        "mode='train'\n",
        "direction='BtoA'\n",
        "lr=5e-05\n",
        "# lr = 9.12E-04\n",
        "get the checkpoint dir\n",
        "H.Me(['cml','unzip \"/content/drive/My Drive/Colab Notebooks/pretrained_models/apes_1_epoch_training.zip\"'])\n",
        "\n",
        "start_with_checkpoint = '--checkpoint /content/installed_reps/piss-ant-pix2pix/content/installed_reps/piss-ant-pix2pix/models/apes_resize_edged_combined/training' # '+with_checkpoint+' \n",
        "\n",
        "H.Me(['cml','python pix2pix.py '+start_with_checkpoint+' --mode '+mode+' --batch_size 7 --summary_freq 10 --progress_freq 100 --save_freq 100 --display_freq 50 --output_dir '+output_folder+' --max_epochs '+str(training_epochs)+' --input_dir '+input_folder+' --which_direction '+direction])\n",
        "\n"
      ],
      "execution_count": 0,
      "outputs": []
    },
    {
      "cell_type": "code",
      "metadata": {
        "colab_type": "code",
        "id": "UstJjoDXxYdg",
        "colab": {}
      },
      "source": [
        "# Zip the model to gdrive\n",
        "H.Me(['cml','zip -r /content/drive/My\\ Drive/Colab\\ Notebooks/pretrained_models/'+H.dataset_name+'_'+str(training_epochs)+'_epoch_training.zip '+output_folder+'/*'])"
      ],
      "execution_count": 0,
      "outputs": []
    },
    {
      "cell_type": "code",
      "metadata": {
        "id": "qFIvyJXLf6uz",
        "colab_type": "code",
        "colab": {}
      },
      "source": [
        "# checkpoints\n",
        "# /content/drive/My\\\\ Drive/Colab\\\\ Notebooks/pretrained_models/apes_1_epoch_training.zip\n",
        "stored_models=H.Me(['globx',output_folder,'*outputs.png'])\n",
        "print(stored_models)\n",
        "# !ls -l /content/installed_resp/piss-ant-pix2pix/'+H.pix_root+'_resize/training_train"
      ],
      "execution_count": 0,
      "outputs": []
    },
    {
      "cell_type": "code",
      "metadata": {
        "id": "nczfhLOklxn7",
        "colab_type": "code",
        "colab": {}
      },
      "source": [
        "# !wget https://live.staticflickr.com/2936/33549790582_48a514baed_b.jpg"
      ],
      "execution_count": 0,
      "outputs": []
    },
    {
      "cell_type": "code",
      "metadata": {
        "id": "p5DaOKxDkKcK",
        "colab_type": "code",
        "colab": {}
      },
      "source": [
        "# /content/installed_resp/piss-ant-pix2pix/33549790582_48a514baed_b.jpg\n",
        "# !python pix2pix.py --mode test --output_dir /content/installed_resp/piss-ant-pix2pix/'+H.pix_root+'_resize/test --input_dir /content/installed_resp/piss-ant-pix2pix --seed 0 --checkpoint /content/installed_resp/piss-ant-pix2pix/'+H.pix_root+'_resize/training_train\n"
      ],
      "execution_count": 0,
      "outputs": []
    },
    {
      "cell_type": "code",
      "metadata": {
        "id": "gNvU9s7djrZb",
        "colab_type": "code",
        "colab": {}
      },
      "source": [
        "# save the complete model\n",
        "# !python /content/installed_resp/piss-ant-pix2pix/server/tools/export-checkpoint.py --checkpoint /content/installed_resp/piss-ant-pix2pix/'+H.pix_root+'_resize/_combined/train --output_file /content/installed_resp/piss-ant-pix2pix/'+H.pix_root+'_resize/training_train/'+H.pix_root+'_BtoA_model_save.bin"
      ],
      "execution_count": 0,
      "outputs": []
    },
    {
      "cell_type": "code",
      "metadata": {
        "id": "NxYR6zLkqpIU",
        "colab_type": "code",
        "colab": {}
      },
      "source": [
        "\n",
        "# # store zip to drive\n",
        "# !zip /content/installed_resp/piss-ant-pix2pix/'+H.pix_root+'/* /content/installed_resp/piss-ant-pix2pix/'+H.pix_root+'_original_images.zip\n",
        "# !zip /content/installed_resp/piss-ant-pix2pix/'+H.pix_root+'_resize/_combined/* /content/installed_resp/piss-ant-pix2pix/'+H.pix_root+'_dataset.zip\n",
        "# !zip /content/installed_resp/piss-ant-pix2pix/'+H.pix_root+'_resize/training_train/'+H.pix_root+'_BtoA_model_save.bin /content/installed_resp/piss-ant-pix2pix/'+H.pix_root+'_model_bin.zip\n",
        "# !zip /content/installed_resp/piss-ant-pix2pix/'+H.pix_root+'_resize/training_train/* /content/installed_resp/piss-ant-pix2pix/'+H.pix_root+'.zip\n",
        "\n",
        "# %cd /content/drive/My\\ Drive/Colab\\ Notebooks/Best_Colabs\n",
        "# !cp /content/installed_resp/piss-ant-pix2pix/'+H.pix_root+'_original_images.zip '+H.pix_root+'_original_images.zip\n",
        "# !cp /content/installed_resp/piss-ant-pix2pix/'+H.pix_root+'_dataset.zip ./'+H.pix_root+'_dataset.zip\n",
        "# !cp /content/installed_resp/piss-ant-pix2pix/'+H.pix_root+'_model_bin.zip ./'+H.pix_root+'_model_bin.zip\n",
        "# !cp /content/installed_resp/piss-ant-pix2pix/'+H.pix_root+'.zip ./'+H.pix_root+'.zip"
      ],
      "execution_count": 0,
      "outputs": []
    },
    {
      "cell_type": "markdown",
      "metadata": {
        "id": "nvAeYpopjrvD",
        "colab_type": "text"
      },
      "source": [
        "## pretrained\n"
      ]
    }
  ]
}