{
  "nbformat": 4,
  "nbformat_minor": 0,
  "metadata": {
    "colab": {
      "name": "weekschema.ipynb",
      "version": "0.3.2",
      "provenance": [],
      "private_outputs": true,
      "collapsed_sections": [],
      "include_colab_link": true
    },
    "kernelspec": {
      "name": "python3",
      "display_name": "Python 3"
    }
  },
  "cells": [
    {
      "cell_type": "markdown",
      "metadata": {
        "id": "view-in-github",
        "colab_type": "text"
      },
      "source": [
        "<a href=\"https://colab.research.google.com/github/bxck75/A1_Colabs/blob/master/weekschema.ipynb\" target=\"_parent\"><img src=\"https://colab.research.google.com/assets/colab-badge.svg\" alt=\"Open In Colab\"/></a>"
      ]
    },
    {
      "cell_type": "markdown",
      "metadata": {
        "id": "bf8gRRHtqEBi",
        "colab_type": "text"
      },
      "source": [
        "# Eigen poging voor bewerkbaar weekschema\n",
        "\n",
        "* aanmaken basis layout van het schema in spreadsheet\n",
        "* ophalen huidige data\n",
        "* weergeven huidige data\n",
        "* bewerkend of invoeren nieuwe data\n",
        "* updaten data naar sheet\n",
        "* weergeven nieuwe data in sheet\n"
      ]
    },
    {
      "cell_type": "code",
      "metadata": {
        "id": "qaDOsIrLqhdK",
        "colab_type": "code",
        "cellView": "both",
        "colab": {}
      },
      "source": [
        "#@title import nodige libs\n",
        "!pip install --upgrade --quiet gspread\n",
        "from google.colab import auth\n",
        "import gspread as gc\n",
        "import random\n",
        "import pandas as pd\n",
        "from oauth2client.client import GoogleCredentials\n",
        "from IPython.display import clear_output, display\n",
        "import ipywidgets as widgets\n",
        "\n",
        "# Auth mijn account bij google\n",
        "auth.authenticate_user()"
      ],
      "execution_count": 0,
      "outputs": []
    },
    {
      "cell_type": "code",
      "metadata": {
        "id": "1Y2_GzOZ0GL_",
        "colab_type": "code",
        "cellView": "both",
        "colab": {}
      },
      "source": [
        "#@title helper voor functies\n",
        "# helper voor gspread functionaliteit\n",
        "need_help_on_module=gc\n",
        "# toon de methods voor de module\n",
        "pd.DataFrame.from_records([[a for a in dir(need_help_on_module) if '__' not in a]])"
      ],
      "execution_count": 0,
      "outputs": []
    },
    {
      "cell_type": "code",
      "metadata": {
        "id": "UlomYyOh9rVU",
        "colab_type": "code",
        "cellView": "both",
        "colab": {}
      },
      "source": [
        "#@title helper voor widgets\n",
        "# print(widgets.Widget.observe.__doc__)\n",
        "\n",
        "# a = widgets.IntSlider(description=\"Delayed\", continuous_update=False)\n",
        "# b = widgets.IntText(description=\"Delayed\", continuous_update=False)\n",
        "# c = widgets.IntSlider(description=\"Continuous\", continuous_update=True)\n",
        "# d = widgets.IntText(description=\"Continuous\", continuous_update=True)\n",
        "\n",
        "# widgets.link((a, 'value'), (b, 'value'))\n",
        "# widgets.link((a, 'value'), (c, 'value'))\n",
        "# widgets.link((a, 'value'), (d, 'value'))\n",
        "# widgets.VBox([a,b,c,d])"
      ],
      "execution_count": 0,
      "outputs": []
    },
    {
      "cell_type": "code",
      "metadata": {
        "id": "Etafkt55q8xZ",
        "colab_type": "code",
        "cellView": "form",
        "colab": {}
      },
      "source": [
        "#@title basis schema aanmaken in http://sheets.google.com\n",
        "naam_van_sheet='Weekschema'\n",
        "# maak de sheet aan in google sheets\n",
        "sh = gc.create(naam_van_sheet)\n",
        "clear_output()"
      ],
      "execution_count": 0,
      "outputs": []
    },
    {
      "cell_type": "code",
      "metadata": {
        "id": "TSm0HoNVs5Hg",
        "colab_type": "code",
        "cellView": "both",
        "colab": {}
      },
      "source": [
        "#@title basis layout\n",
        "# Basis layout van het schema maken\n",
        "worksheet = gc.open(naam_van_sheet).sheet1\n",
        "# lijst met dagen\n",
        "dagen=['Maandag','Dinsdag','Woensdag','Donderdag','Vrijdag','Zaterdag','Zondag']\n",
        "# Dagen cellen definieren\n",
        "cell_list = worksheet.range('A1:G1') # 7 cellen in de eerste rij\n",
        "# start van iterator over de dagen\n",
        "dag=0\n",
        "# set de dag in de value van de cells\n",
        "for cell in cell_list:\n",
        "    cell.value = dagen[dag]\n",
        "#     print(dagen[dag])\n",
        "    # 3 up de dagen iterator\n",
        "    dag += 1\n",
        "# update de sheet met aangepaste waardes\n",
        "worksheet.update_cells(cell_list)\n",
        "clear_output()"
      ],
      "execution_count": 0,
      "outputs": []
    },
    {
      "cell_type": "code",
      "metadata": {
        "colab_type": "code",
        "id": "bki9KYO5yFax",
        "cellView": "both",
        "colab": {}
      },
      "source": [
        "#@title taken in schema zetten\n",
        "# taken in het schema maken\n",
        "worksheet = gc.open(naam_van_sheet).sheet1\n",
        "# lijst met dagen\n",
        "taken_per_dag=['keuken doen','stofzuigen en afstoffen','slaapkamers opruimen','was verzamelen en wasmachine aanzetten','boodschappen voor het weekend','post verzamelen/openen en in ortners doen','vergeten zaken van de week']\n",
        "pd.DataFrame.from_records([dagen][taken])\n",
        "# Taken cellen definieren\n",
        "cell_list = worksheet.range('A2:G2') # 7 cellen in de eerste rij\n",
        "# start van iterator over de taken\n",
        "taak=0\n",
        "# set de taak in de cel onder de juiste dag\n",
        "for cell in cell_list:\n",
        "    cell.value = taken_per_dag[taak]\n",
        "    print(taken_per_dag[taak])\n",
        "    #  up de taken_per_dag iterator\n",
        "    taak += 1\n",
        "# update de sheet met aangepaste waardes\n",
        "worksheet.update_cells(cell_list)\n",
        "clear_output()"
      ],
      "execution_count": 0,
      "outputs": []
    },
    {
      "cell_type": "code",
      "metadata": {
        "id": "gc2cBL168Do4",
        "colab_type": "code",
        "cellView": "both",
        "colab": {}
      },
      "source": [
        "#@title taken invoeren\n",
        "#maak de knop\n",
        "button = widgets.Button(description=\"Click Me!\")\n",
        "# set de knop output naar widgets output\n",
        "output = widgets.Output()\n",
        "# toon de knop\n",
        "display(button, output)\n",
        "Definieer de \n",
        "def on_button_clicked(b):\n",
        "    with output:\n",
        "        print(\"Button clicked.\")\n",
        "\n",
        "button.on_click(on_button_clicked)"
      ],
      "execution_count": 0,
      "outputs": []
    },
    {
      "cell_type": "code",
      "metadata": {
        "id": "mZ1m55ayxM1J",
        "colab_type": "code",
        "colab": {}
      },
      "source": [
        "# get_all_values gives a list of rows.\n",
        "rows = worksheet.get_all_values()\n",
        "print(rows) # debug oprint de waardes\n",
        "# stop de data in een panda dataframe\n",
        "dataframe = pd.DataFrame.from_records(rows)\n",
        "dataframe"
      ],
      "execution_count": 0,
      "outputs": []
    },
    {
      "cell_type": "code",
      "metadata": {
        "id": "gsRpBk7CYF1q",
        "colab_type": "code",
        "colab": {}
      },
      "source": [
        "import ipywidgets as widgets\n",
        "from IPython.display import display\n",
        "\n",
        "\n",
        "huidige_maandag = \"hi\" #@param {type:\"string\"}\n",
        "huidige_dinsdag = \"\" #@param {type:\"string\"}\n",
        "huidige_woensdag = \"\" #@param {type:\"string\"}\n",
        "huidige_donderdag = \"\" #@param {type:\"string\"}\n",
        "huidige_vrijdag = \"\" #@param {type:\"string\"}\n",
        "huidige_zaterdag = \"\" #@param {type:\"string\"}\n",
        "huidige_zondag = \"\" #@param {type:\"string\"}\n",
        "\n",
        "class date_input():\n",
        "    def __init__(self, \n",
        "                    maandag = huidige_maandag ,\n",
        "                    dinsdag = huidige_dinsdag ,\n",
        "                    woensdag = huidige_woensdag ,\n",
        "                    donderdag = huidige_donderdag ,\n",
        "                    vrijdag = huidige_vrijdag ,\n",
        "                    zaterdag = huidige_zaterdag ,\n",
        "                    zondag = huidige_zondag \n",
        "                ):\n",
        "\n",
        "        self.maandag = widgets.Text(description = 'Maandag',value = maandag)\n",
        "        self.dinsdag = widgets.Text(description = 'Dinsdag',value = dinsdag)\n",
        "        self.woensdag = widgets.Text(description = 'Woensdag',value = woensdag)\n",
        "        self.donderdag = widgets.Text(description = 'Donderdag',value = donderdag)\n",
        "        self.vrijdag = widgets.Text(description = 'Vrijdag',value = vrijdag)\n",
        "        self.zaterdag = widgets.Text(description = 'Zaterdag',value = zaterdag)\n",
        "        self.zondag = widgets.Text(description = 'Zondag',value = zondag)        \n",
        "       \n",
        "        self.maandag.on_submit(self.handle_submit)\n",
        "        self.dinsdag.on_submit(self.handle_submit)\n",
        "        self.woensdag.on_submit(self.handle_submit)\n",
        "        self.donderdag.on_submit(self.handle_submit)\n",
        "        self.vrijdag.on_submit(self.handle_submit)\n",
        "        self.zaterdag.on_submit(self.handle_submit)        \n",
        "        self.zondag.on_submit(self.handle_submit)\n",
        "\n",
        "        display(self.maandag, self.dinsdag, self.woensdag, self.donderdag, self.vrijdag, self.zaterdag,self.zondag)\n",
        "\n",
        "    def handle_submit(self, text):\n",
        "        self.v = text.value\n",
        "        return self.v\n",
        "\n",
        "print(\"Voer de taken per dag in.\")\n",
        "f = date_input()"
      ],
      "execution_count": 0,
      "outputs": []
    },
    {
      "cell_type": "code",
      "metadata": {
        "id": "c7w2YmgYfCQc",
        "colab_type": "code",
        "colab": {}
      },
      "source": [
        "taken_lijst=[f.maandag.value,f.dinsdag.value,f.woensdag.value,f.donderdag.value,f.vrijdag.value,f.zaterdag.value,f.zondag.value]\n",
        "print(taken_lijst)\n",
        "# print(\"Date input captured: \" + \"/\".join([f.year.value, f.month.value, f.day.value]))"
      ],
      "execution_count": 0,
      "outputs": []
    },
    {
      "cell_type": "code",
      "metadata": {
        "id": "ea979Tus_Rlg",
        "colab_type": "code",
        "colab": {}
      },
      "source": [
        "#@title taak gedaan gedaan \n",
        "# gedaan status updaten in het schema\n",
        "worksheet = gc.open(naam_van_sheet).sheet1\n",
        "# lijst met dagen\n",
        "taken_per_dag = taken_lijst\n",
        "# taken_per_dag=['keuken doen','stofzuigen en afstoffen','slaapkamers opruimen','was verzamelen en wasmachine aanzetten','boodschappen voor het weekend','post verzamelen/openen en in ortners doen','vergeten zaken van de week']\n",
        "# Taken cellen definieren\n",
        "cell_list = worksheet.range('A3:G4') # 7 cellen in de eerste rij\n",
        "# start van iterator over de taken\n",
        "taak=0\n",
        "# set de taak in de cel onder de juiste dag\n",
        "for cell in cell_list:\n",
        "    cell.value = taken_per_dag[taak]\n",
        "    print(taken_per_dag[taak])\n",
        "    #  up de taken_per_dag iterator\n",
        "    taak += 1\n",
        "# update de sheet met aangepaste waardes\n",
        "worksheet.update_cells(cell_list)\n",
        "clear_output()"
      ],
      "execution_count": 0,
      "outputs": []
    }
  ]
}