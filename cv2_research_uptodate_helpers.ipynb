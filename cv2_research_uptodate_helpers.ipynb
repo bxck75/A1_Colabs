{
  "nbformat": 4,
  "nbformat_minor": 0,
  "metadata": {
    "colab": {
      "name": "cv2_research_uptodate_helpers.ipynb",
      "provenance": [],
      "private_outputs": true,
      "include_colab_link": true
    },
    "kernelspec": {
      "name": "python3",
      "display_name": "Python 3"
    }
  },
  "cells": [
    {
      "cell_type": "markdown",
      "metadata": {
        "id": "view-in-github",
        "colab_type": "text"
      },
      "source": [
        "<a href=\"https://colab.research.google.com/github/bxck75/A1_Colabs/blob/master/cv2_research_uptodate_helpers.ipynb\" target=\"_parent\"><img src=\"https://colab.research.google.com/assets/colab-badge.svg\" alt=\"Open In Colab\"/></a>"
      ]
    },
    {
      "cell_type": "code",
      "metadata": {
        "id": "yCPOI5cujDdD",
        "colab_type": "code",
        "colab": {}
      },
      "source": [
        "!wget https://gist.githubusercontent.com/bxck75/21a19bc89876ce0e419fdbf39979d133/raw/946f0c361a8ac107cb198b3293b5dea6fc17a53e/WootWoot.py"
      ],
      "execution_count": 0,
      "outputs": []
    },
    {
      "cell_type": "code",
      "metadata": {
        "id": "ev8cZaM2jNvY",
        "colab_type": "code",
        "colab": {}
      },
      "source": [
        "''' install 3dparty sheit '''\n",
        "from IPython.display import clear_output as cle\n",
        "from pprint import pprint as print\n",
        "from PIL import Image\n",
        "import os\n",
        "import sys\n",
        "import json\n",
        "import IPython\n",
        "\n",
        "''' default sample data delete '''\n",
        "os.system('rm -r sample_data')\n",
        "\n",
        "''' set root paths '''\n",
        "root = '/content'\n",
        "gdrive_root = '/content/drive/My Drive'\n",
        "helpers_root = root + '/installed_repos/Python_Helpers'\n",
        "\n",
        "''' setup install the Helpers module '''\n",
        "os.system('git clone https://github.com/bxck75/Python_Helpers.git ' + helpers_root) \n",
        "os.system('python ' + helpers_root + 'setup.py install')\n",
        "\n",
        "''' import helpers '''\n",
        "os.chdir(helpers_root)\n",
        "import main as main_core\n",
        "MainCore = main_core.main()\n",
        "HelpCore = MainCore.Helpers_Core\n",
        "FScrape = HelpCore.flickr_scrape\n",
        "Old_H = MainCore.Helpers_Core.H\n",
        "cle()"
      ],
      "execution_count": 0,
      "outputs": []
    },
    {
      "cell_type": "code",
      "metadata": {
        "id": "b0NkjKjC6MpU",
        "colab_type": "code",
        "colab": {}
      },
      "source": [
        "MainCore.HelpMe(['globx','/content/images','*.jpg'])\n",
        "cv2.imshow('image',img)\n",
        "cv2.waitKey(0)\n",
        "cv2.destroyAllWindows("
      ],
      "execution_count": 0,
      "outputs": []
    },
    {
      "cell_type": "code",
      "metadata": {
        "id": "Xkz8uwGcwUWi",
        "colab_type": "code",
        "colab": {}
      },
      "source": [
        "print(Old_H.Me(['vdir',MainCore]))\n",
        "print(Old_H.Me(['vdir',HelpCore]))\n",
        "print(Old_H.Me(['vdir',FScrape]))\n",
        "print(Old_H.Me(['vdir',Old_H]))\n",
        "print(help(HelpCore.list_to_file))\n",
        "\n",
        "# cle()"
      ],
      "execution_count": 0,
      "outputs": []
    },
    {
      "cell_type": "code",
      "metadata": {
        "id": "H5B6eQxWw0PE",
        "colab_type": "code",
        "colab": {}
      },
      "source": [
        "# MainCore.HelpMe('globx','content/images','*.*g*')\n",
        "image_folder_glob = MainCore.HelpMe(['globx','/content/images/','*.*g'])\n",
        "print(image_folder_glob)\n",
        "HelpCore.list_to_file(image_folder_glob,'image_list')"
      ],
      "execution_count": 0,
      "outputs": []
    },
    {
      "cell_type": "code",
      "metadata": {
        "id": "TJ7bC9ZrzTPl",
        "colab_type": "code",
        "colab": {}
      },
      "source": [
        "\n",
        "\n",
        "\n",
        "import ipywidgets as widget\n",
        "from ipywidgets import AppLayout, Button\n",
        "\n",
        "AppLayout(header = Button(desciption = \"Top\"),\n",
        "          footer = Button(description = \"Bottom\"))\n",
        "\n",
        "AppLayout(header=header,\n",
        "          left_sidebar=prev_button,\n",
        "          center=image,\n",
        "          right_sidebar=next_button,\n",
        "          footer=footer,\n",
        "          grid_gap='20px',\n",
        "          justify_items='center',\n",
        "          align_items='center')\n",
        "\n",
        "# create a 10x2 grid layout\n",
        "grid = GridspecLayout(10, 2)\n",
        "# fill it in with widgets\n",
        "grid[:, 0] = map\n",
        "grid[0, 1] = zoom_slider\n",
        "grid[1, 1] = basemap_selector\n",
        "grid[2:, 1] = fig\n",
        "# set the widget properties\n",
        "grid[:, 0].layout.height = 'auto'"
      ],
      "execution_count": 0,
      "outputs": []
    },
    {
      "cell_type": "code",
      "metadata": {
        "id": "eU0X-sg6thze",
        "colab_type": "code",
        "colab": {}
      },
      "source": [
        "# scrape images\n",
        "search_list, img_dir, qty = ['portait','face'], '/content/images', 10\n",
        "FScrape(search_list, qty, img_dir)\n"
      ],
      "execution_count": 0,
      "outputs": []
    },
    {
      "cell_type": "code",
      "metadata": {
        "id": "RmRnXHiBqYtF",
        "colab_type": "code",
        "colab": {}
      },
      "source": [
        "print(HelpMe(['vdir',IPython]))\n"
      ],
      "execution_count": 0,
      "outputs": []
    },
    {
      "cell_type": "code",
      "metadata": {
        "id": "Q58xG-IMmAKM",
        "colab_type": "code",
        "colab": {}
      },
      "source": [
        "# print(MainCore.HelpMe(['vdir',HelpCore.H]))\n",
        "# print(MainCore.HelpMe(['vdir',HelpCore.H.get_other_reps]))\n",
        "print(HelpCore.docu('Helpers','GoImgScrape'))\n",
        "dir(Helpers.GoImgScrape)\n",
        "# help(HelpCore.docu)\n",
        "# HelpCore.H.flickr_scr()\n",
        "# HelpCore.H.landmarkdetect(img)"
      ],
      "execution_count": 0,
      "outputs": []
    }
  ]
}