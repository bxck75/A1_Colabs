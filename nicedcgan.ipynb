{
  "nbformat": 4,
  "nbformat_minor": 0,
  "metadata": {
    "colab": {
      "private_outputs": true,
      "provenance": [],
      "gpuType": "T4",
      "mount_file_id": "124QkTp6NEeKMs3_D9WgV1G_FXPzd7kQz",
      "authorship_tag": "ABX9TyPnvuVXGAA8qGzFmK6x8Up1",
      "include_colab_link": true
    },
    "kernelspec": {
      "name": "python3",
      "display_name": "Python 3"
    },
    "language_info": {
      "name": "python"
    },
    "accelerator": "GPU",
    "gpuClass": "standard"
  },
  "cells": [
    {
      "cell_type": "markdown",
      "metadata": {
        "id": "view-in-github",
        "colab_type": "text"
      },
      "source": [
        "<a href=\"https://colab.research.google.com/github/bxck75/A1_Colabs/blob/master/nicedcgan.ipynb\" target=\"_parent\"><img src=\"https://colab.research.google.com/assets/colab-badge.svg\" alt=\"Open In Colab\"/></a>"
      ]
    },
    {
      "cell_type": "markdown",
      "source": [
        "##FirstGan"
      ],
      "metadata": {
        "id": "TLJ9M05A3QdP"
      }
    },
    {
      "cell_type": "code",
      "source": [
        "from google.colab import drive\n",
        "drive.mount('/content/drive')"
      ],
      "metadata": {
        "id": "UnZVHP1V56bt"
      },
      "execution_count": null,
      "outputs": []
    },
    {
      "cell_type": "code",
      "source": [
        "import os,sys,shutil\n",
        "def mdir(path):\n",
        "    state = False\n",
        "    if not os.path.exists(path):\n",
        "        os.makedirs(path)\n",
        "        state = True\n",
        "\n",
        "    return state\n",
        "\n",
        "# Python program to shutil.copy()\n",
        "def scp(source, destination):\n",
        "    state = False\n",
        "    try:\n",
        "        shutil.copy(source, destination)\n",
        "        print(\"File copied successfully.\")\n",
        "        state = True\n",
        "    # If source and destination are same\n",
        "    except shutil.SameFileError:\n",
        "        print(\"Source and destination represents the same file.\")\n",
        "    # If there is any permission issue\n",
        "    except PermissionError:\n",
        "        print(\"Permission denied.\")\n",
        "    # For other errors\n",
        "    except:\n",
        "        print(\"Error occurred while copying file.\")\n",
        "\n",
        "    return state\n"
      ],
      "metadata": {
        "id": "yptkV4HSBniS"
      },
      "execution_count": null,
      "outputs": []
    },
    {
      "cell_type": "code",
      "source": [
        "datasetname= 'garbage'\n",
        "images_drive_dir = '\"/content/drive/MyDrive/Colab Notebooks/datasets/garbage\"'\n",
        "mdir(datasetname)\n",
        "images_colab_dir = '/content/'+datasetname+'/input_images'\n",
        "\n",
        "if mdir(images_colab_dir):\n",
        "    print('copy files')\n",
        "\n",
        "!cp -rf {images_drive_dir} {images_colab_dir}\n",
        "#scp(images_drive_dir, images_colab_dir)\n",
        "\n",
        "#url = \"https://drive.google.com/uc?id=1O7m1010EJjLE5QxLZiM9Fpjs7Oj6e684\"\n",
        "#output = datasetname + \"/data.zip\"\n",
        "#gdown.download(url, output, quiet=True)\n",
        "\n",
        "#with ZipFile(\"/content/drive/MyDrive/garbagepailkids.zip\", \"r\") as zipobj:\n",
        "    #zipobj.extractall(datasetname)\n"
      ],
      "metadata": {
        "id": "SS7qqkF-3bk7"
      },
      "execution_count": null,
      "outputs": []
    },
    {
      "cell_type": "code",
      "source": [
        "image_folder = '/content/'+datasetname+'/input_images/'+ datasetname "
      ],
      "metadata": {
        "id": "4_nQfiUC6R-G"
      },
      "execution_count": null,
      "outputs": []
    },
    {
      "cell_type": "code",
      "execution_count": null,
      "metadata": {
        "id": "PsPrMpBb3OTA"
      },
      "outputs": [],
      "source": [
        "\n",
        "import tensorflow as tf\n",
        "from tensorflow import keras\n",
        "from tensorflow.keras import layers\n",
        "import numpy as np\n",
        "import matplotlib.pyplot as plt\n",
        "import os\n",
        "import gdown\n",
        "from zipfile import ZipFile"
      ]
    },
    {
      "cell_type": "code",
      "source": [
        "res = 128\n",
        "dataset = keras.utils.image_dataset_from_directory(\n",
        "    image_folder, label_mode=None, image_size=(res, res), batch_size=4\n",
        ")\n",
        "dataset = dataset.map(lambda x: x / 255.0)\n",
        "for x in dataset:\n",
        "    plt.axis(\"off\")\n",
        "    plt.imshow((x.numpy() * 127).astype(\"int32\")[0])\n",
        "    break\n",
        "\n",
        "latent_dim = 128"
      ],
      "metadata": {
        "id": "-FaGix563fGI"
      },
      "execution_count": null,
      "outputs": []
    },
    {
      "cell_type": "code",
      "source": [
        "discriminator = keras.Sequential(\n",
        "    [\n",
        "        keras.Input(shape=(64, 64, 3)),\n",
        "        layers.Conv2D(64, kernel_size=4, strides=2, padding=\"same\"),\n",
        "        layers.LeakyReLU(alpha=0.2),\n",
        "        layers.Conv2D(128, kernel_size=4, strides=2, padding=\"same\"),\n",
        "        layers.LeakyReLU(alpha=0.2),\n",
        "        layers.Conv2D(256, kernel_size=4, strides=2, padding=\"same\"),\n",
        "        layers.LeakyReLU(alpha=0.2),\n",
        "        layers.Flatten(),\n",
        "        layers.Dropout(0.2),\n",
        "        layers.Dense(1, activation=\"sigmoid\"),\n",
        "    ],\n",
        "    name=\"discriminator\",\n",
        ")\n",
        "\n",
        "discriminator.summary()\n"
      ],
      "metadata": {
        "id": "DlNLZw1t3kt6"
      },
      "execution_count": null,
      "outputs": []
    },
    {
      "cell_type": "code",
      "source": [
        "generator = keras.Sequential(\n",
        "    [\n",
        "        keras.Input(shape=(latent_dim,)),\n",
        "        layers.Dense(8 * 8 * 128),\n",
        "        layers.Reshape((8, 8, 128)),\n",
        "        layers.Conv2DTranspose(64, kernel_size=4, strides=2, padding=\"same\"),\n",
        "        layers.LeakyReLU(alpha=0.2),\n",
        "        layers.Conv2DTranspose(128, kernel_size=4, strides=2, padding=\"same\"),\n",
        "        layers.LeakyReLU(alpha=0.2),\n",
        "        layers.Conv2DTranspose(256, kernel_size=4, strides=2, padding=\"same\"),\n",
        "        layers.LeakyReLU(alpha=0.2),\n",
        "#        layers.Conv2DTranspose(512, kernel_size=4, strides=2, padding=\"same\"),\n",
        "#        layers.LeakyReLU(alpha=0.2),\n",
        "        layers.Conv2D(3, kernel_size=5, padding=\"same\", activation=\"sigmoid\"),\n",
        "    ],\n",
        "    name=\"generator\",\n",
        ")\n",
        "\n",
        "generator.summary()\n"
      ],
      "metadata": {
        "id": "W-QZSjCP3oW3"
      },
      "execution_count": null,
      "outputs": []
    },
    {
      "cell_type": "code",
      "source": [
        "generator.save(\"/content/garbage/output_model/Generator_{res}.h5\")\n",
        "discriminator.save(\"/content/garbage/output_model/Discriminator_{res}.h5\")"
      ],
      "metadata": {
        "id": "bAhkc5tgt2ry"
      },
      "execution_count": null,
      "outputs": []
    },
    {
      "cell_type": "code",
      "source": [
        "class GAN(keras.Model):\n",
        "    def __init__(self, discriminator, generator, latent_dim):\n",
        "        super().__init__()\n",
        "        self.discriminator = discriminator\n",
        "        self.generator = generator\n",
        "        self.latent_dim = latent_dim\n",
        "        self.generator.save(\"/content/garbage/output_model/Generator_{res}.h5\")\n",
        "        self.discriminator.save(\"/content/garbage/output_model/Discriminator_{res}.h5\")\n",
        "\n",
        "    def compile(self, d_optimizer, g_optimizer, loss_fn):\n",
        "        super().compile()\n",
        "        self.d_optimizer = d_optimizer\n",
        "        self.g_optimizer = g_optimizer\n",
        "        self.loss_fn = loss_fn\n",
        "        self.d_loss_metric = keras.metrics.Mean(name=\"d_loss\")\n",
        "        self.g_loss_metric = keras.metrics.Mean(name=\"g_loss\")\n",
        "\n",
        "    @property\n",
        "    def metrics(self):\n",
        "        return [self.d_loss_metric, self.g_loss_metric]\n",
        "\n",
        "    def train_step(self, real_images):\n",
        "        # Sample random points in the latent space\n",
        "        batch_size = tf.shape(real_images)[0]\n",
        "        random_latent_vectors = tf.random.normal(shape=(batch_size, self.latent_dim))\n",
        "\n",
        "        # Decode them to fake images\n",
        "        generated_images = self.generator(random_latent_vectors)\n",
        "\n",
        "        # Combine them with real images\n",
        "        combined_images = tf.concat([generated_images, real_images], axis=0)\n",
        "\n",
        "        # Assemble labels discriminating real from fake images\n",
        "        labels = tf.concat(\n",
        "            [tf.ones((batch_size, 1)), tf.zeros((batch_size, 1))], axis=0\n",
        "        )\n",
        "        # Add random noise to the labels - important trick!\n",
        "        labels += 0.05 * tf.random.uniform(tf.shape(labels))\n",
        "\n",
        "        # Train the discriminator\n",
        "        with tf.GradientTape() as tape:\n",
        "            predictions = self.discriminator(combined_images)\n",
        "            d_loss = self.loss_fn(labels, predictions)\n",
        "        grads = tape.gradient(d_loss, self.discriminator.trainable_weights)\n",
        "        self.d_optimizer.apply_gradients(\n",
        "            zip(grads, self.discriminator.trainable_weights)\n",
        "        )\n",
        "\n",
        "        # Sample random points in the latent space\n",
        "        random_latent_vectors = tf.random.normal(shape=(batch_size, self.latent_dim))\n",
        "\n",
        "        # Assemble labels that say \"all real images\"\n",
        "        misleading_labels = tf.zeros((batch_size, 1))\n",
        "\n",
        "        # Train the generator (note that we should *not* update the weights\n",
        "        # of the discriminator)!\n",
        "        with tf.GradientTape() as tape:\n",
        "            predictions = self.discriminator(self.generator(random_latent_vectors))\n",
        "            g_loss = self.loss_fn(misleading_labels, predictions)\n",
        "        grads = tape.gradient(g_loss, self.generator.trainable_weights)\n",
        "        self.g_optimizer.apply_gradients(zip(grads, self.generator.trainable_weights))\n",
        "\n",
        "        # Update metrics\n",
        "        self.d_loss_metric.update_state(d_loss)\n",
        "        self.g_loss_metric.update_state(g_loss)\n",
        "        return {\n",
        "            \"d_loss\": self.d_loss_metric.result(),\n",
        "            \"g_loss\": self.g_loss_metric.result(),\n",
        "        }\n",
        "\n"
      ],
      "metadata": {
        "id": "Uo4evQ6-348Y"
      },
      "execution_count": null,
      "outputs": []
    },
    {
      "cell_type": "code",
      "source": [
        "class GANMonitor(keras.callbacks.Callback):\n",
        "    def __init__(self, num_img=10, latent_dim=128):\n",
        "        self.num_img = num_img\n",
        "        self.latent_dim = latent_dim\n",
        "    \n",
        "    def on_epoch_begin(self,epoch, logs=None):\n",
        "\n",
        "\n",
        "\n",
        "    def check_retrain_state(self,weightfile):\n",
        "        if os.path.exists(weightfile):\n",
        "            return True\n",
        "        else:\n",
        "            return False\n",
        "\n",
        "    def on_epoch_end(self, epoch, logs=None):\n",
        "        random_latent_vectors = tf.random.normal(shape=(self.num_img, self.latent_dim))\n",
        "        generated_images = self.model.generator(random_latent_vectors)\n",
        "        generated_images *= 255\n",
        "        generated_images.numpy()\n",
        "        for i in range(self.num_img):\n",
        "            img = keras.utils.array_to_img(generated_images[i])\n",
        "            img.save(\"/content/garbage/out_images/generated_img_%03d_%d.png\" % (epoch, i))\n",
        "            \n",
        "        #s#elf.model.generator.save_weights('/content/gen_Weights_{epoch:02d}.h5')\n",
        "        #print(\"gen weights saved\")\n",
        "        #self.model.discriminator.save_weights('/content/dis_Weights_{epoch:02d}.h5')\n",
        "        #print(\"dis weights saved\")\n",
        "\n"
      ],
      "metadata": {
        "id": "xzUzmdtF38dx"
      },
      "execution_count": null,
      "outputs": []
    },
    {
      "cell_type": "code",
      "source": [],
      "metadata": {
        "id": "4TVCXvfS-AwQ"
      },
      "execution_count": null,
      "outputs": []
    },
    {
      "cell_type": "code",
      "source": [
        "cycles = 2\n",
        "for cycle in range(0,cycles):\n",
        "\n",
        "    my_callbacks = [GANMonitor(num_img=10, latent_dim=latent_dim),]\n",
        "\n",
        "    epochs = 3    # In practice, use ~100 epochs\n",
        "    gan = GAN(discriminator=discriminator, generator=generator, latent_dim=latent_dim)\n",
        "\n",
        "    if os.path.exists('/content/garbage/output_model/gen_Weights'+str(cycle)+'.h5'):\n",
        "        gan.generator.load_weights('/content/garbage/output_model/gen_Weights'+str(cycle)+'.h5')\n",
        "        print('gen loaded')\n",
        "    if os.path.exists('/content/garbage/output_model/dis_Weights'+str(cycle)+'.h5'):\n",
        "        gan.discriminator.load_weights('/content/garbage/output_model/dis_Weights'+str(cycle)+'.h5')\n",
        "        print('dis loaded')\n",
        "\n",
        "    gan.compile(\n",
        "        d_optimizer=keras.optimizers.Adam(learning_rate=0.0001),\n",
        "        g_optimizer=keras.optimizers.Adam(learning_rate=0.0003),\n",
        "        loss_fn=keras.losses.BinaryCrossentropy(),\n",
        "    )\n",
        "\n",
        "    gan.fit(\n",
        "        dataset, epochs=epochs, callbacks=my_callbacks\n",
        "    )\n",
        "\n",
        "    gan.generator.save_weights('/content/garbage/output_model/gen_Weights'+str(cycle)+'.h5')\n",
        "    gan.discriminator.save_weights('/content/garbage/output_model/dis_Weights'+str(cycle)+'.h5')\n",
        "        \n",
        "\n",
        "\n",
        "# Finalize the model in \\x_model folder,\n",
        "# in saveModel format: \n"
      ],
      "metadata": {
        "id": "nL9rQYqZ4BVH"
      },
      "execution_count": null,
      "outputs": []
    },
    {
      "cell_type": "markdown",
      "source": [
        "##KerasClassify"
      ],
      "metadata": {
        "id": "wHzS2k3Z2V9U"
      }
    },
    {
      "cell_type": "code",
      "source": [
        "from keras.preprocessing.image import ImageDataGenerator\n",
        "from keras.models import Sequential\n",
        "from keras.layers import Conv2D, MaxPooling2D\n",
        "from keras.layers import Activation, Dropout, Flatten, Dense\n",
        "from keras import backend as K\n",
        "\n",
        "\n",
        "# dimensions of our images.\n",
        "img_width, img_height = 320, 240\n",
        "\n",
        "train_data_dir = '/content/garbage/input_images/garbage'\n",
        "validation_data_dir = '/content/garbage/input_images/garbage/llery_2k13mini'\n",
        "nb_train_samples = 3000  #total\n",
        "nb_validation_samples = 10  # total\n",
        "epochs = 16\n",
        "batch_size = 10\n",
        "\n",
        "if K.image_data_format() == 'channels_first':\n",
        "    input_shape = (3, img_width, img_height)\n",
        "else:\n",
        "    input_shape = (img_width, img_height, 3)\n",
        "\n",
        "model = Sequential()\n",
        "model.add(Conv2D(32, (3, 3), input_shape=input_shape))\n",
        "model.add(Activation('relu'))\n",
        "model.add(MaxPooling2D(pool_size=(2, 2)))\n",
        "\n",
        "model.add(Conv2D(32, (3, 3)))\n",
        "model.add(Activation('relu'))\n",
        "model.add(MaxPooling2D(pool_size=(2, 2)))\n",
        "\n",
        "model.add(Conv2D(64, (3, 3)))\n",
        "model.add(Activation('relu'))\n",
        "model.add(MaxPooling2D(pool_size=(2, 2)))\n",
        "\n",
        "model.add(Flatten())\n",
        "model.add(Dense(64))\n",
        "model.add(Activation('relu'))\n",
        "model.add(Dropout(0.5))\n",
        "model.add(Dense(1))\n",
        "model.add(Activation('sigmoid'))\n",
        "\n",
        "model.compile(loss='binary_crossentropy',\n",
        "              optimizer='rmsprop',\n",
        "              metrics=['accuracy'])\n",
        "\n",
        "# this is the augmentation configuration we will use for training\n",
        "train_datagen = ImageDataGenerator(\n",
        "    rescale=1. / 255,\n",
        "    shear_range=0.2,\n",
        "    zoom_range=0.2,\n",
        "    horizontal_flip=True)\n",
        "\n",
        "# this is the augmentation configuration we will use for testing:\n",
        "# only rescaling\n",
        "test_datagen = ImageDataGenerator(rescale=1. / 255)\n",
        "\n",
        "train_generator = train_datagen.flow_from_directory(\n",
        "    train_data_dir,\n",
        "    target_size=(img_width, img_height),\n",
        "    batch_size=batch_size,\n",
        "    class_mode='binary')\n",
        "\n",
        "validation_generator = test_datagen.flow_from_directory(\n",
        "    validation_data_dir,\n",
        "    target_size=(img_width, img_height),\n",
        "    batch_size=batch_size,\n",
        "    class_mode='binary')\n",
        "\n",
        "model.fit_generator(\n",
        "    train_generator,\n",
        "    steps_per_epoch=nb_train_samples // batch_size,\n",
        "    epochs=epochs,\n",
        "    validation_data=validation_generator,\n",
        "    validation_steps=5)\n",
        "\n",
        "model.save('model.h5')"
      ],
      "metadata": {
        "id": "3q1IkFH-4Ex5"
      },
      "execution_count": null,
      "outputs": []
    },
    {
      "cell_type": "code",
      "source": [
        "from keras.models import load_model\n",
        "import cv2\n",
        "import numpy as np\n",
        "\n",
        "model = load_model('model.h5')\n",
        "\n",
        "model.compile(loss='binary_crossentropy',\n",
        "              optimizer='rmsprop',\n",
        "              metrics=['accuracy'])\n",
        "\n",
        "img = cv2.imread('/content/drive/MyDrive/Colab Notebooks/datasets/garbage/llery_2k13mini/13mini_195a.jpg')\n",
        "img = cv2.resize(img,(320,240))\n",
        "img = np.reshape(img,[1,320,240,3])\n",
        "\n",
        "classes = model.predict(img)\n",
        "\n",
        "print(classes)"
      ],
      "metadata": {
        "id": "ywEnOj9w1m84"
      },
      "execution_count": null,
      "outputs": []
    },
    {
      "cell_type": "code",
      "source": [
        "def get_model():\n",
        "    # Create a simple model.\n",
        "    inputs = keras.Input(shape=(32,))\n",
        "    outputs = keras.layers.Dense(1)(inputs)\n",
        "    model = keras.Model(inputs, outputs)\n",
        "    model.compile(optimizer=\"adam\", loss=\"mean_squared_error\")\n",
        "    return model\n",
        "\n",
        "\n",
        "model = get_model()\n",
        "\n",
        "# Train the model.\n",
        "test_input = np.random.random((128, 32))\n",
        "test_target = np.random.random((128, 1))\n",
        "model.fit(test_input, test_target)\n",
        "\n",
        "# Calling `save('my_model')` creates a SavedModel folder `my_model`.\n",
        "model.save(\"my_model\")\n",
        "\n",
        "# It can be used to reconstruct the model identically.\n",
        "reconstructed_model = keras.models.load_model(\"my_model\")\n",
        "\n",
        "# Let's check:\n",
        "np.testing.assert_allclose(\n",
        "    model.predict(test_input), reconstructed_model.predict(test_input)\n",
        ")\n",
        "\n",
        "# The reconstructed model is already compiled and has retained the optimizer\n",
        "# state, so training can resume:\n",
        "reconstructed_model.fit(test_input, test_target)\n"
      ],
      "metadata": {
        "id": "qF2Ua2OWbx3R"
      },
      "execution_count": null,
      "outputs": []
    },
    {
      "cell_type": "code",
      "source": [
        "!rm -r /content/garbage/output_model/gen_Weights*"
      ],
      "metadata": {
        "id": "Y0N8aaVsynvU"
      },
      "execution_count": null,
      "outputs": []
    }
  ]
}