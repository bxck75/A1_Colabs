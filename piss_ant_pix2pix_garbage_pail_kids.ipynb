{
  "nbformat": 4,
  "nbformat_minor": 0,
  "metadata": {
    "colab": {
      "name": "piss_ant_pix2pix_garbage_pail_kids.ipynb",
      "version": "0.3.2",
      "provenance": [],
      "private_outputs": true,
      "collapsed_sections": [],
      "include_colab_link": true
    },
    "kernelspec": {
      "name": "python3",
      "display_name": "Python 3"
    },
    "accelerator": "GPU"
  },
  "cells": [
    {
      "cell_type": "markdown",
      "metadata": {
        "id": "view-in-github",
        "colab_type": "text"
      },
      "source": [
        "<a href=\"https://colab.research.google.com/github/bxck75/A1_Colabs/blob/master/piss_ant_pix2pix_garbage_pail_kids.ipynb\" target=\"_parent\"><img src=\"https://colab.research.google.com/assets/colab-badge.svg\" alt=\"Open In Colab\"/></a>"
      ]
    },
    {
      "cell_type": "markdown",
      "metadata": {
        "id": "OqkQbLLV5jNZ",
        "colab_type": "text"
      },
      "source": [
        "[tf_gan_tpus](https://github.com/bxck75/gan/blob/master/tensorflow_gan/examples/colab_notebooks/tfgan_on_tpus.ipynb)\n",
        "\n",
        "[tf_gan](https://github.com/bxck75/gan/blob/master/tensorflow_gan/examples/colab_notebooks/tfgan_tutorial.ipynb)"
      ]
    },
    {
      "cell_type": "code",
      "metadata": {
        "id": "rRqbekgSPIVi",
        "colab_type": "code",
        "colab": {}
      },
      "source": [
        "!rm -r /content/sample_data\n",
        "\n",
        "#imports\n",
        "import os,sys\n",
        "import fnmatch\n",
        "from IPython.display import display, clear_output\n",
        "# list of reps to install\n",
        "\n",
        "reps=[\n",
        "#         'EIGENREPS',\n",
        "        'bxck75/piss-ant-pix2pix',\n",
        "#         'bxck75/datasets',\n",
        "#         'EIGENREPS',\n",
        "#         'tjwei/Flappy-Turtle.',\n",
        "#         'tjwei/fonttools',\n",
        "#         'tjwei/blender3d_import_psk_psa',\n",
        "#         'lllyasviel/sketchKeras',\n",
        "#         'Mckinsey666/Anime-Face-Dataset',\n",
        "#         'chenyuntc/pytorch-book',\n",
        "#         'lllyasviel/style2paints',\n",
        "#         'llSourcell/GANS-for-style-transfer',\n",
        "#         'opencv/open_model_zoo',\n",
        "#         'hindupuravinash/the-gan-zoo',\n",
        "#         'corenel/GAN-Zoo',\n",
        "#         'eriklindernoren/Keras-GAN',\n",
        "#         'junyanz/CycleGAN',\n",
        "#         'junyanz/pytorch-CycleGAN-and-pix2pix',\n",
        "#         'junyanz/iGAN', #----> !wget http://efrosgans.eecs.berkeley.edu/iGAN/datasets/church_64.zip <----dataset \toutdoor_128.zip \thandbag_128.zip !!!\n",
        "#         'martinarjovsky/WassersteinGAN',\n",
        "#         'shaoanlu/faceswap-GAN',\n",
        "#         'LantaoYu/SeqGAN',\n",
        "#         'tjwei/GANotebooks',\n",
        "#         'adeshpande3/Tensorflow-Programs-and-Tutorials',\n",
        "#         'adeshpande3/Generative-Adversarial-Networks',\n",
        "#         'diegoalejogm/gans',\n",
        "#         'osh/KerasGAN',\n",
        "#         'tensorflow/gan',\n",
        "#         'r9y9/gantts',\n",
        "#         'jayleicn/animeGAN',\n",
        "#         'jayleicn/ImageNet-Training',\n",
        "#         'Zardinality/WGAN-tensorflow',\n",
        "#         'timsainb/Tensorflow-MultiGPU-VAE-GAN',\n",
        "#         'Larox/python-moviepy-meetup',\n",
        "#         'tjwei/keras-yolo3',\n",
        "        'tensorflow/moonlight'\n",
        "#         'tensorflow/models',\n",
        "#         'tensorflow/datasets',\n",
        "]\n",
        "print(reps.sort())\n",
        "\n",
        "# Gitgo class\n",
        "class GitGo():\n",
        "    \n",
        "  def __init__(self,rep,chdir=True,path='/content/'):\n",
        "    self.rep = rep\n",
        "    self.chdir = chdir\n",
        "    self.path = path\n",
        "    !mkdir -p {self.path}\n",
        "    if self.rep == 'help':\n",
        "        self.help()\n",
        "    self.go() \n",
        "      \n",
        "  def help(self):\n",
        "    print(\"* pulls git rep and shows files \\\n",
        "            * returns root path for the repository \\\n",
        "            * Function needs repository <user>/<repository name> combination\\\n",
        "            * Switch chdir and define the rootpath for the repository\\\n",
        "            * Use : GitGo('<rep owner>/<rep name>', <True/False>, <root path>)\\\n",
        "          \")\n",
        "    sys.exit()\n",
        "    \n",
        "  def go(self):\n",
        "    self.rep=self.rep.split('/')\n",
        "    # change folder check\n",
        "    if self.chdir ==True:\n",
        "        #Switch to path\n",
        "        os.chdir(self.path)\n",
        "    # pull get the git rep\n",
        "    os.system('git clone https://github.com/'+self.rep[0]+'/'+self.rep[1]+'.git')\n",
        "    # Set the return value for rep rootpath\n",
        "    self.PATH=self.path+self.rep[1]\n",
        "    # show imported files\n",
        "    os.system('ls ' + self.PATH)\n",
        "\n",
        "  def __repr__(self):\n",
        "    return self.PATH\n",
        "\n",
        "\n",
        "def get_other_reps(reps):\n",
        "    GitUsers=[]\n",
        "    for u in reps:    \n",
        "        username=u.split('/')[0]\n",
        "        GitUsers.append(username)\n",
        "        GHUSER=username\n",
        "        !curl 'https://api.github.com/users/{GHUSER}/repos?per_page=100' | grep -o 'git@[^\"]*' \n",
        "\n",
        "    return list(set(GitUsers))\n",
        "\n",
        "def recursive_glob(treeroot, pattern):\n",
        "    results = []\n",
        "    for base, dirs, files in os.walk(treeroot):\n",
        "        goodfiles = fnmatch.filter(files, pattern)\n",
        "        results.extend(os.path.join(base, f) for f in goodfiles)\n",
        "    return results\n",
        "\n",
        "mylist = []\n",
        "# install all reps in the list\n",
        "for rep in reps:\n",
        "    name=rep.split('.')[0]\n",
        "    print(name)\n",
        "    G=GitGo(name,path='/content/installed_resp')\n",
        "    R=get_other_reps([name])\n",
        "#     print(R)\n",
        "    mylist.append([R[0],name])\n",
        "    \n",
        "# mylist = get_other_reps(reps)\n",
        "print(mylist)\n",
        "\n",
        "recursive_glob('/content/','requirements*.txt')\n",
        "clear_output()"
      ],
      "execution_count": 0,
      "outputs": []
    },
    {
      "cell_type": "code",
      "metadata": {
        "id": "rly433VrN31O",
        "colab_type": "code",
        "colab": {}
      },
      "source": [
        "%cd piss-ant-pix2pix"
      ],
      "execution_count": 0,
      "outputs": []
    },
    {
      "cell_type": "markdown",
      "metadata": {
        "id": "TELmRbBrfqFV",
        "colab_type": "text"
      },
      "source": [
        "##Get images and make the dataset"
      ]
    },
    {
      "cell_type": "code",
      "metadata": {
        "id": "5V-nlYwkO0RK",
        "colab_type": "code",
        "colab": {}
      },
      "source": [
        "# get pailkids images\n",
        "from google.colab import drive\n",
        "drive.mount('/content/drive')\n",
        "!cp /content/drive/My\\ Drive/Colab\\ Notebooks/garbagepailkids.zip /content/installed_resp/piss-ant-pix2pix/\n",
        "!unzip /content/installed_resp/piss-ant-pix2pix/garbagepailkids.zip\n",
        "clear_output()"
      ],
      "execution_count": 0,
      "outputs": []
    },
    {
      "cell_type": "code",
      "metadata": {
        "id": "h0bwwro_buia",
        "colab_type": "code",
        "colab": {}
      },
      "source": [
        "!sudo rm -r /content/installed_resp/piss-ant-pix2pix/p2p_process_tmp\n"
      ],
      "execution_count": 0,
      "outputs": []
    },
    {
      "cell_type": "code",
      "metadata": {
        "id": "5IqKiRqsb3fS",
        "colab_type": "code",
        "colab": {}
      },
      "source": [
        "!python tools/process.py --input_dir /content/installed_resp/piss-ant-pix2pix/garbagepailkids --operation resize --output_dir /content/installed_resp/piss-ant-pix2pix/p2p_process_tmp/_resized\n",
        "clear_output()"
      ],
      "execution_count": 0,
      "outputs": []
    },
    {
      "cell_type": "code",
      "metadata": {
        "id": "E4oK_E_4b5n5",
        "colab_type": "code",
        "colab": {}
      },
      "source": [
        "!sudo mkdir -p /content/installed_resp/piss-ant-pix2pix/p2p_process_tmp/_blank\n"
      ],
      "execution_count": 0,
      "outputs": []
    },
    {
      "cell_type": "code",
      "metadata": {
        "id": "M1brNoL1b8Nz",
        "colab_type": "code",
        "colab": {}
      },
      "source": [
        "!python tools/process.py --input_dir /content/installed_resp/piss-ant-pix2pix/p2p_process_tmp/_resized --operation blank --output_dir /content/installed_resp/piss-ant-pix2pix/p2p_process_tmp/_blank\n",
        "clear_output()"
      ],
      "execution_count": 0,
      "outputs": []
    },
    {
      "cell_type": "code",
      "metadata": {
        "id": "8_xZK9IvcBYy",
        "colab_type": "code",
        "colab": {}
      },
      "source": [
        "!ls /content/installed_resp/piss-ant-pix2pix/p2p_process_tmp/_blank\n"
      ],
      "execution_count": 0,
      "outputs": []
    },
    {
      "cell_type": "code",
      "metadata": {
        "id": "0jVt1LVIcHpS",
        "colab_type": "code",
        "colab": {}
      },
      "source": [
        "!mkdir -p /content/installed_resp/piss-ant-pix2pix/p2p_process_tmp/_resized/_combined\n"
      ],
      "execution_count": 0,
      "outputs": []
    },
    {
      "cell_type": "code",
      "metadata": {
        "id": "hU4ytgp0cDoa",
        "colab_type": "code",
        "colab": {}
      },
      "source": [
        "!python tools/process.py --input_dir /content/installed_resp/piss-ant-pix2pix/p2p_process_tmp/_resized --b_dir /content/installed_resp/piss-ant-pix2pix/p2p_process_tmp/_blank --operation combine --output_dir /content/installed_resp/piss-ant-pix2pix/p2p_process_tmp/_resized/_combined\n",
        "clear_output()"
      ],
      "execution_count": 0,
      "outputs": []
    },
    {
      "cell_type": "code",
      "metadata": {
        "id": "ojmZi-mtcFRB",
        "colab_type": "code",
        "colab": {}
      },
      "source": [
        "!python tools/split.py --dir /content/installed_resp/piss-ant-pix2pix/p2p_process_tmp/_resized/_combined\n",
        "clear_output()"
      ],
      "execution_count": 0,
      "outputs": []
    },
    {
      "cell_type": "code",
      "metadata": {
        "id": "fowZTIhXcJtr",
        "colab_type": "code",
        "colab": {}
      },
      "source": [
        "!sudo mkdir -p /content/installed_resp/piss-ant-pix2pix/garbagepailkids_resize\n"
      ],
      "execution_count": 0,
      "outputs": []
    },
    {
      "cell_type": "code",
      "metadata": {
        "id": "BwdQevOOcLc0",
        "colab_type": "code",
        "colab": {}
      },
      "source": [
        "!cp -rf /content/installed_resp/piss-ant-pix2pix/p2p_process_tmp/_resized/_combined/ /content/installed_resp/piss-ant-pix2pix/garbagepailkids_resize/\n",
        "clear_output()"
      ],
      "execution_count": 0,
      "outputs": []
    },
    {
      "cell_type": "code",
      "metadata": {
        "id": "pPhGPwokfHgO",
        "colab_type": "code",
        "colab": {}
      },
      "source": [
        "!rm -r /content/installed_resp/piss-ant-pix2pix/p2p_process_tmp"
      ],
      "execution_count": 0,
      "outputs": []
    },
    {
      "cell_type": "code",
      "metadata": {
        "id": "edHmUBDcgQsq",
        "colab_type": "code",
        "colab": {}
      },
      "source": [
        "# TRAIN!!!!!\n",
        "output_folder='/content/installed_resp/piss-ant-pix2pix/garbagepailkids_resize/training'\n",
        "input_folder = '/content/installed_resp/piss-ant-pix2pix/garbagepailkids_resize/_combined/train'\n",
        "training_epochs=10\n",
        "!python pix2pix.py --mode train --output_dir {output_folder}_train --max_epochs {training_epochs} --input_dir {input_folder} --which_direction BtoA"
      ],
      "execution_count": 0,
      "outputs": []
    },
    {
      "cell_type": "code",
      "metadata": {
        "id": "qFIvyJXLf6uz",
        "colab_type": "code",
        "colab": {}
      },
      "source": [
        "# checkpoints\n",
        "!ls -l /content/installed_resp/piss-ant-pix2pix/garbagepailkids_resize/training_train"
      ],
      "execution_count": 0,
      "outputs": []
    },
    {
      "cell_type": "code",
      "metadata": {
        "id": "nczfhLOklxn7",
        "colab_type": "code",
        "colab": {}
      },
      "source": [
        "!wget https://live.staticflickr.com/2936/33549790582_48a514baed_b.jpg"
      ],
      "execution_count": 0,
      "outputs": []
    },
    {
      "cell_type": "code",
      "metadata": {
        "id": "p5DaOKxDkKcK",
        "colab_type": "code",
        "colab": {}
      },
      "source": [
        "# /content/installed_resp/piss-ant-pix2pix/33549790582_48a514baed_b.jpg\n",
        "!python pix2pix.py --mode test --output_dir /content/installed_resp/piss-ant-pix2pix/garbagepailkids_resize/test --input_dir /content/installed_resp/piss-ant-pix2pix --seed 0 --checkpoint /content/installed_resp/piss-ant-pix2pix/garbagepailkids_resize/training_train\n"
      ],
      "execution_count": 0,
      "outputs": []
    },
    {
      "cell_type": "code",
      "metadata": {
        "id": "gNvU9s7djrZb",
        "colab_type": "code",
        "colab": {}
      },
      "source": [
        "# save the complete model\n",
        "!python /content/installed_resp/piss-ant-pix2pix/server/tools/export-checkpoint.py --checkpoint /content/installed_resp/piss-ant-pix2pix/garbagepailkids_resize/_combined/train --output_file /content/installed_resp/piss-ant-pix2pix/garbagepailkids_resize/training_train/garbagepailkids_BtoA_model_save.bin"
      ],
      "execution_count": 0,
      "outputs": []
    },
    {
      "cell_type": "code",
      "metadata": {
        "id": "NxYR6zLkqpIU",
        "colab_type": "code",
        "colab": {}
      },
      "source": [
        "# store zip to drive\n",
        "!zip /content/installed_resp/piss-ant-pix2pix/garbagepailkids/* /content/installed_resp/piss-ant-pix2pix/garbagepailkids_original_images.zip\n",
        "!zip /content/installed_resp/piss-ant-pix2pix/garbagepailkids_resize/_combined/* /content/installed_resp/piss-ant-pix2pix/garbagepailkids_dataset.zip\n",
        "!zip /content/installed_resp/piss-ant-pix2pix/garbagepailkids_resize/training_train/garbagepailkids_BtoA_model_save.bin /content/installed_resp/piss-ant-pix2pix/garbagepailkids_model_bin.zip\n",
        "!zip /content/installed_resp/piss-ant-pix2pix/garbagepailkids_resize/training_train/* /content/installed_resp/piss-ant-pix2pix/garbagepailkids.zip\n",
        "\n",
        "%cd /content/drive/My\\ Drive/Colab\\ Notebooks/Best_Colabs\n",
        "!cp /content/installed_resp/piss-ant-pix2pix/garbagepailkids_original_images.zip garbagepailkids_original_images.zip\n",
        "!cp /content/installed_resp/piss-ant-pix2pix/garbagepailkids_dataset.zip ./garbagepailkids_dataset.zip\n",
        "!cp /content/installed_resp/piss-ant-pix2pix/garbagepailkids_model_bin.zip ./garbagepailkids_model_bin.zip\n",
        "!cp /content/installed_resp/piss-ant-pix2pix/garbagepailkids.zip ./garbagepailkids.zip"
      ],
      "execution_count": 0,
      "outputs": []
    },
    {
      "cell_type": "markdown",
      "metadata": {
        "id": "nvAeYpopjrvD",
        "colab_type": "text"
      },
      "source": [
        "## pretrained\n"
      ]
    }
  ]
}