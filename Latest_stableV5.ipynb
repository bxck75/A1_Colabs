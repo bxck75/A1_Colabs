{
  "nbformat": 4,
  "nbformat_minor": 0,
  "metadata": {
    "colab": {
      "name": "Latest_stable.ipynb",
      "version": "0.3.2",
      "provenance": [],
      "collapsed_sections": [],
      "toc_visible": true,
      "include_colab_link": true
    },
    "kernelspec": {
      "name": "python3",
      "display_name": "Python 3"
    },
    "accelerator": "GPU"
  },
  "cells": [
    {
      "cell_type": "markdown",
      "metadata": {
        "id": "view-in-github",
        "colab_type": "text"
      },
      "source": [
        "<a href=\"https://colab.research.google.com/github/bxck75/colab_projects/blob/master/Latest_stableV5.ipynb\" target=\"_parent\"><img src=\"https://colab.research.google.com/assets/colab-badge.svg\" alt=\"Open In Colab\"/></a>"
      ]
    },
    {
      "cell_type": "markdown",
      "metadata": {
        "id": "W4ZyoOWClEkH",
        "colab_type": "text"
      },
      "source": [
        "# Cartoon style on image folder\n",
        "\n"
      ]
    },
    {
      "cell_type": "markdown",
      "metadata": {
        "id": "aVDha3ZylXvC",
        "colab_type": "text"
      },
      "source": [
        "## Setup"
      ]
    },
    {
      "cell_type": "code",
      "metadata": {
        "id": "NtkH5nPJHSOu",
        "colab_type": "code",
        "colab": {}
      },
      "source": [
        "import os\n",
        "os.chdir('/content')\n",
        "storage_mode=\"colab\" #@param ['colab','drive']\n",
        "\n",
        "if storage_mode == 'colab':\n",
        "  root = '/content/Cartoonizer/' \n",
        "else:\n",
        "  # sync google drive\n",
        "  from google.colab import drive\n",
        "  root = '/content/drive/My Drive/' # google drive root\n",
        "  # if drive is needed uncomment\n",
        "  drive.mount('/content/drive',force_remount=True)\n",
        "# check if folder exists\n",
        "if not os.path.exists(root):\n",
        "   os.mkdir(root,777)\n",
        "# go to root    \n",
        "os.chdir(root)\n",
        "!rm -r ../sample_data\n"
      ],
      "execution_count": 0,
      "outputs": []
    },
    {
      "cell_type": "markdown",
      "metadata": {
        "id": "HUnwEwrQ4wx8",
        "colab_type": "text"
      },
      "source": [
        "## Imports!"
      ]
    },
    {
      "cell_type": "code",
      "metadata": {
        "id": "CbrFDsBLhgDZ",
        "colab_type": "code",
        "colab": {
          "base_uri": "https://localhost:8080/",
          "height": 1000
        },
        "outputId": "a960f4a2-78cd-449d-e899-69794353362a"
      },
      "source": [
        "# set video details\n",
        "# video_name='lucky_chops' \n",
        "# vid='https://www.youtube.com/watch?v=gFrCyU_1zw0' # orbital - the box\n",
        "# video_name='busker' \n",
        "# vid=\"https://www.youtube.com/watch?v=l1wN6HuWrSE\" # oizo \n",
        "# video_name='techno_dark_'\n",
        "# vid='https://www.youtube.com/watch?v=lQnzf5vrK5U'\n",
        "# video_name='techno_dark_2'\n",
        "# vid='https://www.youtube.com/watch?v=aAMduklK3iU'\n",
        "# video_name='piano' \n",
        "# vid=\"https://www.youtube.com/watch?v=n-BtBRS1OoA\" # righthere\n",
        "video_name='this_land' \n",
        "vid=\"https://www.youtube.com/watch?v=FZN-yJv82Rs\"\n",
        "# video_name=\"our_love\" \n",
        "# vid=\"https://www.youtube.com/watch?v=eyGWBTCZ3mk\" # our love \n",
        "# video_name='harmbeatbox' \n",
        "# vid=\"https://www.youtube.com/watch?v=Jbgb6Mz95rc\"\n",
        "# video_name='trainharmonica'\n",
        "# vid=\"https://www.youtube.com/watch?v=0dRwYEm3F2o\"\n",
        "# video_name='beatbox1'\n",
        "# vid=\"https://www.youtube.com/watch?v=oBjGRZgHgIA\"\n",
        "# video_name='harmonics'\n",
        "# vid=\"https://www.youtube.com/watch?v=K-PhBryFuIM\"\n",
        "\n",
        "# set Bash vars\n",
        "# !vidb={vid}\n",
        "# !video_name={video_name}\n",
        "if not os.path.exists(root+video_name+'_frames'):\n",
        "  os.mkdir(root+video_name+'_frames',777)\n",
        "# imports\n",
        "import time,os,glob,cv2\n",
        "import numpy as np\n",
        "from matplotlib import pyplot as plt\n",
        "from IPython.display import clear_output, display, Image\n",
        "\n",
        "from moviepy.editor import VideoFileClip\n",
        "#apt sheit\n",
        "!apt update\n",
        "!apt install tree\n",
        "\n",
        "# clear_output()\n",
        "repo = \"CartoonGan-tensorflow\"\n",
        "!git clone https://github.com/mnicnc404/{repo}.git\n",
        "os.chdir(os.path.join(repo))\n",
        "!pip install youtube-dl imageio\n",
        "!pip install tensorflow-gpu==2.0.0-alpha0\n",
        "!pip install ffmpeg \n",
        "!git clone https://www.github.com/keras-team/keras-contrib.git \\\n",
        "    && cd keras-contrib \\\n",
        "    && python convert_to_tf_keras.py \\\n",
        "    && USE_TF_KERAS=1 python setup.py install\n",
        "  \n",
        "# from subprocess import call\n",
        "import tensorflow as tf\n",
        "tf.__version__\n",
        "\n",
        "# clear_output()\n",
        "#function defines\n",
        "def resize(image,window_height = 800):\n",
        "    aspect_ratio = float(image.shape[1])/float(image.shape[0])\n",
        "    window_width = window_height/aspect_ratio\n",
        "    image = cv2.resize(image, (int(window_height),int(window_width)))\n",
        "    return image"
      ],
      "execution_count": 0,
      "outputs": [
        {
          "output_type": "stream",
          "text": [
            "Imageio: 'ffmpeg-linux64-v3.3.1' was not found on your computer; downloading it now.\n",
            "Try 1. Download from https://github.com/imageio/imageio-binaries/raw/master/ffmpeg/ffmpeg-linux64-v3.3.1 (43.8 MB)\n",
            "Downloading: 8192/45929032 bytes (0.0%)\b\b\b\b\b\b\b\b\b\b\b\b\b\b\b\b\b\b\b\b\b\b\b\b\b\b1490944/45929032 bytes (3.2%)\b\b\b\b\b\b\b\b\b\b\b\b\b\b\b\b\b\b\b\b\b\b\b\b\b\b\b\b\b4177920/45929032 bytes (9.1%)\b\b\b\b\b\b\b\b\b\b\b\b\b\b\b\b\b\b\b\b\b\b\b\b\b\b\b\b\b7520256/45929032 bytes (16.4%)\b\b\b\b\b\b\b\b\b\b\b\b\b\b\b\b\b\b\b\b\b\b\b\b\b\b\b\b\b\b10371072/45929032 bytes (22.6%)\b\b\b\b\b\b\b\b\b\b\b\b\b\b\b\b\b\b\b\b\b\b\b\b\b\b\b\b\b\b\b13869056/45929032 bytes (30.2%)\b\b\b\b\b\b\b\b\b\b\b\b\b\b\b\b\b\b\b\b\b\b\b\b\b\b\b\b\b\b\b17432576/45929032 bytes (38.0%)\b\b\b\b\b\b\b\b\b\b\b\b\b\b\b\b\b\b\b\b\b\b\b\b\b\b\b\b\b\b\b21061632/45929032 bytes (45.9%)\b\b\b\b\b\b\b\b\b\b\b\b\b\b\b\b\b\b\b\b\b\b\b\b\b\b\b\b\b\b\b25083904/45929032 bytes (54.6%)\b\b\b\b\b\b\b\b\b\b\b\b\b\b\b\b\b\b\b\b\b\b\b\b\b\b\b\b\b\b\b28270592/45929032 bytes (61.6%)\b\b\b\b\b\b\b\b\b\b\b\b\b\b\b\b\b\b\b\b\b\b\b\b\b\b\b\b\b\b\b31473664/45929032 bytes (68.5%)\b\b\b\b\b\b\b\b\b\b\b\b\b\b\b\b\b\b\b\b\b\b\b\b\b\b\b\b\b\b\b35389440/45929032 bytes (77.1%)\b\b\b\b\b\b\b\b\b\b\b\b\b\b\b\b\b\b\b\b\b\b\b\b\b\b\b\b\b\b\b39575552/45929032 bytes (86.2%)\b\b\b\b\b\b\b\b\b\b\b\b\b\b\b\b\b\b\b\b\b\b\b\b\b\b\b\b\b\b\b43761664/45929032 bytes (95.3%)\b\b\b\b\b\b\b\b\b\b\b\b\b\b\b\b\b\b\b\b\b\b\b\b\b\b\b\b\b\b\b45929032/45929032 bytes (100.0%)\n",
            "  Done\n",
            "File saved as /root/.imageio/ffmpeg/ffmpeg-linux64-v3.3.1.\n",
            "Ign:1 https://developer.download.nvidia.com/compute/cuda/repos/ubuntu1804/x86_64  InRelease\n",
            "Get:2 https://cloud.r-project.org/bin/linux/ubuntu bionic-cran35/ InRelease [3,626 B]\n",
            "Hit:3 http://archive.ubuntu.com/ubuntu bionic InRelease\n",
            "Get:4 http://security.ubuntu.com/ubuntu bionic-security InRelease [88.7 kB]\n",
            "Hit:5 http://ppa.launchpad.net/graphics-drivers/ppa/ubuntu bionic InRelease\n",
            "Ign:6 https://developer.download.nvidia.com/compute/machine-learning/repos/ubuntu1804/x86_64  InRelease\n",
            "Hit:7 https://developer.download.nvidia.com/compute/cuda/repos/ubuntu1804/x86_64  Release\n",
            "Hit:8 https://developer.download.nvidia.com/compute/machine-learning/repos/ubuntu1804/x86_64  Release\n",
            "Get:9 http://archive.ubuntu.com/ubuntu bionic-updates InRelease [88.7 kB]\n",
            "Hit:10 http://ppa.launchpad.net/marutter/c2d4u3.5/ubuntu bionic InRelease\n",
            "Get:11 http://archive.ubuntu.com/ubuntu bionic-backports InRelease [74.6 kB]\n",
            "Get:14 http://security.ubuntu.com/ubuntu bionic-security/main amd64 Packages [628 kB]\n",
            "Get:15 http://archive.ubuntu.com/ubuntu bionic-updates/main amd64 Packages [926 kB]\n",
            "Get:16 http://security.ubuntu.com/ubuntu bionic-security/universe amd64 Packages [760 kB]\n",
            "Get:17 http://archive.ubuntu.com/ubuntu bionic-updates/universe amd64 Packages [1,279 kB]\n",
            "Fetched 3,849 kB in 3s (1,325 kB/s)\n",
            "Reading package lists... Done\n",
            "Building dependency tree       \n",
            "Reading state information... Done\n",
            "12 packages can be upgraded. Run 'apt list --upgradable' to see them.\n",
            "Reading package lists... Done\n",
            "Building dependency tree       \n",
            "Reading state information... Done\n",
            "The following NEW packages will be installed:\n",
            "  tree\n",
            "0 upgraded, 1 newly installed, 0 to remove and 12 not upgraded.\n",
            "Need to get 40.7 kB of archives.\n",
            "After this operation, 105 kB of additional disk space will be used.\n",
            "Get:1 http://archive.ubuntu.com/ubuntu bionic/universe amd64 tree amd64 1.7.0-5 [40.7 kB]\n",
            "Fetched 40.7 kB in 0s (106 kB/s)\n",
            "Selecting previously unselected package tree.\n",
            "(Reading database ... 131183 files and directories currently installed.)\n",
            "Preparing to unpack .../tree_1.7.0-5_amd64.deb ...\n",
            "Unpacking tree (1.7.0-5) ...\n",
            "Setting up tree (1.7.0-5) ...\n",
            "Processing triggers for man-db (2.8.3-2ubuntu0.1) ...\n",
            "Cloning into 'CartoonGan-tensorflow'...\n",
            "remote: Enumerating objects: 135, done.\u001b[K\n",
            "remote: Counting objects: 100% (135/135), done.\u001b[K\n",
            "remote: Compressing objects: 100% (94/94), done.\u001b[K\n",
            "remote: Total 1577 (delta 70), reused 91 (delta 36), pack-reused 1442\n",
            "Receiving objects: 100% (1577/1577), 345.93 MiB | 36.66 MiB/s, done.\n",
            "Resolving deltas: 100% (675/675), done.\n",
            "Checking out files: 100% (425/425), done.\n",
            "Collecting youtube-dl\n",
            "\u001b[?25l  Downloading https://files.pythonhosted.org/packages/96/ce/996f5d1b72216e21e60365ce0b3fb0afdb9f11be45f6ff88da645b3be5fb/youtube_dl-2019.8.13-py2.py3-none-any.whl (1.8MB)\n",
            "\u001b[K     |████████████████████████████████| 1.8MB 2.8MB/s \n",
            "\u001b[?25hRequirement already satisfied: imageio in /usr/local/lib/python3.6/dist-packages (2.4.1)\n",
            "Requirement already satisfied: pillow in /usr/local/lib/python3.6/dist-packages (from imageio) (4.3.0)\n",
            "Requirement already satisfied: numpy in /usr/local/lib/python3.6/dist-packages (from imageio) (1.16.4)\n",
            "Requirement already satisfied: olefile in /usr/local/lib/python3.6/dist-packages (from pillow->imageio) (0.46)\n",
            "Installing collected packages: youtube-dl\n",
            "Successfully installed youtube-dl-2019.8.13\n",
            "Collecting tensorflow-gpu==2.0.0-alpha0\n",
            "\u001b[?25l  Downloading https://files.pythonhosted.org/packages/1a/66/32cffad095253219d53f6b6c2a436637bbe45ac4e7be0244557210dc3918/tensorflow_gpu-2.0.0a0-cp36-cp36m-manylinux1_x86_64.whl (332.1MB)\n",
            "\u001b[K     |█████████████████████████████   | 301.7MB 47.5MB/s eta 0:00:01"
          ],
          "name": "stdout"
        }
      ]
    },
    {
      "cell_type": "markdown",
      "metadata": {
        "id": "QJddYD7Rhj7G",
        "colab_type": "text"
      },
      "source": [
        "## Rip the video and audio"
      ]
    },
    {
      "cell_type": "code",
      "metadata": {
        "id": "oUSMAwetkOxt",
        "colab_type": "code",
        "colab": {}
      },
      "source": [
        "# frame rate\n",
        "framerate = 0.2\n",
        "# set max img height\n",
        "max_size= 500\n",
        "print('FRAMERATE = '+str(round(1/framerate,2)))\n",
        "\n",
        "# Set i/o folders\n",
        "img_in_folder =  root+video_name +\"_frames\"\n",
        "img_out_folder = root+\"processed_\"+video_name +\"_frames\"\n",
        "\n",
        "# set original filenames\n",
        "video_file= root+video_name +'.mp4'\n",
        "audio_file= root+video_name +'.mp3'\n",
        "\n",
        "print(video_file)\n",
        "print(audio_file)\n",
        "# !rm -r '{audio_file}'\n",
        "# !rm -r '{video_file}'\n",
        "# rip video from youtube\n",
        "print(vid)\n",
        "os.system('echo youtube-dl '+vid+' --list-formats')\n",
        "!youtube-dl {vid} --output '{video_file}' --format mp4\n",
        "\n",
        "clip = VideoFileClip(video_file)\n",
        "clip.audio.write_audiofile(root+video_name+\".mp3\")\n",
        "\n",
        "\n",
        "#capture the video frames\n",
        "vidcap = cv2.VideoCapture(video_file)\n",
        "# count total frames\n",
        "import imageio\n",
        "vidc = imageio.get_reader(video_file,  'ffmpeg')\n",
        "num_frames=vidc._meta['nframes']\n",
        "# make the frames folder\n",
        "if not os.path.exists(root+video_name+'_frames'):\n",
        "  os.mkdir(root+video_name+'_frames')\n",
        "  \n",
        "# frame grab function\n",
        "def getFrame(sec):\n",
        "  vidcap.set(cv2.CAP_PROP_POS_MSEC,sec*1000)\n",
        "  hasFrames,image = vidcap.read()\n",
        "  if hasFrames:\n",
        "    cv2.imwrite(root+video_name+\"_frames/image\"+str(count)+\".jpg\", image)     # save frame as JPG file\n",
        "  return hasFrames\n",
        "\n",
        "sec = 0\n",
        "FrameRate = framerate\n",
        "count=1\n",
        "success = getFrame(sec)\n",
        "# As long as there are frames \n",
        "while success:\n",
        "  count = count + 1\n",
        "  frames_left = num_frames -1\n",
        "  print('frames to go ' + str(frames_left))\n",
        "  sec = sec + FrameRate\n",
        "  sec = round(sec, 2)\n",
        "  success = getFrame(sec)"
      ],
      "execution_count": 0,
      "outputs": []
    },
    {
      "cell_type": "markdown",
      "metadata": {
        "colab_type": "text",
        "id": "AyuiNzghlqmL"
      },
      "source": [
        "## Set the style "
      ]
    },
    {
      "cell_type": "code",
      "metadata": {
        "id": "nra-13NBdjTI",
        "colab_type": "code",
        "colab": {}
      },
      "source": [
        "# Pick a style\n",
        "styles = \"hosoda\" #@param [\"shinkai\", \"hayao\", \"hosoda\", \"paprika\"]"
      ],
      "execution_count": 0,
      "outputs": []
    },
    {
      "cell_type": "markdown",
      "metadata": {
        "id": "OlnImHl5lcWo",
        "colab_type": "text"
      },
      "source": [
        "## Set Dimensions"
      ]
    },
    {
      "cell_type": "code",
      "metadata": {
        "id": "QS3XPGESdkQi",
        "colab_type": "code",
        "colab": {}
      },
      "source": [
        "# generate the movie sequence\n",
        "searchedfiles = glob.glob(img_in_folder+'/*.jpg')\n",
        "files = sorted( searchedfiles, key = lambda file: os.path.getctime(file))\n",
        "\n",
        "files_sorted=[]\n",
        "combined_sorted=[]\n",
        "# fill the frame list before the processed image even beeing there\n",
        "for i in files:\n",
        "  # split off the filename\n",
        "  isa = i.split('/')\n",
        "  # append it with the processed folder path and file definition\n",
        "  combined_sorted.append(\"file '\"+root+\"processed_\"+video_name +\"_frames/comparison/\"+isa[len(isa)-1]+\"'\\n\")\n",
        "  files_sorted.append(\"file '\"+root+\"processed_\"+video_name +\"_frames/\"+styles+\"/\"+isa[len(isa)-1]+\"'\\n\")\n",
        "print(combined_sorted)\n",
        "print(files_sorted)\n",
        "\n",
        "# for file in files check height\n",
        "for f in files:\n",
        "  img = cv2.imread(f)\n",
        "  h,w,c = img.shape\n",
        "  # Resize if needed\n",
        "  if h > max_size:\n",
        "    img_resized = resize(img,window_height = max_size)\n",
        "    rh,rw,rc = img_resized.shape\n",
        "    cv2.imwrite(f,img_resized)"
      ],
      "execution_count": 0,
      "outputs": []
    },
    {
      "cell_type": "markdown",
      "metadata": {
        "id": "LTKx-CWO4evO",
        "colab_type": "text"
      },
      "source": [
        "## Run the Cartoonizer"
      ]
    },
    {
      "cell_type": "code",
      "metadata": {
        "id": "f92qp_2idsV2",
        "colab_type": "code",
        "colab": {}
      },
      "source": [
        "# !ls\n",
        "# os.chdir('CartoonGan-tensorflow')\n",
        "# run the Cartoonizerrrrrrrrrrrrrrrrrrrr\n",
        "!python cartoonize.py \\\n",
        "  --comparison_view horizontal \\\n",
        "  --keep_original_size \\\n",
        "  --batch_size 8 \\\n",
        "  --styles '{styles}' \\\n",
        "  --input_dir '{img_in_folder}' \\\n",
        "  --output_dir '{img_out_folder}'\n"
      ],
      "execution_count": 0,
      "outputs": []
    },
    {
      "cell_type": "markdown",
      "metadata": {
        "id": "G9EAv6wy_p4p",
        "colab_type": "text"
      },
      "source": [
        ""
      ]
    },
    {
      "cell_type": "markdown",
      "metadata": {
        "id": "X4-48Kll4X6l",
        "colab_type": "text"
      },
      "source": [
        "## Forming the new video "
      ]
    },
    {
      "cell_type": "code",
      "metadata": {
        "id": "XK_X9KDAmJzz",
        "colab_type": "code",
        "colab": {}
      },
      "source": [
        "with open(root+'/paths.txt', 'w') as in_files:\n",
        "  in_files.writelines(fn for fn in files_sorted)\n",
        "with open(root+'/compare_paths.txt', 'w') as in_files:\n",
        "  in_files.writelines(fn for fn in combined_sorted)\n",
        "  \n",
        "!ffmpeg -y -r 1/{framerate} -f concat -safe 0 -i  '{root}'\"paths.txt\" -c:v libx264 -vf \"fps=1/\"{framerate}\",format=yuv420p\" '{root}'\"processed_\"{video_name}\".mp4\"\n",
        "!ffmpeg -i '{root}'\"processed_\"'{video_name}'\".mp4\" -i '{audio_file}' -shortest '{root}'\"final_processed_\"'{video_name}'\"_vid.mp4\"\n",
        "\n",
        "!ffmpeg -y -r 1/{framerate} -f concat -safe 0 -i  '{root}'\"compare_paths.txt\" -c:v libx264 -vf \"fps=1/\"{framerate}\",format=yuv420p\" '{root}'\"processed_compare_\"{video_name}\".mp4\"\n",
        "!ffmpeg -i '{root}'\"processed_compare_\"'{video_name}'\".mp4\" -i '{audio_file}' -shortest '{root}'\"final_processed_compare_\"'{video_name}'\"_vid.mp4\""
      ],
      "execution_count": 0,
      "outputs": []
    },
    {
      "cell_type": "markdown",
      "metadata": {
        "id": "MLQdxqp2mCxQ",
        "colab_type": "text"
      },
      "source": [
        "## View results"
      ]
    },
    {
      "cell_type": "code",
      "metadata": {
        "id": "_11ydVYcgrLJ",
        "colab_type": "code",
        "colab": {}
      },
      "source": [
        "# folders = [f for f in glob.glob(img_out_folder + \"**/*\", recursive=True)]\n",
        "# for d in folders:\n",
        "#   !tree '{d}'\n",
        "#   files = [f for f in glob.glob( d + \"**/*.jpg\", recursive=True )]\n",
        "#   for f in files:\n",
        "#       display(Image(f))\n"
      ],
      "execution_count": 0,
      "outputs": []
    },
    {
      "cell_type": "code",
      "metadata": {
        "id": "qJ93vblUf--F",
        "colab_type": "code",
        "colab": {}
      },
      "source": [
        "\n",
        "import moviepy\n",
        "from moviepy.editor import VideoFileClip, clips_array, vfx\n",
        "print(dir( moviepy.editor))\n",
        "# def invert_green_blue(image):\n",
        "#     return image[:,:,[0,2,1]]\n",
        "# def invert_red_green(image):\n",
        "#     return image[:,[0,2,1],:\n",
        "\n",
        "clip1 = VideoFileClip('/content/Cartoonizer/final_processed_compare_'+ video_name + \"_vid.mp4\").margin(1) # add 10px contour\n",
        "clip1 = clip1.fx( vfx.colorx, 1.3)\n",
        "# clip2 = clip1.fx( vfx.mirror_y)\n",
        "# clip3 = clip1.fx( vfx.mirror_x)\n",
        "# clip4 = clip1.fx( vfx.mirror_y)\n",
        "# clip5 = clip1.fx( vfx.colorx, 1.3) # up 40%\n",
        "# modifiedClip1 = clip1.fl_image( invert_red_green )\n",
        "# modifiedClip2 = clip1.fl_image( invert_green_blue )\n",
        "final_clip = clips_array([[clip1]])\n",
        "final_clip.write_videofile(\"/content/Cartoonizer/fx_stack\"+video_name +\".mp4\")\n",
        "\n",
        "\n"
      ],
      "execution_count": 0,
      "outputs": []
    },
    {
      "cell_type": "code",
      "metadata": {
        "id": "I3C5JwoLUMEd",
        "colab_type": "code",
        "colab": {}
      },
      "source": [
        "\n",
        "from google.colab import drive\n",
        "import os\n",
        "# video_name='trainrolsin'\n",
        "drive.mount('/content/drive')\n",
        "if not os.path.exists(\"/content/drive/My Drive/\"+video_name):\n",
        "  os.mkdir(\"/content/drive/My Drive/\"+video_name,777)\n",
        "  os.mkdir(\"/content/drive/My Drive/\"+video_name+\"_frames\",777)\n",
        " \n",
        "!mv '/content/Cartoonizer/processed_'{video_name}'_frames/*' '/content/drive/My Drive/'{video_name}'_frames/'"
      ],
      "execution_count": 0,
      "outputs": []
    },
    {
      "cell_type": "code",
      "metadata": {
        "id": "Ih70jDblVq5k",
        "colab_type": "code",
        "colab": {}
      },
      "source": [
        ""
      ],
      "execution_count": 0,
      "outputs": []
    },
    {
      "cell_type": "code",
      "metadata": {
        "id": "-1joZEA3gQAe",
        "colab_type": "code",
        "colab": {}
      },
      "source": [
        "# %from moviepy.editor import *\n",
        "# clip = (VideoFileClip( root+ video_name \" + \".mp4\")\n",
        "# #         .fx( vfx.resize, width=460) # resize (keep aspect ratio)\n",
        "# #         .fx( vfx.speedx, 2) # double the speed\n",
        "#         .fx( vfx.colorx, 1.3)) # darken the picture\n",
        "\n",
        "# clip.write_videofile(\"brighness_video_name.mp4\")"
      ],
      "execution_count": 0,
      "outputs": []
    },
    {
      "cell_type": "code",
      "metadata": {
        "id": "mTDh-xFwgor1",
        "colab_type": "code",
        "colab": {}
      },
      "source": [
        "# from moviepy.editor import VideoFileClip, concatenate_videoclips\n",
        "# clip1 = VideoFileClip( root + video_name \" + \".mp4\")\n",
        "# clip2 = VideoFileClip( root + video_name \" + \".mp4\").subclip(50,60)\n",
        "# clip3 = VideoFileClip( root + video_name \" + \".mp4\")\n",
        "# # final_clip = concatenate_videoclips([clip1,clip2,clip3])\n",
        "# final_clip = clips_array([[clip1, clip2],\n",
        "#                           [clip3, clip4]])\n",
        "# final_clip.write_videofile(video_name+\"_concatenation.mp4\")"
      ],
      "execution_count": 0,
      "outputs": []
    }
  ]
}