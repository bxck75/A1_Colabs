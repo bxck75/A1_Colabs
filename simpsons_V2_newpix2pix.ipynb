{
  "nbformat": 4,
  "nbformat_minor": 0,
  "metadata": {
    "colab": {
      "private_outputs": true,
      "provenance": [],
      "gpuType": "T4",
      "include_colab_link": true
    },
    "kernelspec": {
      "name": "python3",
      "display_name": "Python 3"
    },
    "language_info": {
      "name": "python"
    },
    "accelerator": "GPU",
    "gpuClass": "standard"
  },
  "cells": [
    {
      "cell_type": "markdown",
      "metadata": {
        "id": "view-in-github",
        "colab_type": "text"
      },
      "source": [
        "<a href=\"https://colab.research.google.com/github/bxck75/A1_Colabs/blob/master/simpsons_V2_newpix2pix.ipynb\" target=\"_parent\"><img src=\"https://colab.research.google.com/assets/colab-badge.svg\" alt=\"Open In Colab\"/></a>"
      ]
    },
    {
      "cell_type": "code",
      "source": [
        "!rm -r /content/GitGo/datasets/garbage"
      ],
      "metadata": {
        "id": "L17ZT9S6ZSid"
      },
      "execution_count": null,
      "outputs": []
    },
    {
      "cell_type": "code",
      "source": [
        "\n",
        "######################################################\n",
        "from google.colab import drive\n",
        "drive.mount('/content/drive')\n",
        "import os \n",
        "\n",
        "!curl https://raw.githubusercontent.com/bxck75/colab_starter/main/setup.py -o /content/setup.py\n",
        "!python /content/setup.py\n",
        "!pip install tensorflow tensorflow-addons\n",
        "\n",
        "######################################################"
      ],
      "metadata": {
        "id": "fowXHME-f_Jw"
      },
      "execution_count": null,
      "outputs": []
    },
    {
      "cell_type": "code",
      "source": [
        "os.chdir('/content/GitGo/datasets')\n",
        "!unzip /content/drive/MyDrive/garbage.zip"
      ],
      "metadata": {
        "id": "GrPnBikSxpNi"
      },
      "execution_count": null,
      "outputs": []
    },
    {
      "cell_type": "code",
      "source": [
        "import glob,cv2\n",
        "import numpy as np\n",
        "from PIL import Image\n",
        "\n",
        "!mkdir -p /content/GitGo/datasets/garbage_imgs_L\n",
        "!mkdir -p /content/GitGo/datasets/garbage_imgs_P\n",
        "\n",
        "i=0\n",
        "for _f in sorted(glob.glob('/content/GitGo/datasets/garbage/*/*.jpg')):\n",
        "  im = cv2.imread(_f)\n",
        "  \n",
        "  # You may need to convert the color.\n",
        "  color_converted = cv2.cvtColor(im, cv2.COLOR_BGR2RGB)\n",
        "  pil_image=Image.fromarray(color_converted)\n",
        "  \n",
        "  h, w, c = im.shape\n",
        "  split_fn = _f.split('/')\n",
        "  if w < h:\n",
        "    # portrait folder and rename to png\n",
        "    pil_image.save('/content/GitGo/datasets/garbage_imgs_P/'+ split_fn[-1].replace('.jpg','.png'))\n",
        "    i+=1\n",
        "  else:\n",
        "    # landscape folder and rename to png\n",
        "    pil_image.save('/content/GitGo/datasets/garbage_imgs_L/'+ split_fn[-1].replace('.jpg','.png'))\n",
        "    i+=1\n"
      ],
      "metadata": {
        "id": "iHsMBHK6s6Tn"
      },
      "execution_count": null,
      "outputs": []
    },
    {
      "cell_type": "code",
      "source": [
        "!rm -r /content/GitGo/datasets/garbage_imgs_P/*\n",
        "!rm -r /content/GitGo/datasets/garbage_imgs_L/*"
      ],
      "metadata": {
        "id": "buIl-3LGBS7p"
      },
      "execution_count": null,
      "outputs": []
    },
    {
      "cell_type": "code",
      "source": [
        "#!rm -r /content/GitGo/datasets/garbage_imgs_P/*intro.jpg\n",
        "#!rm -r /content/GitGo/datasets/garbage_imgs_P/*_ch.jpg"
      ],
      "metadata": {
        "id": "uwFOUeH6uVMX"
      },
      "execution_count": null,
      "outputs": []
    },
    {
      "cell_type": "code",
      "source": [
        "import os\n",
        "# Function to rename multiple files\n",
        "def rename():\n",
        "  i = 0\n",
        "  path=\"/content/GitGo/datasets/garbage_imgs/\"\n",
        "  for _filename in sorted(os.listdir(path)):\n",
        "    print(_filename)\n",
        "    my_source = path + _filename\n",
        "    my_dest = my_source.replace('.jpg','.png')\n",
        "    # rename() function will\n",
        "    # rename all the files\n",
        "    os.rename(my_source, my_dest)\n",
        "    i += 1\n"
      ],
      "metadata": {
        "id": "mmXT5WNkvqv_"
      },
      "execution_count": null,
      "outputs": []
    },
    {
      "cell_type": "code",
      "source": [
        "#!rm -r /tmp/preprocess/*"
      ],
      "metadata": {
        "id": "5fu_jll_epsF"
      },
      "execution_count": null,
      "outputs": []
    },
    {
      "cell_type": "code",
      "source": [
        "import os\n",
        "os.chdir('/content/GitGo/piss-ant-pix2pix')\n",
        "input_images = '/content/GitGo/datasets/garbage_imgs_P'\n",
        "# resize\n",
        "!python tools/process_custom.py --size 256 --pad --input_dir {input_images} --operation resize --output_dir /tmp/preprocess/_resized\n",
        "# blank clones\n",
        "!python tools/process_custom.py --input_dir /tmp/preprocess/_resized --operation blank --output_dir /tmp/preprocess/_blank\n",
        "# edge clones\n",
        "!mkdir -p /tmp/preprocess/_edge\n",
        "!python tools/edge_custom.py --input_dir /tmp/preprocess/_resized --output_dir /tmp/preprocess/_edge\n",
        "#!python tools/process_custom.py --input_dir /tmp/preprocess/_edge --operation blank --output_dir /tmp/preprocess/_blank_edge\n",
        "# combine\n",
        "!python tools/process_custom.py --input_dir /tmp/preprocess/_resized --b_dir  /tmp/preprocess/_blank --operation combine --output_dir  /tmp/preprocess/_resized/_combined_blank\n",
        "!python tools/process_custom.py --input_dir /tmp/preprocess/_resized --b_dir  /tmp/preprocess/_edge --operation combine --output_dir  /tmp/preprocess/_resized/_combined_edge\n",
        "#!python tools/process_custom.py --input_dir /tmp/preprocess/_resized --b_dir  /tmp/preprocess/_blank_edge --operation combine --output_dir  /tmp/preprocess/_resized/_combined_blank_edge\n",
        "# split\n",
        "!python tools/split.py --dir /tmp/preprocess/_resized/_combined_blank\n",
        "#!python tools/split.py --dir /tmp/preprocess/_resized/_combined_edge\n",
        "#!python tools/split.py --dir /tmp/preprocess/_resized/_combined_blank_edge\n",
        "# make outdirs\n",
        "!mkdir -p /content/GitGo/datasets/garbage_blank_dataset\n",
        "!mkdir -p /content/GitGo/datasets/simpsons_edge_dataset\n",
        "#!mkdir -p /content/GitGo/datasets/simpsons_blank_edge_dataset\n",
        "# copy to final folders\n",
        "!cp -rf /tmp/preprocess/_resized/_combined_blank/ /content/GitGo/datasets/garbage_blank_dataset\n",
        "!cp -rf /tmp/preprocess/_resized/_combined_edge/ /content/GitGo/datasets/simpsons_edge_dataset\n",
        "#!cp -rf /tmp/preprocess/_resized/_combined_blank_edge/ /content/GitGo/datasets/simpsons_blank_edge_dataset"
      ],
      "metadata": {
        "id": "FRuNcHxqE9vi"
      },
      "execution_count": null,
      "outputs": []
    },
    {
      "cell_type": "code",
      "source": [
        "!python /content/GitGo/piss-ant-pix2pix/tools/edge_custom.py --input_dir /tmp/preprocess/_resized --output_dir /tmp/preprocess/_edges"
      ],
      "metadata": {
        "id": "WgN7pPisuUEH"
      },
      "execution_count": null,
      "outputs": []
    },
    {
      "cell_type": "code",
      "source": [
        "%cd /content/GitGo/piss-ant-pix2pix\n",
        "import cv2,glob\n",
        "from google.colab.patches import cv2_imshow\n",
        "!mkdir -p '/tmp/preprocess/_edges'\n",
        "def edge(_in,_out):\n",
        "    image = cv2.imread(_in)\n",
        "    #cv2_imshow(image)\n",
        "    gray = cv2.cvtColor(image, cv2.COLOR_BGR2GRAY)\n",
        "    blurred = cv2.GaussianBlur(gray, (5, 5), 0)\n",
        "    # show the original and blurred images\n",
        "    #cv2_imshow(image)\n",
        "    #cv2_imshow( blurred)\n",
        "    # compute a \"wide\", \"mid-range\", and \"tight\" threshold for the edges\n",
        "    # using the Canny edge detector\n",
        "    #wide = cv2.Canny(blurred, 10, 200)\n",
        "    mid = cv2.Canny(blurred, 30, 150)\n",
        "    #tight = cv2.Canny(blurred, 240, 250)\n",
        "    # show the output Canny edge maps\n",
        "    #cv2_imshow(~wide)\n",
        "    #cv2_imshow(~mid)\n",
        "    #cv2_imshow(~tight)\n",
        "    cv2.imwrite(_out, ~mid)\n",
        "\n",
        "\n",
        "for img_path in glob.glob('/tmp/preprocess/_resized/*.png'):\n",
        "    print(img_path)\n",
        "    new_img_path = img_path.replace('_resized','_edges')\n",
        "    print(new_img_path)\n",
        "    edge(img_path, new_img_path)\n",
        "\n",
        "\n",
        "!python tools/process_custom.py --input_dir /tmp/preprocess/_resized --b_dir  /tmp/preprocess/_edges --operation combine --output_dir  /tmp/preprocess/_combined_edge\n",
        "!python tools/split.py --dir /tmp/preprocess/_combined_edge\n",
        "!mkdir -p /content/GitGo/datasets/garbage_edge_dataset\n",
        "!cp -rf /tmp/preprocess/_combined_edge/ /content/GitGo/datasets/garbage_edge_dataset"
      ],
      "metadata": {
        "id": "RVMZCuQiojpm"
      },
      "execution_count": null,
      "outputs": []
    },
    {
      "cell_type": "code",
      "source": [
        "print(os.path.exists('/tmp/preprocess/_edges'))\n",
        "!ls /tmp/preprocess/_edges"
      ],
      "metadata": {
        "id": "D1h7ASsbyohd"
      },
      "execution_count": null,
      "outputs": []
    },
    {
      "cell_type": "code",
      "source": [
        "print(len( glob.glob('/tmp/preprocess/_edges/*.png')))\n",
        "edges_imgs = glob.glob('/tmp/preprocess/_edges/*.png')"
      ],
      "metadata": {
        "id": "mh2AY8wzndiv"
      },
      "execution_count": null,
      "outputs": []
    },
    {
      "cell_type": "code",
      "source": [
        "!mkdir -p  /tmp/preprocess/_blank_edge\n",
        "!python tools/process_custom.py --input_dir /tmp/preprocess/_edges --operation blank --output_dir /tmp/preprocess/_blank_edge\n",
        "!python tools/process_custom.py --input_dir /tmp/preprocess/_resized --b_dir  /tmp/preprocess/_blank_edge --operation combine --output_dir  /tmp/preprocess/_combined_blank_edge\n",
        "!python tools/split.py --dir /tmp/preprocess/_combined_blank_edge\n",
        "!mkdir -p /content/GitGo/datasets/garbage_blank_edge_dataset\n",
        "!cp -rf /tmp/preprocess/_combined_blank_edge /content/GitGo/datasets/garbage_blank_edge_dataset"
      ],
      "metadata": {
        "id": "zfyzAYe4vgy_"
      },
      "execution_count": null,
      "outputs": []
    },
    {
      "cell_type": "code",
      "source": [
        "import glob\n",
        "files = glob.glob('/content/GitGo/datasets/garbage_edge_dataset/_combined_edge/train/*.png')\n",
        "print(len(files))"
      ],
      "metadata": {
        "id": "lzEtfDFadYoF"
      },
      "execution_count": null,
      "outputs": []
    },
    {
      "cell_type": "code",
      "source": [
        "!rm -r /content/drive/MyDrive/garbage_metrics/*"
      ],
      "metadata": {
        "id": "9JZgFzxm9CKi"
      },
      "execution_count": null,
      "outputs": []
    },
    {
      "cell_type": "code",
      "source": [
        "!pip install -U tensorboard-plugin-profile\n",
        "%reload_ext tensorboard\n",
        "logs_base_dir = '/content/garbage_metrics'\n",
        "os.makedirs(logs_base_dir, exist_ok=True)\n",
        "%tensorboard --logdir {logs_base_dir}"
      ],
      "metadata": {
        "id": "IC137HRr-_0J"
      },
      "execution_count": null,
      "outputs": []
    },
    {
      "cell_type": "code",
      "source": [
        "import os,warnings\n",
        "import os\n",
        "os.environ['TF_CPP_MIN_LOG_LEVEL'] = '3' \n",
        "warnings.filterwarnings('ignore')\n",
        "os.chdir('/content/GitGo/piss-ant-pix2pix')\n",
        "custom_dataset = '/content/GitGo/datasets/garbage_edge_dataset/_combined_edge/train'\n",
        "train_metrics = '/content/garbage_metrics'\n",
        "!mkdir -p {train_metrics}\n",
        "\n",
        "# CHECK IF ITS A RETRAINING\n",
        "if os.path.exists('/content/simpsons_metrics/checkpoint'):\n",
        "    retrain = '--checkpoint '+ train_metrics\n",
        "else:\n",
        "    retrain = ''\n",
        "# train\n",
        "!python pix2pix_custom.py \\\n",
        "    --summary_freq 50 \\\n",
        "    --ngf 64 \\\n",
        "    --ndf 64 \\\n",
        "    --save_freq 50 \\\n",
        "    --display_freq 10 \\\n",
        "    --progress_freq 50 \\\n",
        "    --batch_size 64 \\\n",
        "    --mode train \\\n",
        "    --output_dir {train_metrics} \\\n",
        "    --max_epochs 3 \\\n",
        "    --input_dir {custom_dataset} \\\n",
        "    {retrain} \\\n",
        "    --which_direction BtoA"
      ],
      "metadata": {
        "id": "C9ItyLe9Vk3T"
      },
      "execution_count": null,
      "outputs": []
    },
    {
      "cell_type": "code",
      "source": [
        "!rm -r /content/garbage_metrics/images"
      ],
      "metadata": {
        "id": "MYfDwaF5qezf"
      },
      "execution_count": null,
      "outputs": []
    },
    {
      "cell_type": "code",
      "source": [
        "!zip -r /content/drive/MyDrive/garbage_metrics_backup.zip /content/garbage_metrics"
      ],
      "metadata": {
        "id": "8fPIywSVgpkJ"
      },
      "execution_count": null,
      "outputs": []
    }
  ]
}