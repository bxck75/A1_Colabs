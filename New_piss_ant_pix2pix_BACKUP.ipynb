{
  "nbformat": 4,
  "nbformat_minor": 0,
  "metadata": {
    "colab": {
      "name": "New_piss_ant_pix2pixV0.2.ipynb",
      "provenance": [],
      "private_outputs": true,
      "collapsed_sections": [],
      "include_colab_link": true
    },
    "kernelspec": {
      "name": "python3",
      "display_name": "Python 3"
    },
    "accelerator": "GPU"
  },
  "cells": [
    {
      "cell_type": "markdown",
      "metadata": {
        "id": "view-in-github",
        "colab_type": "text"
      },
      "source": [
        "<a href=\"https://colab.research.google.com/github/bxck75/A1_Colabs/blob/master/New_piss_ant_pix2pix_BACKUP.ipynb\" target=\"_parent\"><img src=\"https://colab.research.google.com/assets/colab-badge.svg\" alt=\"Open In Colab\"/></a>"
      ]
    },
    {
      "cell_type": "code",
      "metadata": {
        "id": "rRqbekgSPIVi",
        "colab_type": "code",
        "colab": {}
      },
      "source": [
        "from __future__ import absolute_import\n",
        "from __future__ import division\n",
        "from __future__ import print_function\n",
        "# Helpers Loading\n",
        "from pathlib import Path\n",
        "lib_file=Path('/content/lib/Helpers.py')\n",
        "if not lib_file.is_file():\n",
        "    import os\n",
        "    os.system('mkdir -p /content/lib')\n",
        "    os.chdir('/content/lib')\n",
        "    os.system('wget https://raw.githubusercontent.com/bxck75/A1_Colabs/master/Helpers.py')\n",
        "    os.system('wget https://raw.githubusercontent.com/bxck75/A1_Colabs/master/myrepcol.py')\n",
        "    os.chdir('/content/')\n",
        "resmon_file = Path('/content/lib/resource_monitor.py')\n",
        "if not  resmon_file.is_file():\n",
        "    os.system('wget https://github.com/googlecolab/colabtools/blob/master/google/colab/_serverextension/_resource_monitor.py -O /content/lib/resource_monitor.py')\n",
        "\n",
        "# import inspect\n",
        "from lib.Helpers import Helpers\n",
        "from lib.myrepcol import reps\n",
        "# regular imports\n",
        "from fastai.vision import *\n",
        "from fastai.vision.gan import *\n",
        "import seaborn as sns\n",
        "import numpy as np\n",
        "import pandas as pd\n",
        "import fastai, hashlib\n",
        "from IPython.display import clear_output\n",
        "from IPython import display\n",
        "\n",
        "# Init helpers\n",
        "H=Helpers()\n",
        "# delete standaard data\n",
        "H.Me(['cml','rm -r /content/sample_data'])\n",
        "\n",
        "def get_gdrive_dataset(pack, DS_root='datasets',GD_root='datasets'):\n",
        "    import google\n",
        "    from google.colab import drive\n",
        "    drive.mount('/content/drive', force_remount=True)\n",
        "    H.GD_ROOT=GD_root+'/'\n",
        "    H.DS_ROOT=DS_root+'/'\n",
        "    os.chdir(H.gdrive_root+H.GD_ROOT)\n",
        "    H.Me(['mkd',[DS_root,'models'],H.pix_root])\n",
        "    H.Me(['cml','cp -r '+pack+' '+H.pix_root+DS_root])\n",
        "    os.chdir(H.pix_root+DS_root)\n",
        "    H.Me(['cml','unzip -q '+pack])\n",
        "    H.Me(['cml','rm -r '+pack])\n",
        "    os.chdir(H.pix_root)\n",
        "\n",
        "def MethHelp(libs):\n",
        "    os_help=H.Me(['vdir',libs])\n",
        "    #make a list containing libs values of os_help\n",
        "    listOfLibs = [x[0] for x in os_help]\n",
        "    #make a list containing libs method values of os_help\n",
        "    listOfMethods= [x[1] for x in os_help]\n",
        "    # Create a zipped list of tuples from above lists\n",
        "    zippedList =  list(zip(listOfLibs, listOfMethods[0:5]))\n",
        "    zippedList\n",
        "    # request help on method from list\n",
        "    return zippedList\n",
        "\n",
        "def loadTboard():\n",
        "    import datetime, os\n",
        "    # install tensorboard\n",
        "#     H.Me(['cml','pip install -q tensorflow'])\n",
        "    # Load the TensorBoard notebook extension\n",
        "    try:\n",
        "        %load_ext tensorboard\n",
        "    except:\n",
        "        %stop_ext tensorboard\n",
        "        %reload_ext tensorboard\n",
        "\n",
        "def html(content):\n",
        "    \"\"\"Publishes given html content into the output.\"\"\"\n",
        "    display.display(display.HTML(content))\n",
        "\n",
        "\n",
        "def css(content=None, url=None):\n",
        "    \"\"\"Publishes css content.\"\"\"\n",
        "    if url is not None:\n",
        "        html('<link rel=stylesheet type=text/css href=%r></link>' % url)\n",
        "    else:\n",
        "        html('<style>' + content + '</style>')\n",
        "\n",
        "\n",
        "def javascript(content=None, url=None, script_id=None):\n",
        "    \"\"\"Publishes javascript content into the output.\"\"\"\n",
        "    if (content is None) == (url is None):\n",
        "        raise ValueError('exactly one of content and url should be none')\n",
        "    if url is not None:\n",
        "        # Note: display.javascript will try to download script from python\n",
        "        # which is very rarely useful.\n",
        "        html('<script src=%r></script>' % url)\n",
        "        return\n",
        "    if not script_id and 'sourceURL=' not in content:\n",
        "        script_id = 'js_' + hashlib.md5(content.encode('utf8')).hexdigest()[:10]\n",
        "\n",
        "    if script_id:\n",
        "        content += '\\n//# sourceURL=%s' % script_id\n",
        "    display.display(display.Javascript(content))\n",
        "    \n",
        "# set variables\n",
        "H.reps_custom=['bxck75/piss-ant-pix2pix']# ,'affinelayer/pix2pix-tensorflow','phillipi/pix2pix','shelhamer/clockwork-fcn'\n",
        "H.reps_all=reps\n",
        "H.Me(['inst_reps',H.reps_custom,'/content/installed_reps',True,True])\n",
        "H.pix_root='/content/installed_reps/piss-ant-pix2pix/'\n",
        "H.gdrive_root='/content/drive/My Drive/'\n",
        "H.img_input_method='raw' # dataset todo: gallery-dl scrape\n",
        "H.Me(['vdir']) # show H object\n"
      ],
      "execution_count": 0,
      "outputs": []
    },
    {
      "cell_type": "markdown",
      "metadata": {
        "id": "TELmRbBrfqFV",
        "colab_type": "text"
      },
      "source": [
        "##Get images and make the dataset\n",
        "    --resize\n",
        "    --blank center clone\n",
        "    --edged clone\n",
        "    --combine blank set\n",
        "    --combine edged set\n",
        "    --split both sets\n",
        "    --copy the combined set to there home "
      ]
    },
    {
      "cell_type": "markdown",
      "metadata": {
        "id": "nprwZHKxGAfN",
        "colab_type": "text"
      },
      "source": [
        "## Process a folder of images"
      ]
    },
    {
      "cell_type": "code",
      "metadata": {
        "id": "YdnEqi0rqbdq",
        "colab_type": "code",
        "colab": {}
      },
      "source": [
        "from google.colab import drive\n",
        "drive.mount('/content/drive')\n",
        "# show raw image packs\n",
        "H.gdrive_raw_packs_root='/content/drive/My Drive/raw_image_packs/'\n",
        "H.raw_image_packs=H.Me(['cml','ls \"' + H.gdrive_raw_packs_root+'\"'])\n",
        "\n",
        "H.gdrive_dataset_root='/content/drive/My Drive/datasets/'\n",
        "H.usable_datasets=H.Me(['cml','ls \"' + H.gdrive_dataset_root+'\"'])\n",
        "\n",
        "H.gdrive_models_root='/content/drive/My Drive/models/'\n",
        "H.trained_models=H.Me(['cml','ls \"' + H.gdrive_models_root+'\"'])\n",
        "\n",
        "print(H.trained_models)\n",
        "print(H.raw_image_packs)\n",
        "print(H.usable_datasets)\n",
        "\n",
        "H.local_datasets_path=H.pix_root+'datasets/'\n",
        "H.gdrive_datasets_path=H.gdrive_root+'datasets/'\n",
        "H.local_raw_imgs_path=H.pix_root+'raw_img_data/'\n",
        "H.gdrive_raw_imgs_path=H.gdrive_root+'raw_image_packs/'\n",
        "\n",
        "print(H.gdrive_datasets_path)\n",
        "print(H.local_datasets_path)\n",
        "print(H.local_raw_imgs_path)\n",
        "print(H.gdrive_raw_imgs_path)"
      ],
      "execution_count": 0,
      "outputs": []
    },
    {
      "cell_type": "code",
      "metadata": {
        "id": "rly433VrN31O",
        "colab_type": "code",
        "colab": {}
      },
      "source": [
        "\n",
        "# #  dataset from image folder\n",
        "# H.dataset_name='mangafaces'\n",
        "# get_gdrive_dataset(H.dataset_name+'.zip','raw_img_data/mangafaces','/content/drive/My Drive/raw_image_packs')\n",
        "# IntoPath H.local_dataset_root + H.dataset_name\n",
        "\n",
        "# #  dataset from image folder\n",
        "# H.dataset_name='kaggle-one-shot-pokemon'\n",
        "# get_gdrive_dataset(H.dataset_name+'.zip','raw_img_data','/content/drive/My Drive/raw_image_packs')\n",
        "# IntoPath=H.local_dataset_root + H.dataset_name\n",
        "\n",
        "# # Pokemon 3 folders\n",
        "# # dataset from image folder\n",
        "# H.dataset_name='kaggle-one-shot-pokemon'\n",
        "# pokemon_type='/pokemon-a'\n",
        "# IntoPath=H.local_dataset_root + H.dataset_name + pokemon_type\n",
        "\n",
        "# # get_gdrive_dataset(H.dataset_name+'.zip')\n",
        "# print(H.gdrive_dataset_root)\n",
        "# print(H.method_args)\n",
        "# print(H.local_dataset_root + H.dataset_name)\n",
        "\n",
        "# size\n",
        "H.resize_value=128\n",
        "\n",
        "#  dataset from image folder\n",
        "H.dataset_name='mangafaces'\n",
        "\n",
        "H.local_datasets_path=H.pix_root+'datasets/'\n",
        "H.gdrive_datasets_path=H.gdrive_root+'datasets/'\n",
        "H.local_raw_imgs_path=H.pix_root+'raw_img_data/'\n",
        "H.gdrive_raw_imgs_path=H.gdrive_root+'raw_image_packs/'\n",
        "\n",
        "print(H.gdrive_datasets_path)\n",
        "print(H.local_datasets_path)\n",
        "\n",
        "print(H.local_raw_imgs_path)\n",
        "print(H.gdrive_raw_imgs_path)\n",
        "\n",
        "get_gdrive_dataset(H.dataset_name+'.zip','raw_img_data','raw_image_packs')\n",
        "\n",
        "# mangafaces fix\n",
        "if H.dataset_name == 'mangafaces':\n",
        "  # images are in folder data and need to be in mangafaces\n",
        "    H.Me(['cml','mkdir -p /content/installed_reps/piss-ant-pix2pix/raw_img_data/'+H.dataset_name])\n",
        "    H.Me(['cml','cp -r /content/installed_reps/piss-ant-pix2pix/raw_img_data/data/* /content/installed_reps/piss-ant-pix2pix/raw_img_data/'+H.dataset_name])\n",
        "    H.Me(['cml','rm -r /content/installed_reps/piss-ant-pix2pix/raw_img_data/data'])\n",
        "\n",
        "IntoPath=H.local_raw_imgs_path + H.dataset_name\n",
        "print(IntoPath)\n",
        "# set path to images to process\n",
        "H.img_path=Path(IntoPath)\n",
        "\n",
        "\n",
        "# goto pix root\n",
        "os.chdir(H.pix_root)\n",
        "print('Image folder set to '+str(IntoPath))\n",
        "\n",
        "# glob the folder for images\n",
        "H.prepro_img_list=H.Me(['globx',IntoPath,'*.png'])\n",
        "print(len(H.prepro_img_list),end=' ')\n",
        "print(' Images Found!')"
      ],
      "execution_count": 0,
      "outputs": []
    },
    {
      "cell_type": "code",
      "metadata": {
        "id": "dXXgqIjgyXyF",
        "colab_type": "code",
        "colab": {}
      },
      "source": [
        "# H.Me(['cml','rm -r /content/installed_reps/pix2pix-tensorflow'])\n",
        "H.prepro_img_list=H.Me(['globx',IntoPath,'*.png'])\n",
        "print(len(H.prepro_img_list),end=' ')\n",
        "print(' Images Found!')\n",
        "\n",
        "print(H.gdrive_raw_imgs_path)\n",
        "print(H.gdrive_dataset_root)\n",
        "print()\n",
        "print(H.local_raw_imgs_path)\n",
        "print(H.local_datasets_path)\n",
        "# print(H.reps_all)\n",
        "print(H.root_path)\n",
        "H.Me(['vdir'])"
      ],
      "execution_count": 0,
      "outputs": []
    },
    {
      "cell_type": "code",
      "metadata": {
        "id": "5V-nlYwkO0RK",
        "colab_type": "code",
        "colab": {}
      },
      "source": [
        "\n",
        "H.Me(['mkd',['_blank',\n",
        "             '_edged',\n",
        "             '_resized',\n",
        "             '_combined_blank',\n",
        "             '_combined_edged'],\n",
        "      H.pix_root+'p2p_process_tmp'])\n",
        "\n",
        "H.Me(['mkd',['_resize_edged_combined',\n",
        "             '_resize_blank_combined',\n",
        "             '_resized',\n",
        "             '_edged',\n",
        "             '_blank'],\n",
        "      H.local_datasets_path+H.dataset_name])\n",
        "print(H.sub_repos)\n",
        "# clear_output()"
      ],
      "execution_count": 0,
      "outputs": []
    },
    {
      "cell_type": "code",
      "metadata": {
        "id": "5IqKiRqsb3fS",
        "colab_type": "code",
        "colab": {}
      },
      "source": [
        "H.Me(['cml','python tools/process.py --input_dir '+IntoPath+' --operation resize --size '+str(H.resize_value)+' --output_dir '+H.pix_root+'p2p_process_tmp/_resized/'])\n",
        "clear_output()"
      ],
      "execution_count": 0,
      "outputs": []
    },
    {
      "cell_type": "code",
      "metadata": {
        "id": "M1brNoL1b8Nz",
        "colab_type": "code",
        "colab": {}
      },
      "source": [
        "H.Me(['cml','python tools/process.py --input_dir '+H.pix_root+'p2p_process_tmp/_resized --operation blank --output_dir '+H.pix_root+'p2p_process_tmp/_blank'])\n",
        "clear_output()"
      ],
      "execution_count": 0,
      "outputs": []
    },
    {
      "cell_type": "code",
      "metadata": {
        "id": "dKgoVHPzJnge",
        "colab_type": "code",
        "colab": {}
      },
      "source": [
        "H.Me(['cml','python tools/edge.py --input_dir '+H.pix_root+'p2p_process_tmp/_resized --output_dir '+H.pix_root+'p2p_process_tmp/_edged'])\n",
        "clear_output()"
      ],
      "execution_count": 0,
      "outputs": []
    },
    {
      "cell_type": "code",
      "metadata": {
        "colab_type": "code",
        "id": "_RqmUdgXtw8u",
        "colab": {}
      },
      "source": [
        "H.Me(['cml','python tools/process.py --input_dir  '+H.pix_root+'p2p_process_tmp/_resized --b_dir '+H.pix_root+'p2p_process_tmp/_edged --operation combine --output_dir  '+H.pix_root+'p2p_process_tmp/_combined_edged'])\n",
        "clear_output()"
      ],
      "execution_count": 0,
      "outputs": []
    },
    {
      "cell_type": "code",
      "metadata": {
        "id": "hU4ytgp0cDoa",
        "colab_type": "code",
        "colab": {}
      },
      "source": [
        "H.Me(['cml','python tools/process.py --input_dir  '+H.pix_root+'p2p_process_tmp/_resized --b_dir '+H.pix_root+'p2p_process_tmp/_blank --operation combine --output_dir  '+H.pix_root+'p2p_process_tmp/_combined_blank'])\n",
        "clear_output()"
      ],
      "execution_count": 0,
      "outputs": []
    },
    {
      "cell_type": "code",
      "metadata": {
        "id": "ojmZi-mtcFRB",
        "colab_type": "code",
        "colab": {}
      },
      "source": [
        "H.Me(['cml','python tools/split.py --dir '+H.pix_root+'p2p_process_tmp/_combined_edged'])\n",
        "H.Me(['cml','python tools/split.py --dir '+H.pix_root+'p2p_process_tmp/_combined_blank'])\n",
        "H.Me(['cml','python tools/split.py --dir '+H.pix_root+'p2p_process_tmp/_resized'])\n",
        "H.Me(['cml','python tools/split.py --dir '+H.pix_root+'p2p_process_tmp/_blank'])\n",
        "H.Me(['cml','python tools/split.py --dir '+H.pix_root+'p2p_process_tmp/_edged'])\n",
        "clear_output()"
      ],
      "execution_count": 0,
      "outputs": []
    },
    {
      "cell_type": "code",
      "metadata": {
        "id": "BwdQevOOcLc0",
        "colab_type": "code",
        "colab": {}
      },
      "source": [
        "H.Me(['cml','cp -rf '+H.pix_root+'p2p_process_tmp/_resized/* '+H.local_datasets_path+H.dataset_name+'/_resized/'])\n",
        "H.Me(['cml','cp -rf '+H.pix_root+'p2p_process_tmp/_edged/* '+H.local_datasets_path+H.dataset_name+'/_edged/'])\n",
        "H.Me(['cml','cp -rf '+H.pix_root+'p2p_process_tmp/_blank/* '+H.local_datasets_path+H.dataset_name+'/_blank/'])\n",
        "H.Me(['cml','cp -rf '+H.pix_root+'p2p_process_tmp/_combined_edged/* '+H.local_datasets_path+H.dataset_name+'/_resize_edged_combined/'])\n",
        "H.Me(['cml','cp -rf '+H.pix_root+'p2p_process_tmp/_combined_blank/* '+H.local_datasets_path+H.dataset_name+'/_resize_blank_combined/'])\n",
        "clear_output()"
      ],
      "execution_count": 0,
      "outputs": []
    },
    {
      "cell_type": "code",
      "metadata": {
        "id": "yrautzlqyk15",
        "colab_type": "code",
        "colab": {}
      },
      "source": [
        "# H.Me(['cml','rm -r /content/installed_reps/piss-ant-pix2pix/p2p_process_tmp'])\n",
        "# clear_output()"
      ],
      "execution_count": 0,
      "outputs": []
    },
    {
      "cell_type": "code",
      "metadata": {
        "id": "pPhGPwokfHgO",
        "colab_type": "code",
        "colab": {}
      },
      "source": [
        "# zip sets to gdrive 1,51GB for pailkids set\n",
        "os.chdir(H.local_datasets_path+H.dataset_name)\n",
        "H.Me(['cml','zip -r \"'+H.gdrive_datasets_path+H.dataset_name+'_set.zip\" ./*'])\n",
        "os.chdir(H.pix_root)\n",
        "clear_output()"
      ],
      "execution_count": 0,
      "outputs": []
    },
    {
      "cell_type": "markdown",
      "metadata": {
        "id": "B3sR9cE4GISj",
        "colab_type": "text"
      },
      "source": [
        "## Load a pre processed set from drive"
      ]
    },
    {
      "cell_type": "code",
      "metadata": {
        "id": "4gKw8uNwGOIJ",
        "colab_type": "code",
        "colab": {}
      },
      "source": [
        "# H.dataset_name='cityscapes_set'\n",
        "# get_gdrive_dataset(H.dataset_name+'.zip','datasets','/content/drive/My Drive/datasets/')\n",
        "# result=H.Me(['vdir'])\n",
        "# H.local_dataset_root + H.dataset_name\n",
        "# print(H.method_args)\n",
        "# print(result)\n",
        "\n",
        "# H.dataset_name='elvis_edged_set'\n",
        "# get_gdrive_dataset(H.dataset_name+'.zip','datasets','/content/drive/My Drive/datasets/')\n",
        "# result=H.Me(['vdir'])\n",
        "# H.local_dataset_root + H.dataset_name\n",
        "# print(H.method_args)\n",
        "# print(result)\n",
        "\n",
        "# H.dataset_name='pail'\n",
        "# !mkdir -p {H.pix_root}dataset_test\n",
        "# get_gdrive_dataset('/content/drive/My Drive/Colab Notebooks/datasets/'+H.dataset_name+'_datasets.zip','dataset_test')\n",
        "# H.dataset_path=Path(H.ActiveSetPath)\n",
        "# H.Me(['cml','cp -rf '+H.pix_root+'/dataset_test/content/installed_reps/piss-ant-pix2pix/dataset_test/* '+ H.ActiveSetPath+'/'])\n",
        "# # H.Me(['cml','rm -r /content/installed_reps/piss-ant-pix2pix/dataset_test/content '])\n",
        "# Zip the model to gdrive\n",
        "\n",
        "\n",
        "\n",
        "!rm -r /content/installed_reps/piss-ant-pix2pix/content"
      ],
      "execution_count": 0,
      "outputs": []
    },
    {
      "cell_type": "markdown",
      "metadata": {
        "id": "-cDGyOqlwPY6",
        "colab_type": "text"
      },
      "source": [
        "## Load pretrained model and dataset files\n",
        "\n"
      ]
    },
    {
      "cell_type": "code",
      "metadata": {
        "id": "sW2arVj2wPD1",
        "colab_type": "code",
        "colab": {}
      },
      "source": [
        "# get the preprocessed dataset\n",
        "H.dataset_name='insect'\n",
        "get_gdrive_dataset(H.dataset_name+'_set.zip','datasets','datasets')\n",
        "H.ActiveSetPath=H.local_datasets_path + H.dataset_name+'/_resize_edged_combined/train'\n",
        "H.dataset_path=Path(H.ActiveSetPath)\n",
        "\n",
        "# download pretrained brain\n",
        "get_gdrive_dataset(H.dataset_name+'_model_training.zip','models','models')\n",
        "H.ActiveModelPath=H.pix_root +'models/'+H.dataset_name+'/model'\n",
        "\n",
        "# see if the index.html is working\n",
        "os.chdir(H.pix_root +'models/'+H.dataset_name+'/model')\n",
        "display.display(display.HTML('index.html'))\n",
        "\n",
        "os.chdir(H.pix_root)"
      ],
      "execution_count": 0,
      "outputs": []
    },
    {
      "cell_type": "code",
      "metadata": {
        "id": "7jhBpudvm8zM",
        "colab_type": "code",
        "colab": {}
      },
      "source": [
        "H.Me(['vdir'])"
      ],
      "execution_count": 0,
      "outputs": []
    },
    {
      "cell_type": "code",
      "metadata": {
        "id": "MvjLlIIonbtR",
        "colab_type": "code",
        "colab": {}
      },
      "source": [
        "!rm -r /content/installed_reps/piss-ant-pix2pix/models/content"
      ],
      "execution_count": 0,
      "outputs": []
    },
    {
      "cell_type": "code",
      "metadata": {
        "id": "rDZHM6k9axFc",
        "colab_type": "code",
        "colab": {}
      },
      "source": [
        "# print(H.pix_root+H.DS_root)\n",
        "# print(H.ActiveSetPath)\n",
        "# H.Me(['vdir'])\n",
        "      \n",
        "%reload_ext tensorboard\n",
        "import tensorflow as tf\n",
        "%tensorboard --logdir {}"
      ],
      "execution_count": 0,
      "outputs": []
    },
    {
      "cell_type": "markdown",
      "metadata": {
        "id": "I80S_6gs0Skh",
        "colab_type": "text"
      },
      "source": [
        "# Training"
      ]
    },
    {
      "cell_type": "code",
      "metadata": {
        "id": "8KLrCjcz4XQ0",
        "colab_type": "code",
        "colab": {}
      },
      "source": [
        "# TRAIN!!!!!\n",
        "output_folder=H.pix_root+'models/'+H.dataset_name+'/model'\n",
        "input_folder = H.local_datasets_path+H.dataset_name+'/_resize_edged_combined/train'"
      ],
      "execution_count": 0,
      "outputs": []
    },
    {
      "cell_type": "markdown",
      "metadata": {
        "id": "XTbz8OKxH7K3",
        "colab_type": "text"
      },
      "source": [
        "### help\n",
        ">['aspect_ratio = 1.0',\n",
        " 'batch_size = 16',\n",
        " 'beta1 = 0.5',\n",
        " 'checkpoint = /content/installed_reps/piss-ant-pix2pix/garbagepailkids_resize/training',\n",
        " 'display_freq = 1',\n",
        " 'flip = True',\n",
        " 'gan_weight = 1.0',\n",
        " 'input_dir = /content/installed_reps/piss-ant-pix2pix/garbagepailkids_resize/_combined/train',\n",
        " 'l1_weight = 0.0',\n",
        " 'lab_colorization = False',\n",
        " 'lr = 5e-05',\n",
        " 'max_epochs = 10',\n",
        " 'max_steps = None',\n",
        " 'mode = train',\n",
        " 'ndf = 64',\n",
        " 'ngf = 64',\n",
        " 'output_dir = /content/installed_reps/piss-ant-pix2pix/garbagepailkids_resize/training',\n",
        " 'patch_gan = 1',\n",
        " 'progress_freq = 1',\n",
        " 'save_freq = 100',\n",
        " 'scale_size = 266',\n",
        " 'seed = 0',\n",
        " 'skip_connection = 1',\n",
        " 'summary_freq = 1',\n",
        " 'trace_freq = 0',\n",
        " 'wgan = 1',\n",
        " 'which_direction = BtoA',\n",
        " '/content/installed_reps/piss-ant-pix2pix/garbagepailkids_resize/_combined/train']"
      ]
    },
    {
      "cell_type": "code",
      "metadata": {
        "id": "edHmUBDcgQsq",
        "colab_type": "code",
        "colab": {}
      },
      "source": [
        "training_epochs=2\n",
        "mode='train'\n",
        "direction='BtoA'\n",
        "lr=5e-05\n",
        "# lr = 9.12E-04\n",
        "!python pix2pix.py  --mode {mode} --batch_size 4 --summary_freq 10 --progress_freq 10 --save_freq 10 --display_freq 10 --output_dir {output_folder} --max_epochs {str(training_epochs)} --input_dir {input_folder} --which_direction {direction}\n",
        "\n",
        "# H.Me(['cml','python pix2pix.py  --mode '+mode+' --batch_size 4 --summary_freq 1 --progress_freq 10 --save_freq 100 --display_freq 10 --output_dir '+output_folder+' --max_epochs '+str(training_epochs)+' --input_dir '+input_folder+' --which_direction '+direction])\n"
      ],
      "execution_count": 0,
      "outputs": []
    },
    {
      "cell_type": "code",
      "metadata": {
        "id": "Zl3OYkIM3uvF",
        "colab_type": "code",
        "colab": {}
      },
      "source": [
        "%cd /content/installed_reps/piss-ant-pix2pix/models\n",
        "H.Me(['cml','zip -r \"'+H.gdrive_root+'/models/'+H.dataset_name+'_model_training.zip\" ./*'])\n",
        "%tensorboard --logdir={output_folder}"
      ],
      "execution_count": 0,
      "outputs": []
    },
    {
      "cell_type": "code",
      "metadata": {
        "id": "MG7gQ7UXwmWj",
        "colab_type": "code",
        "colab": {}
      },
      "source": [
        "training_epochs=2\n",
        "mode='train'\n",
        "direction='BtoA'\n",
        "lr=5e-05\n",
        "# lr = 9.12E-04\n",
        "# get the checkpoint dir\n",
        "\n",
        "\n",
        "start_with_checkpoint = '--checkpoint '+output_folder # '+with_checkpoint+' \n",
        "\n",
        "!python pix2pix.py {start_with_checkpoint} --mode {mode} --batch_size 4 --summary_freq 10 --progress_freq 10 --save_freq 10 --display_freq 10 --output_dir {output_folder} --max_epochs {str(training_epochs)} --input_dir {input_folder} --which_direction {direction}\n",
        "\n",
        "# H.Me(['cml','python pix2pix.py '+start_with_checkpoint+' --mode '+mode+' --batch_size 16 --summary_freq 50 --progress_freq 100 --save_freq 100 --display_freq 5 --output_dir '+output_folder+' --max_epochs '+str(training_epochs)+' --input_dir '+input_folder+' --which_direction '+direction])\n",
        "\n"
      ],
      "execution_count": 0,
      "outputs": []
    },
    {
      "cell_type": "code",
      "metadata": {
        "colab_type": "code",
        "id": "UstJjoDXxYdg",
        "colab": {}
      },
      "source": [
        "# Zip the model to gdrive\n",
        "%cd /content/installed_reps/piss-ant-pix2pix/models\n",
        "H.Me(['cml','zip -r \"'+H.gdrive_root+'/models/'+H.dataset_name+'_model_training.zip\" ./*'])\n",
        "# H.Me(['cml','unzip \"'+H.gdrive_root+'/models/'+H.dataset_name+'_'+str(training_epochs)+'_epoch_training.zip\" -d '+output_folder+'_pretrained'])"
      ],
      "execution_count": 0,
      "outputs": []
    },
    {
      "cell_type": "code",
      "metadata": {
        "id": "qFIvyJXLf6uz",
        "colab_type": "code",
        "colab": {}
      },
      "source": [
        "# checkpoints\n",
        "# /content/drive/My\\\\ Drive/Colab\\\\ Notebooks/pretrained_models/apes_1_epoch_training.zip\n",
        "# stored_models=H.Me(['globx',output_folder,'*outputs.png'])\n",
        "# print(stored_models)\n",
        "# # !ls -l /content/installed_resp/piss-ant-pix2pix/'+H.pix_root+'_resize/training_train"
      ],
      "execution_count": 0,
      "outputs": []
    },
    {
      "cell_type": "code",
      "metadata": {
        "id": "nczfhLOklxn7",
        "colab_type": "code",
        "colab": {}
      },
      "source": [
        "# !wget https://live.staticflickr.com/2936/33549790582_48a514baed_b.jpg"
      ],
      "execution_count": 0,
      "outputs": []
    },
    {
      "cell_type": "code",
      "metadata": {
        "id": "p5DaOKxDkKcK",
        "colab_type": "code",
        "colab": {}
      },
      "source": [
        "# /content/installed_resp/piss-ant-pix2pix/33549790582_48a514baed_b.jpg\n",
        "# !python pix2pix.py --mode test --output_dir /content/installed_resp/piss-ant-pix2pix/'+H.pix_root+'_resize/test --input_dir /content/installed_resp/piss-ant-pix2pix --seed 0 --checkpoint /content/installed_resp/piss-ant-pix2pix/'+H.pix_root+'_resize/training_train\n"
      ],
      "execution_count": 0,
      "outputs": []
    },
    {
      "cell_type": "code",
      "metadata": {
        "id": "gNvU9s7djrZb",
        "colab_type": "code",
        "colab": {}
      },
      "source": [
        "# save the complete model\n",
        "# !python /content/installed_resp/piss-ant-pix2pix/server/tools/export-checkpoint.py --checkpoint /content/installed_resp/piss-ant-pix2pix/'+H.pix_root+'_resize/_combined/train --output_file /content/installed_resp/piss-ant-pix2pix/'+H.pix_root+'_resize/training_train/'+H.pix_root+'_BtoA_model_save.bin"
      ],
      "execution_count": 0,
      "outputs": []
    },
    {
      "cell_type": "code",
      "metadata": {
        "id": "NxYR6zLkqpIU",
        "colab_type": "code",
        "colab": {}
      },
      "source": [
        "\n",
        "# # store zip to drive\n",
        "# !zip /content/installed_resp/piss-ant-pix2pix/'+H.pix_root+'/* /content/installed_resp/piss-ant-pix2pix/'+H.pix_root+'_original_images.zip\n",
        "# !zip /content/installed_resp/piss-ant-pix2pix/'+H.pix_root+'_resize/_combined/* /content/installed_resp/piss-ant-pix2pix/'+H.pix_root+'_dataset.zip\n",
        "# !zip /content/installed_resp/piss-ant-pix2pix/'+H.pix_root+'_resize/training_train/'+H.pix_root+'_BtoA_model_save.bin /content/installed_resp/piss-ant-pix2pix/'+H.pix_root+'_model_bin.zip\n",
        "# !zip /content/installed_resp/piss-ant-pix2pix/'+H.pix_root+'_resize/training_train/* /content/installed_resp/piss-ant-pix2pix/'+H.pix_root+'.zip\n",
        "\n",
        "# %cd /content/drive/My\\ Drive/Colab\\ Notebooks/Best_Colabs\n",
        "# !cp /content/installed_resp/piss-ant-pix2pix/'+H.pix_root+'_original_images.zip '+H.pix_root+'_original_images.zip\n",
        "# !cp /content/installed_resp/piss-ant-pix2pix/'+H.pix_root+'_dataset.zip ./'+H.pix_root+'_dataset.zip\n",
        "# !cp /content/installed_resp/piss-ant-pix2pix/'+H.pix_root+'_model_bin.zip ./'+H.pix_root+'_model_bin.zip\n",
        "# !cp /content/installed_resp/piss-ant-pix2pix/'+H.pix_root+'.zip ./'+H.pix_root+'.zip"
      ],
      "execution_count": 0,
      "outputs": []
    },
    {
      "cell_type": "markdown",
      "metadata": {
        "id": "nvAeYpopjrvD",
        "colab_type": "text"
      },
      "source": [
        "## pretrained\n"
      ]
    }
  ]
}