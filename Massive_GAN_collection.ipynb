{
  "nbformat": 4,
  "nbformat_minor": 0,
  "metadata": {
    "colab": {
      "name": "Massive_GAN_collection.ipynb",
      "version": "0.3.2",
      "provenance": [],
      "private_outputs": true,
      "include_colab_link": true
    },
    "kernelspec": {
      "name": "python3",
      "display_name": "Python 3"
    }
  },
  "cells": [
    {
      "cell_type": "markdown",
      "metadata": {
        "id": "view-in-github",
        "colab_type": "text"
      },
      "source": [
        "<a href=\"https://colab.research.google.com/github/bxck75/A1_Colabs/blob/master/Massive_GAN_collection.ipynb\" target=\"_parent\"><img src=\"https://colab.research.google.com/assets/colab-badge.svg\" alt=\"Open In Colab\"/></a>"
      ]
    },
    {
      "cell_type": "code",
      "metadata": {
        "id": "oiitX_iU6RE1",
        "colab_type": "code",
        "colab": {}
      },
      "source": [
        "# Gitgo class\n",
        "class GitGo():\n",
        "    import os\n",
        "  def __init__(self,rep,chdir=True,path='/content/'):\n",
        "    self.rep = rep\n",
        "    self.chdir = chdir\n",
        "    self.path = path\n",
        "    if self.rep == 'help':\n",
        "      self.help()\n",
        "    self.go() \n",
        "      \n",
        "  def help(self):\n",
        "    print(\"* pulls git rep and shows files \\\n",
        "            * returns root path for the repository \\\n",
        "            * Function needs repository <user>/<repository name> combination\\\n",
        "            * Switch chdir and define the rootpath for the repository\\\n",
        "            * Use : GitGo('<rep owner>/<rep name>', <True/False>, <root path>)\\\n",
        "          \")\n",
        "    sys.exit()\n",
        "    \n",
        "  def go(self):\n",
        "    self.rep=self.rep.split('/')\n",
        "    # change folder check\n",
        "    if self.chdir ==True:\n",
        "      #Switch to path\n",
        "      os.chdir(self.path)\n",
        "    # pull get the git rep\n",
        "    os.system('git clone https://github.com/'+self.rep[0]+'/'+self.rep[1]+'.git')\n",
        "    # Set the return value for rep rootpath\n",
        "    self.PATH=self.path+self.rep[1]\n",
        "    # show imported files\n",
        "    os.system('ls ' + self.PATH)\n",
        "    \n",
        "  def __repr__(self):\n",
        "    return self.PATH\n",
        "\n"
      ],
      "execution_count": 0,
      "outputs": []
    },
    {
      "cell_type": "code",
      "metadata": {
        "id": "TPGasJHc7qO1",
        "colab_type": "code",
        "colab": {}
      },
      "source": [
        "import os,sys\n",
        "reps=['chenyuntc/pytorch-book',\n",
        "        'lllyasviel/style2paints',\n",
        "        'llSourcell/GANS-for-style-transfer',\n",
        "        'opencv/open_model_zoo',\n",
        "        'hindupuravinash/the-gan-zoo',\n",
        "        'corenel/GAN-Zoo']\n",
        "print(reps[0])\n",
        "G=GitGo(reps[0])\n",
        "\n"
      ],
      "execution_count": 0,
      "outputs": []
    },
    {
      "cell_type": "code",
      "metadata": {
        "id": "znupbqxw72Ia",
        "colab_type": "code",
        "colab": {}
      },
      "source": [
        ""
      ],
      "execution_count": 0,
      "outputs": []
    }
  ]
}