{
  "nbformat": 4,
  "nbformat_minor": 0,
  "metadata": {
    "colab": {
      "name": "Notebooks.ipynb",
      "provenance": [],
      "private_outputs": true,
      "include_colab_link": true
    },
    "kernelspec": {
      "name": "python3",
      "display_name": "Python 3"
    }
  },
  "cells": [
    {
      "cell_type": "markdown",
      "metadata": {
        "id": "view-in-github",
        "colab_type": "text"
      },
      "source": [
        "<a href=\"https://colab.research.google.com/github/bxck75/A1_Colabs/blob/master/Notebooks.ipynb\" target=\"_parent\"><img src=\"https://colab.research.google.com/assets/colab-badge.svg\" alt=\"Open In Colab\"/></a>"
      ]
    },
    {
      "cell_type": "markdown",
      "metadata": {
        "id": "DCVV0ZX9-XtO",
        "colab_type": "text"
      },
      "source": [
        "# Links to nice notebooks\n",
        "[https://colab.research.google.com/github/bxck75/A1_Colabs/blob/master/FastAI_Pokemon_WGAN.ipynb](https://colab.research.google.com/github/bxck75/A1_Colabs/blob/master/FastAI_Pokemon_WGAN.ipynb)"
      ]
    }
  ]
}