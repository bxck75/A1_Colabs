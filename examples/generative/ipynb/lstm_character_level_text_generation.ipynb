{
  "cells": [
    {
      "cell_type": "markdown",
      "metadata": {
        "id": "poZA_MZmE0Ns"
      },
      "source": [
        "## Setup\n"
      ]
    },
    {
      "cell_type": "code",
      "execution_count": 1,
      "metadata": {
        "id": "kwYjW0ybE0Nt"
      },
      "outputs": [],
      "source": [
        "from tensorflow import keras\n",
        "from tensorflow.keras import layers\n",
        "import tensorflow as tf\n",
        "import numpy as np\n",
        "import random\n",
        "import io\n"
      ]
    },
    {
      "cell_type": "markdown",
      "metadata": {
        "id": "zaGu_wqOE0Nw"
      },
      "source": [
        "## Prepare the data\n"
      ]
    },
    {
      "cell_type": "code",
      "source": [
        "booklist = [[\"TreasureIsland.txt\",\"https://www.gutenberg.org/cache/epub/120/pg120.txt\"],['The_Adventures_of_Ferdinand_Count_Fathom.txt', 'https://www.gutenberg.org/cache/epub/6761/pg6761.txt']]"
      ],
      "metadata": {
        "id": "twLTqQOSFlgl"
      },
      "execution_count": 2,
      "outputs": []
    },
    {
      "cell_type": "code",
      "execution_count": 3,
      "metadata": {
        "id": "2XhKpvgBE0Nx",
        "outputId": "48247f0c-a1c5-4f6b-b054-c38b83a7f396",
        "colab": {
          "base_uri": "https://localhost:8080/"
        }
      },
      "outputs": [
        {
          "output_type": "stream",
          "name": "stdout",
          "text": [
            "Downloading data from https://www.gutenberg.org/cache/epub/120/pg120.txt\n",
            "399527/399527 [==============================] - 1s 2us/step\n",
            "Corpus length: 383560\n",
            "Total chars: 63\n",
            "Number of sequences: 127840\n"
          ]
        },
        {
          "output_type": "stream",
          "name": "stderr",
          "text": [
            "<ipython-input-3-2ffe1f178dc1>:26: DeprecationWarning: `np.bool` is a deprecated alias for the builtin `bool`. To silence this warning, use `bool` by itself. Doing this will not modify any behavior and is safe. If you specifically wanted the numpy scalar type, use `np.bool_` here.\n",
            "Deprecated in NumPy 1.20; for more details and guidance: https://numpy.org/devdocs/release/1.20.0-notes.html#deprecations\n",
            "  x = np.zeros((len(sentences), maxlen, len(chars)), dtype=np.bool)\n",
            "<ipython-input-3-2ffe1f178dc1>:27: DeprecationWarning: `np.bool` is a deprecated alias for the builtin `bool`. To silence this warning, use `bool` by itself. Doing this will not modify any behavior and is safe. If you specifically wanted the numpy scalar type, use `np.bool_` here.\n",
            "Deprecated in NumPy 1.20; for more details and guidance: https://numpy.org/devdocs/release/1.20.0-notes.html#deprecations\n",
            "  y = np.zeros((len(sentences), len(chars)), dtype=np.bool)\n"
          ]
        }
      ],
      "source": [
        "\n",
        "path = keras.utils.get_file(\n",
        "    booklist[0][0], origin=booklist[0][1]\n",
        ")\n",
        "with io.open(path, encoding=\"utf-8\") as f:\n",
        "    text = f.read().lower()\n",
        "    text = text.replace(\"\\n\", \" \")  # We remove newlines chars for nicer display\n",
        "    print(\"Corpus length:\", len(text))\n",
        "\n",
        "\n",
        "\n",
        "chars = sorted(list(set(text)))\n",
        "print(\"Total chars:\", len(chars))\n",
        "char_indices = dict((c, i) for i, c in enumerate(chars))\n",
        "indices_char = dict((i, c) for i, c in enumerate(chars))\n",
        "\n",
        "# cut the text in semi-redundant sequences of maxlen characters\n",
        "maxlen = 40\n",
        "step = 3\n",
        "sentences = []\n",
        "next_chars = []\n",
        "for i in range(0, len(text) - maxlen, step):\n",
        "    sentences.append(text[i : i + maxlen])\n",
        "    next_chars.append(text[i + maxlen])\n",
        "print(\"Number of sequences:\", len(sentences))\n",
        "\n",
        "x = np.zeros((len(sentences), maxlen, len(chars)), dtype=np.bool)\n",
        "y = np.zeros((len(sentences), len(chars)), dtype=np.bool)\n",
        "for i, sentence in enumerate(sentences):\n",
        "    for t, char in enumerate(sentence):\n",
        "        x[i, t, char_indices[char]] = 1\n",
        "    y[i, char_indices[next_chars[i]]] = 1\n",
        "\n"
      ]
    },
    {
      "cell_type": "markdown",
      "metadata": {
        "id": "zO4Yqyh0E0Ny"
      },
      "source": [
        "## Build the model: a single LSTM layer\n"
      ]
    },
    {
      "cell_type": "code",
      "execution_count": 4,
      "metadata": {
        "id": "FduS2WKjE0Nz"
      },
      "outputs": [],
      "source": [
        "model = keras.Sequential(\n",
        "    [\n",
        "        keras.Input(shape=(maxlen, len(chars))),\n",
        "        layers.LSTM(128),\n",
        "        layers.Dense(len(chars), activation=\"softmax\"),\n",
        "    ]\n",
        ")\n",
        "\n",
        "# Loads the weights\n",
        "\n",
        "optimizer = keras.optimizers.RMSprop(learning_rate=0.01)\n",
        "model.compile(loss=\"categorical_crossentropy\", optimizer=optimizer)\n"
      ]
    },
    {
      "cell_type": "markdown",
      "metadata": {
        "id": "DEbBZHAwE0N2"
      },
      "source": [
        "## Prepare the text sampling function\n"
      ]
    },
    {
      "cell_type": "code",
      "execution_count": 5,
      "metadata": {
        "id": "-bMMODAxE0N3"
      },
      "outputs": [],
      "source": [
        "\n",
        "def sample(preds, temperature=1.0):\n",
        "    # helper function to sample an index from a probability array\n",
        "    preds = np.asarray(preds).astype(\"float64\")\n",
        "    preds = np.log(preds) / temperature\n",
        "    exp_preds = np.exp(preds)\n",
        "    preds = exp_preds / np.sum(exp_preds)\n",
        "    probas = np.random.multinomial(1, preds, 1)\n",
        "    return np.argmax(probas)\n",
        "\n"
      ]
    },
    {
      "cell_type": "markdown",
      "metadata": {
        "id": "x-QAeNtgE0N4"
      },
      "source": [
        "## Train the model\n"
      ]
    },
    {
      "cell_type": "code",
      "source": [
        "!rm -r /content/training_1"
      ],
      "metadata": {
        "id": "r-5TYulsXYia"
      },
      "execution_count": 14,
      "outputs": []
    },
    {
      "cell_type": "code",
      "execution_count": 13,
      "metadata": {
        "id": "xqtiqfF2E0N4",
        "outputId": "ea24ed40-d20a-4298-e1a1-f84de569b6e7",
        "colab": {
          "base_uri": "https://localhost:8080/"
        }
      },
      "outputs": [
        {
          "output_type": "stream",
          "name": "stdout",
          "text": [
            "loading weights!\n",
            "Epoch 1/3\n",
            "991/999 [============================>.] - ETA: 0s - loss: 1.0257\n",
            "Epoch 1: saving model to /content/training_1/cp.ckpt\n",
            "999/999 [==============================] - 5s 5ms/step - loss: 1.0256\n",
            "Epoch 2/3\n",
            "994/999 [============================>.] - ETA: 0s - loss: 1.0282\n",
            "Epoch 2: saving model to /content/training_1/cp.ckpt\n",
            "999/999 [==============================] - 6s 6ms/step - loss: 1.0278\n",
            "Epoch 3/3\n",
            "990/999 [============================>.] - ETA: 0s - loss: 1.0247\n",
            "Epoch 3: saving model to /content/training_1/cp.ckpt\n",
            "999/999 [==============================] - 5s 5ms/step - loss: 1.0252\n",
            "\n",
            "Generating text after epoch: 0\n",
            "loading weights!\n",
            "Epoch 1/3\n",
            "991/999 [============================>.] - ETA: 0s - loss: 1.0248\n",
            "Epoch 1: saving model to /content/training_1/cp.ckpt\n"
          ]
        },
        {
          "output_type": "stream",
          "name": "stderr",
          "text": [
            "WARNING:absl:Found untraced functions such as lstm_cell_layer_call_fn, lstm_cell_layer_call_and_return_conditional_losses while saving (showing 2 of 2). These functions will not be directly callable after loading.\n"
          ]
        },
        {
          "output_type": "stream",
          "name": "stdout",
          "text": [
            "\b\b\b\b\b\b\b\b\b\b\b\b\b\b\b\b\b\b\b\b\b\b\b\b\b\b\b\b\b\b\b\b\b\b\b\b\b\b\b\b\b\b\b\b\b\b\b\b\b\b\b\b\b\b\b\b\b\b\b\b\b\b\b\b\b\r999/999 [==============================] - 9s 9ms/step - loss: 1.0250\n",
            "Epoch 2/3\n",
            "993/999 [============================>.] - ETA: 0s - loss: 1.0232\n",
            "Epoch 2: saving model to /content/training_1/cp.ckpt\n"
          ]
        },
        {
          "output_type": "stream",
          "name": "stderr",
          "text": [
            "WARNING:absl:Found untraced functions such as lstm_cell_layer_call_fn, lstm_cell_layer_call_and_return_conditional_losses while saving (showing 2 of 2). These functions will not be directly callable after loading.\n"
          ]
        },
        {
          "output_type": "stream",
          "name": "stdout",
          "text": [
            "\b\b\b\b\b\b\b\b\b\b\b\b\b\b\b\b\b\b\b\b\b\b\b\b\b\b\b\b\b\b\b\b\b\b\b\b\b\b\b\b\b\b\b\b\b\b\b\b\b\b\b\b\b\b\b\b\b\b\b\b\b\b\b\b\b\r999/999 [==============================] - 9s 9ms/step - loss: 1.0233\n",
            "Epoch 3/3\n",
            "993/999 [============================>.] - ETA: 0s - loss: 1.0282\n",
            "Epoch 3: saving model to /content/training_1/cp.ckpt\n"
          ]
        },
        {
          "output_type": "stream",
          "name": "stderr",
          "text": [
            "WARNING:absl:Found untraced functions such as lstm_cell_layer_call_fn, lstm_cell_layer_call_and_return_conditional_losses while saving (showing 2 of 2). These functions will not be directly callable after loading.\n"
          ]
        },
        {
          "output_type": "stream",
          "name": "stdout",
          "text": [
            "\b\b\b\b\b\b\b\b\b\b\b\b\b\b\b\b\b\b\b\b\b\b\b\b\b\b\b\b\b\b\b\b\b\b\b\b\b\b\b\b\b\b\b\b\b\b\b\b\b\b\b\b\b\b\b\b\b\b\b\b\b\b\b\b\b\r999/999 [==============================] - 10s 10ms/step - loss: 1.0284\n",
            "\n",
            "Generating text after epoch: 1\n",
            "loading weights!\n",
            "Epoch 1/3\n",
            "990/999 [============================>.] - ETA: 0s - loss: 1.0233\n",
            "Epoch 1: saving model to /content/training_1/cp.ckpt\n",
            "999/999 [==============================] - 5s 5ms/step - loss: 1.0235\n",
            "Epoch 2/3\n",
            "998/999 [============================>.] - ETA: 0s - loss: 1.0222\n",
            "Epoch 2: saving model to /content/training_1/cp.ckpt\n",
            "999/999 [==============================] - 6s 6ms/step - loss: 1.0222\n",
            "Epoch 3/3\n",
            "993/999 [============================>.] - ETA: 0s - loss: 1.0211\n",
            "Epoch 3: saving model to /content/training_1/cp.ckpt\n",
            "999/999 [==============================] - 5s 5ms/step - loss: 1.0214\n",
            "\n",
            "Generating text after epoch: 2\n",
            "loading weights!\n",
            "Epoch 1/3\n",
            "998/999 [============================>.] - ETA: 0s - loss: 1.0248\n",
            "Epoch 1: saving model to /content/training_1/cp.ckpt\n",
            "999/999 [==============================] - 5s 5ms/step - loss: 1.0248\n",
            "Epoch 2/3\n",
            "999/999 [==============================] - ETA: 0s - loss: 1.0207\n",
            "Epoch 2: saving model to /content/training_1/cp.ckpt\n",
            "999/999 [==============================] - 6s 6ms/step - loss: 1.0207\n",
            "Epoch 3/3\n",
            "994/999 [============================>.] - ETA: 0s - loss: 1.0200\n",
            "Epoch 3: saving model to /content/training_1/cp.ckpt\n",
            "999/999 [==============================] - 5s 5ms/step - loss: 1.0198\n",
            "\n",
            "Generating text after epoch: 3\n",
            "loading weights!\n",
            "Epoch 1/3\n",
            "995/999 [============================>.] - ETA: 0s - loss: 1.0190\n",
            "Epoch 1: saving model to /content/training_1/cp.ckpt\n",
            "999/999 [==============================] - 6s 6ms/step - loss: 1.0191\n",
            "Epoch 2/3\n",
            "991/999 [============================>.] - ETA: 0s - loss: 1.0143\n",
            "Epoch 2: saving model to /content/training_1/cp.ckpt\n",
            "999/999 [==============================] - 5s 5ms/step - loss: 1.0146\n",
            "Epoch 3/3\n",
            "999/999 [==============================] - ETA: 0s - loss: 1.0136\n",
            "Epoch 3: saving model to /content/training_1/cp.ckpt\n",
            "999/999 [==============================] - 6s 6ms/step - loss: 1.0136\n",
            "\n",
            "Generating text after epoch: 4\n",
            "loading weights!\n",
            "Epoch 1/3\n",
            "994/999 [============================>.] - ETA: 0s - loss: 1.0182\n",
            "Epoch 1: saving model to /content/training_1/cp.ckpt\n"
          ]
        },
        {
          "output_type": "stream",
          "name": "stderr",
          "text": [
            "WARNING:absl:Found untraced functions such as lstm_cell_layer_call_fn, lstm_cell_layer_call_and_return_conditional_losses while saving (showing 2 of 2). These functions will not be directly callable after loading.\n"
          ]
        },
        {
          "output_type": "stream",
          "name": "stdout",
          "text": [
            "\b\b\b\b\b\b\b\b\b\b\b\b\b\b\b\b\b\b\b\b\b\b\b\b\b\b\b\b\b\b\b\b\b\b\b\b\b\b\b\b\b\b\b\b\b\b\b\b\b\b\b\b\b\b\b\b\b\b\b\b\b\b\b\b\b\r999/999 [==============================] - 9s 9ms/step - loss: 1.0182\n",
            "Epoch 2/3\n",
            "995/999 [============================>.] - ETA: 0s - loss: 1.0146\n",
            "Epoch 2: saving model to /content/training_1/cp.ckpt\n"
          ]
        },
        {
          "output_type": "stream",
          "name": "stderr",
          "text": [
            "WARNING:absl:Found untraced functions such as lstm_cell_layer_call_fn, lstm_cell_layer_call_and_return_conditional_losses while saving (showing 2 of 2). These functions will not be directly callable after loading.\n"
          ]
        },
        {
          "output_type": "stream",
          "name": "stdout",
          "text": [
            "\b\b\b\b\b\b\b\b\b\b\b\b\b\b\b\b\b\b\b\b\b\b\b\b\b\b\b\b\b\b\b\b\b\b\b\b\b\b\b\b\b\b\b\b\b\b\b\b\b\b\b\b\b\b\b\b\b\b\b\b\b\b\b\b\b\r999/999 [==============================] - 10s 10ms/step - loss: 1.0149\n",
            "Epoch 3/3\n",
            "990/999 [============================>.] - ETA: 0s - loss: 1.0153\n",
            "Epoch 3: saving model to /content/training_1/cp.ckpt\n"
          ]
        },
        {
          "output_type": "stream",
          "name": "stderr",
          "text": [
            "WARNING:absl:Found untraced functions such as lstm_cell_layer_call_fn, lstm_cell_layer_call_and_return_conditional_losses while saving (showing 2 of 2). These functions will not be directly callable after loading.\n"
          ]
        },
        {
          "output_type": "stream",
          "name": "stdout",
          "text": [
            "\b\b\b\b\b\b\b\b\b\b\b\b\b\b\b\b\b\b\b\b\b\b\b\b\b\b\b\b\b\b\b\b\b\b\b\b\b\b\b\b\b\b\b\b\b\b\b\b\b\b\b\b\b\b\b\b\b\b\b\b\b\b\b\b\b\r999/999 [==============================] - 9s 9ms/step - loss: 1.0154\n",
            "\n",
            "Generating text after epoch: 5\n",
            "loading weights!\n",
            "Epoch 1/3\n",
            "997/999 [============================>.] - ETA: 0s - loss: 1.0152\n",
            "Epoch 1: saving model to /content/training_1/cp.ckpt\n",
            "999/999 [==============================] - 5s 5ms/step - loss: 1.0151\n",
            "Epoch 2/3\n",
            "999/999 [==============================] - ETA: 0s - loss: 1.0128\n",
            "Epoch 2: saving model to /content/training_1/cp.ckpt\n",
            "999/999 [==============================] - 5s 5ms/step - loss: 1.0128\n",
            "Epoch 3/3\n",
            "990/999 [============================>.] - ETA: 0s - loss: 1.0128\n",
            "Epoch 3: saving model to /content/training_1/cp.ckpt\n",
            "999/999 [==============================] - 5s 5ms/step - loss: 1.0130\n",
            "\n",
            "Generating text after epoch: 6\n",
            "loading weights!\n",
            "Epoch 1/3\n",
            "998/999 [============================>.] - ETA: 0s - loss: 1.0101\n",
            "Epoch 1: saving model to /content/training_1/cp.ckpt\n",
            "999/999 [==============================] - 6s 6ms/step - loss: 1.0099\n",
            "Epoch 2/3\n",
            "998/999 [============================>.] - ETA: 0s - loss: 1.0133\n",
            "Epoch 2: saving model to /content/training_1/cp.ckpt\n",
            "999/999 [==============================] - 5s 5ms/step - loss: 1.0133\n",
            "Epoch 3/3\n",
            "993/999 [============================>.] - ETA: 0s - loss: 1.0114\n",
            "Epoch 3: saving model to /content/training_1/cp.ckpt\n",
            "999/999 [==============================] - 5s 5ms/step - loss: 1.0119\n",
            "\n",
            "Generating text after epoch: 7\n",
            "loading weights!\n",
            "Epoch 1/3\n",
            "994/999 [============================>.] - ETA: 0s - loss: 1.0083\n",
            "Epoch 1: saving model to /content/training_1/cp.ckpt\n",
            "999/999 [==============================] - 5s 5ms/step - loss: 1.0085\n",
            "Epoch 2/3\n",
            "990/999 [============================>.] - ETA: 0s - loss: 1.0100\n",
            "Epoch 2: saving model to /content/training_1/cp.ckpt\n",
            "999/999 [==============================] - 6s 6ms/step - loss: 1.0098\n",
            "Epoch 3/3\n",
            "998/999 [============================>.] - ETA: 0s - loss: 1.0064\n",
            "Epoch 3: saving model to /content/training_1/cp.ckpt\n",
            "999/999 [==============================] - 5s 5ms/step - loss: 1.0066\n",
            "\n",
            "Generating text after epoch: 8\n",
            "loading weights!\n",
            "Epoch 1/3\n",
            "992/999 [============================>.] - ETA: 0s - loss: 1.0102\n",
            "Epoch 1: saving model to /content/training_1/cp.ckpt\n",
            "999/999 [==============================] - 5s 5ms/step - loss: 1.0101\n",
            "Epoch 2/3\n",
            "996/999 [============================>.] - ETA: 0s - loss: 1.0051\n",
            "Epoch 2: saving model to /content/training_1/cp.ckpt\n",
            "999/999 [==============================] - 5s 5ms/step - loss: 1.0051\n",
            "Epoch 3/3\n",
            "999/999 [==============================] - ETA: 0s - loss: 1.0058\n",
            "Epoch 3: saving model to /content/training_1/cp.ckpt\n",
            "999/999 [==============================] - 6s 6ms/step - loss: 1.0058\n",
            "\n",
            "Generating text after epoch: 9\n",
            "loading weights!\n",
            "Epoch 1/3\n",
            "991/999 [============================>.] - ETA: 0s - loss: 1.0066\n",
            "Epoch 1: saving model to /content/training_1/cp.ckpt\n"
          ]
        },
        {
          "output_type": "stream",
          "name": "stderr",
          "text": [
            "WARNING:absl:Found untraced functions such as lstm_cell_layer_call_fn, lstm_cell_layer_call_and_return_conditional_losses while saving (showing 2 of 2). These functions will not be directly callable after loading.\n"
          ]
        },
        {
          "output_type": "stream",
          "name": "stdout",
          "text": [
            "\b\b\b\b\b\b\b\b\b\b\b\b\b\b\b\b\b\b\b\b\b\b\b\b\b\b\b\b\b\b\b\b\b\b\b\b\b\b\b\b\b\b\b\b\b\b\b\b\b\b\b\b\b\b\b\b\b\b\b\b\b\b\b\b\b\r999/999 [==============================] - 9s 9ms/step - loss: 1.0069\n",
            "Epoch 2/3\n",
            "989/999 [============================>.] - ETA: 0s - loss: 1.0047\n",
            "Epoch 2: saving model to /content/training_1/cp.ckpt\n"
          ]
        },
        {
          "output_type": "stream",
          "name": "stderr",
          "text": [
            "WARNING:absl:Found untraced functions such as lstm_cell_layer_call_fn, lstm_cell_layer_call_and_return_conditional_losses while saving (showing 2 of 2). These functions will not be directly callable after loading.\n"
          ]
        },
        {
          "output_type": "stream",
          "name": "stdout",
          "text": [
            "\b\b\b\b\b\b\b\b\b\b\b\b\b\b\b\b\b\b\b\b\b\b\b\b\b\b\b\b\b\b\b\b\b\b\b\b\b\b\b\b\b\b\b\b\b\b\b\b\b\b\b\b\b\b\b\b\b\b\b\b\b\b\b\b\b\r999/999 [==============================] - 8s 8ms/step - loss: 1.0045\n",
            "Epoch 3/3\n",
            "997/999 [============================>.] - ETA: 0s - loss: 1.0049\n",
            "Epoch 3: saving model to /content/training_1/cp.ckpt\n"
          ]
        },
        {
          "output_type": "stream",
          "name": "stderr",
          "text": [
            "WARNING:absl:Found untraced functions such as lstm_cell_layer_call_fn, lstm_cell_layer_call_and_return_conditional_losses while saving (showing 2 of 2). These functions will not be directly callable after loading.\n"
          ]
        },
        {
          "output_type": "stream",
          "name": "stdout",
          "text": [
            "\b\b\b\b\b\b\b\b\b\b\b\b\b\b\b\b\b\b\b\b\b\b\b\b\b\b\b\b\b\b\b\b\b\b\b\b\b\b\b\b\b\b\b\b\b\b\b\b\b\b\b\b\b\b\b\b\b\b\b\b\b\b\b\b\b\r999/999 [==============================] - 9s 9ms/step - loss: 1.0051\n",
            "\n",
            "Generating text after epoch: 10\n",
            "loading weights!\n",
            "Epoch 1/3\n",
            "995/999 [============================>.] - ETA: 0s - loss: 1.0043\n",
            "Epoch 1: saving model to /content/training_1/cp.ckpt\n",
            "999/999 [==============================] - 6s 6ms/step - loss: 1.0046\n",
            "Epoch 2/3\n",
            "999/999 [==============================] - ETA: 0s - loss: 1.0063\n",
            "Epoch 2: saving model to /content/training_1/cp.ckpt\n",
            "999/999 [==============================] - 5s 5ms/step - loss: 1.0063\n",
            "Epoch 3/3\n",
            "990/999 [============================>.] - ETA: 0s - loss: 1.0053\n",
            "Epoch 3: saving model to /content/training_1/cp.ckpt\n",
            "999/999 [==============================] - 5s 5ms/step - loss: 1.0057\n",
            "\n",
            "Generating text after epoch: 11\n",
            "loading weights!\n",
            "Epoch 1/3\n",
            "996/999 [============================>.] - ETA: 0s - loss: 1.0021\n",
            "Epoch 1: saving model to /content/training_1/cp.ckpt\n",
            "999/999 [==============================] - 5s 5ms/step - loss: 1.0024\n",
            "Epoch 2/3\n",
            "997/999 [============================>.] - ETA: 0s - loss: 1.0057\n",
            "Epoch 2: saving model to /content/training_1/cp.ckpt\n",
            "999/999 [==============================] - 5s 5ms/step - loss: 1.0061\n",
            "Epoch 3/3\n",
            "999/999 [==============================] - ETA: 0s - loss: 1.0031\n",
            "Epoch 3: saving model to /content/training_1/cp.ckpt\n",
            "999/999 [==============================] - 5s 5ms/step - loss: 1.0031\n",
            "\n",
            "Generating text after epoch: 12\n",
            "loading weights!\n",
            "Epoch 1/3\n",
            "995/999 [============================>.] - ETA: 0s - loss: 1.0033\n",
            "Epoch 1: saving model to /content/training_1/cp.ckpt\n",
            "999/999 [==============================] - 5s 5ms/step - loss: 1.0031\n",
            "Epoch 2/3\n",
            "996/999 [============================>.] - ETA: 0s - loss: 1.0002\n",
            "Epoch 2: saving model to /content/training_1/cp.ckpt\n",
            "999/999 [==============================] - 5s 6ms/step - loss: 1.0006\n",
            "Epoch 3/3\n",
            "998/999 [============================>.] - ETA: 0s - loss: 1.0005\n",
            "Epoch 3: saving model to /content/training_1/cp.ckpt\n",
            "999/999 [==============================] - 5s 5ms/step - loss: 1.0005\n",
            "\n",
            "Generating text after epoch: 13\n",
            "loading weights!\n",
            "Epoch 1/3\n",
            "998/999 [============================>.] - ETA: 0s - loss: 0.9979\n",
            "Epoch 1: saving model to /content/training_1/cp.ckpt\n",
            "999/999 [==============================] - 5s 5ms/step - loss: 0.9981\n",
            "Epoch 2/3\n",
            "998/999 [============================>.] - ETA: 0s - loss: 0.9989\n",
            "Epoch 2: saving model to /content/training_1/cp.ckpt\n",
            "999/999 [==============================] - 5s 5ms/step - loss: 0.9990\n",
            "Epoch 3/3\n",
            "999/999 [==============================] - ETA: 0s - loss: 0.9964\n",
            "Epoch 3: saving model to /content/training_1/cp.ckpt\n",
            "999/999 [==============================] - 5s 5ms/step - loss: 0.9964\n",
            "\n",
            "Generating text after epoch: 14\n",
            "loading weights!\n",
            "Epoch 1/3\n",
            "997/999 [============================>.] - ETA: 0s - loss: 0.9947\n",
            "Epoch 1: saving model to /content/training_1/cp.ckpt\n",
            "999/999 [==============================] - 6s 6ms/step - loss: 0.9944\n",
            "Epoch 2/3\n",
            "991/999 [============================>.] - ETA: 0s - loss: 0.9968\n",
            "Epoch 2: saving model to /content/training_1/cp.ckpt\n",
            "999/999 [==============================] - 5s 5ms/step - loss: 0.9962\n",
            "Epoch 3/3\n",
            "992/999 [============================>.] - ETA: 0s - loss: 0.9922\n",
            "Epoch 3: saving model to /content/training_1/cp.ckpt\n",
            "999/999 [==============================] - 5s 5ms/step - loss: 0.9929\n",
            "\n",
            "Generating text after epoch: 15\n",
            "loading weights!\n",
            "Epoch 1/3\n",
            "996/999 [============================>.] - ETA: 0s - loss: 0.9908\n",
            "Epoch 1: saving model to /content/training_1/cp.ckpt\n",
            "999/999 [==============================] - 5s 5ms/step - loss: 0.9909\n",
            "Epoch 2/3\n",
            "990/999 [============================>.] - ETA: 0s - loss: 0.9910\n",
            "Epoch 2: saving model to /content/training_1/cp.ckpt\n",
            "999/999 [==============================] - 6s 6ms/step - loss: 0.9912\n",
            "Epoch 3/3\n",
            "990/999 [============================>.] - ETA: 0s - loss: 0.9870\n",
            "Epoch 3: saving model to /content/training_1/cp.ckpt\n",
            "999/999 [==============================] - 5s 5ms/step - loss: 0.9875\n",
            "\n",
            "Generating text after epoch: 16\n",
            "loading weights!\n",
            "Epoch 1/3\n",
            "989/999 [============================>.] - ETA: 0s - loss: 0.9887\n",
            "Epoch 1: saving model to /content/training_1/cp.ckpt\n",
            "999/999 [==============================] - 5s 5ms/step - loss: 0.9890\n",
            "Epoch 2/3\n",
            "998/999 [============================>.] - ETA: 0s - loss: 0.9888\n",
            "Epoch 2: saving model to /content/training_1/cp.ckpt\n",
            "999/999 [==============================] - 6s 6ms/step - loss: 0.9889\n",
            "Epoch 3/3\n",
            "995/999 [============================>.] - ETA: 0s - loss: 0.9907\n",
            "Epoch 3: saving model to /content/training_1/cp.ckpt\n",
            "999/999 [==============================] - 5s 5ms/step - loss: 0.9908\n",
            "\n",
            "Generating text after epoch: 17\n",
            "loading weights!\n",
            "Epoch 1/3\n",
            "997/999 [============================>.] - ETA: 0s - loss: 0.9918\n",
            "Epoch 1: saving model to /content/training_1/cp.ckpt\n",
            "999/999 [==============================] - 6s 6ms/step - loss: 0.9920\n",
            "Epoch 2/3\n",
            "994/999 [============================>.] - ETA: 0s - loss: 0.9838\n",
            "Epoch 2: saving model to /content/training_1/cp.ckpt\n",
            "999/999 [==============================] - 5s 5ms/step - loss: 0.9841\n",
            "Epoch 3/3\n",
            "997/999 [============================>.] - ETA: 0s - loss: 0.9862\n",
            "Epoch 3: saving model to /content/training_1/cp.ckpt\n",
            "999/999 [==============================] - 6s 6ms/step - loss: 0.9862\n",
            "\n",
            "Generating text after epoch: 18\n",
            "loading weights!\n",
            "Epoch 1/3\n",
            "992/999 [============================>.] - ETA: 0s - loss: 0.9855\n",
            "Epoch 1: saving model to /content/training_1/cp.ckpt\n",
            "999/999 [==============================] - 5s 5ms/step - loss: 0.9854\n",
            "Epoch 2/3\n",
            "996/999 [============================>.] - ETA: 0s - loss: 0.9850\n",
            "Epoch 2: saving model to /content/training_1/cp.ckpt\n",
            "999/999 [==============================] - 6s 6ms/step - loss: 0.9851\n",
            "Epoch 3/3\n",
            "995/999 [============================>.] - ETA: 0s - loss: 0.9803\n",
            "Epoch 3: saving model to /content/training_1/cp.ckpt\n",
            "999/999 [==============================] - 5s 5ms/step - loss: 0.9807\n",
            "\n",
            "Generating text after epoch: 19\n",
            "loading weights!\n",
            "Epoch 1/3\n",
            "994/999 [============================>.] - ETA: 0s - loss: 0.9840\n",
            "Epoch 1: saving model to /content/training_1/cp.ckpt\n"
          ]
        },
        {
          "output_type": "stream",
          "name": "stderr",
          "text": [
            "WARNING:absl:Found untraced functions such as lstm_cell_layer_call_fn, lstm_cell_layer_call_and_return_conditional_losses while saving (showing 2 of 2). These functions will not be directly callable after loading.\n"
          ]
        },
        {
          "output_type": "stream",
          "name": "stdout",
          "text": [
            "\b\b\b\b\b\b\b\b\b\b\b\b\b\b\b\b\b\b\b\b\b\b\b\b\b\b\b\b\b\b\b\b\b\b\b\b\b\b\b\b\b\b\b\b\b\b\b\b\b\b\b\b\b\b\b\b\b\b\b\b\b\b\b\b\b\r999/999 [==============================] - 9s 9ms/step - loss: 0.9840\n",
            "Epoch 2/3\n",
            "989/999 [============================>.] - ETA: 0s - loss: 1.0816\n",
            "Epoch 2: saving model to /content/training_1/cp.ckpt\n"
          ]
        },
        {
          "output_type": "stream",
          "name": "stderr",
          "text": [
            "WARNING:absl:Found untraced functions such as lstm_cell_layer_call_fn, lstm_cell_layer_call_and_return_conditional_losses while saving (showing 2 of 2). These functions will not be directly callable after loading.\n"
          ]
        },
        {
          "output_type": "stream",
          "name": "stdout",
          "text": [
            "\b\b\b\b\b\b\b\b\b\b\b\b\b\b\b\b\b\b\b\b\b\b\b\b\b\b\b\b\b\b\b\b\b\b\b\b\b\b\b\b\b\b\b\b\b\b\b\b\b\b\b\b\b\b\b\b\b\b\b\b\b\b\b\b\b\r999/999 [==============================] - 10s 10ms/step - loss: 1.0834\n",
            "Epoch 3/3\n",
            "992/999 [============================>.] - ETA: 0s - loss: 1.2701\n",
            "Epoch 3: saving model to /content/training_1/cp.ckpt\n"
          ]
        },
        {
          "output_type": "stream",
          "name": "stderr",
          "text": [
            "WARNING:absl:Found untraced functions such as lstm_cell_layer_call_fn, lstm_cell_layer_call_and_return_conditional_losses while saving (showing 2 of 2). These functions will not be directly callable after loading.\n"
          ]
        },
        {
          "output_type": "stream",
          "name": "stdout",
          "text": [
            "\b\b\b\b\b\b\b\b\b\b\b\b\b\b\b\b\b\b\b\b\b\b\b\b\b\b\b\b\b\b\b\b\b\b\b\b\b\b\b\b\b\b\b\b\b\b\b\b\b\b\b\b\b\b\b\b\b\b\b\b\b\b\b\b\b\r999/999 [==============================] - 8s 8ms/step - loss: 1.2707\n",
            "\n",
            "Generating text after epoch: 20\n",
            "loading weights!\n",
            "Epoch 1/3\n",
            "999/999 [==============================] - ETA: 0s - loss: 0.9834\n",
            "Epoch 1: saving model to /content/training_1/cp.ckpt\n",
            "999/999 [==============================] - 6s 6ms/step - loss: 0.9834\n",
            "Epoch 2/3\n",
            "999/999 [==============================] - ETA: 0s - loss: 0.9811\n",
            "Epoch 2: saving model to /content/training_1/cp.ckpt\n",
            "999/999 [==============================] - 5s 5ms/step - loss: 0.9811\n",
            "Epoch 3/3\n",
            "998/999 [============================>.] - ETA: 0s - loss: 0.9832\n",
            "Epoch 3: saving model to /content/training_1/cp.ckpt\n",
            "999/999 [==============================] - 5s 5ms/step - loss: 0.9834\n",
            "\n",
            "Generating text after epoch: 21\n",
            "loading weights!\n",
            "Epoch 1/3\n",
            "991/999 [============================>.] - ETA: 0s - loss: 0.9784\n",
            "Epoch 1: saving model to /content/training_1/cp.ckpt\n",
            "999/999 [==============================] - 5s 5ms/step - loss: 0.9795\n",
            "Epoch 2/3\n",
            "994/999 [============================>.] - ETA: 0s - loss: 0.9798\n",
            "Epoch 2: saving model to /content/training_1/cp.ckpt\n",
            "999/999 [==============================] - 5s 5ms/step - loss: 0.9798\n",
            "Epoch 3/3\n",
            "989/999 [============================>.] - ETA: 0s - loss: 0.9787\n",
            "Epoch 3: saving model to /content/training_1/cp.ckpt\n",
            "999/999 [==============================] - 5s 5ms/step - loss: 0.9795\n",
            "\n",
            "Generating text after epoch: 22\n",
            "loading weights!\n",
            "Epoch 1/3\n",
            "992/999 [============================>.] - ETA: 0s - loss: 0.9781\n",
            "Epoch 1: saving model to /content/training_1/cp.ckpt\n",
            "999/999 [==============================] - 6s 6ms/step - loss: 0.9781\n",
            "Epoch 2/3\n",
            "990/999 [============================>.] - ETA: 0s - loss: 0.9786\n",
            "Epoch 2: saving model to /content/training_1/cp.ckpt\n",
            "999/999 [==============================] - 5s 5ms/step - loss: 0.9788\n",
            "Epoch 3/3\n",
            "995/999 [============================>.] - ETA: 0s - loss: 0.9774\n",
            "Epoch 3: saving model to /content/training_1/cp.ckpt\n",
            "999/999 [==============================] - 6s 6ms/step - loss: 0.9777\n",
            "\n",
            "Generating text after epoch: 23\n",
            "loading weights!\n",
            "Epoch 1/3\n",
            "991/999 [============================>.] - ETA: 0s - loss: 0.9824\n",
            "Epoch 1: saving model to /content/training_1/cp.ckpt\n",
            "999/999 [==============================] - 5s 5ms/step - loss: 0.9826\n",
            "Epoch 2/3\n",
            "989/999 [============================>.] - ETA: 0s - loss: 0.9826\n",
            "Epoch 2: saving model to /content/training_1/cp.ckpt\n",
            "999/999 [==============================] - 5s 5ms/step - loss: 0.9830\n",
            "Epoch 3/3\n",
            "993/999 [============================>.] - ETA: 0s - loss: 0.9801\n",
            "Epoch 3: saving model to /content/training_1/cp.ckpt\n",
            "999/999 [==============================] - 5s 5ms/step - loss: 0.9809\n",
            "\n",
            "Generating text after epoch: 24\n",
            "loading weights!\n",
            "Epoch 1/3\n",
            "993/999 [============================>.] - ETA: 0s - loss: 0.9771\n",
            "Epoch 1: saving model to /content/training_1/cp.ckpt\n",
            "999/999 [==============================] - 6s 6ms/step - loss: 0.9774\n",
            "Epoch 2/3\n",
            "993/999 [============================>.] - ETA: 0s - loss: 0.9759\n",
            "Epoch 2: saving model to /content/training_1/cp.ckpt\n",
            "999/999 [==============================] - 5s 5ms/step - loss: 0.9764\n",
            "Epoch 3/3\n",
            "997/999 [============================>.] - ETA: 0s - loss: 0.9784\n",
            "Epoch 3: saving model to /content/training_1/cp.ckpt\n",
            "999/999 [==============================] - 5s 5ms/step - loss: 0.9783\n",
            "\n",
            "Generating text after epoch: 25\n",
            "loading weights!\n",
            "Epoch 1/3\n",
            "991/999 [============================>.] - ETA: 0s - loss: 0.9790\n",
            "Epoch 1: saving model to /content/training_1/cp.ckpt\n",
            "999/999 [==============================] - 5s 5ms/step - loss: 0.9787\n",
            "Epoch 2/3\n",
            "994/999 [============================>.] - ETA: 0s - loss: 0.9711\n",
            "Epoch 2: saving model to /content/training_1/cp.ckpt\n",
            "999/999 [==============================] - 6s 6ms/step - loss: 0.9712\n",
            "Epoch 3/3\n",
            "990/999 [============================>.] - ETA: 0s - loss: 0.9735\n",
            "Epoch 3: saving model to /content/training_1/cp.ckpt\n",
            "999/999 [==============================] - 5s 5ms/step - loss: 0.9734\n",
            "\n",
            "Generating text after epoch: 26\n",
            "loading weights!\n",
            "Epoch 1/3\n",
            "995/999 [============================>.] - ETA: 0s - loss: 0.9710\n",
            "Epoch 1: saving model to /content/training_1/cp.ckpt\n",
            "999/999 [==============================] - 5s 5ms/step - loss: 0.9709\n",
            "Epoch 2/3\n",
            "997/999 [============================>.] - ETA: 0s - loss: 0.9697\n",
            "Epoch 2: saving model to /content/training_1/cp.ckpt\n",
            "999/999 [==============================] - 5s 5ms/step - loss: 0.9697\n",
            "Epoch 3/3\n",
            "995/999 [============================>.] - ETA: 0s - loss: 0.9701\n",
            "Epoch 3: saving model to /content/training_1/cp.ckpt\n",
            "999/999 [==============================] - 5s 5ms/step - loss: 0.9701\n",
            "\n",
            "Generating text after epoch: 27\n",
            "loading weights!\n",
            "Epoch 1/3\n",
            "995/999 [============================>.] - ETA: 0s - loss: 0.9703\n",
            "Epoch 1: saving model to /content/training_1/cp.ckpt\n",
            "999/999 [==============================] - 5s 5ms/step - loss: 0.9700\n",
            "Epoch 2/3\n",
            "996/999 [============================>.] - ETA: 0s - loss: 0.9646\n",
            "Epoch 2: saving model to /content/training_1/cp.ckpt\n",
            "999/999 [==============================] - 5s 5ms/step - loss: 0.9650\n",
            "Epoch 3/3\n",
            "999/999 [==============================] - ETA: 0s - loss: 0.9702\n",
            "Epoch 3: saving model to /content/training_1/cp.ckpt\n",
            "999/999 [==============================] - 5s 5ms/step - loss: 0.9702\n",
            "\n",
            "Generating text after epoch: 28\n",
            "loading weights!\n",
            "Epoch 1/3\n",
            "999/999 [==============================] - ETA: 0s - loss: 0.9666\n",
            "Epoch 1: saving model to /content/training_1/cp.ckpt\n",
            "999/999 [==============================] - 5s 5ms/step - loss: 0.9666\n",
            "Epoch 2/3\n",
            "999/999 [==============================] - ETA: 0s - loss: 0.9664\n",
            "Epoch 2: saving model to /content/training_1/cp.ckpt\n",
            "999/999 [==============================] - 5s 5ms/step - loss: 0.9664\n",
            "Epoch 3/3\n",
            "992/999 [============================>.] - ETA: 0s - loss: 0.9671\n",
            "Epoch 3: saving model to /content/training_1/cp.ckpt\n",
            "999/999 [==============================] - 5s 5ms/step - loss: 0.9680\n",
            "\n",
            "Generating text after epoch: 29\n",
            "loading weights!\n",
            "Epoch 1/3\n",
            "989/999 [============================>.] - ETA: 0s - loss: 0.9659\n",
            "Epoch 1: saving model to /content/training_1/cp.ckpt\n"
          ]
        },
        {
          "output_type": "stream",
          "name": "stderr",
          "text": [
            "WARNING:absl:Found untraced functions such as lstm_cell_layer_call_fn, lstm_cell_layer_call_and_return_conditional_losses while saving (showing 2 of 2). These functions will not be directly callable after loading.\n"
          ]
        },
        {
          "output_type": "stream",
          "name": "stdout",
          "text": [
            "\b\b\b\b\b\b\b\b\b\b\b\b\b\b\b\b\b\b\b\b\b\b\b\b\b\b\b\b\b\b\b\b\b\b\b\b\b\b\b\b\b\b\b\b\b\b\b\b\b\b\b\b\b\b\b\b\b\b\b\b\b\b\b\b\b\r999/999 [==============================] - 9s 9ms/step - loss: 0.9666\n",
            "Epoch 2/3\n",
            "995/999 [============================>.] - ETA: 0s - loss: 0.9668\n",
            "Epoch 2: saving model to /content/training_1/cp.ckpt\n"
          ]
        },
        {
          "output_type": "stream",
          "name": "stderr",
          "text": [
            "WARNING:absl:Found untraced functions such as lstm_cell_layer_call_fn, lstm_cell_layer_call_and_return_conditional_losses while saving (showing 2 of 2). These functions will not be directly callable after loading.\n"
          ]
        },
        {
          "output_type": "stream",
          "name": "stdout",
          "text": [
            "\b\b\b\b\b\b\b\b\b\b\b\b\b\b\b\b\b\b\b\b\b\b\b\b\b\b\b\b\b\b\b\b\b\b\b\b\b\b\b\b\b\b\b\b\b\b\b\b\b\b\b\b\b\b\b\b\b\b\b\b\b\b\b\b\b\r999/999 [==============================] - 8s 8ms/step - loss: 0.9669\n",
            "Epoch 3/3\n",
            "995/999 [============================>.] - ETA: 0s - loss: 0.9663\n",
            "Epoch 3: saving model to /content/training_1/cp.ckpt\n"
          ]
        },
        {
          "output_type": "stream",
          "name": "stderr",
          "text": [
            "WARNING:absl:Found untraced functions such as lstm_cell_layer_call_fn, lstm_cell_layer_call_and_return_conditional_losses while saving (showing 2 of 2). These functions will not be directly callable after loading.\n"
          ]
        },
        {
          "output_type": "stream",
          "name": "stdout",
          "text": [
            "\b\b\b\b\b\b\b\b\b\b\b\b\b\b\b\b\b\b\b\b\b\b\b\b\b\b\b\b\b\b\b\b\b\b\b\b\b\b\b\b\b\b\b\b\b\b\b\b\b\b\b\b\b\b\b\b\b\b\b\b\b\b\b\b\b\r999/999 [==============================] - 10s 10ms/step - loss: 0.9667\n",
            "\n",
            "Generating text after epoch: 30\n",
            "loading weights!\n",
            "Epoch 1/3\n",
            "997/999 [============================>.] - ETA: 0s - loss: 0.9673\n",
            "Epoch 1: saving model to /content/training_1/cp.ckpt\n",
            "999/999 [==============================] - 6s 6ms/step - loss: 0.9673\n",
            "Epoch 2/3\n",
            "997/999 [============================>.] - ETA: 0s - loss: 0.9672\n",
            "Epoch 2: saving model to /content/training_1/cp.ckpt\n",
            "999/999 [==============================] - 5s 5ms/step - loss: 0.9670\n",
            "Epoch 3/3\n",
            "998/999 [============================>.] - ETA: 0s - loss: 0.9621\n",
            "Epoch 3: saving model to /content/training_1/cp.ckpt\n",
            "999/999 [==============================] - 5s 5ms/step - loss: 0.9620\n",
            "\n",
            "Generating text after epoch: 31\n",
            "loading weights!\n",
            "Epoch 1/3\n",
            "990/999 [============================>.] - ETA: 0s - loss: 0.9613\n",
            "Epoch 1: saving model to /content/training_1/cp.ckpt\n",
            "999/999 [==============================] - 5s 5ms/step - loss: 0.9614\n",
            "Epoch 2/3\n",
            "993/999 [============================>.] - ETA: 0s - loss: 0.9659\n",
            "Epoch 2: saving model to /content/training_1/cp.ckpt\n",
            "999/999 [==============================] - 5s 5ms/step - loss: 0.9659\n",
            "Epoch 3/3\n",
            "989/999 [============================>.] - ETA: 0s - loss: 0.9676\n",
            "Epoch 3: saving model to /content/training_1/cp.ckpt\n",
            "999/999 [==============================] - 6s 6ms/step - loss: 0.9678\n",
            "\n",
            "Generating text after epoch: 32\n",
            "loading weights!\n",
            "Epoch 1/3\n",
            "997/999 [============================>.] - ETA: 0s - loss: 0.9667\n",
            "Epoch 1: saving model to /content/training_1/cp.ckpt\n",
            "999/999 [==============================] - 6s 6ms/step - loss: 0.9665\n",
            "Epoch 2/3\n",
            "999/999 [==============================] - ETA: 0s - loss: 0.9635\n",
            "Epoch 2: saving model to /content/training_1/cp.ckpt\n",
            "999/999 [==============================] - 5s 5ms/step - loss: 0.9635\n",
            "Epoch 3/3\n",
            "999/999 [==============================] - ETA: 0s - loss: 0.9625\n",
            "Epoch 3: saving model to /content/training_1/cp.ckpt\n",
            "999/999 [==============================] - 5s 5ms/step - loss: 0.9625\n",
            "\n",
            "Generating text after epoch: 33\n",
            "loading weights!\n",
            "Epoch 1/3\n",
            "992/999 [============================>.] - ETA: 0s - loss: 0.9568\n",
            "Epoch 1: saving model to /content/training_1/cp.ckpt\n",
            "999/999 [==============================] - 5s 5ms/step - loss: 0.9571\n",
            "Epoch 2/3\n",
            "998/999 [============================>.] - ETA: 0s - loss: 0.9577\n",
            "Epoch 2: saving model to /content/training_1/cp.ckpt\n",
            "999/999 [==============================] - 6s 6ms/step - loss: 0.9577\n",
            "Epoch 3/3\n",
            "990/999 [============================>.] - ETA: 0s - loss: 0.9584\n",
            "Epoch 3: saving model to /content/training_1/cp.ckpt\n",
            "999/999 [==============================] - 5s 5ms/step - loss: 0.9591\n",
            "\n",
            "Generating text after epoch: 34\n",
            "loading weights!\n",
            "Epoch 1/3\n",
            "998/999 [============================>.] - ETA: 0s - loss: 0.9575\n",
            "Epoch 1: saving model to /content/training_1/cp.ckpt\n",
            "999/999 [==============================] - 6s 6ms/step - loss: 0.9575\n",
            "Epoch 2/3\n",
            "991/999 [============================>.] - ETA: 0s - loss: 0.9560\n",
            "Epoch 2: saving model to /content/training_1/cp.ckpt\n",
            "999/999 [==============================] - 5s 5ms/step - loss: 0.9561\n",
            "Epoch 3/3\n",
            "991/999 [============================>.] - ETA: 0s - loss: 0.9558\n",
            "Epoch 3: saving model to /content/training_1/cp.ckpt\n",
            "999/999 [==============================] - 6s 6ms/step - loss: 0.9557\n",
            "\n",
            "Generating text after epoch: 35\n",
            "loading weights!\n",
            "Epoch 1/3\n",
            "997/999 [============================>.] - ETA: 0s - loss: 0.9536\n",
            "Epoch 1: saving model to /content/training_1/cp.ckpt\n",
            "999/999 [==============================] - 5s 5ms/step - loss: 0.9537\n",
            "Epoch 2/3\n",
            "995/999 [============================>.] - ETA: 0s - loss: 0.9545\n",
            "Epoch 2: saving model to /content/training_1/cp.ckpt\n",
            "999/999 [==============================] - 5s 5ms/step - loss: 0.9547\n",
            "Epoch 3/3\n",
            "990/999 [============================>.] - ETA: 0s - loss: 0.9560\n",
            "Epoch 3: saving model to /content/training_1/cp.ckpt\n",
            "999/999 [==============================] - 5s 5ms/step - loss: 0.9564\n",
            "\n",
            "Generating text after epoch: 36\n",
            "loading weights!\n",
            "Epoch 1/3\n",
            "999/999 [==============================] - ETA: 0s - loss: 0.9548\n",
            "Epoch 1: saving model to /content/training_1/cp.ckpt\n",
            "999/999 [==============================] - 6s 6ms/step - loss: 0.9548\n",
            "Epoch 2/3\n",
            "990/999 [============================>.] - ETA: 0s - loss: 0.9554\n",
            "Epoch 2: saving model to /content/training_1/cp.ckpt\n",
            "999/999 [==============================] - 5s 5ms/step - loss: 0.9557\n",
            "Epoch 3/3\n",
            "997/999 [============================>.] - ETA: 0s - loss: 0.9565\n",
            "Epoch 3: saving model to /content/training_1/cp.ckpt\n",
            "999/999 [==============================] - 6s 6ms/step - loss: 0.9565\n",
            "\n",
            "Generating text after epoch: 37\n",
            "loading weights!\n",
            "Epoch 1/3\n",
            "996/999 [============================>.] - ETA: 0s - loss: 0.9562\n",
            "Epoch 1: saving model to /content/training_1/cp.ckpt\n",
            "999/999 [==============================] - 5s 5ms/step - loss: 0.9563\n",
            "Epoch 2/3\n",
            "994/999 [============================>.] - ETA: 0s - loss: 0.9529\n",
            "Epoch 2: saving model to /content/training_1/cp.ckpt\n",
            "999/999 [==============================] - 5s 5ms/step - loss: 0.9529\n",
            "Epoch 3/3\n",
            "997/999 [============================>.] - ETA: 0s - loss: 0.9489\n",
            "Epoch 3: saving model to /content/training_1/cp.ckpt\n",
            "999/999 [==============================] - 5s 5ms/step - loss: 0.9489\n",
            "\n",
            "Generating text after epoch: 38\n",
            "loading weights!\n",
            "Epoch 1/3\n",
            "992/999 [============================>.] - ETA: 0s - loss: 0.9507\n",
            "Epoch 1: saving model to /content/training_1/cp.ckpt\n",
            "999/999 [==============================] - 5s 5ms/step - loss: 0.9510\n",
            "Epoch 2/3\n",
            "993/999 [============================>.] - ETA: 0s - loss: 0.9484\n",
            "Epoch 2: saving model to /content/training_1/cp.ckpt\n",
            "999/999 [==============================] - 5s 5ms/step - loss: 0.9488\n",
            "Epoch 3/3\n",
            "999/999 [==============================] - ETA: 0s - loss: 0.9516\n",
            "Epoch 3: saving model to /content/training_1/cp.ckpt\n",
            "999/999 [==============================] - 5s 5ms/step - loss: 0.9516\n",
            "\n",
            "Generating text after epoch: 39\n",
            "...Diversity: 0.2\n",
            "...Generating with seed: \"drinks?” cried the squire.  “no, sir,” r\"\n",
            "...Generated:  etund  “there is a man learts, that’s a little of the coast of the consho. and the corner of the cover was a good of the water.  “i’ll say he was done aboard, and you’re the horse, there’s straigs! you’ve a good beast of the most come to the shupit to the shund of the cover men of the tries, and i remern as i could have been on the strange to the shund of the trees of the cover men all the straigh\n",
            "\n",
            "...Diversity: 0.5\n",
            "...Generating with seed: \"drinks?” cried the squire.  “no, sir,” r\"\n"
          ]
        },
        {
          "output_type": "stream",
          "name": "stderr",
          "text": [
            "<ipython-input-5-0d226062c96c>:4: RuntimeWarning: divide by zero encountered in log\n",
            "  preds = np.log(preds) / temperature\n"
          ]
        },
        {
          "output_type": "stream",
          "name": "stdout",
          "text": [
            "...Generated:  etund the doct. ‘block himself was the track and some for his face is no me a man to take to see himber shake; and if you mare had heard a chatch of the coast of the green to have the tall flashes of the doctor’s longer came to the shupies:                             pow of the man the money again to the secres.  “for, when you say! and i’m been some mone, and i’ll tell you the cook came to the m\n",
            "\n",
            "...Diversity: 1.0\n",
            "...Generating with seed: \"drinks?” cried the squire.  “no, sir,” r\"\n",
            "...Generated:  etund gaved he cont; and the more of the conshor is that he had not uuse, on the other bars of priniatleh and light man’s ebering good expose, not another never metime, surrling merciles the fores and some it, before you mark-qusted maybecuances reply.”  “the,” said the captain.  “now, you’d be dangeons, steps?”  “is that many bearger for it!” said me in the old phokes thank. now, of this cruise. \n",
            "\n",
            "...Diversity: 1.2\n",
            "...Generating with seed: \"drinks?” cried the squire.  “no, sir,” r\"\n",
            "...Generated:  etunt call  the moothon of the taste sat ssime that it. i see, there was the mudd back on mbstant to their frozh was two all like tree towarss of the most could hung ready, and came undring longious compani it and sohul couldn’s not a rusk doctor” had found in the sonjofe of one, “in to re-saling on the spyaon, frinte, she “go scome, began morn.” said morgan, would have snear the cabinf frint firs\n",
            "\n"
          ]
        }
      ],
      "source": [
        "import os\n",
        "epochs = 40\n",
        "batch_size = 128\n",
        "\n",
        "checkpoint_path = \"/content/training_1/cp.ckpt\"\n",
        "checkpoint_dir = os.path.dirname(checkpoint_path)\n",
        "\n",
        "\n",
        "for epoch in range(epochs):\n",
        "    if epoch in [1,5,10,20,30,40]:\n",
        "        save_weight_bool = False\n",
        "    else:\n",
        "        save_weight_bool = True\n",
        "\n",
        "    # Create a callback that saves the model's weights\n",
        "    cp_callback = tf.keras.callbacks.ModelCheckpoint(filepath=checkpoint_path,\n",
        "                                                 save_weights_only=save_weight_bool,\n",
        "                                                 verbose=1)\n",
        "\n",
        "    if os.path.exists('/content/training_1/checkpoint'):\n",
        "        print('loading weights!')\n",
        "        model.load_weights(checkpoint_path)\n",
        "    \n",
        "    model.fit(x, y, batch_size=batch_size, epochs=3,callbacks=[cp_callback])\n",
        "    print()\n",
        "    print(\"Generating text after epoch: %d\" % epoch)\n",
        "    if epoch in [39]:\n",
        "        start_index = random.randint(0, len(text) - maxlen - 1)\n",
        "        for diversity in [0.2, 0.5, 1.0, 1.2]:\n",
        "            print(\"...Diversity:\", diversity)\n",
        "\n",
        "            generated = \"\"\n",
        "            sentence = text[start_index : start_index + maxlen]\n",
        "            print('...Generating with seed: \"' + sentence + '\"')\n",
        "\n",
        "            for i in range(400):\n",
        "                x_pred = np.zeros((1, maxlen, len(chars)))\n",
        "                for t, char in enumerate(sentence):\n",
        "                    x_pred[0, t, char_indices[char]] = 1.0\n",
        "                preds = model.predict(x_pred, verbose=0)[0]\n",
        "                next_index = sample(preds, diversity)\n",
        "                next_char = indices_char[next_index]\n",
        "                sentence = sentence[1:] + next_char\n",
        "                generated += next_char\n",
        "\n",
        "            print(\"...Generated: \", generated)\n",
        "            print()\n"
      ]
    },
    {
      "cell_type": "code",
      "source": [
        "from google.colab import files\n",
        "!zip -r /content/training_1.zip /content/training_1\n",
        "files.download('/content/training_1.zip')"
      ],
      "metadata": {
        "id": "YCDK_Wi1ktYI",
        "outputId": "2ee01073-7e3c-4a78-81c8-1344cc33fd74",
        "colab": {
          "base_uri": "https://localhost:8080/",
          "height": 225
        }
      },
      "execution_count": 14,
      "outputs": [
        {
          "output_type": "stream",
          "name": "stdout",
          "text": [
            "  adding: content/training_1/ (stored 0%)\n",
            "  adding: content/training_1/cp.ckpt.data-00000-of-00001 (deflated 7%)\n",
            "  adding: content/training_1/cp.ckpt.index (deflated 51%)\n",
            "  adding: content/training_1/cp.ckpt/ (stored 0%)\n",
            "  adding: content/training_1/cp.ckpt/variables/ (stored 0%)\n",
            "  adding: content/training_1/cp.ckpt/variables/variables.index (deflated 51%)\n",
            "  adding: content/training_1/cp.ckpt/variables/variables.data-00000-of-00001 (deflated 7%)\n",
            "  adding: content/training_1/cp.ckpt/keras_metadata.pb (deflated 85%)\n",
            "  adding: content/training_1/cp.ckpt/saved_model.pb (deflated 91%)\n",
            "  adding: content/training_1/cp.ckpt/fingerprint.pb (stored 0%)\n",
            "  adding: content/training_1/cp.ckpt/assets/ (stored 0%)\n",
            "  adding: content/training_1/checkpoint (deflated 38%)\n"
          ]
        },
        {
          "output_type": "display_data",
          "data": {
            "text/plain": [
              "<IPython.core.display.Javascript object>"
            ],
            "application/javascript": [
              "\n",
              "    async function download(id, filename, size) {\n",
              "      if (!google.colab.kernel.accessAllowed) {\n",
              "        return;\n",
              "      }\n",
              "      const div = document.createElement('div');\n",
              "      const label = document.createElement('label');\n",
              "      label.textContent = `Downloading \"${filename}\": `;\n",
              "      div.appendChild(label);\n",
              "      const progress = document.createElement('progress');\n",
              "      progress.max = size;\n",
              "      div.appendChild(progress);\n",
              "      document.body.appendChild(div);\n",
              "\n",
              "      const buffers = [];\n",
              "      let downloaded = 0;\n",
              "\n",
              "      const channel = await google.colab.kernel.comms.open(id);\n",
              "      // Send a message to notify the kernel that we're ready.\n",
              "      channel.send({})\n",
              "\n",
              "      for await (const message of channel.messages) {\n",
              "        // Send a message to notify the kernel that we're ready.\n",
              "        channel.send({})\n",
              "        if (message.buffers) {\n",
              "          for (const buffer of message.buffers) {\n",
              "            buffers.push(buffer);\n",
              "            downloaded += buffer.byteLength;\n",
              "            progress.value = downloaded;\n",
              "          }\n",
              "        }\n",
              "      }\n",
              "      const blob = new Blob(buffers, {type: 'application/binary'});\n",
              "      const a = document.createElement('a');\n",
              "      a.href = window.URL.createObjectURL(blob);\n",
              "      a.download = filename;\n",
              "      div.appendChild(a);\n",
              "      a.click();\n",
              "      div.remove();\n",
              "    }\n",
              "  "
            ]
          },
          "metadata": {}
        },
        {
          "output_type": "display_data",
          "data": {
            "text/plain": [
              "<IPython.core.display.Javascript object>"
            ],
            "application/javascript": [
              "download(\"download_35b6fa38-d16e-49ab-866f-6cdba373dccf\", \"training_1.zip\", 1657572)"
            ]
          },
          "metadata": {}
        }
      ]
    },
    {
      "cell_type": "code",
      "source": [
        "def predict(_model, seed, diversity=0.5, NrOffChars=1000):\n",
        "  \n",
        "    generated = \"\"\n",
        "    sentence = seed\n",
        "    print('...Generating with seed: \"' + sentence + '\"')\n",
        "\n",
        "    for i in range(NrOffChars):\n",
        "        x_pred = np.zeros((1, maxlen, len(chars)))\n",
        "        for t, char in enumerate(sentence):\n",
        "            x_pred[0, t, char_indices[char]] = 1.0\n",
        "        preds = _model.predict(x_pred, verbose=0)[0]\n",
        "        next_index = sample(preds, diversity)\n",
        "        next_char = indices_char[next_index]\n",
        "        sentence = sentence[1:] + next_char\n",
        "        generated += next_char\n",
        "\n",
        "    print(\"...Generated: \", generated)\n",
        "    print()\n",
        "\n",
        "\n",
        "predict(model, \"hello u stupid ai\", 0.5, 1000)"
      ],
      "metadata": {
        "id": "Lx2BgYsYWHv_",
        "outputId": "709f6c6a-31e0-4af6-8aac-87ac155208d7",
        "colab": {
          "base_uri": "https://localhost:8080/"
        }
      },
      "execution_count": 12,
      "outputs": [
        {
          "output_type": "stream",
          "name": "stdout",
          "text": [
            "...Generating with seed: \"hello u stupid ai\"\n",
            "...Generated:  umbwbywbmcmmycfbwumcmummmbmwyfccybbwbmwymffbpwmymbcpbmybmuwbfbwbmmwmymmibbbwcpwyyybbcbcwmbwfmwbubwbwwwymmfypawwybmbbmbwwmmbbbmwubfmywuwmwbculwmysbwmbmymcwmumbmwbcmbcmbcmbnymbwbcbymyymffbbbmmpwbmmbmimcmbywswbmbbmbbbbbcbmbbcmfmmbbmbcsbfmcmbfbymwbbfmmwwmmomaynmbybypbwymmbmbbmmmwmymmbrpywaymswufbbmbcbbyymmbmywcsplybbwmcbwmmmwnmpwwbbmmwoycnwmbmwmybmwbmysyywmsmibccybbymmbcmbybwmymmchmwmwmpbmbmmmcybwfmsmmwwfmwmwmbbmbccmsmwcbnbmmbcmbbbmyfcmwpusmbmbmymbybyybcmywmycmfwmwbwgwpmymybcybwmbfbbwmcmyyiymgpbmbyyymlbcmfmmwwbmmgmybmmbwywclmbmmbcuyyrwfblmmmgmwbwbccbmbrbbbmmacuybbwybmywmuymbmwfmmbbmbcbmwsybbwwbyycdbfbfbywsbbwwywbfybymmywmymbbfmmwycmmrmlypwmbmwcmbbmasfwbmwcmycibpbmbmmlmrsbsmabmblsbmwbmbwbcbwbysnsbblbmbbpumncwbbpbwcwbbbbcbmmmwprccybmypyubpwbwcfwmmwmmwwmmmwwywwmbywfmywmbwwibmlwwcycsmwbbwmwblmmmfmbcbpbmmmsmwbbbyh.mbwlwwbbmmafmbbbbbbcmfbmbmamwwmmywwbbbyyybyyymmlbmwmmbmmbfybcbwuwbbycyybywmwmbycnsmbmblimwbybcmcwbbwybybfwbbbfvmbcbsbwclwpimmbmymmcpwcbymmbbmbbpwwbfpsbmabbmmbwbfbwbbmybwcmbbscwbymwymb\n",
            "\n"
          ]
        }
      ]
    }
  ],
  "metadata": {
    "accelerator": "GPU",
    "colab": {
      "name": "lstm_character_level_text_generation",
      "provenance": []
    },
    "kernelspec": {
      "display_name": "Python 3",
      "language": "python",
      "name": "python3"
    },
    "language_info": {
      "codemirror_mode": {
        "name": "ipython",
        "version": 3
      },
      "file_extension": ".py",
      "mimetype": "text/x-python",
      "name": "python",
      "nbconvert_exporter": "python",
      "pygments_lexer": "ipython3",
      "version": "3.7.0"
    }
  },
  "nbformat": 4,
  "nbformat_minor": 0
}