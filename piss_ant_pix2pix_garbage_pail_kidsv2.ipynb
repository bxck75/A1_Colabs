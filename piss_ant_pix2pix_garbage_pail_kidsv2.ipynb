{
  "nbformat": 4,
  "nbformat_minor": 0,
  "metadata": {
    "colab": {
      "name": "piss_ant_pix2pix_garbage_pail_kidsv2.ipynb",
      "provenance": [],
      "private_outputs": true,
      "collapsed_sections": [],
      "include_colab_link": true
    },
    "kernelspec": {
      "name": "python3",
      "display_name": "Python 3"
    },
    "accelerator": "GPU"
  },
  "cells": [
    {
      "cell_type": "markdown",
      "metadata": {
        "id": "view-in-github",
        "colab_type": "text"
      },
      "source": [
        "<a href=\"https://colab.research.google.com/github/bxck75/A1_Colabs/blob/master/piss_ant_pix2pix_garbage_pail_kidsv2.ipynb\" target=\"_parent\"><img src=\"https://colab.research.google.com/assets/colab-badge.svg\" alt=\"Open In Colab\"/></a>"
      ]
    },
    {
      "cell_type": "code",
      "metadata": {
        "id": "rRqbekgSPIVi",
        "colab_type": "code",
        "colab": {}
      },
      "source": [
        "# Helpers Loading\n",
        "from pathlib import Path\n",
        "lib_file=Path('/content/lib/Helpers.py')\n",
        "if not lib_file.is_file():\n",
        "    import os\n",
        "    os.system('mkdir -p /content/lib')\n",
        "    os.chdir('/content/lib')\n",
        "    os.system('wget https://raw.githubusercontent.com/bxck75/A1_Colabs/master/Helpers.py')\n",
        "    os.system('wget https://raw.githubusercontent.com/bxck75/A1_Colabs/master/myrepcol.py')\n",
        "    os.chdir('/content/')\n",
        "# import inspect\n",
        "from lib.Helpers import Helpers\n",
        "from lib.myrepcol import reps\n",
        "# regular imports\n",
        "from fastai.vision import *\n",
        "from fastai.vision.gan import *\n",
        "import seaborn as sns\n",
        "import numpy as np\n",
        "import pandas as pd\n",
        "import fastai\n",
        "from IPython.display import clear_output\n",
        "# Init helpers\n",
        "H=Helpers()\n",
        "#  remove sample_data\n",
        "H.Me(['cml','rm -r /content/sample_data'])\n",
        "reps_custom=['bxck75/piss-ant-pix2pix']\n",
        "\n",
        "H.Me(['inst_reps',reps_custom,'/content/installed_reps',True,True])\n",
        "H.pix_root='/content/installed_reps/piss-ant-pix2pix/'\n",
        "\n",
        "def get_gdrive_dataset(pack):\n",
        "    import google\n",
        "    from google.colab import drive\n",
        "    drive.mount('/content/drive', force_remount=True)\n",
        "    os.chdir('/content/drive/My Drive')\n",
        "    H.Me(['mkd',['dataset','models'],H.pix_root])\n",
        "    H.Me(['cml','cp -r '+pack+' '+H.pix_root+'dataset/'])\n",
        "    os.chdir(H.pix_root+'dataset')\n",
        "    H.Me(['cml','unzip -q '+pack])\n",
        "    H.Me(['cml','rm -r '+pack])\n",
        "    os.chdir(H.pix_root)\n",
        "\n",
        "def MethHelp(libs):\n",
        "    os_help=H.Me(['vdir',libs])\n",
        "    #make a list containing libs values of os_help\n",
        "    listOfLibs = [x[0] for x in os_help]\n",
        "    #make a list containing libs method values of os_help\n",
        "    listOfMethods= [x[1] for x in os_help]\n",
        "    # Create a zipped list of tuples from above lists\n",
        "    zippedList =  list(zip(listOfLibs, listOfMethods[0:5]))\n",
        "    zippedList\n",
        "    # request help on method from list\n",
        "    return zippedList\n",
        "\n",
        "# Garbgepailkids dataset\n",
        "H.dataset_name='garbagepailkids'\n",
        "garbagepailkids_path=Path(H.pix_root+\"dataset/\" + H.dataset_name)\n",
        "print(garbagepailkids_path)\n",
        "get_gdrive_dataset(H.dataset_name+'.zip')\n",
        "\n",
        "# H.dataset_name='kaggle-one-shot-pokemon'\n",
        "# pokemon_type='/pokemon-a'\n",
        "# pokemon_path = Path(\"/content/pokemon_dataset/\" + H.dataset_name + pokemon_type)\n",
        "# print(pokemon_path)\n",
        "# get_gdrive_dataset(H.dataset_name+'.zip')"
      ],
      "execution_count": 0,
      "outputs": []
    },
    {
      "cell_type": "code",
      "metadata": {
        "id": "rly433VrN31O",
        "colab_type": "code",
        "colab": {}
      },
      "source": [
        "os.chdir(H.pix_root)\n"
      ],
      "execution_count": 0,
      "outputs": []
    },
    {
      "cell_type": "markdown",
      "metadata": {
        "id": "TELmRbBrfqFV",
        "colab_type": "text"
      },
      "source": [
        "##Get images and make the dataset\n",
        "    --resize\n",
        "    --blank center clone\n",
        "    --edged clone\n",
        "    --combine blank set\n",
        "    --combine edged set\n",
        "    --split both sets\n",
        "    --copy the combined set to there home "
      ]
    },
    {
      "cell_type": "code",
      "metadata": {
        "id": "dXXgqIjgyXyF",
        "colab_type": "code",
        "colab": {}
      },
      "source": [
        "H.Me(['cml','rm -r '+H.pix_root+'p2p_process_tmp'])"
      ],
      "execution_count": 0,
      "outputs": []
    },
    {
      "cell_type": "code",
      "metadata": {
        "id": "5V-nlYwkO0RK",
        "colab_type": "code",
        "colab": {}
      },
      "source": [
        "H.Me(['mkd',['_combined','_blank','_edged','_resized','_combined_blank','_combined_edged'],H.pix_root+'p2p_process_tmp'])\n",
        "H.Me(['mkd',['garbagepailkids_resize_edged_combined','garbagepailkids_resize_blank_combined','garbagepailkids_resized','garbagepailkids_edged','garbagepailkids_blank'],H.pix_root+'dataset'])\n",
        "clear_output()"
      ],
      "execution_count": 0,
      "outputs": []
    },
    {
      "cell_type": "code",
      "metadata": {
        "id": "5IqKiRqsb3fS",
        "colab_type": "code",
        "colab": {}
      },
      "source": [
        "H.Me(['cml','python tools/process.py --input_dir '+H.pix_root+'dataset/garbagepailkids/ --operation resize --size 400 --output_dir '+H.pix_root+'p2p_process_tmp/_resized/'])\n",
        "clear_output()"
      ],
      "execution_count": 0,
      "outputs": []
    },
    {
      "cell_type": "code",
      "metadata": {
        "id": "M1brNoL1b8Nz",
        "colab_type": "code",
        "colab": {}
      },
      "source": [
        "H.Me(['cml','python tools/process.py --input_dir '+H.pix_root+'p2p_process_tmp/_resized --operation blank --output_dir '+H.pix_root+'p2p_process_tmp/_blank'])\n",
        "clear_output()"
      ],
      "execution_count": 0,
      "outputs": []
    },
    {
      "cell_type": "code",
      "metadata": {
        "id": "dKgoVHPzJnge",
        "colab_type": "code",
        "colab": {}
      },
      "source": [
        "H.Me(['cml','python tools/edge.py --input_dir '+H.pix_root+'p2p_process_tmp/_resized --output_dir '+H.pix_root+'p2p_process_tmp/_edged'])\n",
        "clear_output()"
      ],
      "execution_count": 0,
      "outputs": []
    },
    {
      "cell_type": "code",
      "metadata": {
        "colab_type": "code",
        "id": "_RqmUdgXtw8u",
        "colab": {}
      },
      "source": [
        "H.Me(['cml','python tools/process.py --input_dir  '+H.pix_root+'p2p_process_tmp/_resized --b_dir '+H.pix_root+'p2p_process_tmp/_edged --operation combine --output_dir  '+H.pix_root+'p2p_process_tmp/_combined_edged'])\n",
        "clear_output()"
      ],
      "execution_count": 0,
      "outputs": []
    },
    {
      "cell_type": "code",
      "metadata": {
        "id": "hU4ytgp0cDoa",
        "colab_type": "code",
        "colab": {}
      },
      "source": [
        "H.Me(['cml','python tools/process.py --input_dir  '+H.pix_root+'p2p_process_tmp/_resized --b_dir '+H.pix_root+'p2p_process_tmp/_blank --operation combine --output_dir  '+H.pix_root+'p2p_process_tmp/_combined_blank'])\n",
        "clear_output()"
      ],
      "execution_count": 0,
      "outputs": []
    },
    {
      "cell_type": "code",
      "metadata": {
        "id": "ojmZi-mtcFRB",
        "colab_type": "code",
        "colab": {}
      },
      "source": [
        "H.Me(['cml','python tools/split.py --dir '+H.pix_root+'p2p_process_tmp/_combined_edged'])\n",
        "H.Me(['cml','python tools/split.py --dir '+H.pix_root+'p2p_process_tmp/_combined_blank'])\n",
        "H.Me(['cml','python tools/split.py --dir '+H.pix_root+'p2p_process_tmp/_resized'])\n",
        "H.Me(['cml','python tools/split.py --dir '+H.pix_root+'p2p_process_tmp/_blank'])\n",
        "H.Me(['cml','python tools/split.py --dir '+H.pix_root+'p2p_process_tmp/_edged'])\n",
        "clear_output()"
      ],
      "execution_count": 0,
      "outputs": []
    },
    {
      "cell_type": "code",
      "metadata": {
        "id": "yrautzlqyk15",
        "colab_type": "code",
        "colab": {}
      },
      "source": [
        ""
      ],
      "execution_count": 0,
      "outputs": []
    },
    {
      "cell_type": "code",
      "metadata": {
        "id": "BwdQevOOcLc0",
        "colab_type": "code",
        "colab": {}
      },
      "source": [
        "H.Me(['cml','cp -rf '+H.pix_root+'p2p_process_tmp/_resized/* '+H.pix_root+'dataset/garbagepailkids_resized/'])\n",
        "H.Me(['cml','cp -rf '+H.pix_root+'p2p_process_tmp/_edged/* '+H.pix_root+'dataset/garbagepailkids_edged/'])\n",
        "H.Me(['cml','cp -rf '+H.pix_root+'p2p_process_tmp/_blank/* '+H.pix_root+'dataset/garbagepailkids_blank/'])\n",
        "H.Me(['cml','cp -rf '+H.pix_root+'p2p_process_tmp/_combined_edged/* '+H.pix_root+'dataset/garbagepailkids_resize_edged_combined/'])\n",
        "H.Me(['cml','cp -rf '+H.pix_root+'p2p_process_tmp/_combined_blank/* '+H.pix_root+'dataset/garbagepailkids_resize_blank_combined/'])\n",
        "clear_output()"
      ],
      "execution_count": 0,
      "outputs": []
    },
    {
      "cell_type": "code",
      "metadata": {
        "id": "pPhGPwokfHgO",
        "colab_type": "code",
        "colab": {}
      },
      "source": [
        "# zip sets to gdrive 1,51GB for pailkids set\n",
        "!mkdir /content/drive/My\\ Drive/Colab\\ Notebooks/datasets\n",
        "H.Me(['cml','zip -r /content/drive/My\\ Drive/Colab\\ Notebooks/datasets/pail_datasets.zip /content/installed_reps/piss-ant-pix2pix/dataset/*'])\n",
        "clear_output()"
      ],
      "execution_count": 0,
      "outputs": []
    },
    {
      "cell_type": "markdown",
      "metadata": {
        "id": "I80S_6gs0Skh",
        "colab_type": "text"
      },
      "source": [
        "# Training"
      ]
    },
    {
      "cell_type": "code",
      "metadata": {
        "id": "8KLrCjcz4XQ0",
        "colab_type": "code",
        "colab": {}
      },
      "source": [
        "# TRAIN!!!!!\n",
        "output_folder=H.pix_root+'models/garbagepailkids_resize_edged_combined/training'\n",
        "input_folder = H.pix_root+'dataset/garbagepailkids_resize_edged_combined/train'"
      ],
      "execution_count": 0,
      "outputs": []
    },
    {
      "cell_type": "code",
      "metadata": {
        "id": "Rdblh3BP3ADZ",
        "colab_type": "code",
        "colab": {}
      },
      "source": [
        "# !kill 1110\n",
        "# Initialization tensorboard\n",
        "import tensorflow as tf\n",
        "# Load the TensorBoard notebook extension\n",
        "try:\n",
        "    %load_ext tensorboard\n",
        "except:\n",
        "    %reload_ext tensorboard\n",
        "# Add to tf.keras callback\n",
        "# tensorboard_callback = tf.keras.callbacks.TensorBoard(output_folder, histogram_freq=1)"
      ],
      "execution_count": 0,
      "outputs": []
    },
    {
      "cell_type": "code",
      "metadata": {
        "id": "PkK_1MBa4Ds-",
        "colab_type": "code",
        "colab": {}
      },
      "source": [
        "# Start TensorBoard within the notebook using magics function { output-height: 20000 }\n",
        "%tensorboard --logdir {output_folder}"
      ],
      "execution_count": 0,
      "outputs": []
    },
    {
      "cell_type": "markdown",
      "metadata": {
        "id": "XTbz8OKxH7K3",
        "colab_type": "text"
      },
      "source": [
        "['aspect_ratio = 1.0',\n",
        " 'batch_size = 16',\n",
        " 'beta1 = 0.5',\n",
        " 'checkpoint = /content/installed_reps/piss-ant-pix2pix/garbagepailkids_resize/training',\n",
        " 'display_freq = 1',\n",
        " 'flip = True',\n",
        " 'gan_weight = 1.0',\n",
        " 'input_dir = /content/installed_reps/piss-ant-pix2pix/garbagepailkids_resize/_combined/train',\n",
        " 'l1_weight = 0.0',\n",
        " 'lab_colorization = False',\n",
        " 'lr = 5e-05',\n",
        " 'max_epochs = 10',\n",
        " 'max_steps = None',\n",
        " 'mode = train',\n",
        " 'ndf = 64',\n",
        " 'ngf = 64',\n",
        " 'output_dir = /content/installed_reps/piss-ant-pix2pix/garbagepailkids_resize/training',\n",
        " 'patch_gan = 1',\n",
        " 'progress_freq = 1',\n",
        " 'save_freq = 100',\n",
        " 'scale_size = 266',\n",
        " 'seed = 0',\n",
        " 'skip_connection = 1',\n",
        " 'summary_freq = 1',\n",
        " 'trace_freq = 0',\n",
        " 'wgan = 1',\n",
        " 'which_direction = BtoA',\n",
        " '/content/installed_reps/piss-ant-pix2pix/garbagepailkids_resize/_combined/train']"
      ]
    },
    {
      "cell_type": "code",
      "metadata": {
        "id": "edHmUBDcgQsq",
        "colab_type": "code",
        "colab": {}
      },
      "source": [
        "\n",
        "training_epochs=12\n",
        "mode='train'\n",
        "direction='BtoA'\n",
        "lr=5e-05\n",
        "# lr = 9.12E-04\n",
        "with_checkpoint = '--checkpoint ' + output_folder # '+with_checkpoint+' \n",
        "\n",
        "H.Me(['cml','python pix2pix.py  --mode '+mode+' --summary_freq 1 --progress_freq 10 --save_freq 100 --display_freq 10 --output_dir '+output_folder+' --max_epochs '+str(training_epochs)+' --input_dir '+input_folder+' --which_direction '+direction])\n"
      ],
      "execution_count": 0,
      "outputs": []
    },
    {
      "cell_type": "code",
      "metadata": {
        "id": "Zl3OYkIM3uvF",
        "colab_type": "code",
        "colab": {}
      },
      "source": [
        "# Zip the model to gdrive\n",
        "H.Me(['cml','zip -r /content/drive/My\\ Drive/Colab\\ Notebooks/pretrained_models/pail_training.zip '+output_folder+'/*'])"
      ],
      "execution_count": 0,
      "outputs": []
    },
    {
      "cell_type": "code",
      "metadata": {
        "id": "qFIvyJXLf6uz",
        "colab_type": "code",
        "colab": {}
      },
      "source": [
        "# checkpoints\n",
        "# stored_models=H.Me(['globx',output_folder,'options*'])\n",
        "# print(stored_models)\n",
        "# !ls -l /content/installed_resp/piss-ant-pix2pix/garbagepailkids_resize/training_train"
      ],
      "execution_count": 0,
      "outputs": []
    },
    {
      "cell_type": "code",
      "metadata": {
        "id": "nczfhLOklxn7",
        "colab_type": "code",
        "colab": {}
      },
      "source": [
        "# !wget https://live.staticflickr.com/2936/33549790582_48a514baed_b.jpg"
      ],
      "execution_count": 0,
      "outputs": []
    },
    {
      "cell_type": "code",
      "metadata": {
        "id": "p5DaOKxDkKcK",
        "colab_type": "code",
        "colab": {}
      },
      "source": [
        "# /content/installed_resp/piss-ant-pix2pix/33549790582_48a514baed_b.jpg\n",
        "# !python pix2pix.py --mode test --output_dir /content/installed_resp/piss-ant-pix2pix/garbagepailkids_resize/test --input_dir /content/installed_resp/piss-ant-pix2pix --seed 0 --checkpoint /content/installed_resp/piss-ant-pix2pix/garbagepailkids_resize/training_train\n"
      ],
      "execution_count": 0,
      "outputs": []
    },
    {
      "cell_type": "code",
      "metadata": {
        "id": "gNvU9s7djrZb",
        "colab_type": "code",
        "colab": {}
      },
      "source": [
        "# save the complete model\n",
        "# !python /content/installed_resp/piss-ant-pix2pix/server/tools/export-checkpoint.py --checkpoint /content/installed_resp/piss-ant-pix2pix/garbagepailkids_resize/_combined/train --output_file /content/installed_resp/piss-ant-pix2pix/garbagepailkids_resize/training_train/garbagepailkids_BtoA_model_save.bin"
      ],
      "execution_count": 0,
      "outputs": []
    },
    {
      "cell_type": "code",
      "metadata": {
        "id": "NxYR6zLkqpIU",
        "colab_type": "code",
        "colab": {}
      },
      "source": [
        "\n",
        "# # store zip to drive\n",
        "# !zip /content/installed_resp/piss-ant-pix2pix/garbagepailkids/* /content/installed_resp/piss-ant-pix2pix/garbagepailkids_original_images.zip\n",
        "# !zip /content/installed_resp/piss-ant-pix2pix/garbagepailkids_resize/_combined/* /content/installed_resp/piss-ant-pix2pix/garbagepailkids_dataset.zip\n",
        "# !zip /content/installed_resp/piss-ant-pix2pix/garbagepailkids_resize/training_train/garbagepailkids_BtoA_model_save.bin /content/installed_resp/piss-ant-pix2pix/garbagepailkids_model_bin.zip\n",
        "# !zip /content/installed_resp/piss-ant-pix2pix/garbagepailkids_resize/training_train/* /content/installed_resp/piss-ant-pix2pix/garbagepailkids.zip\n",
        "\n",
        "# %cd /content/drive/My\\ Drive/Colab\\ Notebooks/Best_Colabs\n",
        "# !cp /content/installed_resp/piss-ant-pix2pix/garbagepailkids_original_images.zip garbagepailkids_original_images.zip\n",
        "# !cp /content/installed_resp/piss-ant-pix2pix/garbagepailkids_dataset.zip ./garbagepailkids_dataset.zip\n",
        "# !cp /content/installed_resp/piss-ant-pix2pix/garbagepailkids_model_bin.zip ./garbagepailkids_model_bin.zip\n",
        "# !cp /content/installed_resp/piss-ant-pix2pix/garbagepailkids.zip ./garbagepailkids.zip"
      ],
      "execution_count": 0,
      "outputs": []
    },
    {
      "cell_type": "markdown",
      "metadata": {
        "id": "nvAeYpopjrvD",
        "colab_type": "text"
      },
      "source": [
        "## pretrained\n"
      ]
    }
  ]
}