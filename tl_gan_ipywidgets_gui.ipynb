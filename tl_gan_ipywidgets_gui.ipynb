{
  "nbformat": 4,
  "nbformat_minor": 0,
  "metadata": {
    "kernelspec": {
      "display_name": "Environment (conda_tensorflow_p36)",
      "language": "python",
      "name": "conda_tensorflow_p36"
    },
    "language_info": {
      "codemirror_mode": {
        "name": "ipython",
        "version": 3
      },
      "file_extension": ".py",
      "mimetype": "text/x-python",
      "name": "python",
      "nbconvert_exporter": "python",
      "pygments_lexer": "ipython3",
      "version": "3.6.6"
    },
    "colab": {
      "name": "tl_gan_ipywidgets_gui.ipynb",
      "version": "0.3.2",
      "provenance": [],
      "include_colab_link": true
    },
    "accelerator": "GPU"
  },
  "cells": [
    {
      "cell_type": "markdown",
      "metadata": {
        "id": "view-in-github",
        "colab_type": "text"
      },
      "source": [
        "<a href=\"https://colab.research.google.com/github/bxck75/A1_Colabs/blob/master/tl_gan_ipywidgets_gui.ipynb\" target=\"_parent\"><img src=\"https://colab.research.google.com/assets/colab-badge.svg\" alt=\"Open In Colab\"/></a>"
      ]
    },
    {
      "cell_type": "code",
      "metadata": {
        "id": "HJAkjWsCYjqx",
        "colab_type": "code",
        "outputId": "61caa838-ce3f-4446-efe7-06e0539ebf8b",
        "colab": {
          "base_uri": "https://localhost:8080/",
          "height": 115
        }
      },
      "source": [
        "!rm -r /content/sample_data\n",
        "\n",
        "#imports\n",
        "import os,sys\n",
        "import fnmatch\n",
        "\n",
        "# list of reps to install\n",
        "reps=[\n",
        "        'bxck75/transparent_latent_gan_customized',\n",
        "        'dfdazac/wassdistance',\n",
        "        'andrewliao11/CoGAN-tensorflow',\n",
        "    #     'Mckinsey666/Anime-Face-Dataset',\n",
        "    #     'chenyuntc/pytorch-book',\n",
        "    #     'lllyasviel/style2paints',\n",
        "    #     'llSourcell/GANS-for-style-transfer',\n",
        "    #     'opencv/open_model_zoo',\n",
        "    #     'hindupuravinash/the-gan-zoo',\n",
        "    #     'corenel/GAN-Zoo',\n",
        "    #     'eriklindernoren/Keras-GAN',\n",
        "    #     'junyanz/CycleGAN',\n",
        "    #     'junyanz/pytorch-CycleGAN-and-pix2pix',\n",
        "    #     'junyanz/iGAN', #----> !wget http://efrosgans.eecs.berkeley.edu/iGAN/datasets/church_64.zip <----dataset \toutdoor_128.zip \thandbag_128.zip !!!\n",
        "    #     'martinarjovsky/WassersteinGAN',\n",
        "    #     'shaoanlu/faceswap-GAN',\n",
        "    #     'LantaoYu/SeqGAN',\n",
        "        # 'tjwei/GANotebooks',\n",
        "    #     'adeshpande3/Tensorflow-Programs-and-Tutorials',\n",
        "    #     'adeshpande3/Generative-Adversarial-Networks',\n",
        "    #     'diegoalejogm/gans',\n",
        "    #     'osh/KerasGAN',\n",
        "    #     'tensorflow/gan',\n",
        "    #     'r9y9/gantts',\n",
        "    #     'jayleicn/animeGAN',\n",
        "    #     'Zardinality/WGAN-tensorflow',\n",
        "    #     'timsainb/Tensorflow-MultiGPU-VAE-GAN'\n",
        "    ]\n",
        "\n",
        "# Gitgo class\n",
        "class GitGo():\n",
        "    \n",
        "    def __init__(self,rep,chdir=True,path='/content/'):\n",
        "        self.rep = rep\n",
        "        self.chdir = chdir\n",
        "        self.path = path\n",
        "        !mkdir -p {self.path}\n",
        "        if self.rep == 'help':\n",
        "            self.help()\n",
        "        self.go() \n",
        "\n",
        "    def help(self):\n",
        "        print(\"* pulls git rep and shows files \\\n",
        "                * returns root path for the repository \\\n",
        "                * Function needs repository <user>/<repository name> combination\\\n",
        "                * Switch chdir and define the rootpath for the repository\\\n",
        "                * Use : GitGo('<rep owner>/<rep name>', <True/False>, <root path>)\\\n",
        "              \")\n",
        "        sys.exit()\n",
        "\n",
        "    def go(self):\n",
        "        self.rep=self.rep.split('/')\n",
        "        # change folder check\n",
        "        if self.chdir ==True:\n",
        "          #Switch to path\n",
        "          os.chdir(self.path)\n",
        "        # pull get the git rep\n",
        "        os.system('git clone https://github.com/'+self.rep[0]+'/'+self.rep[1]+'.git')\n",
        "        # Set the return value for rep rootpath\n",
        "        self.PATH=self.path+self.rep[1]\n",
        "        # show imported files\n",
        "        os.system('ls ' + self.PATH)\n",
        "\n",
        "    def __repr__(self):\n",
        "        return self.PATH\n",
        "\n",
        "def recursive_glob(treeroot, pattern):\n",
        "    results = []\n",
        "    for base, dirs, files in os.walk(treeroot):\n",
        "        goodfiles = fnmatch.filter(files, pattern)\n",
        "        results.extend(os.path.join(base, f) for f in goodfiles)\n",
        "    return results\n",
        "\n",
        "# install all reps in the list\n",
        "for rep in reps:\n",
        "    print(rep)\n",
        "    G=GitGo(rep,path='/content/installed_resp')\n",
        "    \n",
        "\n",
        "recursive_glob('/content/','requirements*.txt')\n",
        "\n"
      ],
      "execution_count": 0,
      "outputs": [
        {
          "output_type": "stream",
          "text": [
            "bxck75/transparent_latent_gan_customized\n",
            "dfdazac/wassdistance\n",
            "andrewliao11/CoGAN-tensorflow\n"
          ],
          "name": "stdout"
        },
        {
          "output_type": "execute_result",
          "data": {
            "text/plain": [
              "['/content/installed_resp/transparent_latent_gan_customized/requirements_with_version.txt',\n",
              " '/content/installed_resp/transparent_latent_gan_customized/requirements.txt',\n",
              " '/content/installed_resp/transparent_latent_gan_customized/src/model/pggan/requirements-pip.txt']"
            ]
          },
          "metadata": {
            "tags": []
          },
          "execution_count": 1
        }
      ]
    },
    {
      "cell_type": "code",
      "metadata": {
        "id": "2LtKI_94aRra",
        "colab_type": "code",
        "colab": {}
      },
      "source": [
        "from google.colab import drive\n",
        "drive.mount('/content/drive')\n",
        "\n",
        "!mkdir -p /content/installed_resp/transparent_latent_gan_customized/data/raw/celebA_annotation\n",
        "!cp /content/installed_resp/CoGAN-tensorflow/list_attr_celeba.txt /content/installed_resp/transparent_latent_gan_customized/data/raw/celebA_annotation/list_attr_celeba.txt\n",
        "!cp -r /content/drive/My\\ Drive/datasets/img_align_celeba.zip /content/installed_resp/transparent_latent_gan_customized/data\n",
        "!cp -r /content/drive/My\\ Drive/datasets/list_landmarks_align_celeba.csv.zip /content/installed_resp/transparent_latent_gan_customized/data\n",
        "!cp -r /content/drive/My\\ Drive/datasets/list_attr_celeba.csv.zip /content/installed_resp/transparent_latent_gan_customized/data\n",
        "\n",
        "%cd /content/installed_resp/transparent_latent_gan_customized/data\n",
        "\n",
        "!unzip list_landmarks_align_celeba.csv.zip\n",
        "!unzip list_attr_celeba.csv.zip\n",
        "!unzip img_align_celeba.zip"
      ],
      "execution_count": 0,
      "outputs": []
    },
    {
      "cell_type": "code",
      "metadata": {
        "id": "d--V8z5oabxA",
        "colab_type": "code",
        "colab": {}
      },
      "source": [
        "%cd /content/installed_resp/transparent_latent_gan_customized\n",
        "!wget https://uc533d59b584904ea091cf1075e3.dl.dropboxusercontent.com/zip_by_token_key?key=AouMHAOYBcGtsCjDiy0PlikaAl8EYcWaVR-GS8y3OmLiqDNVW1trRSogkCdvqyAelrePQhskI42txJ6erHhjM6gB34JsV37uqzO4fbTWasjWAzvLQHko2mfrOsYKcm-FcD6qyURT9V_5pDuPjP7B8h6kSsbLgP6kB6QQLDdE99Q1rFdwLpnnkxe4ZM0RbD44w9_8U-d5pA4o_QcgaYs33H4zFA4Z-9h5Yo1yM_-WUvFo2WatKMrmh3cvich595d6V_t2xNxjpRhGimxRaAJTmMIlFusuvnAYEoAe0reQCxXIkQ -O tl_gan_data_share.zip\n",
        "!unzip tl_gan_data_share.zip\n",
        "\n",
        "!pip install -r '/content/installed_resp/transparent_latent_gan_customized/requirements.txt'\n",
        "!pip install -r '/content/installed_resp/transparent_latent_gan_customized/src/model/pggan/requirements-pip.txt'"
      ],
      "execution_count": 0,
      "outputs": []
    },
    {
      "cell_type": "code",
      "metadata": {
        "id": "nVsIaLAhYzY_",
        "colab_type": "code",
        "outputId": "17939b0a-ea09-4a1d-aa5b-3dd77a2816e4",
        "colab": {
          "base_uri": "https://localhost:8080/",
          "height": 33
        }
      },
      "source": [
        "%cd /content/installed_resp/transparent_latent_gan_customized"
      ],
      "execution_count": 0,
      "outputs": [
        {
          "output_type": "stream",
          "text": [
            "/content/installed_resp/transparent_latent_gan_customized\n"
          ],
          "name": "stdout"
        }
      ]
    },
    {
      "cell_type": "code",
      "metadata": {
        "id": "ZLa1dGUgWYz8",
        "colab_type": "code",
        "colab": {}
      },
      "source": [
        "import os\n",
        "import glob\n",
        "import sys\n",
        "import numpy as np\n",
        "import pickle\n",
        "import tensorflow as tf\n",
        "import PIL\n",
        "import ipywidgets\n",
        "import io\n",
        "\n",
        "\"\"\" make sure this notebook is running from root directory \"\"\"\n",
        "while os.path.basename(os.getcwd()) in ('notebooks', 'src'):\n",
        "    os.chdir('..')\n",
        "assert ('README.md' in os.listdir('./')), 'Can not find project root, please cd to project root before running the following code'\n",
        "\n",
        "import src.tl_gan.generate_image as generate_image\n",
        "import src.tl_gan.feature_axis as feature_axis\n",
        "import src.tl_gan.feature_celeba_organize as feature_celeba_organize"
      ],
      "execution_count": 0,
      "outputs": []
    },
    {
      "cell_type": "code",
      "metadata": {
        "id": "FsMqDGHXWY0D",
        "colab_type": "code",
        "outputId": "180a4ec2-70e7-4a4e-f0a4-a6cb065446d5",
        "colab": {
          "base_uri": "https://localhost:8080/",
          "height": 223
        }
      },
      "source": [
        "\"\"\" load feature directions \"\"\"\n",
        "path_feature_direction = './asset_results/pg_gan_celeba_feature_direction_40'\n",
        "\n",
        "pathfile_feature_direction = glob.glob(os.path.join(path_feature_direction, 'feature_direction_*.pkl'))[-1]\n",
        "\n",
        "with open(pathfile_feature_direction, 'rb') as f:\n",
        "    feature_direction_name = pickle.load(f)\n",
        "\n",
        "feature_direction = feature_direction_name['direction']\n",
        "feature_name = feature_direction_name['name']\n",
        "num_feature = feature_direction.shape[1]\n",
        "\n",
        "import importlib\n",
        "importlib.reload(feature_celeba_organize)\n",
        "feature_name = feature_celeba_organize.feature_name_celeba_rename\n",
        "feature_direction = feature_direction_name['direction']* feature_celeba_organize.feature_reverse[None, :]"
      ],
      "execution_count": 0,
      "outputs": [
        {
          "output_type": "error",
          "ename": "IndexError",
          "evalue": "ignored",
          "traceback": [
            "\u001b[0;31m---------------------------------------------------------------------------\u001b[0m",
            "\u001b[0;31mIndexError\u001b[0m                                Traceback (most recent call last)",
            "\u001b[0;32m<ipython-input-5-26eca7c6411c>\u001b[0m in \u001b[0;36m<module>\u001b[0;34m()\u001b[0m\n\u001b[1;32m      2\u001b[0m \u001b[0mpath_feature_direction\u001b[0m \u001b[0;34m=\u001b[0m \u001b[0;34m'./asset_results/pg_gan_celeba_feature_direction_40'\u001b[0m\u001b[0;34m\u001b[0m\u001b[0;34m\u001b[0m\u001b[0m\n\u001b[1;32m      3\u001b[0m \u001b[0;34m\u001b[0m\u001b[0m\n\u001b[0;32m----> 4\u001b[0;31m \u001b[0mpathfile_feature_direction\u001b[0m \u001b[0;34m=\u001b[0m \u001b[0mglob\u001b[0m\u001b[0;34m.\u001b[0m\u001b[0mglob\u001b[0m\u001b[0;34m(\u001b[0m\u001b[0mos\u001b[0m\u001b[0;34m.\u001b[0m\u001b[0mpath\u001b[0m\u001b[0;34m.\u001b[0m\u001b[0mjoin\u001b[0m\u001b[0;34m(\u001b[0m\u001b[0mpath_feature_direction\u001b[0m\u001b[0;34m,\u001b[0m \u001b[0;34m'feature_direction_*.pkl'\u001b[0m\u001b[0;34m)\u001b[0m\u001b[0;34m)\u001b[0m\u001b[0;34m[\u001b[0m\u001b[0;34m-\u001b[0m\u001b[0;36m1\u001b[0m\u001b[0;34m]\u001b[0m\u001b[0;34m\u001b[0m\u001b[0;34m\u001b[0m\u001b[0m\n\u001b[0m\u001b[1;32m      5\u001b[0m \u001b[0;34m\u001b[0m\u001b[0m\n\u001b[1;32m      6\u001b[0m \u001b[0;32mwith\u001b[0m \u001b[0mopen\u001b[0m\u001b[0;34m(\u001b[0m\u001b[0mpathfile_feature_direction\u001b[0m\u001b[0;34m,\u001b[0m \u001b[0;34m'rb'\u001b[0m\u001b[0;34m)\u001b[0m \u001b[0;32mas\u001b[0m \u001b[0mf\u001b[0m\u001b[0;34m:\u001b[0m\u001b[0;34m\u001b[0m\u001b[0;34m\u001b[0m\u001b[0m\n",
            "\u001b[0;31mIndexError\u001b[0m: list index out of range"
          ]
        }
      ]
    },
    {
      "cell_type": "code",
      "metadata": {
        "id": "RJMi8w4CWY0H",
        "colab_type": "code",
        "colab": {}
      },
      "source": [
        "\"\"\" start tf session and load GAN model \"\"\"\n",
        "\n",
        "# path to model code and weight\n",
        "path_pg_gan_code = './src/model/pggan'\n",
        "path_model = './asset_model/karras2018iclr-celebahq-1024x1024.pkl'\n",
        "sys.path.append(path_pg_gan_code)\n",
        "\n",
        "\n",
        "\"\"\" create tf session \"\"\"\n",
        "yn_CPU_only = False\n",
        "\n",
        "if yn_CPU_only:\n",
        "    config = tf.ConfigProto(device_count = {'GPU': 0}, allow_soft_placement=True)\n",
        "else:\n",
        "    config = tf.ConfigProto(allow_soft_placement=True)\n",
        "    config.gpu_options.allow_growth = True\n",
        "\n",
        "sess = tf.InteractiveSession(config=config)\n",
        "\n",
        "try:\n",
        "    with open(path_model, 'rb') as file:\n",
        "        G, D, Gs = pickle.load(file)\n",
        "except FileNotFoundError:\n",
        "    print('before running the code, download pre-trained model to project_root/asset_model/')\n",
        "    raise\n",
        "\n",
        "len_z = Gs.input_shapes[0][1]\n",
        "z_sample = np.random.randn(len_z)\n",
        "x_sample = generate_image.gen_single_img(z_sample, Gs=Gs)"
      ],
      "execution_count": 0,
      "outputs": []
    },
    {
      "cell_type": "code",
      "metadata": {
        "id": "UdXOCgMaWY0L",
        "colab_type": "code",
        "colab": {}
      },
      "source": [
        "def img_to_bytes(x_sample):\n",
        "    imgObj = PIL.Image.fromarray(x_sample)\n",
        "    imgByteArr = io.BytesIO()\n",
        "    imgObj.save(imgByteArr, format='PNG')\n",
        "    imgBytes = imgByteArr.getvalue()\n",
        "    return imgBytes\n"
      ],
      "execution_count": 0,
      "outputs": []
    },
    {
      "cell_type": "code",
      "metadata": {
        "scrolled": false,
        "id": "ibkPag1dWY0P",
        "colab_type": "code",
        "outputId": "cab4d0b0-9945-41bc-d0be-57279c09687b",
        "colab": {}
      },
      "source": [
        "z_sample = np.random.randn(len_z)\n",
        "x_sample = generate_image.gen_single_img(Gs=Gs)\n",
        "\n",
        "w_img = ipywidgets.widgets.Image(value=img_to_bytes(x_sample), fromat='png', width=512, height=512)\n",
        "\n",
        "class GuiCallback(object):\n",
        "    counter = 0\n",
        "    #     latents = z_sample\n",
        "    def __init__(self):\n",
        "        self.latents = z_sample\n",
        "        self.feature_direction = feature_direction\n",
        "        self.feature_lock_status = np.zeros(num_feature).astype('bool')\n",
        "        self.feature_directoion_disentangled = feature_axis.disentangle_feature_axis_by_idx(\n",
        "            self.feature_direction, idx_base=np.flatnonzero(self.feature_lock_status))\n",
        "\n",
        "    def random_gen(self, event):\n",
        "        self.latents = np.random.randn(len_z)\n",
        "        self.update_img()\n",
        "\n",
        "    def modify_along_feature(self, event, idx_feature, step_size=0.01):\n",
        "        self.latents += self.feature_directoion_disentangled[:, idx_feature] * step_size\n",
        "        self.update_img()\n",
        "\n",
        "    def set_feature_lock(self, event, idx_feature, set_to=None):\n",
        "        if set_to is None:\n",
        "            self.feature_lock_status[idx_feature] = np.logical_not(self.feature_lock_status[idx_feature])\n",
        "        else:\n",
        "            self.feature_lock_status[idx_feature] = set_to\n",
        "        self.feature_directoion_disentangled = feature_axis.disentangle_feature_axis_by_idx(\n",
        "            self.feature_direction, idx_base=np.flatnonzero(self.feature_lock_status))\n",
        "    \n",
        "    def update_img(self):        \n",
        "        x_sample = generate_image.gen_single_img(z=self.latents, Gs=Gs)\n",
        "        x_byte = img_to_bytes(x_sample)\n",
        "        w_img.value = x_byte\n",
        "\n",
        "guicallback = GuiCallback()\n",
        "\n",
        "step_size = 0.4\n",
        "def create_button(idx_feature, width=96, height=40):\n",
        "    \"\"\" function to built button groups for one feature \"\"\"\n",
        "    w_name_toggle = ipywidgets.widgets.ToggleButton(\n",
        "        value=False, description=feature_name[idx_feature],\n",
        "        tooltip='{}, Press down to lock this feature'.format(feature_name[idx_feature]),\n",
        "        layout=ipywidgets.Layout(height='{:.0f}px'.format(height/2), \n",
        "                                 width='{:.0f}px'.format(width),\n",
        "                                 margin='2px 2px 2px 2px')\n",
        "    )\n",
        "    w_neg = ipywidgets.widgets.Button(description='-',\n",
        "                                      layout=ipywidgets.Layout(height='{:.0f}px'.format(height/2), \n",
        "                                                               width='{:.0f}px'.format(width/2),\n",
        "                                                               margin='1px 1px 5px 1px'))\n",
        "    w_pos = ipywidgets.widgets.Button(description='+',\n",
        "                                      layout=ipywidgets.Layout(height='{:.0f}px'.format(height/2), \n",
        "                                                               width='{:.0f}px'.format(width/2),\n",
        "                                                               margin='1px 1px 5px 1px'))\n",
        "    \n",
        "    w_name_toggle.observe(lambda event: \n",
        "                      guicallback.set_feature_lock(event, idx_feature))\n",
        "    w_neg.on_click(lambda event: \n",
        "                     guicallback.modify_along_feature(event, idx_feature, step_size=-1 * step_size))\n",
        "    w_pos.on_click(lambda event: \n",
        "                     guicallback.modify_along_feature(event, idx_feature, step_size=+1 * step_size))\n",
        "    \n",
        "    button_group = ipywidgets.VBox([w_name_toggle, ipywidgets.HBox([w_neg, w_pos])],\n",
        "                                  layout=ipywidgets.Layout(border='1px solid gray'))\n",
        "    \n",
        "    return button_group\n",
        "  \n",
        "\n",
        "list_buttons = []\n",
        "for idx_feature in range(num_feature):\n",
        "    list_buttons.append(create_button(idx_feature))\n",
        "\n",
        "yn_button_select = True\n",
        "def arrange_buttons(list_buttons, yn_button_select=True, ncol=4):\n",
        "    num = len(list_buttons)\n",
        "    if yn_button_select:\n",
        "        feature_celeba_layout = feature_celeba_organize.feature_celeba_layout\n",
        "        layout_all_buttons = ipywidgets.VBox([ipywidgets.HBox([list_buttons[item] for item in row]) for row in feature_celeba_layout])\n",
        "    else:\n",
        "        layout_all_buttons = ipywidgets.VBox([ipywidgets.HBox(list_buttons[i*ncol:(i+1)*ncol]) for i in range(num//ncol+int(num%ncol>0))])\n",
        "    return layout_all_buttons\n",
        "    \n",
        "\n",
        "# w_button.on_click(on_button_clicked)\n",
        "guicallback.update_img()\n",
        "w_button_random = ipywidgets.widgets.Button(description='random face', button_style='success',\n",
        "                                           layout=ipywidgets.Layout(height='40px', \n",
        "                                                               width='128px',\n",
        "                                                               margin='1px 1px 5px 1px'))\n",
        "w_button_random.on_click(guicallback.random_gen)\n",
        "\n",
        "w_box = ipywidgets.HBox([w_img, \n",
        "                         ipywidgets.VBox([w_button_random, \n",
        "                                         arrange_buttons(list_buttons, yn_button_select=True)])\n",
        "                        ], layout=ipywidgets.Layout(height='1024}px', width='1024px')\n",
        "                       )\n",
        "\n",
        "print('press +/- to adjust feature, toggle feature name to lock the feature')\n",
        "display(w_box)"
      ],
      "execution_count": 0,
      "outputs": [
        {
          "output_type": "stream",
          "text": [
            "press +/- to adjust feature, toggle feature name to lock the feature\n"
          ],
          "name": "stdout"
        },
        {
          "output_type": "display_data",
          "data": {
            "application/vnd.jupyter.widget-view+json": {
              "model_id": "77b663b016424c9f9e7a0966aa3fd872",
              "version_major": 2,
              "version_minor": 0
            },
            "text/plain": [
              "HBox(children=(Image(value=b'\\x89PNG\\r\\n\\x1a\\n\\x00\\x00\\x00\\rIHDR\\x00\\x00\\x04\\x00\\x00\\x00\\x04\\x00\\x08\\x02\\x00\\x…"
            ]
          },
          "metadata": {
            "tags": []
          }
        }
      ]
    },
    {
      "cell_type": "code",
      "metadata": {
        "id": "dl5nYOOFWY0V",
        "colab_type": "code",
        "colab": {}
      },
      "source": [
        ""
      ],
      "execution_count": 0,
      "outputs": []
    }
  ]
}