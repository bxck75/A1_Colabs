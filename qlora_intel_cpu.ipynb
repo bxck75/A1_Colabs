{
  "nbformat": 4,
  "nbformat_minor": 0,
  "metadata": {
    "colab": {
      "private_outputs": true,
      "provenance": [],
      "authorship_tag": "ABX9TyOu3K6GsDxj+MweGTUv3b77",
      "include_colab_link": true
    },
    "kernelspec": {
      "name": "python3",
      "display_name": "Python 3"
    },
    "language_info": {
      "name": "python"
    }
  },
  "cells": [
    {
      "cell_type": "markdown",
      "metadata": {
        "id": "view-in-github",
        "colab_type": "text"
      },
      "source": [
        "<a href=\"https://colab.research.google.com/github/bxck75/A1_Colabs/blob/master/qlora_intel_cpu.ipynb\" target=\"_parent\"><img src=\"https://colab.research.google.com/assets/colab-badge.svg\" alt=\"Open In Colab\"/></a>"
      ]
    },
    {
      "cell_type": "code",
      "source": [
        "!pip3 install torch torchvision torchaudio --index-url https://download.pytorch.org/whl/cpu"
      ],
      "metadata": {
        "id": "zxeLNloApc8h"
      },
      "execution_count": null,
      "outputs": []
    },
    {
      "cell_type": "code",
      "source": [
        "!pip install intel-extension-for-transformers accelerate peft datasets"
      ],
      "metadata": {
        "id": "lEjFbx9jpBFY"
      },
      "execution_count": null,
      "outputs": []
    },
    {
      "cell_type": "code",
      "execution_count": null,
      "metadata": {
        "id": "CAjkpN8yo80h"
      },
      "outputs": [],
      "source": [
        "import torch\n",
        "from intel_extension_for_transformers.transformers.modeling import AutoModelForCausalLM\n",
        "from google.colab import userdata\n",
        "model = AutoModelForCausalLM.from_pretrained(\n",
        "    'unsloth/mistral-7b-bnb-4bit',\n",
        "    token=userdata.get('HF_WRITE'),\n",
        "    torch_dtype=torch.bfloat16,\n",
        "    load_in_4bit=True,\n",
        "    use_neural_speed=False\n",
        ")\n",
        "from peft import LoraConfig, get_peft_model, prepare_model_for_kbit_training, TaskType\n",
        "model = prepare_model_for_kbit_training(\n",
        "    model, use_gradient_checkpointing=True\n",
        ")\n",
        "model.gradient_checkpointing_enable()\n",
        "peft_config = LoraConfig(\n",
        "    r=8,\n",
        "    task_type=TaskType.CAUSAL_LM,\n",
        ")\n",
        "model = get_peft_model(model, peft_config)"
      ]
    },
    {
      "cell_type": "code",
      "source": [
        "model.save_pretrained(\"lora_model\") # Local saving\n",
        "# model.push_to_hub(\"your_name/lora_model\", token = \"...\") # Online saving\n",
        "model.push_to_hub(\"K00B404/decapoda-research-llama-7b-hf_lora\", token=userdata.get('HF_WRITE')) # Online saving\n"
      ],
      "metadata": {
        "id": "CYRvprFgsG3k"
      },
      "execution_count": null,
      "outputs": []
    }
  ]
}