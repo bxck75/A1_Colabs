{
  "nbformat": 4,
  "nbformat_minor": 0,
  "metadata": {
    "colab": {
      "name": "piss_ant_pix2pix_garbage_pail_kids.ipynb",
      "provenance": [],
      "private_outputs": true,
      "collapsed_sections": [],
      "toc_visible": true,
      "include_colab_link": true
    },
    "kernelspec": {
      "name": "python3",
      "display_name": "Python 3"
    },
    "accelerator": "GPU"
  },
  "cells": [
    {
      "cell_type": "markdown",
      "metadata": {
        "id": "view-in-github",
        "colab_type": "text"
      },
      "source": [
        "<a href=\"https://colab.research.google.com/github/bxck75/A1_Colabs/blob/master/thegym.ipynb\" target=\"_parent\"><img src=\"https://colab.research.google.com/assets/colab-badge.svg\" alt=\"Open In Colab\"/></a>"
      ]
    },
    {
      "cell_type": "markdown",
      "metadata": {
        "id": "OqkQbLLV5jNZ",
        "colab_type": "text"
      },
      "source": [
        "[tf_gan_tpus](https://github.com/bxck75/gan/blob/master/tensorflow_gan/examples/colab_notebooks/tfgan_on_tpus.ipynb)\n",
        "\n",
        "[tf_gan](https://github.com/bxck75/gan/blob/master/tensorflow_gan/examples/colab_notebooks/tfgan_tutorial.ipynb)"
      ]
    },
    {
      "cell_type": "code",
      "metadata": {
        "id": "rRqbekgSPIVi",
        "colab_type": "code",
        "colab": {}
      },
      "source": [
        "import os,subprocess, re\n",
        "# system functions\n",
        "def recursive_glob(treeroot, pattern):\n",
        "  results = []\n",
        "  for base, dirs, files in os.walk(treeroot):\n",
        "    goodfiles = fnmatch.filter(files, pattern)\n",
        "    results.extend(os.path.join(base, f) for f in goodfiles)\n",
        "  return results\n",
        "\n",
        "def cmdline(cmd,pr=False):\n",
        "  result =[]\n",
        "  f = os.popen(cmd)\n",
        "  try:\n",
        "    for line in f:\n",
        "      if pr == True:\n",
        "        print(line)\n",
        "        result.append(line),\n",
        "  finally:\n",
        "    f.close()\n",
        "  return result\n",
        "\n",
        "# stinking default folder...poef!\n",
        "cmdline('rm -r /content/sample_data')\n",
        "# cmdline('pip install gitpython')\n",
        "# pick fs\n",
        "filesystem = \"local\"\n",
        "if filesystem == 'gdrive':\n",
        "  # sync google drive\n",
        "  from google.colab import drive\n",
        "  import os\n",
        "  # if drive is needed uncomment\n",
        "  print('Google drive ',end='')\n",
        "  drive.mount('/content/drive',force_remount=True)\n",
        "  print('Root folder set to ',end='')\n",
        "  root = '/content/drive/My drive/image_learning'\n",
        "  print(root)\n",
        "else:\n",
        "  print('Root folder set to ',end='')\n",
        "  root = '/content/image_learning'\n",
        "  print(root) \n",
        "\n",
        "#shoot root\n",
        "os.makedirs(root,exist_ok = True)\n",
        "os.chdir(root)\n",
        "\n",
        "# install missing libs\n",
        "cmdline('pip install sklearn imageio tensorflow-gpu==2.0.0-alpha0')\n",
        "cmdline('apt install tree')\n",
        "# cmdline('pip install -q --upgrade --force-reinstall tensorflow-gpu')\n",
        "\n",
        "# import the rest\n",
        "import numpy as np\n",
        "from PIL import Image\n",
        "from keras.models import Sequential\n",
        "from keras.layers.core import Dense, Dropout, Activation, Flatten\n",
        "from keras.layers.convolutional import Convolution2D,MaxPooling2D\n",
        "from keras.optimizers import SGD, RMSprop,adam\n",
        "from keras.utils import np_utils\n",
        "import theano, glob, shutil, fnmatch, time, cv2, itertools\n",
        "from IPython.display import clear_output, display, Image\n",
        "from sklearn.utils import shuffle\n",
        "from sklearn.model_selection import train_test_split\n",
        "from matplotlib import pyplot as plt\n",
        "from google.colab.patches import cv2_imshow\n",
        "import ipywidgets as widgets\n",
        "from subprocess import PIPE, Popen\n",
        "import tensorflow as tf\n",
        "\n",
        "# list of reps uncomment to install\n",
        "reps=[\n",
        "    'Zardinality/Tiled-Matrix-Multiplication-in-Cuda', \n",
        "    'drallensmith/neat-python',\n",
        "    'CodeReclaimers/neat-python',\n",
        "    'uber-research/deep-neuroevolution',\n",
        "    'MorvanZhou/Evolutionary-Algorithm',\n",
        "    'llSourcell/blockchain-python-tutorial',\n",
        "    'llSourcell/autoencoder_demo',\n",
        "    'llSourcell/autoencoder_explained',\n",
        "    'llSourcell/awesome-public-datasets',\n",
        "    'llSourcell/7_Research_Directions_Deep_Learning',\n",
        "    'hardmaru/sketch-rnn',\n",
        "    'hardmaru/sketch-rnn-datasets',\n",
        "    'hardmaru/sketch-rnn-poste',\n",
        "    'Gogul09/virtual-drum',\n",
        "    'ytdl-org/youtube-dl',\n",
        "    'nnUyi/GAN-Collections',\n",
        "    'carpedm20/BEGAN-tensorflow',\n",
        "    'mikf/gallery-dl',\n",
        "    'NVlabs/stylegan',\n",
        "    'mauriceling/dose',\n",
        "    'corenel/Realistic-Neural-Talking-Head-Models',\n",
        "    'hardmaru/estool',\n",
        "    'deepmipt/DeepPavlov',\n",
        "    'tjwei/Flappy-Turtle.',\n",
        "    'tjwei/fonttools',\n",
        "    'tjwei/blender3d_import_psk_psa',\n",
        "    'lllyasviel/sketchKeras',\n",
        "    'Mckinsey666/Anime-Face-Dataset',\n",
        "    'chenyuntc/pytorch-book',\n",
        "    'lllyasviel/style2paints',\n",
        "    'llSourcell/GANS-for-style-transfer',\n",
        "    'opencv/open_model_zoo',\n",
        "    'hindupuravinash/the-gan-zoo',\n",
        "    'corenel/GAN-Zoo',\n",
        "    'eriklindernoren/Keras-GAN',\n",
        "    'junyanz/CycleGAN',\n",
        "    'junyanz/pytorch-CycleGAN-and-pix2pix',\n",
        "    'junyanz/iGAN', #----> !wget http://efrosgans.eecs.berkeley.edu/iGAN/datasets/church_64.zip <----dataset \toutdoor_128.zip \thandbag_128.zip !!!\n",
        "    'martinarjovsky/WassersteinGAN',\n",
        "    'shaoanlu/faceswap-GAN',\n",
        "    'LantaoYu/SeqGAN',\n",
        "    'tjwei/GANotebooks',\n",
        "    'adeshpande3/Tensorflow-Programs-and-Tutorials',\n",
        "    'adeshpande3/Generative-Adversarial-Networks',\n",
        "    'adeshpande3/KaggleGhosts',\n",
        "    'adeshpande3/OpenAI_Gym_Universe',\n",
        "    'diegoalejogm/gans',\n",
        "    'osh/KerasGAN',\n",
        "    'r9y9/gantts',\n",
        "    'jayleicn/animeGAN',\n",
        "    'jayleicn/ImageNet-Training',\n",
        "    'Zardinality/WGAN-tensorflow',\n",
        "    'tree-gan/BonsaiNet',\n",
        "    'RossMcKenzie/TreeGAN',\n",
        "    'carpedm20/BEGAN-tensorflow',\n",
        "    'martinarjovsky/WassersteinGAN',\n",
        "    'timsainb/Tensorflow-MultiGPU-VAE-GAN',\n",
        "    'Larox/python-moviepy-meetup',\n",
        "    'tjwei/keras-yolo3',\n",
        "    'tensorflow/gan',\n",
        "    'tensorflow/moonlight'\n",
        "    'tensorflow/models',\n",
        "    'tensorflow/datasets',\n",
        "    'tensorflow/docs',\n",
        "    'mnicnc404/CartoonGan-tensorflow',\n",
        "    'Yijunmaverick/CartoonGAN-Test-Pytorch-Torch',\n",
        "    'keras-team/keras-contrib',\n",
        "    'mnicnc404/CartoonGan-tensorflow',\n",
        "    'AlekseyLobanov/neural-life',\n",
        "]\n",
        "\n",
        "\n",
        "import os,sys,pandas as pd\n",
        "#@title Helper voor functies\n",
        "# helper voor gspread functionaliteit\n",
        "need_help_on_module=pd\n",
        "# toon de methods voor de module\n",
        "help=pd.DataFrame.from_records([[a for a in dir(need_help_on_module) if '__' not in a]])\n",
        "display(help)\n",
        "\n",
        "\n",
        "\n",
        "list_homebrew=[]\n",
        "def findFilesInFolderYield(path,  extension, containsTxt='', subFolders = True, excludeText = ''):\n",
        "    if type(containsTxt) == str: # if a string and not in a list\n",
        "        containsTxt = [containsTxt]\n",
        "\n",
        "    myregexobj = re.compile('\\.' + extension + '$')    # Makes sure the file extension is at the end and is preceded by a .\n",
        "    try:   # Trapping a OSError or FileNotFoundError:  File permissions problem I believe\n",
        "        for entry in os.scandir(path):\n",
        "            if entry.is_file() and myregexobj.search(entry.path): # \n",
        "                bools = [True for txt in containsTxt if txt in entry.path and (excludeText == '' or excludeText not in entry.path)]\n",
        "                if len(bools)== len(containsTxt):\n",
        "                    yield entry.stat().st_size, entry.stat().st_atime_ns, entry.stat().st_mtime_ns, entry.stat().st_ctime_ns, entry.path\n",
        "            elif entry.is_dir() and subFolders:   # if its a directory, then repeat process as a nested function\n",
        "                yield from findFilesInFolderYield(entry.path,  extension, containsTxt, subFolders)\n",
        "    except OSError as ose:\n",
        "        print('Cannot access ' + path +'. Probably a permissions error ', ose)\n",
        "    except FileNotFoundError as fnf:\n",
        "        print(path +' not found ', fnf)        \n",
        "# Gitgo class\n",
        "class GitGo(): \n",
        "  def __init__(self,repos,sub_repos=False,chdir=True,path='/content/'):\n",
        "    self.sub_repo_list = []\n",
        "    self.GitUsers=[]\n",
        "    self.repos = repos\n",
        "    self.chdir = chdir\n",
        "    self.path = path\n",
        "    os.makedirs(self.path, exist_ok = True)\n",
        "    if 'help' in self.repos:\n",
        "      self.help()\n",
        "    self.pull_reps()\n",
        "    self.custom_reps_setup()\n",
        "    if sub_repos == True:\n",
        "      self.get_other_reps()\n",
        "  def help(self):\n",
        "    return \"* pulls git rep and shows files \\\n",
        "            * returns root path for the repository \\\n",
        "            * Function needs repository <user>/<repository name> combination\\\n",
        "            * Switch chdir and define the rootpath for the repository\\\n",
        "            * Use : GitGo(<list of reps to install>, sub_repos=<True/False, chdir=<True/False>, path=<root path>)\"\n",
        "        #--pull al selected reps  \n",
        "    def pull_reps(self):    \n",
        "        for rep in self.repos:\n",
        "            self.rep=rep.split('/')\n",
        "                # change folder check\n",
        "                if self.chdir ==True:\n",
        "                    #Switch to path\n",
        "                    os.chdir(self.path)\n",
        "                    # pull the git repo\n",
        "                    cmdline('git clone https://github.com/'+self.rep[0]+'/'+self.rep[1]+'.git',True)\n",
        "                    # Set the return value for rep rootpath\n",
        "                    self.path=self.path+self.rep[1]\n",
        "            # show imported files\n",
        "    os.system('ls ' + root)  \n",
        "    #--repository required dependancies setup\n",
        "   \n",
        "  def custom_reps_setup(self):\n",
        "    # cyclegan\n",
        "    if 'pytorch-CycleGAN-and-pix2pix' in self.repos:\n",
        "      !export PYTHONPATH={root}/pytorch-CycleGAN-and-pix2pix:$PYTHONPATH\n",
        "      !pip install dominate\n",
        "    # custom stuff for CartoonGAN-tensorflow and keras-team/keras-contrib   \n",
        "    if 'keras-team/keras-contrib' in self.repos:\n",
        "      os.chdir(self.path+'/keras-contrib')\n",
        "      cmdline('python convert_to_tf_keras.py')\n",
        "      cmdline('USE_TF_KERAS=1')\n",
        "      cmdline('python setup.py install')\n",
        "      import tensorflow as tf\n",
        "      tf.__version__     \n",
        "    # custom setup stuff for gallery-dl repo   \n",
        "    if 'mikf/gallery-dl' in self.repos:\n",
        "      os.chdir(root+'/gallery-dl')\n",
        "      cmdline(\"pip install -e . |grep 'succes'\",True)\n",
        "    # custom setup stuff for youtube-dl repo    \n",
        "    if 'ytdl-org/youtube-dl' in self.repos:\n",
        "      os.chdir(root+'/youtube-dl') \n",
        "      cmdline(\"pip install -e . |grep 'succes'\",True)      \n",
        "    # switch backt to root\n",
        "    os.chdir(self.path) \n",
        "    \n",
        "#--grab the username if a repos is installed\n",
        "#--generate a file of all other reps of users\n",
        "  def get_other_reps(self):          \n",
        "    for r in self.repos:\n",
        "      self.GUSER=r.split('/')[0]\n",
        "      self.repo_name=r.split('/')[1]\n",
        "      self.GitUsers.append(self.GUSER)      \n",
        "      !curl https://api.github.com/users/{self.GUSER}/repos?per_page=100 \\\n",
        "            | grep -o 'git@[^\"]*' > {root}/info.txt\n",
        "      cmdline('cat '+root+\"/info.txt |awk -F ':' '{print $2}'|awk -F '.' '{print $1}' \\\n",
        "          > \"+self.path+\"/\"+self.GUSER+\"_repositories.txt\",True)      \n",
        "      with open(root+'/info.txt','r') as f:\n",
        "        for line in f:\n",
        "          cline=line.split(':')[1].split('.')[0]\n",
        "          self.sub_repo_list.append(cline),  \n",
        "            #--return path and sub reps\n",
        "  def __repr__(self):\n",
        "    return self.path,self.sub_repo_list\n",
        "# Hauling Ass!\n",
        "GR=GitGo(reps,sub_repos=True,path=root)\n",
        "\n",
        "\n",
        "clear_output()"
      ],
      "execution_count": 0,
      "outputs": []
    },
    {
      "cell_type": "code",
      "metadata": {
        "id": "rly433VrN31O",
        "colab_type": "code",
        "colab": {}
      },
      "source": [
        "%cd piss-ant-pix2pix"
      ],
      "execution_count": 0,
      "outputs": []
    },
    {
      "cell_type": "markdown",
      "metadata": {
        "id": "TELmRbBrfqFV",
        "colab_type": "text"
      },
      "source": [
        "##Get images and make the dataset"
      ]
    },
    {
      "cell_type": "code",
      "metadata": {
        "id": "5V-nlYwkO0RK",
        "colab_type": "code",
        "colab": {}
      },
      "source": [
        "# # get pailkids images\n",
        "# from google.colab import drive\n",
        "# drive.mount('/content/drive')\n",
        "# !cp /content/drive/My\\ Drive/Colab\\ Notebooks/garbagepailkids.zip /content/installed_resp/piss-ant-pix2pix/\n",
        "# !unzip /content/installed_resp/piss-ant-pix2pix/garbagepailkids.zip\n",
        "# clear_output()"
      ],
      "execution_count": 0,
      "outputs": []
    },
    {
      "cell_type": "code",
      "metadata": {
        "id": "R88IC3whVmhj",
        "colab_type": "code",
        "colab": {}
      },
      "source": [
        "!rm -r /content/gallery-dl\n",
        "!git clone https://github.com/mikf/gallery-dl.git\n",
        "%cd /content/gallery-dl"
      ],
      "execution_count": 0,
      "outputs": []
    },
    {
      "cell_type": "code",
      "metadata": {
        "id": "nWrz34e9W2Fa",
        "colab_type": "code",
        "colab": {}
      },
      "source": [
        "# !gallery-dl -d music_dump/ 20 \n",
        "!python gallery-dl --help\n"
      ],
      "execution_count": 0,
      "outputs": []
    },
    {
      "cell_type": "code",
      "metadata": {
        "id": "h0bwwro_buia",
        "colab_type": "code",
        "colab": {}
      },
      "source": [
        "!sudo rm -r /content/installed_resp/piss-ant-pix2pix/p2p_process_tmp\n"
      ],
      "execution_count": 0,
      "outputs": []
    },
    {
      "cell_type": "code",
      "metadata": {
        "id": "5IqKiRqsb3fS",
        "colab_type": "code",
        "colab": {}
      },
      "source": [
        "!python tools/process.py --input_dir /content/installed_resp/piss-ant-pix2pix/garbagepailkids --operation resize --output_dir /content/installed_resp/piss-ant-pix2pix/p2p_process_tmp/_resized\n",
        "clear_output()"
      ],
      "execution_count": 0,
      "outputs": []
    },
    {
      "cell_type": "code",
      "metadata": {
        "id": "E4oK_E_4b5n5",
        "colab_type": "code",
        "colab": {}
      },
      "source": [
        "!sudo mkdir -p /content/installed_resp/piss-ant-pix2pix/p2p_process_tmp/_blank\n"
      ],
      "execution_count": 0,
      "outputs": []
    },
    {
      "cell_type": "code",
      "metadata": {
        "id": "M1brNoL1b8Nz",
        "colab_type": "code",
        "colab": {}
      },
      "source": [
        "!python tools/process.py --input_dir /content/installed_resp/piss-ant-pix2pix/p2p_process_tmp/_resized --operation blank --output_dir /content/installed_resp/piss-ant-pix2pix/p2p_process_tmp/_blank\n",
        "clear_output()"
      ],
      "execution_count": 0,
      "outputs": []
    },
    {
      "cell_type": "code",
      "metadata": {
        "id": "8_xZK9IvcBYy",
        "colab_type": "code",
        "colab": {}
      },
      "source": [
        "!ls /content/installed_resp/piss-ant-pix2pix/p2p_process_tmp/_blank\n"
      ],
      "execution_count": 0,
      "outputs": []
    },
    {
      "cell_type": "code",
      "metadata": {
        "id": "0jVt1LVIcHpS",
        "colab_type": "code",
        "colab": {}
      },
      "source": [
        "!mkdir -p /content/installed_resp/piss-ant-pix2pix/p2p_process_tmp/_resized/_combined\n"
      ],
      "execution_count": 0,
      "outputs": []
    },
    {
      "cell_type": "code",
      "metadata": {
        "id": "hU4ytgp0cDoa",
        "colab_type": "code",
        "colab": {}
      },
      "source": [
        "!python tools/process.py --input_dir /content/installed_resp/piss-ant-pix2pix/p2p_process_tmp/_resized --b_dir /content/installed_resp/piss-ant-pix2pix/p2p_process_tmp/_blank --operation combine --output_dir /content/installed_resp/piss-ant-pix2pix/p2p_process_tmp/_resized/_combined\n",
        "clear_output()"
      ],
      "execution_count": 0,
      "outputs": []
    },
    {
      "cell_type": "code",
      "metadata": {
        "id": "ojmZi-mtcFRB",
        "colab_type": "code",
        "colab": {}
      },
      "source": [
        "!python tools/split.py --dir /content/installed_resp/piss-ant-pix2pix/p2p_process_tmp/_resized/_combined\n",
        "clear_output()"
      ],
      "execution_count": 0,
      "outputs": []
    },
    {
      "cell_type": "code",
      "metadata": {
        "id": "fowZTIhXcJtr",
        "colab_type": "code",
        "colab": {}
      },
      "source": [
        "!sudo mkdir -p /content/installed_resp/piss-ant-pix2pix/garbagepailkids_resize\n"
      ],
      "execution_count": 0,
      "outputs": []
    },
    {
      "cell_type": "code",
      "metadata": {
        "id": "BwdQevOOcLc0",
        "colab_type": "code",
        "colab": {}
      },
      "source": [
        "!cp -rf /content/installed_resp/piss-ant-pix2pix/p2p_process_tmp/_resized/_combined/ /content/installed_resp/piss-ant-pix2pix/garbagepailkids_resize/\n",
        "clear_output()"
      ],
      "execution_count": 0,
      "outputs": []
    },
    {
      "cell_type": "code",
      "metadata": {
        "id": "pPhGPwokfHgO",
        "colab_type": "code",
        "colab": {}
      },
      "source": [
        "!rm -r /content/installed_resp/piss-ant-pix2pix/p2p_process_tmp"
      ],
      "execution_count": 0,
      "outputs": []
    },
    {
      "cell_type": "code",
      "metadata": {
        "id": "edHmUBDcgQsq",
        "colab_type": "code",
        "colab": {}
      },
      "source": [
        "# TRAIN!!!!!\n",
        "output_folder='/content/installed_resp/piss-ant-pix2pix/garbagepailkids_resize/training'\n",
        "input_folder = '/content/installed_resp/piss-ant-pix2pix/garbagepailkids_resize/_combined/train'\n",
        "training_epochs=10\n",
        "!python pix2pix.py --mode train --output_dir {output_folder}_train --max_epochs {training_epochs} --input_dir {input_folder} --which_direction BtoA"
      ],
      "execution_count": 0,
      "outputs": []
    },
    {
      "cell_type": "code",
      "metadata": {
        "id": "qFIvyJXLf6uz",
        "colab_type": "code",
        "colab": {}
      },
      "source": [
        "# checkpoints\n",
        "!ls -l /content/installed_resp/piss-ant-pix2pix/garbagepailkids_resize/training_train"
      ],
      "execution_count": 0,
      "outputs": []
    },
    {
      "cell_type": "code",
      "metadata": {
        "id": "nczfhLOklxn7",
        "colab_type": "code",
        "colab": {}
      },
      "source": [
        "!wget https://live.staticflickr.com/2936/33549790582_48a514baed_b.jpg"
      ],
      "execution_count": 0,
      "outputs": []
    },
    {
      "cell_type": "code",
      "metadata": {
        "id": "p5DaOKxDkKcK",
        "colab_type": "code",
        "colab": {}
      },
      "source": [
        "# /content/installed_resp/piss-ant-pix2pix/33549790582_48a514baed_b.jpg\n",
        "!python pix2pix.py --mode test --output_dir /content/installed_resp/piss-ant-pix2pix/garbagepailkids_resize/test --input_dir /content/installed_resp/piss-ant-pix2pix --seed 0 --checkpoint /content/installed_resp/piss-ant-pix2pix/garbagepailkids_resize/training_train\n"
      ],
      "execution_count": 0,
      "outputs": []
    },
    {
      "cell_type": "code",
      "metadata": {
        "id": "gNvU9s7djrZb",
        "colab_type": "code",
        "colab": {}
      },
      "source": [
        "# save the complete model\n",
        "!python /content/installed_resp/piss-ant-pix2pix/server/tools/export-checkpoint.py --checkpoint /content/installed_resp/piss-ant-pix2pix/garbagepailkids_resize/_combined/train --output_file /content/installed_resp/piss-ant-pix2pix/garbagepailkids_resize/training_train/garbagepailkids_BtoA_model_save.bin"
      ],
      "execution_count": 0,
      "outputs": []
    },
    {
      "cell_type": "code",
      "metadata": {
        "id": "NxYR6zLkqpIU",
        "colab_type": "code",
        "colab": {}
      },
      "source": [
        "# store zip to drive\n",
        "!zip /content/installed_resp/piss-ant-pix2pix/garbagepailkids/* /content/installed_resp/piss-ant-pix2pix/garbagepailkids_original_images.zip\n",
        "!zip /content/installed_resp/piss-ant-pix2pix/garbagepailkids_resize/_combined/* /content/installed_resp/piss-ant-pix2pix/garbagepailkids_dataset.zip\n",
        "!zip /content/installed_resp/piss-ant-pix2pix/garbagepailkids_resize/training_train/garbagepailkids_BtoA_model_save.bin /content/installed_resp/piss-ant-pix2pix/garbagepailkids_model_bin.zip\n",
        "!zip /content/installed_resp/piss-ant-pix2pix/garbagepailkids_resize/training_train/* /content/installed_resp/piss-ant-pix2pix/garbagepailkids.zip\n",
        "\n",
        "%cd /content/drive/My\\ Drive/Colab\\ Notebooks/Best_Colabs\n",
        "!cp /content/installed_resp/piss-ant-pix2pix/garbagepailkids_original_images.zip garbagepailkids_original_images.zip\n",
        "!cp /content/installed_resp/piss-ant-pix2pix/garbagepailkids_dataset.zip ./garbagepailkids_dataset.zip\n",
        "!cp /content/installed_resp/piss-ant-pix2pix/garbagepailkids_model_bin.zip ./garbagepailkids_model_bin.zip\n",
        "!cp /content/installed_resp/piss-ant-pix2pix/garbagepailkids.zip ./garbagepailkids.zip"
      ],
      "execution_count": 0,
      "outputs": []
    },
    {
      "cell_type": "markdown",
      "metadata": {
        "id": "nvAeYpopjrvD",
        "colab_type": "text"
      },
      "source": [
        "## pretrained\n"
      ]
    }
  ]
}